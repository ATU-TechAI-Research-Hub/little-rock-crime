{
  "cells": [
    {
      "attachments": {},
      "cell_type": "markdown",
      "metadata": {
        "id": "bxWwxIs4hbFO"
      },
      "source": [
        "Importing libraries"
      ]
    },
    {
      "cell_type": "code",
      "execution_count": 21,
      "metadata": {
        "collapsed": true,
        "id": "ZXOrgSMfxy5e",
        "pycharm": {
          "is_executing": true
        }
      },
      "outputs": [],
      "source": [
        "import pandas as pd\n",
        "import numpy as np"
      ]
    },
    {
      "attachments": {},
      "cell_type": "markdown",
      "metadata": {
        "collapsed": false,
        "id": "HvL9Z9Czxy5f"
      },
      "source": [
        "Read in the original DataSet for comparsion:"
      ]
    },
    {
      "cell_type": "code",
      "execution_count": 22,
      "metadata": {
        "id": "PHN03DXzxy5g",
        "outputId": "88ca84d1-8232-42f6-b73b-8e685891a3e7"
      },
      "outputs": [
        {
          "name": "stdout",
          "output_type": "stream",
          "text": [
            "Successfully read in Original Little Rock Crime Data. DataFrame Size: 92771 rows x 14 cols\n"
          ]
        }
      ],
      "source": [
        "original = pd.read_csv(\"../data/lrpd.csv\")\n",
        "print(f\"Successfully read in Original Little Rock Crime Data. DataFrame Size: {original.shape[0]} rows x {original.shape[1]} cols\")"
      ]
    },
    {
      "attachments": {},
      "cell_type": "markdown",
      "metadata": {
        "collapsed": false,
        "id": "1mG8Lv3_xy5h"
      },
      "source": [
        "### Request relevant columns from dataset:"
      ]
    },
    {
      "cell_type": "code",
      "execution_count": 23,
      "metadata": {
        "id": "Nedy9MOIxy5h",
        "outputId": "a29ed447-4336-4596-fe6c-29f1608810f7"
      },
      "outputs": [
        {
          "name": "stdout",
          "output_type": "stream",
          "text": [
            "Successfully read in Little Rock Crime Data. DataFrame Size: 92771 rows x 7 cols\n"
          ]
        }
      ],
      "source": [
        "requested_columns = [\"INCIDENT_DATE\", \"INCIDENT_NUMBER\", \"LOCATION_DISTRICT\", \"OFFENSE_DESCRIPTION\", \"WEAPON_TYPE\", \"ZIP\", \"LATITUDE\", \"LONGITUDE\"]\n",
        "\n",
        "lrpd = pd.read_csv(\"lrpd.csv\", usecols=requested_columns, index_col=\"INCIDENT_NUMBER\")\n",
        "\n",
        "print(f\"Successfully read in Little Rock Crime Data. DataFrame Size: {lrpd.shape[0]} rows x {lrpd.shape[1]} cols\")"
      ]
    },
    {
      "attachments": {},
      "cell_type": "markdown",
      "metadata": {
        "id": "3atZ_oFuhbFS"
      },
      "source": [
        "### Memory Reduction\n",
        "Following code reduces the memory of the dataset that we are working with. It replaces large int/float datatypes into smaller ones to use less memory. \n",
        "\n",
        "Our data isnt too big but on much larger data, this code will make a big difference in the speed of feature engineering and processing of data."
      ]
    },
    {
      "cell_type": "code",
      "execution_count": 24,
      "metadata": {
        "id": "W0r0WEgAhbFS"
      },
      "outputs": [],
      "source": [
        "def reduce_mem_usage(df, category=False):\n",
        "  start_mem = df.memory_usage().sum() / 1024 **2\n",
        "  print('Memory usage of dataframe is {:.2f} MB'.format(start_mem))\n",
        "\n",
        "  for col in df.columns:\n",
        "    col_type = df[col].dtype\n",
        "\n",
        "    if col_type != object:\n",
        "      c_min = df[col].min()\n",
        "      c_max = df[col].max()\n",
        "      if str(col_type)[:3] == 'int':\n",
        "        if c_min > np.iinfo(np.int8).min and c_max < np.iinfo(np.int8).max:\n",
        "          df[col] = df[col].astype(np.int8)\n",
        "        elif c_min > np.iinfo(np.int16).min and c_max < np.iinfo(np.int16).max:\n",
        "          df[col] = df[col].astype(np.int16)\n",
        "        elif c_min > np.iinfo(np.int32).min and c_max < np.iinfo(np.int32).max:\n",
        "          df[col] = df[col].astype(np.int32)\n",
        "        elif c_min > np.iinfo(np.int64).min and c_max < np.iinfo(np.int64).max:\n",
        "          df[col] = df[col].astype(np.int64)\n",
        "      else:\n",
        "        if c_min  > np.finfo(np.float16).min and c_max < np.finfo(np.float16).max:\n",
        "          df[col] = df[col].astype(np.float16)\n",
        "        elif c_min > np.finfo(np.float32).min and c_max < np.finfo(np.float32).max:\n",
        "          df[col] = df[col].astype(np.float32)\n",
        "        else:\n",
        "          df[col] = df[col].astype(np.float64)\n",
        "    else:\n",
        "      if category:\n",
        "        df[col] = df[col].astype('category')\n",
        "\n",
        "  end_mem = df.memory_usage().sum() / 1024 ** 2\n",
        "  print('Memory usage after optimizations: {:.2f} MB'.format(end_mem))\n",
        "  print('Decreased by {:.1f}%'.format(100 * (start_mem - end_mem) / start_mem))\n",
        "  return df"
      ]
    },
    {
      "cell_type": "code",
      "execution_count": 25,
      "metadata": {
        "id": "GhaECPtvhbFT",
        "outputId": "a7306cf6-68e9-40d4-c352-65f18641b223"
      },
      "outputs": [
        {
          "name": "stdout",
          "output_type": "stream",
          "text": [
            "Memory usage of dataframe is 5.66 MB\n",
            "Memory usage after optimizations: 4.73 MB\n",
            "Decreased by 16.5%\n"
          ]
        }
      ],
      "source": [
        "lrpd = reduce_mem_usage(lrpd, category=True)"
      ]
    },
    {
      "attachments": {},
      "cell_type": "markdown",
      "metadata": {
        "collapsed": false,
        "id": "wdpRzmkQxy5h"
      },
      "source": [
        "### Drop duplicate rows based on index values:"
      ]
    },
    {
      "cell_type": "code",
      "execution_count": 26,
      "metadata": {
        "id": "IB-7l8xLxy5h",
        "outputId": "37762b54-73dd-49c2-c2aa-59d2fd55d470"
      },
      "outputs": [
        {
          "name": "stdout",
          "output_type": "stream",
          "text": [
            "Dropped 5927 duplicates!\n",
            "Little Rock Crime Data DataFrame Size: 86844 rows x 7 cols\n"
          ]
        }
      ],
      "source": [
        "prev_shape = lrpd.shape\n",
        "lrpd = lrpd.drop_duplicates(keep='first')\n",
        "new_shape = lrpd.shape\n",
        "\n",
        "print(f'Dropped {(prev_shape[0] - new_shape[0])} duplicates!')\n",
        "print(f'Little Rock Crime Data DataFrame Size: {lrpd.shape[0]} rows x {lrpd.shape[1]} cols')"
      ]
    },
    {
      "attachments": {},
      "cell_type": "markdown",
      "metadata": {
        "collapsed": false,
        "id": "SXJ0YUsGxy5i"
      },
      "source": [
        "### Fill missing values with Number 0:"
      ]
    },
    {
      "cell_type": "code",
      "execution_count": 27,
      "metadata": {
        "id": "krC7FiUBhbFT",
        "outputId": "7dfc846f-ed3d-42ed-9674-6e17b8199ac9"
      },
      "outputs": [
        {
          "data": {
            "text/plain": [
              "INCIDENT_DATE              0\n",
              "LOCATION_DISTRICT         89\n",
              "OFFENSE_DESCRIPTION        0\n",
              "WEAPON_TYPE            71665\n",
              "ZIP                     1195\n",
              "LATITUDE                3140\n",
              "LONGITUDE               3140\n",
              "dtype: int64"
            ]
          },
          "execution_count": 27,
          "metadata": {},
          "output_type": "execute_result"
        }
      ],
      "source": [
        "lrpd.isna().sum()"
      ]
    },
    {
      "cell_type": "code",
      "execution_count": 28,
      "metadata": {
        "id": "_Azpr5TTxy5i"
      },
      "outputs": [],
      "source": [
        "lrpd.fillna(value={'LATITUDE': 0}, inplace=True)\n",
        "lrpd.fillna(value={'LONGITUDE': 0}, inplace=True)"
      ]
    },
    {
      "cell_type": "code",
      "execution_count": 29,
      "metadata": {
        "id": "ieeUpvKQhbFU",
        "outputId": "7a1b99cc-23c8-4240-e7b8-e17453b2ccd8"
      },
      "outputs": [
        {
          "name": "stderr",
          "output_type": "stream",
          "text": [
            "/var/folders/xf/v577m7s50_l29kfcxmp1qcn80000gn/T/ipykernel_30535/3809714088.py:2: DeprecationWarning: In a future version, `df.iloc[:, i] = newvals` will attempt to set the values inplace instead of always setting a new array. To retain the old behavior, use either `df[df.columns[i]] = newvals` or, if columns are non-unique, `df.isetitem(i, newvals)`\n",
            "  lrpd.fillna(value={'WEAPON_TYPE': 'NO WEAPON'}, inplace=True)\n"
          ]
        }
      ],
      "source": [
        "lrpd['WEAPON_TYPE'] = lrpd['WEAPON_TYPE'].cat.add_categories('NO WEAPON')\n",
        "lrpd.fillna(value={'WEAPON_TYPE': 'NO WEAPON'}, inplace=True)"
      ]
    },
    {
      "attachments": {},
      "cell_type": "markdown",
      "metadata": {
        "collapsed": false,
        "id": "b2T5exIyxy5i"
      },
      "source": [
        "### Parse Number 0 and String 1 to weapon type:"
      ]
    },
    {
      "cell_type": "code",
      "execution_count": 30,
      "metadata": {
        "id": "tp2e_0n2xy5i"
      },
      "outputs": [],
      "source": [
        "lrpd[\"WEAPON_TYPE\"] = lrpd[\"WEAPON_TYPE\"].replace(\"1\", \"UNKNOWN\")"
      ]
    },
    {
      "attachments": {},
      "cell_type": "markdown",
      "metadata": {
        "collapsed": false,
        "id": "wY-b2VJaxy5i"
      },
      "source": [
        "### Convert columns to correct types:"
      ]
    },
    {
      "cell_type": "code",
      "execution_count": 31,
      "metadata": {
        "id": "IAYt84C0xy5i",
        "outputId": "048355f4-cbb4-448d-b1d5-4ba739a089d6"
      },
      "outputs": [
        {
          "data": {
            "text/html": [
              "<div>\n",
              "<style scoped>\n",
              "    .dataframe tbody tr th:only-of-type {\n",
              "        vertical-align: middle;\n",
              "    }\n",
              "\n",
              "    .dataframe tbody tr th {\n",
              "        vertical-align: top;\n",
              "    }\n",
              "\n",
              "    .dataframe thead th {\n",
              "        text-align: right;\n",
              "    }\n",
              "</style>\n",
              "<table border=\"1\" class=\"dataframe\">\n",
              "  <thead>\n",
              "    <tr style=\"text-align: right;\">\n",
              "      <th>INCIDENT_NUMBER</th>\n",
              "      <th>2022-036059</th>\n",
              "      <th>2017-029450</th>\n",
              "      <th>2017-114829</th>\n",
              "      <th>2018-046714</th>\n",
              "      <th>2020-042339</th>\n",
              "    </tr>\n",
              "  </thead>\n",
              "  <tbody>\n",
              "    <tr>\n",
              "      <th>INCIDENT_DATE</th>\n",
              "      <td>2022-03-30 17:38:00</td>\n",
              "      <td>2017-03-16 18:30:00</td>\n",
              "      <td>2017-09-15 03:14:00</td>\n",
              "      <td>2018-04-20 16:18:00</td>\n",
              "      <td>2020-04-18 18:15:00</td>\n",
              "    </tr>\n",
              "    <tr>\n",
              "      <th>LOCATION_DISTRICT</th>\n",
              "      <td>42.0</td>\n",
              "      <td>82.0</td>\n",
              "      <td>64.0</td>\n",
              "      <td>82.0</td>\n",
              "      <td>61.0</td>\n",
              "    </tr>\n",
              "    <tr>\n",
              "      <th>OFFENSE_DESCRIPTION</th>\n",
              "      <td>THEFT FROM MOTOR VEHICLE</td>\n",
              "      <td>THEFT OF MOTOR VEHICLE PARTS</td>\n",
              "      <td>RAPE</td>\n",
              "      <td>RAPE</td>\n",
              "      <td>RAPE</td>\n",
              "    </tr>\n",
              "    <tr>\n",
              "      <th>WEAPON_TYPE</th>\n",
              "      <td>NO WEAPON</td>\n",
              "      <td>NO WEAPON</td>\n",
              "      <td>NO WEAPON</td>\n",
              "      <td>UNKNOWN</td>\n",
              "      <td>HANDGUN</td>\n",
              "    </tr>\n",
              "    <tr>\n",
              "      <th>ZIP</th>\n",
              "      <td>72202.0</td>\n",
              "      <td>72206.0</td>\n",
              "      <td>NaN</td>\n",
              "      <td>NaN</td>\n",
              "      <td>NaN</td>\n",
              "    </tr>\n",
              "    <tr>\n",
              "      <th>LATITUDE</th>\n",
              "      <td>0.0</td>\n",
              "      <td>34.65625</td>\n",
              "      <td>0.0</td>\n",
              "      <td>0.0</td>\n",
              "      <td>0.0</td>\n",
              "    </tr>\n",
              "    <tr>\n",
              "      <th>LONGITUDE</th>\n",
              "      <td>0.0</td>\n",
              "      <td>-92.3125</td>\n",
              "      <td>0.0</td>\n",
              "      <td>0.0</td>\n",
              "      <td>0.0</td>\n",
              "    </tr>\n",
              "  </tbody>\n",
              "</table>\n",
              "</div>"
            ],
            "text/plain": [
              "INCIDENT_NUMBER                   2022-036059                   2017-029450  \\\n",
              "INCIDENT_DATE             2022-03-30 17:38:00           2017-03-16 18:30:00   \n",
              "LOCATION_DISTRICT                        42.0                          82.0   \n",
              "OFFENSE_DESCRIPTION  THEFT FROM MOTOR VEHICLE  THEFT OF MOTOR VEHICLE PARTS   \n",
              "WEAPON_TYPE                         NO WEAPON                     NO WEAPON   \n",
              "ZIP                                   72202.0                       72206.0   \n",
              "LATITUDE                                  0.0                      34.65625   \n",
              "LONGITUDE                                 0.0                      -92.3125   \n",
              "\n",
              "INCIDENT_NUMBER              2017-114829          2018-046714  \\\n",
              "INCIDENT_DATE        2017-09-15 03:14:00  2018-04-20 16:18:00   \n",
              "LOCATION_DISTRICT                   64.0                 82.0   \n",
              "OFFENSE_DESCRIPTION                 RAPE                 RAPE   \n",
              "WEAPON_TYPE                    NO WEAPON              UNKNOWN   \n",
              "ZIP                                  NaN                  NaN   \n",
              "LATITUDE                             0.0                  0.0   \n",
              "LONGITUDE                            0.0                  0.0   \n",
              "\n",
              "INCIDENT_NUMBER              2020-042339  \n",
              "INCIDENT_DATE        2020-04-18 18:15:00  \n",
              "LOCATION_DISTRICT                   61.0  \n",
              "OFFENSE_DESCRIPTION                 RAPE  \n",
              "WEAPON_TYPE                      HANDGUN  \n",
              "ZIP                                  NaN  \n",
              "LATITUDE                             0.0  \n",
              "LONGITUDE                            0.0  "
            ]
          },
          "execution_count": 31,
          "metadata": {},
          "output_type": "execute_result"
        }
      ],
      "source": [
        "lrpd[\"INCIDENT_DATE\"] = pd.to_datetime(lrpd[\"INCIDENT_DATE\"])\n",
        "lrpd[\"LOCATION_DISTRICT\"] = pd.to_numeric(lrpd[\"LOCATION_DISTRICT\"])\n",
        "lrpd[\"OFFENSE_DESCRIPTION\"] = lrpd[\"OFFENSE_DESCRIPTION\"] # todo: ensure this is parsed as a string\n",
        "lrpd[\"WEAPON_TYPE\"] = lrpd[\"WEAPON_TYPE\"] # todo: ensure this is parsed as a string\n",
        "lrpd[\"ZIP\"] = pd.to_numeric(lrpd[\"ZIP\"])\n",
        "lrpd[\"LATITUDE\"] = pd.to_numeric(lrpd[\"LATITUDE\"])\n",
        "lrpd[\"LONGITUDE\"] = pd.to_numeric(lrpd[\"LONGITUDE\"])\n",
        "\n",
        "lrpd.head().T"
      ]
    },
    {
      "attachments": {},
      "cell_type": "markdown",
      "metadata": {
        "collapsed": false,
        "id": "KYXvtlO2xy5j"
      },
      "source": [
        "### Appending new columns to DataFrame:"
      ]
    },
    {
      "cell_type": "code",
      "execution_count": 32,
      "metadata": {
        "id": "DaC8F3Vzxy5j"
      },
      "outputs": [],
      "source": [
        "lrpd[\"WEEK_OF_MONTH\"] = lrpd[\"INCIDENT_DATE\"].dt.day // 7\n",
        "lrpd[\"YEAR\"] = lrpd[\"INCIDENT_DATE\"].dt.year\n",
        "lrpd[\"DAY\"] = lrpd[\"INCIDENT_DATE\"].dt.day\n",
        "lrpd[\"DAY_OF_YEAR\"] = lrpd[\"INCIDENT_DATE\"].dt.dayofyear\n",
        "lrpd[\"MONTH\"] = lrpd[\"INCIDENT_DATE\"].dt.month"
      ]
    },
    {
      "attachments": {},
      "cell_type": "markdown",
      "metadata": {
        "collapsed": false,
        "id": "65_CfwPOxy5j"
      },
      "source": [
        "### Visualizing current modifications:"
      ]
    },
    {
      "cell_type": "code",
      "execution_count": 33,
      "metadata": {
        "id": "cbfjs_8Dxy5j",
        "outputId": "d53956be-8002-46f8-db24-fa39f255cedb"
      },
      "outputs": [
        {
          "data": {
            "text/html": [
              "<div>\n",
              "<style scoped>\n",
              "    .dataframe tbody tr th:only-of-type {\n",
              "        vertical-align: middle;\n",
              "    }\n",
              "\n",
              "    .dataframe tbody tr th {\n",
              "        vertical-align: top;\n",
              "    }\n",
              "\n",
              "    .dataframe thead th {\n",
              "        text-align: right;\n",
              "    }\n",
              "</style>\n",
              "<table border=\"1\" class=\"dataframe\">\n",
              "  <thead>\n",
              "    <tr style=\"text-align: right;\">\n",
              "      <th>INCIDENT_NUMBER</th>\n",
              "      <th>2022-036059</th>\n",
              "      <th>2017-029450</th>\n",
              "      <th>2017-114829</th>\n",
              "      <th>2018-046714</th>\n",
              "      <th>2020-042339</th>\n",
              "    </tr>\n",
              "  </thead>\n",
              "  <tbody>\n",
              "    <tr>\n",
              "      <th>INCIDENT_DATE</th>\n",
              "      <td>2022-03-30 17:38:00</td>\n",
              "      <td>2017-03-16 18:30:00</td>\n",
              "      <td>2017-09-15 03:14:00</td>\n",
              "      <td>2018-04-20 16:18:00</td>\n",
              "      <td>2020-04-18 18:15:00</td>\n",
              "    </tr>\n",
              "    <tr>\n",
              "      <th>LOCATION_DISTRICT</th>\n",
              "      <td>42.0</td>\n",
              "      <td>82.0</td>\n",
              "      <td>64.0</td>\n",
              "      <td>82.0</td>\n",
              "      <td>61.0</td>\n",
              "    </tr>\n",
              "    <tr>\n",
              "      <th>OFFENSE_DESCRIPTION</th>\n",
              "      <td>THEFT FROM MOTOR VEHICLE</td>\n",
              "      <td>THEFT OF MOTOR VEHICLE PARTS</td>\n",
              "      <td>RAPE</td>\n",
              "      <td>RAPE</td>\n",
              "      <td>RAPE</td>\n",
              "    </tr>\n",
              "    <tr>\n",
              "      <th>WEAPON_TYPE</th>\n",
              "      <td>NO WEAPON</td>\n",
              "      <td>NO WEAPON</td>\n",
              "      <td>NO WEAPON</td>\n",
              "      <td>UNKNOWN</td>\n",
              "      <td>HANDGUN</td>\n",
              "    </tr>\n",
              "    <tr>\n",
              "      <th>ZIP</th>\n",
              "      <td>72202.0</td>\n",
              "      <td>72206.0</td>\n",
              "      <td>NaN</td>\n",
              "      <td>NaN</td>\n",
              "      <td>NaN</td>\n",
              "    </tr>\n",
              "    <tr>\n",
              "      <th>LATITUDE</th>\n",
              "      <td>0.0</td>\n",
              "      <td>34.65625</td>\n",
              "      <td>0.0</td>\n",
              "      <td>0.0</td>\n",
              "      <td>0.0</td>\n",
              "    </tr>\n",
              "    <tr>\n",
              "      <th>LONGITUDE</th>\n",
              "      <td>0.0</td>\n",
              "      <td>-92.3125</td>\n",
              "      <td>0.0</td>\n",
              "      <td>0.0</td>\n",
              "      <td>0.0</td>\n",
              "    </tr>\n",
              "    <tr>\n",
              "      <th>WEEK_OF_MONTH</th>\n",
              "      <td>4</td>\n",
              "      <td>2</td>\n",
              "      <td>2</td>\n",
              "      <td>2</td>\n",
              "      <td>2</td>\n",
              "    </tr>\n",
              "    <tr>\n",
              "      <th>YEAR</th>\n",
              "      <td>2022</td>\n",
              "      <td>2017</td>\n",
              "      <td>2017</td>\n",
              "      <td>2018</td>\n",
              "      <td>2020</td>\n",
              "    </tr>\n",
              "    <tr>\n",
              "      <th>DAY</th>\n",
              "      <td>30</td>\n",
              "      <td>16</td>\n",
              "      <td>15</td>\n",
              "      <td>20</td>\n",
              "      <td>18</td>\n",
              "    </tr>\n",
              "    <tr>\n",
              "      <th>DAY_OF_YEAR</th>\n",
              "      <td>89</td>\n",
              "      <td>75</td>\n",
              "      <td>258</td>\n",
              "      <td>110</td>\n",
              "      <td>109</td>\n",
              "    </tr>\n",
              "    <tr>\n",
              "      <th>MONTH</th>\n",
              "      <td>3</td>\n",
              "      <td>3</td>\n",
              "      <td>9</td>\n",
              "      <td>4</td>\n",
              "      <td>4</td>\n",
              "    </tr>\n",
              "  </tbody>\n",
              "</table>\n",
              "</div>"
            ],
            "text/plain": [
              "INCIDENT_NUMBER                   2022-036059                   2017-029450  \\\n",
              "INCIDENT_DATE             2022-03-30 17:38:00           2017-03-16 18:30:00   \n",
              "LOCATION_DISTRICT                        42.0                          82.0   \n",
              "OFFENSE_DESCRIPTION  THEFT FROM MOTOR VEHICLE  THEFT OF MOTOR VEHICLE PARTS   \n",
              "WEAPON_TYPE                         NO WEAPON                     NO WEAPON   \n",
              "ZIP                                   72202.0                       72206.0   \n",
              "LATITUDE                                  0.0                      34.65625   \n",
              "LONGITUDE                                 0.0                      -92.3125   \n",
              "WEEK_OF_MONTH                               4                             2   \n",
              "YEAR                                     2022                          2017   \n",
              "DAY                                        30                            16   \n",
              "DAY_OF_YEAR                                89                            75   \n",
              "MONTH                                       3                             3   \n",
              "\n",
              "INCIDENT_NUMBER              2017-114829          2018-046714  \\\n",
              "INCIDENT_DATE        2017-09-15 03:14:00  2018-04-20 16:18:00   \n",
              "LOCATION_DISTRICT                   64.0                 82.0   \n",
              "OFFENSE_DESCRIPTION                 RAPE                 RAPE   \n",
              "WEAPON_TYPE                    NO WEAPON              UNKNOWN   \n",
              "ZIP                                  NaN                  NaN   \n",
              "LATITUDE                             0.0                  0.0   \n",
              "LONGITUDE                            0.0                  0.0   \n",
              "WEEK_OF_MONTH                          2                    2   \n",
              "YEAR                                2017                 2018   \n",
              "DAY                                   15                   20   \n",
              "DAY_OF_YEAR                          258                  110   \n",
              "MONTH                                  9                    4   \n",
              "\n",
              "INCIDENT_NUMBER              2020-042339  \n",
              "INCIDENT_DATE        2020-04-18 18:15:00  \n",
              "LOCATION_DISTRICT                   61.0  \n",
              "OFFENSE_DESCRIPTION                 RAPE  \n",
              "WEAPON_TYPE                      HANDGUN  \n",
              "ZIP                                  NaN  \n",
              "LATITUDE                             0.0  \n",
              "LONGITUDE                            0.0  \n",
              "WEEK_OF_MONTH                          2  \n",
              "YEAR                                2020  \n",
              "DAY                                   18  \n",
              "DAY_OF_YEAR                          109  \n",
              "MONTH                                  4  "
            ]
          },
          "execution_count": 33,
          "metadata": {},
          "output_type": "execute_result"
        }
      ],
      "source": [
        "lrpd.head().T"
      ]
    },
    {
      "cell_type": "code",
      "execution_count": 34,
      "metadata": {
        "id": "EURNw1btxy5j",
        "outputId": "8838e7a6-55b4-4488-9dcf-d2d14fb2c71a"
      },
      "outputs": [
        {
          "data": {
            "text/html": [
              "<div>\n",
              "<style scoped>\n",
              "    .dataframe tbody tr th:only-of-type {\n",
              "        vertical-align: middle;\n",
              "    }\n",
              "\n",
              "    .dataframe tbody tr th {\n",
              "        vertical-align: top;\n",
              "    }\n",
              "\n",
              "    .dataframe thead th {\n",
              "        text-align: right;\n",
              "    }\n",
              "</style>\n",
              "<table border=\"1\" class=\"dataframe\">\n",
              "  <thead>\n",
              "    <tr style=\"text-align: right;\">\n",
              "      <th>INCIDENT_NUMBER</th>\n",
              "      <th>2022-303291</th>\n",
              "      <th>2022-303160</th>\n",
              "      <th>2022-302870</th>\n",
              "      <th>2022-302451</th>\n",
              "      <th>2022-301998</th>\n",
              "    </tr>\n",
              "  </thead>\n",
              "  <tbody>\n",
              "    <tr>\n",
              "      <th>INCIDENT_DATE</th>\n",
              "      <td>2022-12-08 00:00:00</td>\n",
              "      <td>2022-10-29 09:00:00</td>\n",
              "      <td>2022-10-23 14:30:00</td>\n",
              "      <td>2022-09-07 14:00:00</td>\n",
              "      <td>2022-07-21 08:00:00</td>\n",
              "    </tr>\n",
              "    <tr>\n",
              "      <th>LOCATION_DISTRICT</th>\n",
              "      <td>73.0</td>\n",
              "      <td>62.0</td>\n",
              "      <td>72.0</td>\n",
              "      <td>92.0</td>\n",
              "      <td>72.0</td>\n",
              "    </tr>\n",
              "    <tr>\n",
              "      <th>OFFENSE_DESCRIPTION</th>\n",
              "      <td>THEFT FROM MOTOR VEHICLE</td>\n",
              "      <td>ALL OTHER LARCENY</td>\n",
              "      <td>THEFT FROM MOTOR VEHICLE</td>\n",
              "      <td>SHOPLIFTING</td>\n",
              "      <td>THEFT FROM MOTOR VEHICLE</td>\n",
              "    </tr>\n",
              "    <tr>\n",
              "      <th>WEAPON_TYPE</th>\n",
              "      <td>NO WEAPON</td>\n",
              "      <td>NO WEAPON</td>\n",
              "      <td>NO WEAPON</td>\n",
              "      <td>NO WEAPON</td>\n",
              "      <td>NO WEAPON</td>\n",
              "    </tr>\n",
              "    <tr>\n",
              "      <th>ZIP</th>\n",
              "      <td>72223.0</td>\n",
              "      <td>72227.0</td>\n",
              "      <td>72211.0</td>\n",
              "      <td>72210.0</td>\n",
              "      <td>72211.0</td>\n",
              "    </tr>\n",
              "    <tr>\n",
              "      <th>LATITUDE</th>\n",
              "      <td>0.0</td>\n",
              "      <td>0.0</td>\n",
              "      <td>0.0</td>\n",
              "      <td>0.0</td>\n",
              "      <td>0.0</td>\n",
              "    </tr>\n",
              "    <tr>\n",
              "      <th>LONGITUDE</th>\n",
              "      <td>0.0</td>\n",
              "      <td>0.0</td>\n",
              "      <td>0.0</td>\n",
              "      <td>0.0</td>\n",
              "      <td>0.0</td>\n",
              "    </tr>\n",
              "    <tr>\n",
              "      <th>WEEK_OF_MONTH</th>\n",
              "      <td>1</td>\n",
              "      <td>4</td>\n",
              "      <td>3</td>\n",
              "      <td>1</td>\n",
              "      <td>3</td>\n",
              "    </tr>\n",
              "    <tr>\n",
              "      <th>YEAR</th>\n",
              "      <td>2022</td>\n",
              "      <td>2022</td>\n",
              "      <td>2022</td>\n",
              "      <td>2022</td>\n",
              "      <td>2022</td>\n",
              "    </tr>\n",
              "    <tr>\n",
              "      <th>DAY</th>\n",
              "      <td>8</td>\n",
              "      <td>29</td>\n",
              "      <td>23</td>\n",
              "      <td>7</td>\n",
              "      <td>21</td>\n",
              "    </tr>\n",
              "    <tr>\n",
              "      <th>DAY_OF_YEAR</th>\n",
              "      <td>342</td>\n",
              "      <td>302</td>\n",
              "      <td>296</td>\n",
              "      <td>250</td>\n",
              "      <td>202</td>\n",
              "    </tr>\n",
              "    <tr>\n",
              "      <th>MONTH</th>\n",
              "      <td>12</td>\n",
              "      <td>10</td>\n",
              "      <td>10</td>\n",
              "      <td>9</td>\n",
              "      <td>7</td>\n",
              "    </tr>\n",
              "  </tbody>\n",
              "</table>\n",
              "</div>"
            ],
            "text/plain": [
              "INCIDENT_NUMBER                   2022-303291          2022-303160  \\\n",
              "INCIDENT_DATE             2022-12-08 00:00:00  2022-10-29 09:00:00   \n",
              "LOCATION_DISTRICT                        73.0                 62.0   \n",
              "OFFENSE_DESCRIPTION  THEFT FROM MOTOR VEHICLE    ALL OTHER LARCENY   \n",
              "WEAPON_TYPE                         NO WEAPON            NO WEAPON   \n",
              "ZIP                                   72223.0              72227.0   \n",
              "LATITUDE                                  0.0                  0.0   \n",
              "LONGITUDE                                 0.0                  0.0   \n",
              "WEEK_OF_MONTH                               1                    4   \n",
              "YEAR                                     2022                 2022   \n",
              "DAY                                         8                   29   \n",
              "DAY_OF_YEAR                               342                  302   \n",
              "MONTH                                      12                   10   \n",
              "\n",
              "INCIDENT_NUMBER                   2022-302870          2022-302451  \\\n",
              "INCIDENT_DATE             2022-10-23 14:30:00  2022-09-07 14:00:00   \n",
              "LOCATION_DISTRICT                        72.0                 92.0   \n",
              "OFFENSE_DESCRIPTION  THEFT FROM MOTOR VEHICLE          SHOPLIFTING   \n",
              "WEAPON_TYPE                         NO WEAPON            NO WEAPON   \n",
              "ZIP                                   72211.0              72210.0   \n",
              "LATITUDE                                  0.0                  0.0   \n",
              "LONGITUDE                                 0.0                  0.0   \n",
              "WEEK_OF_MONTH                               3                    1   \n",
              "YEAR                                     2022                 2022   \n",
              "DAY                                        23                    7   \n",
              "DAY_OF_YEAR                               296                  250   \n",
              "MONTH                                      10                    9   \n",
              "\n",
              "INCIDENT_NUMBER                   2022-301998  \n",
              "INCIDENT_DATE             2022-07-21 08:00:00  \n",
              "LOCATION_DISTRICT                        72.0  \n",
              "OFFENSE_DESCRIPTION  THEFT FROM MOTOR VEHICLE  \n",
              "WEAPON_TYPE                         NO WEAPON  \n",
              "ZIP                                   72211.0  \n",
              "LATITUDE                                  0.0  \n",
              "LONGITUDE                                 0.0  \n",
              "WEEK_OF_MONTH                               3  \n",
              "YEAR                                     2022  \n",
              "DAY                                        21  \n",
              "DAY_OF_YEAR                               202  \n",
              "MONTH                                       7  "
            ]
          },
          "execution_count": 34,
          "metadata": {},
          "output_type": "execute_result"
        }
      ],
      "source": [
        "lrpd.tail().T"
      ]
    },
    {
      "attachments": {},
      "cell_type": "markdown",
      "metadata": {
        "collapsed": false,
        "id": "dK8n9PRMxy5j"
      },
      "source": [
        "### Determining crime risk and violence level:"
      ]
    },
    {
      "cell_type": "code",
      "execution_count": 35,
      "metadata": {
        "id": "Sc8UiiH1xy5k"
      },
      "outputs": [],
      "source": [
        "all_crimes = lrpd[\"OFFENSE_DESCRIPTION\"].unique()\n",
        "all_weapons = lrpd[\"WEAPON_TYPE\"].unique()"
      ]
    },
    {
      "attachments": {},
      "cell_type": "markdown",
      "metadata": {
        "collapsed": false,
        "id": "FR8U_0CJxy5k"
      },
      "source": [
        "Pre-defining which crimes are considered violent and nonviolent:"
      ]
    },
    {
      "cell_type": "code",
      "execution_count": 36,
      "metadata": {
        "id": "gr-YF-xMxy5k"
      },
      "outputs": [],
      "source": [
        "def assessCrime(lrpd):\n",
        "    # Makes a dictionary of crime types and their type (0 = non-violent, 1 = violent)\n",
        "    crime_types = {'THEFT FROM MOTOR VEHICLE': 0,\n",
        "                    'THEFT OF MOTOR VEHICLE PARTS': 0,\n",
        "                    'RAPE': 1,\n",
        "                    'ALL OTHER LARCENY': 0,\n",
        "                    'SHOPLIFTING': 0,\n",
        "                    'BURGLARY/B&E': 1,\n",
        "                    'MOTOR VEHICLE THEFT': 0,\n",
        "                    'AGGRAVATED ASSAULT': 1,\n",
        "                    'THEFT FROM BUILDING': 0,\n",
        "                    'ROBBERY': 1,\n",
        "                    'MURDER & NONNEGLIGENT MANSLAUGHTER': 1,\n",
        "                    'PURSE-SNATCHING': 0,\n",
        "                    'POCKET-PICKING': 0,\n",
        "                    'THEFT FROM COIN-OPERATED MACHINE': 0}\n",
        "    vCrimes = []\n",
        "    nvCrimes = []\n",
        "    \n",
        "    # Append crime into vCrimes and nvCrimes list\n",
        "    for crime, severity in crime_types.items():\n",
        "        if severity == 1:\n",
        "            vCrimes.append(crime)\n",
        "        else:\n",
        "            nvCrimes.append(crime)\n",
        "    \n",
        "    lrpd['CRIME_TYPE'] = None\n",
        "    lrpd['RISK_TYPE'] = None\n",
        "\n",
        "    # Goes through and classifies each crime and it's risk type in both TEXT and BC in the DF\n",
        "    lrpd.loc[lrpd['OFFENSE_DESCRIPTION'].isin(vCrimes), 'CRIME_TYPE'] = \"VIOLENT\"\n",
        "    lrpd.loc[lrpd['OFFENSE_DESCRIPTION'].isin(nvCrimes), 'CRIME_TYPE'] = \"NONVIOLENT\"\n",
        "    lrpd.loc[lrpd['OFFENSE_DESCRIPTION'].isin(vCrimes), 'RISK_TYPE'] = \"HIGH\"\n",
        "    lrpd.loc[(lrpd['OFFENSE_DESCRIPTION'].isin(nvCrimes)) & (lrpd['WEAPON_TYPE'] != \"NO WEAPON\"), 'RISK_TYPE'] = \"HIGH\"\n",
        "    lrpd.loc[(lrpd['OFFENSE_DESCRIPTION'].isin(nvCrimes)) & (lrpd['WEAPON_TYPE'] == \"NO WEAPON\"), 'RISK_TYPE'] = \"LOW\"\n",
        "    lrpd[\"RISK_TYPE_BC\"] = lrpd[\"RISK_TYPE\"].map({'HIGH': 1, 'LOW': 0})\n",
        "\n",
        "    return lrpd\n",
        "\n",
        "lrpd = assessCrime(lrpd)\n"
      ]
    },
    {
      "attachments": {},
      "cell_type": "markdown",
      "metadata": {
        "collapsed": false,
        "id": "n_jhDx0Kxy5l"
      },
      "source": [
        "### Visualizing current modifications:"
      ]
    },
    {
      "cell_type": "code",
      "execution_count": 37,
      "metadata": {
        "id": "N8BaC6duxy5l",
        "outputId": "e390894f-7e02-4469-cf22-5c63adbec8f7"
      },
      "outputs": [
        {
          "data": {
            "text/html": [
              "<div>\n",
              "<style scoped>\n",
              "    .dataframe tbody tr th:only-of-type {\n",
              "        vertical-align: middle;\n",
              "    }\n",
              "\n",
              "    .dataframe tbody tr th {\n",
              "        vertical-align: top;\n",
              "    }\n",
              "\n",
              "    .dataframe thead th {\n",
              "        text-align: right;\n",
              "    }\n",
              "</style>\n",
              "<table border=\"1\" class=\"dataframe\">\n",
              "  <thead>\n",
              "    <tr style=\"text-align: right;\">\n",
              "      <th></th>\n",
              "      <th>INCIDENT_DATE</th>\n",
              "      <th>LOCATION_DISTRICT</th>\n",
              "      <th>OFFENSE_DESCRIPTION</th>\n",
              "      <th>WEAPON_TYPE</th>\n",
              "      <th>ZIP</th>\n",
              "      <th>LATITUDE</th>\n",
              "      <th>LONGITUDE</th>\n",
              "      <th>WEEK_OF_MONTH</th>\n",
              "      <th>YEAR</th>\n",
              "      <th>DAY</th>\n",
              "      <th>DAY_OF_YEAR</th>\n",
              "      <th>MONTH</th>\n",
              "      <th>CRIME_TYPE</th>\n",
              "      <th>RISK_TYPE</th>\n",
              "      <th>RISK_TYPE_BC</th>\n",
              "    </tr>\n",
              "    <tr>\n",
              "      <th>INCIDENT_NUMBER</th>\n",
              "      <th></th>\n",
              "      <th></th>\n",
              "      <th></th>\n",
              "      <th></th>\n",
              "      <th></th>\n",
              "      <th></th>\n",
              "      <th></th>\n",
              "      <th></th>\n",
              "      <th></th>\n",
              "      <th></th>\n",
              "      <th></th>\n",
              "      <th></th>\n",
              "      <th></th>\n",
              "      <th></th>\n",
              "      <th></th>\n",
              "    </tr>\n",
              "  </thead>\n",
              "  <tbody>\n",
              "    <tr>\n",
              "      <th>2022-303291</th>\n",
              "      <td>2022-12-08 00:00:00</td>\n",
              "      <td>73.0</td>\n",
              "      <td>THEFT FROM MOTOR VEHICLE</td>\n",
              "      <td>NO WEAPON</td>\n",
              "      <td>72223.0</td>\n",
              "      <td>0.0</td>\n",
              "      <td>0.0</td>\n",
              "      <td>1</td>\n",
              "      <td>2022</td>\n",
              "      <td>8</td>\n",
              "      <td>342</td>\n",
              "      <td>12</td>\n",
              "      <td>NONVIOLENT</td>\n",
              "      <td>LOW</td>\n",
              "      <td>0</td>\n",
              "    </tr>\n",
              "    <tr>\n",
              "      <th>2022-303160</th>\n",
              "      <td>2022-10-29 09:00:00</td>\n",
              "      <td>62.0</td>\n",
              "      <td>ALL OTHER LARCENY</td>\n",
              "      <td>NO WEAPON</td>\n",
              "      <td>72227.0</td>\n",
              "      <td>0.0</td>\n",
              "      <td>0.0</td>\n",
              "      <td>4</td>\n",
              "      <td>2022</td>\n",
              "      <td>29</td>\n",
              "      <td>302</td>\n",
              "      <td>10</td>\n",
              "      <td>NONVIOLENT</td>\n",
              "      <td>LOW</td>\n",
              "      <td>0</td>\n",
              "    </tr>\n",
              "    <tr>\n",
              "      <th>2022-302870</th>\n",
              "      <td>2022-10-23 14:30:00</td>\n",
              "      <td>72.0</td>\n",
              "      <td>THEFT FROM MOTOR VEHICLE</td>\n",
              "      <td>NO WEAPON</td>\n",
              "      <td>72211.0</td>\n",
              "      <td>0.0</td>\n",
              "      <td>0.0</td>\n",
              "      <td>3</td>\n",
              "      <td>2022</td>\n",
              "      <td>23</td>\n",
              "      <td>296</td>\n",
              "      <td>10</td>\n",
              "      <td>NONVIOLENT</td>\n",
              "      <td>LOW</td>\n",
              "      <td>0</td>\n",
              "    </tr>\n",
              "    <tr>\n",
              "      <th>2022-302451</th>\n",
              "      <td>2022-09-07 14:00:00</td>\n",
              "      <td>92.0</td>\n",
              "      <td>SHOPLIFTING</td>\n",
              "      <td>NO WEAPON</td>\n",
              "      <td>72210.0</td>\n",
              "      <td>0.0</td>\n",
              "      <td>0.0</td>\n",
              "      <td>1</td>\n",
              "      <td>2022</td>\n",
              "      <td>7</td>\n",
              "      <td>250</td>\n",
              "      <td>9</td>\n",
              "      <td>NONVIOLENT</td>\n",
              "      <td>LOW</td>\n",
              "      <td>0</td>\n",
              "    </tr>\n",
              "    <tr>\n",
              "      <th>2022-301998</th>\n",
              "      <td>2022-07-21 08:00:00</td>\n",
              "      <td>72.0</td>\n",
              "      <td>THEFT FROM MOTOR VEHICLE</td>\n",
              "      <td>NO WEAPON</td>\n",
              "      <td>72211.0</td>\n",
              "      <td>0.0</td>\n",
              "      <td>0.0</td>\n",
              "      <td>3</td>\n",
              "      <td>2022</td>\n",
              "      <td>21</td>\n",
              "      <td>202</td>\n",
              "      <td>7</td>\n",
              "      <td>NONVIOLENT</td>\n",
              "      <td>LOW</td>\n",
              "      <td>0</td>\n",
              "    </tr>\n",
              "  </tbody>\n",
              "</table>\n",
              "</div>"
            ],
            "text/plain": [
              "                      INCIDENT_DATE  LOCATION_DISTRICT  \\\n",
              "INCIDENT_NUMBER                                          \n",
              "2022-303291     2022-12-08 00:00:00               73.0   \n",
              "2022-303160     2022-10-29 09:00:00               62.0   \n",
              "2022-302870     2022-10-23 14:30:00               72.0   \n",
              "2022-302451     2022-09-07 14:00:00               92.0   \n",
              "2022-301998     2022-07-21 08:00:00               72.0   \n",
              "\n",
              "                      OFFENSE_DESCRIPTION WEAPON_TYPE      ZIP  LATITUDE  \\\n",
              "INCIDENT_NUMBER                                                            \n",
              "2022-303291      THEFT FROM MOTOR VEHICLE   NO WEAPON  72223.0       0.0   \n",
              "2022-303160             ALL OTHER LARCENY   NO WEAPON  72227.0       0.0   \n",
              "2022-302870      THEFT FROM MOTOR VEHICLE   NO WEAPON  72211.0       0.0   \n",
              "2022-302451                   SHOPLIFTING   NO WEAPON  72210.0       0.0   \n",
              "2022-301998      THEFT FROM MOTOR VEHICLE   NO WEAPON  72211.0       0.0   \n",
              "\n",
              "                 LONGITUDE  WEEK_OF_MONTH  YEAR  DAY  DAY_OF_YEAR  MONTH  \\\n",
              "INCIDENT_NUMBER                                                            \n",
              "2022-303291            0.0              1  2022    8          342     12   \n",
              "2022-303160            0.0              4  2022   29          302     10   \n",
              "2022-302870            0.0              3  2022   23          296     10   \n",
              "2022-302451            0.0              1  2022    7          250      9   \n",
              "2022-301998            0.0              3  2022   21          202      7   \n",
              "\n",
              "                 CRIME_TYPE RISK_TYPE  RISK_TYPE_BC  \n",
              "INCIDENT_NUMBER                                      \n",
              "2022-303291      NONVIOLENT       LOW             0  \n",
              "2022-303160      NONVIOLENT       LOW             0  \n",
              "2022-302870      NONVIOLENT       LOW             0  \n",
              "2022-302451      NONVIOLENT       LOW             0  \n",
              "2022-301998      NONVIOLENT       LOW             0  "
            ]
          },
          "execution_count": 37,
          "metadata": {},
          "output_type": "execute_result"
        }
      ],
      "source": [
        "lrpd.tail()"
      ]
    },
    {
      "attachments": {},
      "cell_type": "markdown",
      "metadata": {
        "collapsed": false,
        "id": "cMSCPrOKxy5l"
      },
      "source": [
        "### Saving the modified DataSet to a new CSV:"
      ]
    },
    {
      "cell_type": "code",
      "execution_count": 38,
      "metadata": {
        "id": "9DdBBw9lxy5m"
      },
      "outputs": [],
      "source": [
        "# lrpd.to_csv(\"lrpd-clean.csv\")"
      ]
    },
    {
      "cell_type": "code",
      "execution_count": 39,
      "metadata": {
        "id": "GEyAh45bxy5m",
        "outputId": "29ad5558-a7f2-4c58-9ddc-0b85c1e79879"
      },
      "outputs": [
        {
          "data": {
            "text/plain": [
              "(86844, 15)"
            ]
          },
          "execution_count": 39,
          "metadata": {},
          "output_type": "execute_result"
        }
      ],
      "source": [
        "lrpd.shape"
      ]
    },
    {
      "cell_type": "code",
      "execution_count": 40,
      "metadata": {},
      "outputs": [],
      "source": [
        "lrpd[\"INCIDENT_DATE\"] = pd.to_datetime(lrpd[\"INCIDENT_DATE\"])\n",
        "df = lrpd.groupby(pd.Grouper(key='INCIDENT_DATE', freq='D')).size().reset_index(name='INCIDENT_COUNT')\n",
        "df.columns = ['ds', 'y']"
      ]
    },
    {
      "cell_type": "code",
      "execution_count": 41,
      "metadata": {},
      "outputs": [],
      "source": [
        "weather = pd.read_csv('../data/weather.csv')\n",
        "best_data = weather[weather['NAME'] == 'LITTLE ROCK AIRPORT ADAMS FIELD, AR US']\n",
        "columns_to_keep = ['DATE', 'AWND', 'PRCP', 'SNWD', 'SNOW', 'TMAX', 'TMIN']\n",
        "best_data = best_data[columns_to_keep]\n",
        "best_data.fillna(0, inplace=True)\n",
        "best_data = best_data[best_data['DATE'] < '2023-02-21']\n",
        "best_data['DATE'] = pd.to_datetime(best_data['DATE'])\n",
        "best_df = pd.merge(df, best_data, left_on='ds', right_on='DATE', how='inner')\n",
        "best_df.drop(columns=['DATE'], inplace=True)"
      ]
    },
    {
      "cell_type": "code",
      "execution_count": 42,
      "metadata": {},
      "outputs": [],
      "source": [
        "df = pd.read_csv('../data/XGB-lrpd.csv')\n",
        "best_df = pd.read_csv('data-for-prophet.csv')\n",
        "len(df), len(best_df)\n",
        "df.drop(['date_offset'], inplace=True, axis=1)\n",
        "best_df.drop(['ds'], inplace=True, axis=1)\n",
        "best_df.drop(['y'], inplace=True, axis=1)\n",
        "# merge the two dataframes \n",
        "df = pd.concat([df, best_df], axis=1)"
      ]
    },
    {
      "cell_type": "code",
      "execution_count": 44,
      "metadata": {},
      "outputs": [
        {
          "data": {
            "text/html": [
              "<div>\n",
              "<style scoped>\n",
              "    .dataframe tbody tr th:only-of-type {\n",
              "        vertical-align: middle;\n",
              "    }\n",
              "\n",
              "    .dataframe tbody tr th {\n",
              "        vertical-align: top;\n",
              "    }\n",
              "\n",
              "    .dataframe thead th {\n",
              "        text-align: right;\n",
              "    }\n",
              "</style>\n",
              "<table border=\"1\" class=\"dataframe\">\n",
              "  <thead>\n",
              "    <tr style=\"text-align: right;\">\n",
              "      <th></th>\n",
              "      <th>ds</th>\n",
              "      <th>y</th>\n",
              "      <th>is_holiday</th>\n",
              "      <th>dayofweek</th>\n",
              "      <th>quarter</th>\n",
              "      <th>month</th>\n",
              "      <th>year</th>\n",
              "      <th>dayofyear</th>\n",
              "      <th>dayofmonth</th>\n",
              "      <th>weekofyear</th>\n",
              "      <th>is_weekend</th>\n",
              "      <th>is_weekday</th>\n",
              "      <th>season</th>\n",
              "      <th>AWND</th>\n",
              "      <th>PRCP</th>\n",
              "      <th>SNWD</th>\n",
              "      <th>SNOW</th>\n",
              "      <th>TMAX</th>\n",
              "      <th>TMIN</th>\n",
              "    </tr>\n",
              "  </thead>\n",
              "  <tbody>\n",
              "    <tr>\n",
              "      <th>0</th>\n",
              "      <td>2017-01-01</td>\n",
              "      <td>54</td>\n",
              "      <td>1</td>\n",
              "      <td>6</td>\n",
              "      <td>1</td>\n",
              "      <td>1</td>\n",
              "      <td>2017</td>\n",
              "      <td>1</td>\n",
              "      <td>1</td>\n",
              "      <td>52</td>\n",
              "      <td>1</td>\n",
              "      <td>0</td>\n",
              "      <td>4</td>\n",
              "      <td>6.93</td>\n",
              "      <td>0.01</td>\n",
              "      <td>0.0</td>\n",
              "      <td>0.0</td>\n",
              "      <td>46.0</td>\n",
              "      <td>43.0</td>\n",
              "    </tr>\n",
              "    <tr>\n",
              "      <th>1</th>\n",
              "      <td>2017-01-02</td>\n",
              "      <td>45</td>\n",
              "      <td>1</td>\n",
              "      <td>0</td>\n",
              "      <td>1</td>\n",
              "      <td>1</td>\n",
              "      <td>2017</td>\n",
              "      <td>2</td>\n",
              "      <td>2</td>\n",
              "      <td>1</td>\n",
              "      <td>0</td>\n",
              "      <td>1</td>\n",
              "      <td>4</td>\n",
              "      <td>5.37</td>\n",
              "      <td>0.20</td>\n",
              "      <td>0.0</td>\n",
              "      <td>0.0</td>\n",
              "      <td>56.0</td>\n",
              "      <td>45.0</td>\n",
              "    </tr>\n",
              "    <tr>\n",
              "      <th>2</th>\n",
              "      <td>2017-01-03</td>\n",
              "      <td>51</td>\n",
              "      <td>0</td>\n",
              "      <td>1</td>\n",
              "      <td>1</td>\n",
              "      <td>1</td>\n",
              "      <td>2017</td>\n",
              "      <td>3</td>\n",
              "      <td>3</td>\n",
              "      <td>1</td>\n",
              "      <td>0</td>\n",
              "      <td>1</td>\n",
              "      <td>4</td>\n",
              "      <td>7.61</td>\n",
              "      <td>0.00</td>\n",
              "      <td>0.0</td>\n",
              "      <td>0.0</td>\n",
              "      <td>57.0</td>\n",
              "      <td>40.0</td>\n",
              "    </tr>\n",
              "    <tr>\n",
              "      <th>3</th>\n",
              "      <td>2017-01-04</td>\n",
              "      <td>48</td>\n",
              "      <td>0</td>\n",
              "      <td>2</td>\n",
              "      <td>1</td>\n",
              "      <td>1</td>\n",
              "      <td>2017</td>\n",
              "      <td>4</td>\n",
              "      <td>4</td>\n",
              "      <td>1</td>\n",
              "      <td>0</td>\n",
              "      <td>1</td>\n",
              "      <td>4</td>\n",
              "      <td>9.62</td>\n",
              "      <td>0.00</td>\n",
              "      <td>0.0</td>\n",
              "      <td>0.0</td>\n",
              "      <td>41.0</td>\n",
              "      <td>26.0</td>\n",
              "    </tr>\n",
              "    <tr>\n",
              "      <th>4</th>\n",
              "      <td>2017-01-05</td>\n",
              "      <td>39</td>\n",
              "      <td>0</td>\n",
              "      <td>3</td>\n",
              "      <td>1</td>\n",
              "      <td>1</td>\n",
              "      <td>2017</td>\n",
              "      <td>5</td>\n",
              "      <td>5</td>\n",
              "      <td>1</td>\n",
              "      <td>0</td>\n",
              "      <td>1</td>\n",
              "      <td>4</td>\n",
              "      <td>8.50</td>\n",
              "      <td>0.00</td>\n",
              "      <td>0.0</td>\n",
              "      <td>0.0</td>\n",
              "      <td>37.0</td>\n",
              "      <td>29.0</td>\n",
              "    </tr>\n",
              "    <tr>\n",
              "      <th>...</th>\n",
              "      <td>...</td>\n",
              "      <td>...</td>\n",
              "      <td>...</td>\n",
              "      <td>...</td>\n",
              "      <td>...</td>\n",
              "      <td>...</td>\n",
              "      <td>...</td>\n",
              "      <td>...</td>\n",
              "      <td>...</td>\n",
              "      <td>...</td>\n",
              "      <td>...</td>\n",
              "      <td>...</td>\n",
              "      <td>...</td>\n",
              "      <td>...</td>\n",
              "      <td>...</td>\n",
              "      <td>...</td>\n",
              "      <td>...</td>\n",
              "      <td>...</td>\n",
              "      <td>...</td>\n",
              "    </tr>\n",
              "    <tr>\n",
              "      <th>2237</th>\n",
              "      <td>2023-02-16</td>\n",
              "      <td>42</td>\n",
              "      <td>0</td>\n",
              "      <td>3</td>\n",
              "      <td>1</td>\n",
              "      <td>2</td>\n",
              "      <td>2023</td>\n",
              "      <td>47</td>\n",
              "      <td>16</td>\n",
              "      <td>7</td>\n",
              "      <td>0</td>\n",
              "      <td>1</td>\n",
              "      <td>4</td>\n",
              "      <td>16.11</td>\n",
              "      <td>0.51</td>\n",
              "      <td>0.0</td>\n",
              "      <td>0.0</td>\n",
              "      <td>72.0</td>\n",
              "      <td>36.0</td>\n",
              "    </tr>\n",
              "    <tr>\n",
              "      <th>2238</th>\n",
              "      <td>2023-02-17</td>\n",
              "      <td>32</td>\n",
              "      <td>0</td>\n",
              "      <td>4</td>\n",
              "      <td>1</td>\n",
              "      <td>2</td>\n",
              "      <td>2023</td>\n",
              "      <td>48</td>\n",
              "      <td>17</td>\n",
              "      <td>7</td>\n",
              "      <td>0</td>\n",
              "      <td>1</td>\n",
              "      <td>4</td>\n",
              "      <td>9.62</td>\n",
              "      <td>0.00</td>\n",
              "      <td>0.0</td>\n",
              "      <td>0.0</td>\n",
              "      <td>51.0</td>\n",
              "      <td>34.0</td>\n",
              "    </tr>\n",
              "    <tr>\n",
              "      <th>2239</th>\n",
              "      <td>2023-02-18</td>\n",
              "      <td>25</td>\n",
              "      <td>0</td>\n",
              "      <td>5</td>\n",
              "      <td>1</td>\n",
              "      <td>2</td>\n",
              "      <td>2023</td>\n",
              "      <td>49</td>\n",
              "      <td>18</td>\n",
              "      <td>7</td>\n",
              "      <td>1</td>\n",
              "      <td>0</td>\n",
              "      <td>4</td>\n",
              "      <td>5.14</td>\n",
              "      <td>0.00</td>\n",
              "      <td>0.0</td>\n",
              "      <td>0.0</td>\n",
              "      <td>56.0</td>\n",
              "      <td>27.0</td>\n",
              "    </tr>\n",
              "    <tr>\n",
              "      <th>2240</th>\n",
              "      <td>2023-02-19</td>\n",
              "      <td>36</td>\n",
              "      <td>0</td>\n",
              "      <td>6</td>\n",
              "      <td>1</td>\n",
              "      <td>2</td>\n",
              "      <td>2023</td>\n",
              "      <td>50</td>\n",
              "      <td>19</td>\n",
              "      <td>7</td>\n",
              "      <td>1</td>\n",
              "      <td>0</td>\n",
              "      <td>4</td>\n",
              "      <td>10.51</td>\n",
              "      <td>0.00</td>\n",
              "      <td>0.0</td>\n",
              "      <td>0.0</td>\n",
              "      <td>68.0</td>\n",
              "      <td>38.0</td>\n",
              "    </tr>\n",
              "    <tr>\n",
              "      <th>2241</th>\n",
              "      <td>2023-02-20</td>\n",
              "      <td>30</td>\n",
              "      <td>1</td>\n",
              "      <td>0</td>\n",
              "      <td>1</td>\n",
              "      <td>2</td>\n",
              "      <td>2023</td>\n",
              "      <td>51</td>\n",
              "      <td>20</td>\n",
              "      <td>8</td>\n",
              "      <td>0</td>\n",
              "      <td>1</td>\n",
              "      <td>4</td>\n",
              "      <td>10.74</td>\n",
              "      <td>0.00</td>\n",
              "      <td>0.0</td>\n",
              "      <td>0.0</td>\n",
              "      <td>77.0</td>\n",
              "      <td>53.0</td>\n",
              "    </tr>\n",
              "  </tbody>\n",
              "</table>\n",
              "<p>2242 rows × 19 columns</p>\n",
              "</div>"
            ],
            "text/plain": [
              "              ds   y  is_holiday  dayofweek  quarter  month  year  dayofyear  \\\n",
              "0     2017-01-01  54           1          6        1      1  2017          1   \n",
              "1     2017-01-02  45           1          0        1      1  2017          2   \n",
              "2     2017-01-03  51           0          1        1      1  2017          3   \n",
              "3     2017-01-04  48           0          2        1      1  2017          4   \n",
              "4     2017-01-05  39           0          3        1      1  2017          5   \n",
              "...          ...  ..         ...        ...      ...    ...   ...        ...   \n",
              "2237  2023-02-16  42           0          3        1      2  2023         47   \n",
              "2238  2023-02-17  32           0          4        1      2  2023         48   \n",
              "2239  2023-02-18  25           0          5        1      2  2023         49   \n",
              "2240  2023-02-19  36           0          6        1      2  2023         50   \n",
              "2241  2023-02-20  30           1          0        1      2  2023         51   \n",
              "\n",
              "      dayofmonth  weekofyear  is_weekend  is_weekday  season   AWND  PRCP  \\\n",
              "0              1          52           1           0       4   6.93  0.01   \n",
              "1              2           1           0           1       4   5.37  0.20   \n",
              "2              3           1           0           1       4   7.61  0.00   \n",
              "3              4           1           0           1       4   9.62  0.00   \n",
              "4              5           1           0           1       4   8.50  0.00   \n",
              "...          ...         ...         ...         ...     ...    ...   ...   \n",
              "2237          16           7           0           1       4  16.11  0.51   \n",
              "2238          17           7           0           1       4   9.62  0.00   \n",
              "2239          18           7           1           0       4   5.14  0.00   \n",
              "2240          19           7           1           0       4  10.51  0.00   \n",
              "2241          20           8           0           1       4  10.74  0.00   \n",
              "\n",
              "      SNWD  SNOW  TMAX  TMIN  \n",
              "0      0.0   0.0  46.0  43.0  \n",
              "1      0.0   0.0  56.0  45.0  \n",
              "2      0.0   0.0  57.0  40.0  \n",
              "3      0.0   0.0  41.0  26.0  \n",
              "4      0.0   0.0  37.0  29.0  \n",
              "...    ...   ...   ...   ...  \n",
              "2237   0.0   0.0  72.0  36.0  \n",
              "2238   0.0   0.0  51.0  34.0  \n",
              "2239   0.0   0.0  56.0  27.0  \n",
              "2240   0.0   0.0  68.0  38.0  \n",
              "2241   0.0   0.0  77.0  53.0  \n",
              "\n",
              "[2242 rows x 19 columns]"
            ]
          },
          "execution_count": 44,
          "metadata": {},
          "output_type": "execute_result"
        }
      ],
      "source": [
        "# df.to_csv('final-lrpd-data.csv', index=False)\n",
        "df"
      ]
    },
    {
      "cell_type": "code",
      "execution_count": null,
      "metadata": {},
      "outputs": [],
      "source": []
    }
  ],
  "metadata": {
    "colab": {
      "provenance": []
    },
    "kernelspec": {
      "display_name": "Python 3",
      "language": "python",
      "name": "python3"
    },
    "language_info": {
      "codemirror_mode": {
        "name": "ipython",
        "version": 3
      },
      "file_extension": ".py",
      "mimetype": "text/x-python",
      "name": "python",
      "nbconvert_exporter": "python",
      "pygments_lexer": "ipython3",
      "version": "3.11.3"
    }
  },
  "nbformat": 4,
  "nbformat_minor": 0
}
