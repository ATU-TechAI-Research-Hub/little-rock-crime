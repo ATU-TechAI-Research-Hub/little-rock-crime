{
 "cells": [
  {
   "cell_type": "code",
   "execution_count": 1,
   "metadata": {
    "collapsed": true,
    "pycharm": {
     "name": "#%%\n"
    }
   },
   "outputs": [],
   "source": [
    "import pandas as pd"
   ]
  },
  {
   "cell_type": "markdown",
   "source": [
    "### Read in the original DataSet for comparsion:"
   ],
   "metadata": {
    "collapsed": false,
    "pycharm": {
     "name": "#%% md\n"
    }
   }
  },
  {
   "cell_type": "code",
   "execution_count": 2,
   "outputs": [
    {
     "name": "stdout",
     "output_type": "stream",
     "text": [
      "Successfully read in Original Little Rock Crime Data. DataFrame Size: 92771 rows x 14 cols\n"
     ]
    }
   ],
   "source": [
    "original = pd.read_csv(\"../data/lrpd.csv\")\n",
    "print(f\"Successfully read in Original Little Rock Crime Data. DataFrame Size: {original.shape[0]} rows x {original.shape[1]} cols\")"
   ],
   "metadata": {
    "collapsed": false,
    "pycharm": {
     "name": "#%%\n"
    }
   }
  },
  {
   "cell_type": "markdown",
   "source": [
    "### Request relevant columns from dataset:"
   ],
   "metadata": {
    "collapsed": false,
    "pycharm": {
     "name": "#%% md\n"
    }
   }
  },
  {
   "cell_type": "code",
   "execution_count": 3,
   "outputs": [
    {
     "name": "stdout",
     "output_type": "stream",
     "text": [
      "Successfully read in Little Rock Crime Data. DataFrame Size: 92771 rows x 7 cols\n"
     ]
    }
   ],
   "source": [
    "requested_columns = [\"INCIDENT_DATE\", \"INCIDENT_NUMBER\", \"LOCATION_DISTRICT\", \"OFFENSE_DESCRIPTION\", \"WEAPON_TYPE\", \"ZIP\", \"LATITUDE\", \"LONGITUDE\"]\n",
    "\n",
    "lrpd = pd.read_csv(\"../data/lrpd.csv\", usecols=requested_columns, index_col=\"INCIDENT_NUMBER\")\n",
    "\n",
    "print(f\"Successfully read in Little Rock Crime Data. DataFrame Size: {lrpd.shape[0]} rows x {lrpd.shape[1]} cols\")"
   ],
   "metadata": {
    "collapsed": false,
    "pycharm": {
     "name": "#%%\n"
    }
   }
  },
  {
   "cell_type": "markdown",
   "source": [
    "### Drop duplicate rows based on index values:"
   ],
   "metadata": {
    "collapsed": false,
    "pycharm": {
     "name": "#%% md\n"
    }
   }
  },
  {
   "cell_type": "code",
   "execution_count": 4,
   "outputs": [
    {
     "name": "stdout",
     "output_type": "stream",
     "text": [
      "Dropped 5750 duplicates!\n",
      "Little Rock Crime Data DataFrame Size: 87021 rows x 7 cols\n"
     ]
    }
   ],
   "source": [
    "prev_shape = lrpd.shape\n",
    "lrpd = lrpd.drop_duplicates(keep='first')\n",
    "new_shape = lrpd.shape\n",
    "\n",
    "print(f'Dropped {(prev_shape[0] - new_shape[0])} duplicates!')\n",
    "print(f'Little Rock Crime Data DataFrame Size: {lrpd.shape[0]} rows x {lrpd.shape[1]} cols')"
   ],
   "metadata": {
    "collapsed": false,
    "pycharm": {
     "name": "#%%\n"
    }
   }
  },
  {
   "cell_type": "markdown",
   "source": [
    "### Fill missing values with Number 0:"
   ],
   "metadata": {
    "collapsed": false,
    "pycharm": {
     "name": "#%% md\n"
    }
   }
  },
  {
   "cell_type": "code",
   "execution_count": 5,
   "outputs": [],
   "source": [
    "lrpd = lrpd.fillna(0)"
   ],
   "metadata": {
    "collapsed": false,
    "pycharm": {
     "name": "#%%\n"
    }
   }
  },
  {
   "cell_type": "markdown",
   "source": [
    "### Parse Number 0 and String 1 to weapon type:"
   ],
   "metadata": {
    "collapsed": false,
    "pycharm": {
     "name": "#%% md\n"
    }
   }
  },
  {
   "cell_type": "code",
   "execution_count": 6,
   "outputs": [],
   "source": [
    "lrpd[\"WEAPON_TYPE\"] = lrpd[\"WEAPON_TYPE\"].replace(0, \"NO WEAPON\")\n",
    "lrpd[\"WEAPON_TYPE\"] = lrpd[\"WEAPON_TYPE\"].replace(\"1\", \"UNKNOWN\")"
   ],
   "metadata": {
    "collapsed": false,
    "pycharm": {
     "name": "#%%\n"
    }
   }
  },
  {
   "cell_type": "markdown",
   "source": [
    "### Convert columns to correct types:"
   ],
   "metadata": {
    "collapsed": false,
    "pycharm": {
     "name": "#%% md\n"
    }
   }
  },
  {
   "cell_type": "code",
   "execution_count": 7,
   "outputs": [
    {
     "data": {
      "text/plain": "INCIDENT_NUMBER                   2022-036059                   2017-029450  \\\nINCIDENT_DATE             2022-03-30 17:38:00           2017-03-16 18:30:00   \nLOCATION_DISTRICT                        42.0                          82.0   \nOFFENSE_DESCRIPTION  THEFT FROM MOTOR VEHICLE  THEFT OF MOTOR VEHICLE PARTS   \nWEAPON_TYPE                         NO WEAPON                     NO WEAPON   \nZIP                                   72202.0                       72206.0   \nLATITUDE                                  0.0                     34.649362   \nLONGITUDE                                 0.0                    -92.301959   \n\nINCIDENT_NUMBER              2017-114829          2018-046714  \\\nINCIDENT_DATE        2017-09-15 03:14:00  2018-04-20 16:18:00   \nLOCATION_DISTRICT                   64.0                 82.0   \nOFFENSE_DESCRIPTION                 RAPE                 RAPE   \nWEAPON_TYPE                    NO WEAPON              UNKNOWN   \nZIP                                  0.0                  0.0   \nLATITUDE                             0.0                  0.0   \nLONGITUDE                            0.0                  0.0   \n\nINCIDENT_NUMBER              2020-042339  \nINCIDENT_DATE        2020-04-18 18:15:00  \nLOCATION_DISTRICT                   61.0  \nOFFENSE_DESCRIPTION                 RAPE  \nWEAPON_TYPE                      HANDGUN  \nZIP                                  0.0  \nLATITUDE                             0.0  \nLONGITUDE                            0.0  ",
      "text/html": "<div>\n<style scoped>\n    .dataframe tbody tr th:only-of-type {\n        vertical-align: middle;\n    }\n\n    .dataframe tbody tr th {\n        vertical-align: top;\n    }\n\n    .dataframe thead th {\n        text-align: right;\n    }\n</style>\n<table border=\"1\" class=\"dataframe\">\n  <thead>\n    <tr style=\"text-align: right;\">\n      <th>INCIDENT_NUMBER</th>\n      <th>2022-036059</th>\n      <th>2017-029450</th>\n      <th>2017-114829</th>\n      <th>2018-046714</th>\n      <th>2020-042339</th>\n    </tr>\n  </thead>\n  <tbody>\n    <tr>\n      <th>INCIDENT_DATE</th>\n      <td>2022-03-30 17:38:00</td>\n      <td>2017-03-16 18:30:00</td>\n      <td>2017-09-15 03:14:00</td>\n      <td>2018-04-20 16:18:00</td>\n      <td>2020-04-18 18:15:00</td>\n    </tr>\n    <tr>\n      <th>LOCATION_DISTRICT</th>\n      <td>42.0</td>\n      <td>82.0</td>\n      <td>64.0</td>\n      <td>82.0</td>\n      <td>61.0</td>\n    </tr>\n    <tr>\n      <th>OFFENSE_DESCRIPTION</th>\n      <td>THEFT FROM MOTOR VEHICLE</td>\n      <td>THEFT OF MOTOR VEHICLE PARTS</td>\n      <td>RAPE</td>\n      <td>RAPE</td>\n      <td>RAPE</td>\n    </tr>\n    <tr>\n      <th>WEAPON_TYPE</th>\n      <td>NO WEAPON</td>\n      <td>NO WEAPON</td>\n      <td>NO WEAPON</td>\n      <td>UNKNOWN</td>\n      <td>HANDGUN</td>\n    </tr>\n    <tr>\n      <th>ZIP</th>\n      <td>72202.0</td>\n      <td>72206.0</td>\n      <td>0.0</td>\n      <td>0.0</td>\n      <td>0.0</td>\n    </tr>\n    <tr>\n      <th>LATITUDE</th>\n      <td>0.0</td>\n      <td>34.649362</td>\n      <td>0.0</td>\n      <td>0.0</td>\n      <td>0.0</td>\n    </tr>\n    <tr>\n      <th>LONGITUDE</th>\n      <td>0.0</td>\n      <td>-92.301959</td>\n      <td>0.0</td>\n      <td>0.0</td>\n      <td>0.0</td>\n    </tr>\n  </tbody>\n</table>\n</div>"
     },
     "execution_count": 7,
     "metadata": {},
     "output_type": "execute_result"
    }
   ],
   "source": [
    "lrpd[\"INCIDENT_DATE\"] = pd.to_datetime(lrpd[\"INCIDENT_DATE\"])\n",
    "lrpd[\"LOCATION_DISTRICT\"] = pd.to_numeric(lrpd[\"LOCATION_DISTRICT\"])\n",
    "lrpd[\"OFFENSE_DESCRIPTION\"] = lrpd[\"OFFENSE_DESCRIPTION\"] # todo: ensure this is parsed as a string\n",
    "lrpd[\"WEAPON_TYPE\"] = lrpd[\"WEAPON_TYPE\"] # todo: ensure this is parsed as a string\n",
    "lrpd[\"ZIP\"] = pd.to_numeric(lrpd[\"ZIP\"])\n",
    "lrpd[\"LATITUDE\"] = pd.to_numeric(lrpd[\"LATITUDE\"])\n",
    "lrpd[\"LONGITUDE\"] = pd.to_numeric(lrpd[\"LONGITUDE\"])\n",
    "\n",
    "lrpd.head().T"
   ],
   "metadata": {
    "collapsed": false,
    "pycharm": {
     "name": "#%%\n"
    }
   }
  },
  {
   "cell_type": "markdown",
   "source": [
    "### Appending new columns to DataFrame:"
   ],
   "metadata": {
    "collapsed": false,
    "pycharm": {
     "name": "#%% md\n"
    }
   }
  },
  {
   "cell_type": "code",
   "execution_count": 8,
   "outputs": [],
   "source": [
    "lrpd[\"WEEK_OF_MONTH\"] = lrpd[\"INCIDENT_DATE\"].dt.day // 7\n",
    "lrpd[\"YEAR\"] = lrpd[\"INCIDENT_DATE\"].dt.year\n",
    "lrpd[\"DAY\"] = lrpd[\"INCIDENT_DATE\"].dt.day\n",
    "lrpd[\"DAY_OF_YEAR\"] = lrpd[\"INCIDENT_DATE\"].dt.dayofyear\n",
    "lrpd[\"MONTH\"] = lrpd[\"INCIDENT_DATE\"].dt.month"
   ],
   "metadata": {
    "collapsed": false,
    "pycharm": {
     "name": "#%%\n"
    }
   }
  },
  {
   "cell_type": "markdown",
   "source": [
    "### Visualizing current modifications:"
   ],
   "metadata": {
    "collapsed": false,
    "pycharm": {
     "name": "#%% md\n"
    }
   }
  },
  {
   "cell_type": "code",
   "execution_count": 9,
   "outputs": [
    {
     "data": {
      "text/plain": "INCIDENT_NUMBER                   2022-036059                   2017-029450  \\\nINCIDENT_DATE             2022-03-30 17:38:00           2017-03-16 18:30:00   \nLOCATION_DISTRICT                        42.0                          82.0   \nOFFENSE_DESCRIPTION  THEFT FROM MOTOR VEHICLE  THEFT OF MOTOR VEHICLE PARTS   \nWEAPON_TYPE                         NO WEAPON                     NO WEAPON   \nZIP                                   72202.0                       72206.0   \nLATITUDE                                  0.0                     34.649362   \nLONGITUDE                                 0.0                    -92.301959   \nWEEK_OF_MONTH                               4                             2   \nYEAR                                     2022                          2017   \nDAY                                        30                            16   \nDAY_OF_YEAR                                89                            75   \nMONTH                                       3                             3   \n\nINCIDENT_NUMBER              2017-114829          2018-046714  \\\nINCIDENT_DATE        2017-09-15 03:14:00  2018-04-20 16:18:00   \nLOCATION_DISTRICT                   64.0                 82.0   \nOFFENSE_DESCRIPTION                 RAPE                 RAPE   \nWEAPON_TYPE                    NO WEAPON              UNKNOWN   \nZIP                                  0.0                  0.0   \nLATITUDE                             0.0                  0.0   \nLONGITUDE                            0.0                  0.0   \nWEEK_OF_MONTH                          2                    2   \nYEAR                                2017                 2018   \nDAY                                   15                   20   \nDAY_OF_YEAR                          258                  110   \nMONTH                                  9                    4   \n\nINCIDENT_NUMBER              2020-042339  \nINCIDENT_DATE        2020-04-18 18:15:00  \nLOCATION_DISTRICT                   61.0  \nOFFENSE_DESCRIPTION                 RAPE  \nWEAPON_TYPE                      HANDGUN  \nZIP                                  0.0  \nLATITUDE                             0.0  \nLONGITUDE                            0.0  \nWEEK_OF_MONTH                          2  \nYEAR                                2020  \nDAY                                   18  \nDAY_OF_YEAR                          109  \nMONTH                                  4  ",
      "text/html": "<div>\n<style scoped>\n    .dataframe tbody tr th:only-of-type {\n        vertical-align: middle;\n    }\n\n    .dataframe tbody tr th {\n        vertical-align: top;\n    }\n\n    .dataframe thead th {\n        text-align: right;\n    }\n</style>\n<table border=\"1\" class=\"dataframe\">\n  <thead>\n    <tr style=\"text-align: right;\">\n      <th>INCIDENT_NUMBER</th>\n      <th>2022-036059</th>\n      <th>2017-029450</th>\n      <th>2017-114829</th>\n      <th>2018-046714</th>\n      <th>2020-042339</th>\n    </tr>\n  </thead>\n  <tbody>\n    <tr>\n      <th>INCIDENT_DATE</th>\n      <td>2022-03-30 17:38:00</td>\n      <td>2017-03-16 18:30:00</td>\n      <td>2017-09-15 03:14:00</td>\n      <td>2018-04-20 16:18:00</td>\n      <td>2020-04-18 18:15:00</td>\n    </tr>\n    <tr>\n      <th>LOCATION_DISTRICT</th>\n      <td>42.0</td>\n      <td>82.0</td>\n      <td>64.0</td>\n      <td>82.0</td>\n      <td>61.0</td>\n    </tr>\n    <tr>\n      <th>OFFENSE_DESCRIPTION</th>\n      <td>THEFT FROM MOTOR VEHICLE</td>\n      <td>THEFT OF MOTOR VEHICLE PARTS</td>\n      <td>RAPE</td>\n      <td>RAPE</td>\n      <td>RAPE</td>\n    </tr>\n    <tr>\n      <th>WEAPON_TYPE</th>\n      <td>NO WEAPON</td>\n      <td>NO WEAPON</td>\n      <td>NO WEAPON</td>\n      <td>UNKNOWN</td>\n      <td>HANDGUN</td>\n    </tr>\n    <tr>\n      <th>ZIP</th>\n      <td>72202.0</td>\n      <td>72206.0</td>\n      <td>0.0</td>\n      <td>0.0</td>\n      <td>0.0</td>\n    </tr>\n    <tr>\n      <th>LATITUDE</th>\n      <td>0.0</td>\n      <td>34.649362</td>\n      <td>0.0</td>\n      <td>0.0</td>\n      <td>0.0</td>\n    </tr>\n    <tr>\n      <th>LONGITUDE</th>\n      <td>0.0</td>\n      <td>-92.301959</td>\n      <td>0.0</td>\n      <td>0.0</td>\n      <td>0.0</td>\n    </tr>\n    <tr>\n      <th>WEEK_OF_MONTH</th>\n      <td>4</td>\n      <td>2</td>\n      <td>2</td>\n      <td>2</td>\n      <td>2</td>\n    </tr>\n    <tr>\n      <th>YEAR</th>\n      <td>2022</td>\n      <td>2017</td>\n      <td>2017</td>\n      <td>2018</td>\n      <td>2020</td>\n    </tr>\n    <tr>\n      <th>DAY</th>\n      <td>30</td>\n      <td>16</td>\n      <td>15</td>\n      <td>20</td>\n      <td>18</td>\n    </tr>\n    <tr>\n      <th>DAY_OF_YEAR</th>\n      <td>89</td>\n      <td>75</td>\n      <td>258</td>\n      <td>110</td>\n      <td>109</td>\n    </tr>\n    <tr>\n      <th>MONTH</th>\n      <td>3</td>\n      <td>3</td>\n      <td>9</td>\n      <td>4</td>\n      <td>4</td>\n    </tr>\n  </tbody>\n</table>\n</div>"
     },
     "execution_count": 9,
     "metadata": {},
     "output_type": "execute_result"
    }
   ],
   "source": [
    "lrpd.head().T"
   ],
   "metadata": {
    "collapsed": false,
    "pycharm": {
     "name": "#%%\n"
    }
   }
  },
  {
   "cell_type": "code",
   "execution_count": 10,
   "outputs": [
    {
     "data": {
      "text/plain": "INCIDENT_NUMBER                   2022-303291          2022-303160  \\\nINCIDENT_DATE             2022-12-08 00:00:00  2022-10-29 09:00:00   \nLOCATION_DISTRICT                        73.0                 62.0   \nOFFENSE_DESCRIPTION  THEFT FROM MOTOR VEHICLE    ALL OTHER LARCENY   \nWEAPON_TYPE                         NO WEAPON            NO WEAPON   \nZIP                                   72223.0              72227.0   \nLATITUDE                                  0.0                  0.0   \nLONGITUDE                                 0.0                  0.0   \nWEEK_OF_MONTH                               1                    4   \nYEAR                                     2022                 2022   \nDAY                                         8                   29   \nDAY_OF_YEAR                               342                  302   \nMONTH                                      12                   10   \n\nINCIDENT_NUMBER                   2022-302870          2022-302451  \\\nINCIDENT_DATE             2022-10-23 14:30:00  2022-09-07 14:00:00   \nLOCATION_DISTRICT                        72.0                 92.0   \nOFFENSE_DESCRIPTION  THEFT FROM MOTOR VEHICLE          SHOPLIFTING   \nWEAPON_TYPE                         NO WEAPON            NO WEAPON   \nZIP                                   72211.0              72210.0   \nLATITUDE                                  0.0                  0.0   \nLONGITUDE                                 0.0                  0.0   \nWEEK_OF_MONTH                               3                    1   \nYEAR                                     2022                 2022   \nDAY                                        23                    7   \nDAY_OF_YEAR                               296                  250   \nMONTH                                      10                    9   \n\nINCIDENT_NUMBER                   2022-301998  \nINCIDENT_DATE             2022-07-21 08:00:00  \nLOCATION_DISTRICT                        72.0  \nOFFENSE_DESCRIPTION  THEFT FROM MOTOR VEHICLE  \nWEAPON_TYPE                         NO WEAPON  \nZIP                                   72211.0  \nLATITUDE                                  0.0  \nLONGITUDE                                 0.0  \nWEEK_OF_MONTH                               3  \nYEAR                                     2022  \nDAY                                        21  \nDAY_OF_YEAR                               202  \nMONTH                                       7  ",
      "text/html": "<div>\n<style scoped>\n    .dataframe tbody tr th:only-of-type {\n        vertical-align: middle;\n    }\n\n    .dataframe tbody tr th {\n        vertical-align: top;\n    }\n\n    .dataframe thead th {\n        text-align: right;\n    }\n</style>\n<table border=\"1\" class=\"dataframe\">\n  <thead>\n    <tr style=\"text-align: right;\">\n      <th>INCIDENT_NUMBER</th>\n      <th>2022-303291</th>\n      <th>2022-303160</th>\n      <th>2022-302870</th>\n      <th>2022-302451</th>\n      <th>2022-301998</th>\n    </tr>\n  </thead>\n  <tbody>\n    <tr>\n      <th>INCIDENT_DATE</th>\n      <td>2022-12-08 00:00:00</td>\n      <td>2022-10-29 09:00:00</td>\n      <td>2022-10-23 14:30:00</td>\n      <td>2022-09-07 14:00:00</td>\n      <td>2022-07-21 08:00:00</td>\n    </tr>\n    <tr>\n      <th>LOCATION_DISTRICT</th>\n      <td>73.0</td>\n      <td>62.0</td>\n      <td>72.0</td>\n      <td>92.0</td>\n      <td>72.0</td>\n    </tr>\n    <tr>\n      <th>OFFENSE_DESCRIPTION</th>\n      <td>THEFT FROM MOTOR VEHICLE</td>\n      <td>ALL OTHER LARCENY</td>\n      <td>THEFT FROM MOTOR VEHICLE</td>\n      <td>SHOPLIFTING</td>\n      <td>THEFT FROM MOTOR VEHICLE</td>\n    </tr>\n    <tr>\n      <th>WEAPON_TYPE</th>\n      <td>NO WEAPON</td>\n      <td>NO WEAPON</td>\n      <td>NO WEAPON</td>\n      <td>NO WEAPON</td>\n      <td>NO WEAPON</td>\n    </tr>\n    <tr>\n      <th>ZIP</th>\n      <td>72223.0</td>\n      <td>72227.0</td>\n      <td>72211.0</td>\n      <td>72210.0</td>\n      <td>72211.0</td>\n    </tr>\n    <tr>\n      <th>LATITUDE</th>\n      <td>0.0</td>\n      <td>0.0</td>\n      <td>0.0</td>\n      <td>0.0</td>\n      <td>0.0</td>\n    </tr>\n    <tr>\n      <th>LONGITUDE</th>\n      <td>0.0</td>\n      <td>0.0</td>\n      <td>0.0</td>\n      <td>0.0</td>\n      <td>0.0</td>\n    </tr>\n    <tr>\n      <th>WEEK_OF_MONTH</th>\n      <td>1</td>\n      <td>4</td>\n      <td>3</td>\n      <td>1</td>\n      <td>3</td>\n    </tr>\n    <tr>\n      <th>YEAR</th>\n      <td>2022</td>\n      <td>2022</td>\n      <td>2022</td>\n      <td>2022</td>\n      <td>2022</td>\n    </tr>\n    <tr>\n      <th>DAY</th>\n      <td>8</td>\n      <td>29</td>\n      <td>23</td>\n      <td>7</td>\n      <td>21</td>\n    </tr>\n    <tr>\n      <th>DAY_OF_YEAR</th>\n      <td>342</td>\n      <td>302</td>\n      <td>296</td>\n      <td>250</td>\n      <td>202</td>\n    </tr>\n    <tr>\n      <th>MONTH</th>\n      <td>12</td>\n      <td>10</td>\n      <td>10</td>\n      <td>9</td>\n      <td>7</td>\n    </tr>\n  </tbody>\n</table>\n</div>"
     },
     "execution_count": 10,
     "metadata": {},
     "output_type": "execute_result"
    }
   ],
   "source": [
    "lrpd.tail().T"
   ],
   "metadata": {
    "collapsed": false,
    "pycharm": {
     "name": "#%%\n"
    }
   }
  },
  {
   "cell_type": "markdown",
   "source": [
    "### Determining crime risk and violence level:"
   ],
   "metadata": {
    "collapsed": false,
    "pycharm": {
     "name": "#%% md\n"
    }
   }
  },
  {
   "cell_type": "code",
   "execution_count": 11,
   "outputs": [],
   "source": [
    "all_crimes = lrpd[\"OFFENSE_DESCRIPTION\"].unique()\n",
    "all_weapons = lrpd[\"WEAPON_TYPE\"].unique()"
   ],
   "metadata": {
    "collapsed": false,
    "pycharm": {
     "name": "#%%\n"
    }
   }
  },
  {
   "cell_type": "markdown",
   "source": [
    "Pre-defining which crimes are considered violent and nonviolent:"
   ],
   "metadata": {
    "collapsed": false,
    "pycharm": {
     "name": "#%% md\n"
    }
   }
  },
  {
   "cell_type": "code",
   "execution_count": 12,
   "outputs": [],
   "source": [
    "violent_crimes = ['RAPE', 'AGGRAVATED ASSAULT', 'ALL OTHER LARCENY', 'ROBBERY', 'BURGLARY/B&E',\n",
    "                  'MURDER & NONNEGLIGENT MANSLAUGHTER']\n",
    "nonviolent_crimes = ['THEFT FROM MOTOR VEHICLE', 'MOTOR VEHICLE THEFT', 'THEFT OF MOTOR VEHICLE PARTS',\n",
    "                     'SHOPLIFTING', 'THEFT FROM BUILDING', 'POCKET-PICKING', 'THEFT FROM COIN-OPERATED MACHINE',\n",
    "                     'PURSE-SNATCHING']"
   ],
   "metadata": {
    "collapsed": false,
    "pycharm": {
     "name": "#%%\n"
    }
   }
  },
  {
   "cell_type": "code",
   "execution_count": 13,
   "outputs": [],
   "source": [
    "def determine_crime_type(crime):\n",
    "    if crime in violent_crimes:\n",
    "        return 'Violent Crime'\n",
    "    elif crime in nonviolent_crimes:\n",
    "        return 'Non-Violent Crime'\n",
    "    else:\n",
    "        return 'Crime Type Unknown'"
   ],
   "metadata": {
    "collapsed": false,
    "pycharm": {
     "name": "#%%\n"
    }
   }
  },
  {
   "cell_type": "code",
   "execution_count": 14,
   "outputs": [],
   "source": [
    "def determine_risk_type(crime):\n",
    "    # todo: turn this into a function that performs risk assessment\n",
    "    pass"
   ],
   "metadata": {
    "collapsed": false,
    "pycharm": {
     "name": "#%%\n"
    }
   }
  },
  {
   "cell_type": "code",
   "execution_count": 15,
   "outputs": [],
   "source": [
    "lrpd[\"CRIME_TYPE\"] = lrpd[\"OFFENSE_DESCRIPTION\"].apply(determine_crime_type)"
   ],
   "metadata": {
    "collapsed": false,
    "pycharm": {
     "name": "#%%\n"
    }
   }
  },
  {
   "cell_type": "code",
   "execution_count": 16,
   "outputs": [],
   "source": [
    "lrpd.loc[(lrpd['CRIME_TYPE'] == 'Violent Crime') | (\n",
    "        lrpd['WEAPON_TYPE'] != 'NO WEAPON'), \"RISK_TYPE\"] = \"High Risk\"\n",
    "\n",
    "lrpd.loc[(lrpd['CRIME_TYPE'] == 'Violent Crime') & (\n",
    "        lrpd['CRIME_TYPE'] != 'NO WEAPON'), \"RISK_TYPE\"] = \"High Risk\"\n",
    "\n",
    "lrpd.loc[(lrpd['CRIME_TYPE'] == 'Non-Violent Crime') & (\n",
    "        lrpd['WEAPON_TYPE'] != 'NO WEAPON'), \"RISK_TYPE\"] = \"High Risk\"\n",
    "\n",
    "lrpd.loc[(lrpd['CRIME_TYPE'] == 'Non-Violent Crime') & (\n",
    "        lrpd['WEAPON_TYPE'] == 'NO WEAPON'), \"RISK_TYPE\"] = \"Low Risk\""
   ],
   "metadata": {
    "collapsed": false,
    "pycharm": {
     "name": "#%%\n"
    }
   }
  },
  {
   "cell_type": "code",
   "execution_count": 17,
   "outputs": [],
   "source": [
    "lrpd['RISK_TYPE_BC'] = lrpd[\"RISK_TYPE\"].map({'High Risk': 1, 'Low Risk': 0})"
   ],
   "metadata": {
    "collapsed": false,
    "pycharm": {
     "name": "#%%\n"
    }
   }
  },
  {
   "cell_type": "markdown",
   "source": [
    "### Visualizing current modifications:"
   ],
   "metadata": {
    "collapsed": false,
    "pycharm": {
     "name": "#%% md\n"
    }
   }
  },
  {
   "cell_type": "code",
   "execution_count": 18,
   "outputs": [
    {
     "data": {
      "text/plain": "INCIDENT_NUMBER                   2022-036059                   2017-029450  \\\nINCIDENT_DATE             2022-03-30 17:38:00           2017-03-16 18:30:00   \nLOCATION_DISTRICT                        42.0                          82.0   \nOFFENSE_DESCRIPTION  THEFT FROM MOTOR VEHICLE  THEFT OF MOTOR VEHICLE PARTS   \nWEAPON_TYPE                         NO WEAPON                     NO WEAPON   \nZIP                                   72202.0                       72206.0   \nLATITUDE                                  0.0                     34.649362   \nLONGITUDE                                 0.0                    -92.301959   \nWEEK_OF_MONTH                               4                             2   \nYEAR                                     2022                          2017   \nDAY                                        30                            16   \nDAY_OF_YEAR                                89                            75   \nMONTH                                       3                             3   \nCRIME_TYPE                  Non-Violent Crime             Non-Violent Crime   \nRISK_TYPE                            Low Risk                      Low Risk   \nRISK_TYPE_BC                                0                             0   \n\nINCIDENT_NUMBER              2017-114829          2018-046714  \\\nINCIDENT_DATE        2017-09-15 03:14:00  2018-04-20 16:18:00   \nLOCATION_DISTRICT                   64.0                 82.0   \nOFFENSE_DESCRIPTION                 RAPE                 RAPE   \nWEAPON_TYPE                    NO WEAPON              UNKNOWN   \nZIP                                  0.0                  0.0   \nLATITUDE                             0.0                  0.0   \nLONGITUDE                            0.0                  0.0   \nWEEK_OF_MONTH                          2                    2   \nYEAR                                2017                 2018   \nDAY                                   15                   20   \nDAY_OF_YEAR                          258                  110   \nMONTH                                  9                    4   \nCRIME_TYPE                 Violent Crime        Violent Crime   \nRISK_TYPE                      High Risk            High Risk   \nRISK_TYPE_BC                           1                    1   \n\nINCIDENT_NUMBER              2020-042339  \nINCIDENT_DATE        2020-04-18 18:15:00  \nLOCATION_DISTRICT                   61.0  \nOFFENSE_DESCRIPTION                 RAPE  \nWEAPON_TYPE                      HANDGUN  \nZIP                                  0.0  \nLATITUDE                             0.0  \nLONGITUDE                            0.0  \nWEEK_OF_MONTH                          2  \nYEAR                                2020  \nDAY                                   18  \nDAY_OF_YEAR                          109  \nMONTH                                  4  \nCRIME_TYPE                 Violent Crime  \nRISK_TYPE                      High Risk  \nRISK_TYPE_BC                           1  ",
      "text/html": "<div>\n<style scoped>\n    .dataframe tbody tr th:only-of-type {\n        vertical-align: middle;\n    }\n\n    .dataframe tbody tr th {\n        vertical-align: top;\n    }\n\n    .dataframe thead th {\n        text-align: right;\n    }\n</style>\n<table border=\"1\" class=\"dataframe\">\n  <thead>\n    <tr style=\"text-align: right;\">\n      <th>INCIDENT_NUMBER</th>\n      <th>2022-036059</th>\n      <th>2017-029450</th>\n      <th>2017-114829</th>\n      <th>2018-046714</th>\n      <th>2020-042339</th>\n    </tr>\n  </thead>\n  <tbody>\n    <tr>\n      <th>INCIDENT_DATE</th>\n      <td>2022-03-30 17:38:00</td>\n      <td>2017-03-16 18:30:00</td>\n      <td>2017-09-15 03:14:00</td>\n      <td>2018-04-20 16:18:00</td>\n      <td>2020-04-18 18:15:00</td>\n    </tr>\n    <tr>\n      <th>LOCATION_DISTRICT</th>\n      <td>42.0</td>\n      <td>82.0</td>\n      <td>64.0</td>\n      <td>82.0</td>\n      <td>61.0</td>\n    </tr>\n    <tr>\n      <th>OFFENSE_DESCRIPTION</th>\n      <td>THEFT FROM MOTOR VEHICLE</td>\n      <td>THEFT OF MOTOR VEHICLE PARTS</td>\n      <td>RAPE</td>\n      <td>RAPE</td>\n      <td>RAPE</td>\n    </tr>\n    <tr>\n      <th>WEAPON_TYPE</th>\n      <td>NO WEAPON</td>\n      <td>NO WEAPON</td>\n      <td>NO WEAPON</td>\n      <td>UNKNOWN</td>\n      <td>HANDGUN</td>\n    </tr>\n    <tr>\n      <th>ZIP</th>\n      <td>72202.0</td>\n      <td>72206.0</td>\n      <td>0.0</td>\n      <td>0.0</td>\n      <td>0.0</td>\n    </tr>\n    <tr>\n      <th>LATITUDE</th>\n      <td>0.0</td>\n      <td>34.649362</td>\n      <td>0.0</td>\n      <td>0.0</td>\n      <td>0.0</td>\n    </tr>\n    <tr>\n      <th>LONGITUDE</th>\n      <td>0.0</td>\n      <td>-92.301959</td>\n      <td>0.0</td>\n      <td>0.0</td>\n      <td>0.0</td>\n    </tr>\n    <tr>\n      <th>WEEK_OF_MONTH</th>\n      <td>4</td>\n      <td>2</td>\n      <td>2</td>\n      <td>2</td>\n      <td>2</td>\n    </tr>\n    <tr>\n      <th>YEAR</th>\n      <td>2022</td>\n      <td>2017</td>\n      <td>2017</td>\n      <td>2018</td>\n      <td>2020</td>\n    </tr>\n    <tr>\n      <th>DAY</th>\n      <td>30</td>\n      <td>16</td>\n      <td>15</td>\n      <td>20</td>\n      <td>18</td>\n    </tr>\n    <tr>\n      <th>DAY_OF_YEAR</th>\n      <td>89</td>\n      <td>75</td>\n      <td>258</td>\n      <td>110</td>\n      <td>109</td>\n    </tr>\n    <tr>\n      <th>MONTH</th>\n      <td>3</td>\n      <td>3</td>\n      <td>9</td>\n      <td>4</td>\n      <td>4</td>\n    </tr>\n    <tr>\n      <th>CRIME_TYPE</th>\n      <td>Non-Violent Crime</td>\n      <td>Non-Violent Crime</td>\n      <td>Violent Crime</td>\n      <td>Violent Crime</td>\n      <td>Violent Crime</td>\n    </tr>\n    <tr>\n      <th>RISK_TYPE</th>\n      <td>Low Risk</td>\n      <td>Low Risk</td>\n      <td>High Risk</td>\n      <td>High Risk</td>\n      <td>High Risk</td>\n    </tr>\n    <tr>\n      <th>RISK_TYPE_BC</th>\n      <td>0</td>\n      <td>0</td>\n      <td>1</td>\n      <td>1</td>\n      <td>1</td>\n    </tr>\n  </tbody>\n</table>\n</div>"
     },
     "execution_count": 18,
     "metadata": {},
     "output_type": "execute_result"
    }
   ],
   "source": [
    "lrpd.head().T"
   ],
   "metadata": {
    "collapsed": false,
    "pycharm": {
     "name": "#%%\n"
    }
   }
  },
  {
   "cell_type": "code",
   "execution_count": 19,
   "outputs": [
    {
     "data": {
      "text/plain": "INCIDENT_NUMBER                   2022-303291          2022-303160  \\\nINCIDENT_DATE             2022-12-08 00:00:00  2022-10-29 09:00:00   \nLOCATION_DISTRICT                        73.0                 62.0   \nOFFENSE_DESCRIPTION  THEFT FROM MOTOR VEHICLE    ALL OTHER LARCENY   \nWEAPON_TYPE                         NO WEAPON            NO WEAPON   \nZIP                                   72223.0              72227.0   \nLATITUDE                                  0.0                  0.0   \nLONGITUDE                                 0.0                  0.0   \nWEEK_OF_MONTH                               1                    4   \nYEAR                                     2022                 2022   \nDAY                                         8                   29   \nDAY_OF_YEAR                               342                  302   \nMONTH                                      12                   10   \nCRIME_TYPE                  Non-Violent Crime        Violent Crime   \nRISK_TYPE                            Low Risk            High Risk   \nRISK_TYPE_BC                                0                    1   \n\nINCIDENT_NUMBER                   2022-302870          2022-302451  \\\nINCIDENT_DATE             2022-10-23 14:30:00  2022-09-07 14:00:00   \nLOCATION_DISTRICT                        72.0                 92.0   \nOFFENSE_DESCRIPTION  THEFT FROM MOTOR VEHICLE          SHOPLIFTING   \nWEAPON_TYPE                         NO WEAPON            NO WEAPON   \nZIP                                   72211.0              72210.0   \nLATITUDE                                  0.0                  0.0   \nLONGITUDE                                 0.0                  0.0   \nWEEK_OF_MONTH                               3                    1   \nYEAR                                     2022                 2022   \nDAY                                        23                    7   \nDAY_OF_YEAR                               296                  250   \nMONTH                                      10                    9   \nCRIME_TYPE                  Non-Violent Crime    Non-Violent Crime   \nRISK_TYPE                            Low Risk             Low Risk   \nRISK_TYPE_BC                                0                    0   \n\nINCIDENT_NUMBER                   2022-301998  \nINCIDENT_DATE             2022-07-21 08:00:00  \nLOCATION_DISTRICT                        72.0  \nOFFENSE_DESCRIPTION  THEFT FROM MOTOR VEHICLE  \nWEAPON_TYPE                         NO WEAPON  \nZIP                                   72211.0  \nLATITUDE                                  0.0  \nLONGITUDE                                 0.0  \nWEEK_OF_MONTH                               3  \nYEAR                                     2022  \nDAY                                        21  \nDAY_OF_YEAR                               202  \nMONTH                                       7  \nCRIME_TYPE                  Non-Violent Crime  \nRISK_TYPE                            Low Risk  \nRISK_TYPE_BC                                0  ",
      "text/html": "<div>\n<style scoped>\n    .dataframe tbody tr th:only-of-type {\n        vertical-align: middle;\n    }\n\n    .dataframe tbody tr th {\n        vertical-align: top;\n    }\n\n    .dataframe thead th {\n        text-align: right;\n    }\n</style>\n<table border=\"1\" class=\"dataframe\">\n  <thead>\n    <tr style=\"text-align: right;\">\n      <th>INCIDENT_NUMBER</th>\n      <th>2022-303291</th>\n      <th>2022-303160</th>\n      <th>2022-302870</th>\n      <th>2022-302451</th>\n      <th>2022-301998</th>\n    </tr>\n  </thead>\n  <tbody>\n    <tr>\n      <th>INCIDENT_DATE</th>\n      <td>2022-12-08 00:00:00</td>\n      <td>2022-10-29 09:00:00</td>\n      <td>2022-10-23 14:30:00</td>\n      <td>2022-09-07 14:00:00</td>\n      <td>2022-07-21 08:00:00</td>\n    </tr>\n    <tr>\n      <th>LOCATION_DISTRICT</th>\n      <td>73.0</td>\n      <td>62.0</td>\n      <td>72.0</td>\n      <td>92.0</td>\n      <td>72.0</td>\n    </tr>\n    <tr>\n      <th>OFFENSE_DESCRIPTION</th>\n      <td>THEFT FROM MOTOR VEHICLE</td>\n      <td>ALL OTHER LARCENY</td>\n      <td>THEFT FROM MOTOR VEHICLE</td>\n      <td>SHOPLIFTING</td>\n      <td>THEFT FROM MOTOR VEHICLE</td>\n    </tr>\n    <tr>\n      <th>WEAPON_TYPE</th>\n      <td>NO WEAPON</td>\n      <td>NO WEAPON</td>\n      <td>NO WEAPON</td>\n      <td>NO WEAPON</td>\n      <td>NO WEAPON</td>\n    </tr>\n    <tr>\n      <th>ZIP</th>\n      <td>72223.0</td>\n      <td>72227.0</td>\n      <td>72211.0</td>\n      <td>72210.0</td>\n      <td>72211.0</td>\n    </tr>\n    <tr>\n      <th>LATITUDE</th>\n      <td>0.0</td>\n      <td>0.0</td>\n      <td>0.0</td>\n      <td>0.0</td>\n      <td>0.0</td>\n    </tr>\n    <tr>\n      <th>LONGITUDE</th>\n      <td>0.0</td>\n      <td>0.0</td>\n      <td>0.0</td>\n      <td>0.0</td>\n      <td>0.0</td>\n    </tr>\n    <tr>\n      <th>WEEK_OF_MONTH</th>\n      <td>1</td>\n      <td>4</td>\n      <td>3</td>\n      <td>1</td>\n      <td>3</td>\n    </tr>\n    <tr>\n      <th>YEAR</th>\n      <td>2022</td>\n      <td>2022</td>\n      <td>2022</td>\n      <td>2022</td>\n      <td>2022</td>\n    </tr>\n    <tr>\n      <th>DAY</th>\n      <td>8</td>\n      <td>29</td>\n      <td>23</td>\n      <td>7</td>\n      <td>21</td>\n    </tr>\n    <tr>\n      <th>DAY_OF_YEAR</th>\n      <td>342</td>\n      <td>302</td>\n      <td>296</td>\n      <td>250</td>\n      <td>202</td>\n    </tr>\n    <tr>\n      <th>MONTH</th>\n      <td>12</td>\n      <td>10</td>\n      <td>10</td>\n      <td>9</td>\n      <td>7</td>\n    </tr>\n    <tr>\n      <th>CRIME_TYPE</th>\n      <td>Non-Violent Crime</td>\n      <td>Violent Crime</td>\n      <td>Non-Violent Crime</td>\n      <td>Non-Violent Crime</td>\n      <td>Non-Violent Crime</td>\n    </tr>\n    <tr>\n      <th>RISK_TYPE</th>\n      <td>Low Risk</td>\n      <td>High Risk</td>\n      <td>Low Risk</td>\n      <td>Low Risk</td>\n      <td>Low Risk</td>\n    </tr>\n    <tr>\n      <th>RISK_TYPE_BC</th>\n      <td>0</td>\n      <td>1</td>\n      <td>0</td>\n      <td>0</td>\n      <td>0</td>\n    </tr>\n  </tbody>\n</table>\n</div>"
     },
     "execution_count": 19,
     "metadata": {},
     "output_type": "execute_result"
    }
   ],
   "source": [
    "lrpd.tail().T"
   ],
   "metadata": {
    "collapsed": false,
    "pycharm": {
     "name": "#%%\n"
    }
   }
  },
  {
   "cell_type": "markdown",
   "source": [
    "### Saving the modified DataSet to a new CSV:"
   ],
   "metadata": {
    "collapsed": false,
    "pycharm": {
     "name": "#%% md\n"
    }
   }
  },
  {
   "cell_type": "code",
   "execution_count": 20,
   "outputs": [],
   "source": [
    "lrpd.to_csv(\"../data/lrpd-clean.csv\")"
   ],
   "metadata": {
    "collapsed": false,
    "pycharm": {
     "name": "#%%\n"
    }
   }
  },
  {
   "cell_type": "code",
   "execution_count": 21,
   "outputs": [
    {
     "data": {
      "text/plain": "(87021, 15)"
     },
     "execution_count": 21,
     "metadata": {},
     "output_type": "execute_result"
    }
   ],
   "source": [
    "lrpd.shape"
   ],
   "metadata": {
    "collapsed": false,
    "pycharm": {
     "name": "#%%\n"
    }
   }
  }
 ],
 "metadata": {
  "kernelspec": {
   "display_name": "Python 3",
   "language": "python",
   "name": "python3"
  },
  "language_info": {
   "codemirror_mode": {
    "name": "ipython",
    "version": 2
   },
   "file_extension": ".py",
   "mimetype": "text/x-python",
   "name": "python",
   "nbconvert_exporter": "python",
   "pygments_lexer": "ipython2",
   "version": "2.7.6"
  }
 },
 "nbformat": 4,
 "nbformat_minor": 0
}