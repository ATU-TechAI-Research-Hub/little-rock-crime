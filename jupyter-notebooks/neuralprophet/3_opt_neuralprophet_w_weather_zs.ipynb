{
 "cells": [
  {
   "attachments": {},
   "cell_type": "markdown",
   "metadata": {},
   "source": [
    "## Crime forecasting with NeuralProphet - Optimizing parameters using snow and precipation as additional regressors.\n",
    "\n",
    "1. Importing libraries"
   ]
  },
  {
   "cell_type": "code",
   "execution_count": 23,
   "metadata": {},
   "outputs": [],
   "source": [
    "import optuna\n",
    "import pandas as pd\n",
    "import numpy as np\n",
    "from neuralprophet import NeuralProphet\n",
    "from joblib import parallel_backend"
   ]
  },
  {
   "attachments": {},
   "cell_type": "markdown",
   "metadata": {},
   "source": [
    "2. Importing daily crime count with weather data. Dropping all columns except Snow Depth and precipitation.    "
   ]
  },
  {
   "cell_type": "code",
   "execution_count": 24,
   "metadata": {},
   "outputs": [],
   "source": [
    "df = pd.read_csv(\"../../data/daily-count-w-weather.csv\")\n",
    "df = df[[\"ds\", \"y\", \"SNWD_x\", \"PRCP_x\"]]\n",
    "df[\"ds\"] = pd.to_datetime(df[\"ds\"])\n",
    "\n",
    "# Random seed for reproducibility\n",
    "import random\n",
    "random.seed(42)\n",
    "np.random.seed(42)"
   ]
  },
  {
   "attachments": {},
   "cell_type": "markdown",
   "metadata": {},
   "source": [
    "3. Defining objective function with parameters to optimize and RMSE as definitive metric."
   ]
  },
  {
   "cell_type": "code",
   "execution_count": 25,
   "metadata": {},
   "outputs": [],
   "source": [
    "def objective(trial):\n",
    "    # Hyperparameters to optimize\n",
    "    n_changepoints = trial.suggest_int(\"n_changepoints\", 5, 20)\n",
    "    changepoints_range = trial.suggest_float(\"changepoints_range\", 0.5, 1.0)\n",
    "    trend_reg = trial.suggest_float(\"trend_reg\", 0.001, 10, log=True)\n",
    "    num_hidden_layers = trial.suggest_int(\"num_hidden_layers\", 0, 5)\n",
    "    d_hidden = trial.suggest_int(\"d_hidden\", 8, 512, log=True)\n",
    "    learning_rate = trial.suggest_float(\"learning_rate\", 0.001, 1, log=True)\n",
    "    epochs = trial.suggest_int(\"epochs\", 5, 200)\n",
    "    batch_size = trial.suggest_int(\"batch_size\", 8, 1024, log=True)\n",
    "\n",
    "    m = NeuralProphet(\n",
    "        n_changepoints=n_changepoints,\n",
    "        changepoints_range=changepoints_range,\n",
    "        trend_reg=trend_reg,\n",
    "        num_hidden_layers=num_hidden_layers,\n",
    "        d_hidden=d_hidden,\n",
    "        learning_rate=learning_rate,\n",
    "        epochs=epochs,\n",
    "        batch_size=batch_size\n",
    "    )\n",
    "\n",
    "    #Adding regressors\n",
    "    m = m.add_future_regressor(\"SNWD_x\")\n",
    "    m = m.add_future_regressor(\"PRCP_x\")\n",
    "\n",
    "    df_train, df_test = m.split_df(df, freq=\"D\", valid_p=0.2)\n",
    "    try:\n",
    "        metrics = m.fit(df_train, freq=\"D\", validation_df=df_test, early_stopping_patience=10)\n",
    "        # Returning the validation loss as the objective to minimize\n",
    "        rmse = metrics[\"RMSE\"].tail(1).values[0]\n",
    "        # If model fails to produce a result, return infinity\n",
    "    except Exception as e:\n",
    "        print(f\"Exception encountered during trial: {e}\")\n",
    "        rmse = np.inf\n",
    "\n",
    "    return rmse"
   ]
  },
  {
   "attachments": {},
   "cell_type": "markdown",
   "metadata": {},
   "source": [
    "4. Using Optuna for automatic hyperparameter optimization"
   ]
  },
  {
   "cell_type": "code",
   "execution_count": 26,
   "metadata": {},
   "outputs": [
    {
     "name": "stderr",
     "output_type": "stream",
     "text": [
      "\u001b[32m[I 2023-05-12 16:43:13,826]\u001b[0m A new study created in memory with name: no-name-da8eacfd-9b97-4649-a2d2-49f7168e61fe\u001b[0m\n"
     ]
    }
   ],
   "source": [
    "study = optuna.create_study(direction=\"minimize\")"
   ]
  },
  {
   "attachments": {},
   "cell_type": "markdown",
   "metadata": {},
   "source": [
    "5. Define properties for Optuna - Max CPU cores for parallelization and 50 trials for given objective."
   ]
  },
  {
   "cell_type": "code",
   "execution_count": 27,
   "metadata": {},
   "outputs": [
    {
     "name": "stderr",
     "output_type": "stream",
     "text": [
      "INFO - (NP.config.__post_init__) - Note: Trend changepoint regularization is experimental.\n",
      "INFO - (NP.config.__post_init__) - Note: Trend changepoint regularization is experimental.\n",
      "INFO - (NP.config.__post_init__) - Note: Trend changepoint regularization is experimental.\n",
      "INFO - (NP.config.__post_init__) - Note: Trend changepoint regularization is experimental.\n",
      "INFO - (NP.config.__post_init__) - Note: Trend changepoint regularization is experimental.\n",
      "INFO - (NP.config.__post_init__) - Note: Trend changepoint regularization is experimental.\n",
      "INFO - (NP.config.__post_init__) - Note: Trend changepoint regularization is experimental.\n",
      "INFO - (NP.config.__post_init__) - Note: Trend changepoint regularization is experimental.\n",
      "INFO - (NP.config.__post_init__) - Note: Trend changepoint regularization is experimental.\n",
      "INFO - (NP.config.__post_init__) - Note: Trend changepoint regularization is experimental.\n",
      "INFO - (NP.config.__post_init__) - Note: Trend changepoint regularization is experimental.\n",
      "INFO - (NP.config.__post_init__) - Note: Trend changepoint regularization is experimental.\n",
      "INFO - (NP.df_utils._infer_frequency) - Major frequency D corresponds to 99.955% of the data.\n",
      "INFO - (NP.df_utils._infer_frequency) - Major frequency D corresponds to 99.955% of the data.\n",
      "INFO - (NP.df_utils._infer_frequency) - Major frequency D corresponds to 99.955% of the data.\n",
      "INFO - (NP.df_utils._infer_frequency) - Major frequency D corresponds to 99.955% of the data.\n",
      "INFO - (NP.df_utils._infer_frequency) - Defined frequency is equal to major frequency - D\n",
      "INFO - (NP.df_utils._infer_frequency) - Major frequency D corresponds to 99.955% of the data.\n",
      "INFO - (NP.df_utils._infer_frequency) - Major frequency D corresponds to 99.955% of the data.\n",
      "INFO - (NP.df_utils._infer_frequency) - Defined frequency is equal to major frequency - D\n",
      "INFO - (NP.df_utils._infer_frequency) - Major frequency D corresponds to 99.955% of the data.\n",
      "INFO - (NP.df_utils._infer_frequency) - Major frequency D corresponds to 99.955% of the data.\n",
      "INFO - (NP.df_utils._infer_frequency) - Defined frequency is equal to major frequency - D\n",
      "INFO - (NP.df_utils._infer_frequency) - Major frequency D corresponds to 99.955% of the data.\n",
      "INFO - (NP.df_utils._infer_frequency) - Major frequency D corresponds to 99.955% of the data.\n",
      "INFO - (NP.df_utils._infer_frequency) - Defined frequency is equal to major frequency - D\n",
      "INFO - (NP.df_utils._infer_frequency) - Major frequency D corresponds to 99.955% of the data.\n",
      "INFO - (NP.df_utils._infer_frequency) - Major frequency D corresponds to 99.955% of the data.\n",
      "INFO - (NP.df_utils._infer_frequency) - Defined frequency is equal to major frequency - D\n",
      "INFO - (NP.df_utils._infer_frequency) - Defined frequency is equal to major frequency - D\n",
      "INFO - (NP.df_utils._infer_frequency) - Defined frequency is equal to major frequency - D\n",
      "INFO - (NP.df_utils.return_df_in_original_format) - Returning df with no ID column\n",
      "INFO - (NP.df_utils._infer_frequency) - Defined frequency is equal to major frequency - D\n",
      "INFO - (NP.df_utils._infer_frequency) - Defined frequency is equal to major frequency - D\n",
      "INFO - (NP.df_utils._infer_frequency) - Defined frequency is equal to major frequency - D\n",
      "INFO - (NP.df_utils._infer_frequency) - Defined frequency is equal to major frequency - D\n",
      "INFO - (NP.df_utils._infer_frequency) - Defined frequency is equal to major frequency - D\n",
      "INFO - (NP.df_utils.return_df_in_original_format) - Returning df with no ID column\n",
      "INFO - (NP.df_utils.return_df_in_original_format) - Returning df with no ID column\n",
      "INFO - (NP.df_utils.return_df_in_original_format) - Returning df with no ID column\n",
      "INFO - (NP.df_utils.return_df_in_original_format) - Returning df with no ID column\n",
      "\u001b[32m[I 2023-05-12 16:43:14,296]\u001b[0m Trial 0 finished with value: inf and parameters: {'n_changepoints': 14, 'changepoints_range': 0.9116230261091516, 'trend_reg': 0.0014209946662592436, 'num_hidden_layers': 2, 'd_hidden': 480, 'learning_rate': 0.008254072786634332, 'epochs': 84, 'batch_size': 314}. Best is trial 0 with value: inf.\u001b[0m\n",
      "INFO - (NP.df_utils.return_df_in_original_format) - Returning df with no ID column\n",
      "INFO - (NP.df_utils.return_df_in_original_format) - Returning df with no ID column\n",
      "INFO - (NP.df_utils.return_df_in_original_format) - Returning df with no ID column\n",
      "INFO - (NP.df_utils.return_df_in_original_format) - Returning df with no ID column\n",
      "INFO - (NP.df_utils.return_df_in_original_format) - Returning df with no ID column\n",
      "\u001b[32m[I 2023-05-12 16:43:14,314]\u001b[0m Trial 1 finished with value: inf and parameters: {'n_changepoints': 10, 'changepoints_range': 0.9913020889642938, 'trend_reg': 1.7839623149797728, 'num_hidden_layers': 3, 'd_hidden': 441, 'learning_rate': 0.056904610505229686, 'epochs': 146, 'batch_size': 112}. Best is trial 0 with value: inf.\u001b[0m\n",
      "INFO - (NP.df_utils.return_df_in_original_format) - Returning df with no ID column\n",
      "INFO - (NP.df_utils.return_df_in_original_format) - Returning df with no ID column\n",
      "\u001b[32m[I 2023-05-12 16:43:14,319]\u001b[0m Trial 5 finished with value: inf and parameters: {'n_changepoints': 5, 'changepoints_range': 0.945308321305624, 'trend_reg': 0.00797241718709406, 'num_hidden_layers': 5, 'd_hidden': 42, 'learning_rate': 0.011181873101287316, 'epochs': 58, 'batch_size': 893}. Best is trial 0 with value: inf.\u001b[0m\n",
      "INFO - (NP.df_utils.return_df_in_original_format) - Returning df with no ID column\n",
      "\u001b[32m[I 2023-05-12 16:43:14,322]\u001b[0m Trial 6 finished with value: inf and parameters: {'n_changepoints': 19, 'changepoints_range': 0.5863737990527738, 'trend_reg': 0.026605541686115723, 'num_hidden_layers': 1, 'd_hidden': 152, 'learning_rate': 0.0025880721173187947, 'epochs': 49, 'batch_size': 432}. Best is trial 0 with value: inf.\u001b[0m\n",
      "INFO - (NP.df_utils.return_df_in_original_format) - Returning df with no ID column\n",
      "INFO - (NP.df_utils.return_df_in_original_format) - Returning df with no ID column\n",
      "\u001b[32m[I 2023-05-12 16:43:14,329]\u001b[0m Trial 4 finished with value: inf and parameters: {'n_changepoints': 5, 'changepoints_range': 0.6151517183386934, 'trend_reg': 0.0682181644676078, 'num_hidden_layers': 5, 'd_hidden': 53, 'learning_rate': 0.03877593511497215, 'epochs': 181, 'batch_size': 22}. Best is trial 0 with value: inf.\u001b[0m\n",
      "INFO - (NP.df_utils.return_df_in_original_format) - Returning df with no ID column\n",
      "INFO - (NP.config.__post_init__) - Note: Trend changepoint regularization is experimental.\n",
      "INFO - (NP.df_utils.return_df_in_original_format) - Returning df with no ID column\n",
      "\u001b[32m[I 2023-05-12 16:43:14,336]\u001b[0m Trial 7 finished with value: inf and parameters: {'n_changepoints': 7, 'changepoints_range': 0.58558256135776, 'trend_reg': 0.005053370697990875, 'num_hidden_layers': 1, 'd_hidden': 28, 'learning_rate': 0.7780072420845792, 'epochs': 99, 'batch_size': 900}. Best is trial 0 with value: inf.\u001b[0m\n",
      "INFO - (NP.df_utils.return_df_in_original_format) - Returning df with no ID column\n",
      "INFO - (NP.df_utils.return_df_in_original_format) - Returning df with no ID column\n",
      "\u001b[32m[I 2023-05-12 16:43:14,343]\u001b[0m Trial 2 finished with value: inf and parameters: {'n_changepoints': 5, 'changepoints_range': 0.7146147105676599, 'trend_reg': 0.005396700210245277, 'num_hidden_layers': 3, 'd_hidden': 209, 'learning_rate': 0.0016048557773178111, 'epochs': 176, 'batch_size': 164}. Best is trial 0 with value: inf.\u001b[0m\n",
      "INFO - (NP.df_utils.return_df_in_original_format) - Returning df with no ID column\n",
      "\u001b[32m[I 2023-05-12 16:43:14,346]\u001b[0m Trial 3 finished with value: inf and parameters: {'n_changepoints': 10, 'changepoints_range': 0.5962908698431251, 'trend_reg': 0.02451779706102246, 'num_hidden_layers': 1, 'd_hidden': 204, 'learning_rate': 0.023614375387163447, 'epochs': 101, 'batch_size': 9}. Best is trial 0 with value: inf.\u001b[0m\n",
      "INFO - (NP.df_utils.return_df_in_original_format) - Returning df with no ID column\n",
      "\u001b[32m[I 2023-05-12 16:43:14,350]\u001b[0m Trial 8 finished with value: inf and parameters: {'n_changepoints': 13, 'changepoints_range': 0.9491828543530331, 'trend_reg': 0.003187979472035969, 'num_hidden_layers': 2, 'd_hidden': 48, 'learning_rate': 0.1556641421029221, 'epochs': 165, 'batch_size': 98}. Best is trial 0 with value: inf.\u001b[0m\n",
      "INFO - (NP.config.__post_init__) - Note: Trend changepoint regularization is experimental.\n",
      "INFO - (NP.config.__post_init__) - Note: Trend changepoint regularization is experimental.\n",
      "INFO - (NP.df_utils.return_df_in_original_format) - Returning df with no ID column\n",
      "\u001b[32m[I 2023-05-12 16:43:14,365]\u001b[0m Trial 11 finished with value: inf and parameters: {'n_changepoints': 17, 'changepoints_range': 0.934425142961059, 'trend_reg': 0.023530050793378422, 'num_hidden_layers': 4, 'd_hidden': 188, 'learning_rate': 0.3592347192934391, 'epochs': 15, 'batch_size': 398}. Best is trial 0 with value: inf.\u001b[0m\n",
      "INFO - (NP.config.__post_init__) - Note: Trend changepoint regularization is experimental.\n",
      "INFO - (NP.config.__post_init__) - Note: Trend changepoint regularization is experimental.\n",
      "INFO - (NP.df_utils.return_df_in_original_format) - Returning df with no ID column\n",
      "\u001b[32m[I 2023-05-12 16:43:14,411]\u001b[0m Trial 9 finished with value: inf and parameters: {'n_changepoints': 5, 'changepoints_range': 0.6797948083347707, 'trend_reg': 0.1973980679602824, 'num_hidden_layers': 4, 'd_hidden': 17, 'learning_rate': 0.08072114696858067, 'epochs': 155, 'batch_size': 221}. Best is trial 0 with value: inf.\u001b[0m\n",
      "INFO - (NP.df_utils.return_df_in_original_format) - Returning df with no ID column\n",
      "INFO - (NP.config.__post_init__) - Note: Trend changepoint regularization is experimental.\n",
      "\u001b[32m[I 2023-05-12 16:43:14,421]\u001b[0m Trial 10 finished with value: inf and parameters: {'n_changepoints': 11, 'changepoints_range': 0.6240283015334843, 'trend_reg': 0.3137017597971162, 'num_hidden_layers': 1, 'd_hidden': 77, 'learning_rate': 0.03183435883266938, 'epochs': 57, 'batch_size': 897}. Best is trial 0 with value: inf.\u001b[0m\n",
      "INFO - (NP.config.__post_init__) - Note: Trend changepoint regularization is experimental.\n",
      "INFO - (NP.config.__post_init__) - Note: Trend changepoint regularization is experimental.\n",
      "INFO - (NP.config.__post_init__) - Note: Trend changepoint regularization is experimental.\n"
     ]
    },
    {
     "name": "stdout",
     "output_type": "stream",
     "text": [
      "Exception encountered during trial: fit() got an unexpected keyword argument 'early_stopping_patience'\n",
      "Exception encountered during trial: fit() got an unexpected keyword argument 'early_stopping_patience'\n",
      "Exception encountered during trial: fit() got an unexpected keyword argument 'early_stopping_patience'\n",
      "Exception encountered during trial: fit() got an unexpected keyword argument 'early_stopping_patience'\n",
      "Exception encountered during trial: fit() got an unexpected keyword argument 'early_stopping_patience'\n",
      "Exception encountered during trial: fit() got an unexpected keyword argument 'early_stopping_patience'\n",
      "Exception encountered during trial: fit() got an unexpected keyword argument 'early_stopping_patience'\n",
      "Exception encountered during trial: fit() got an unexpected keyword argument 'early_stopping_patience'\n",
      "Exception encountered during trial: fit() got an unexpected keyword argument 'early_stopping_patience'\n",
      "Exception encountered during trial: fit() got an unexpected keyword argument 'early_stopping_patience'\n",
      "Exception encountered during trial: fit() got an unexpected keyword argument 'early_stopping_patience'\n",
      "Exception encountered during trial: fit() got an unexpected keyword argument 'early_stopping_patience'\n"
     ]
    },
    {
     "name": "stderr",
     "output_type": "stream",
     "text": [
      "INFO - (NP.df_utils._infer_frequency) - Major frequency D corresponds to 99.955% of the data.\n",
      "INFO - (NP.config.__post_init__) - Note: Trend changepoint regularization is experimental.\n",
      "INFO - (NP.df_utils._infer_frequency) - Major frequency D corresponds to 99.955% of the data.\n",
      "INFO - (NP.config.__post_init__) - Note: Trend changepoint regularization is experimental.\n",
      "INFO - (NP.df_utils._infer_frequency) - Major frequency D corresponds to 99.955% of the data.\n",
      "INFO - (NP.df_utils._infer_frequency) - Major frequency D corresponds to 99.955% of the data.\n",
      "INFO - (NP.df_utils._infer_frequency) - Major frequency D corresponds to 99.955% of the data.\n",
      "INFO - (NP.config.__post_init__) - Note: Trend changepoint regularization is experimental.\n",
      "INFO - (NP.df_utils._infer_frequency) - Defined frequency is equal to major frequency - D\n",
      "INFO - (NP.df_utils._infer_frequency) - Major frequency D corresponds to 99.955% of the data.\n",
      "INFO - (NP.df_utils._infer_frequency) - Major frequency D corresponds to 99.955% of the data.\n",
      "INFO - (NP.df_utils._infer_frequency) - Defined frequency is equal to major frequency - D\n",
      "INFO - (NP.df_utils._infer_frequency) - Major frequency D corresponds to 99.955% of the data.\n",
      "INFO - (NP.df_utils._infer_frequency) - Defined frequency is equal to major frequency - D\n",
      "INFO - (NP.df_utils._infer_frequency) - Major frequency D corresponds to 99.955% of the data.\n",
      "INFO - (NP.df_utils._infer_frequency) - Defined frequency is equal to major frequency - D\n",
      "INFO - (NP.df_utils._infer_frequency) - Defined frequency is equal to major frequency - D\n",
      "INFO - (NP.df_utils._infer_frequency) - Major frequency D corresponds to 99.955% of the data.\n",
      "INFO - (NP.df_utils._infer_frequency) - Defined frequency is equal to major frequency - D\n",
      "INFO - (NP.df_utils._infer_frequency) - Major frequency D corresponds to 99.955% of the data.\n",
      "INFO - (NP.df_utils._infer_frequency) - Defined frequency is equal to major frequency - D\n",
      "INFO - (NP.df_utils._infer_frequency) - Defined frequency is equal to major frequency - D\n",
      "INFO - (NP.df_utils.return_df_in_original_format) - Returning df with no ID column\n",
      "INFO - (NP.df_utils._infer_frequency) - Defined frequency is equal to major frequency - D\n",
      "INFO - (NP.df_utils.return_df_in_original_format) - Returning df with no ID column\n",
      "INFO - (NP.df_utils._infer_frequency) - Major frequency D corresponds to 99.955% of the data.\n",
      "INFO - (NP.df_utils._infer_frequency) - Defined frequency is equal to major frequency - D\n",
      "INFO - (NP.df_utils.return_df_in_original_format) - Returning df with no ID column\n",
      "INFO - (NP.df_utils._infer_frequency) - Defined frequency is equal to major frequency - D\n",
      "INFO - (NP.df_utils.return_df_in_original_format) - Returning df with no ID column\n",
      "INFO - (NP.df_utils.return_df_in_original_format) - Returning df with no ID column\n",
      "INFO - (NP.df_utils.return_df_in_original_format) - Returning df with no ID column\n",
      "INFO - (NP.df_utils.return_df_in_original_format) - Returning df with no ID column\n",
      "\u001b[32m[I 2023-05-12 16:43:14,727]\u001b[0m Trial 12 finished with value: inf and parameters: {'n_changepoints': 18, 'changepoints_range': 0.8201127860222295, 'trend_reg': 1.652271111242387, 'num_hidden_layers': 5, 'd_hidden': 187, 'learning_rate': 0.43765980511958513, 'epochs': 69, 'batch_size': 139}. Best is trial 0 with value: inf.\u001b[0m\n",
      "INFO - (NP.df_utils.return_df_in_original_format) - Returning df with no ID column\n",
      "\u001b[32m[I 2023-05-12 16:43:14,733]\u001b[0m Trial 13 finished with value: inf and parameters: {'n_changepoints': 15, 'changepoints_range': 0.792197504412891, 'trend_reg': 4.7847935592916695, 'num_hidden_layers': 3, 'd_hidden': 109, 'learning_rate': 0.10633568962624351, 'epochs': 110, 'batch_size': 43}. Best is trial 0 with value: inf.\u001b[0m\n",
      "INFO - (NP.df_utils.return_df_in_original_format) - Returning df with no ID column\n",
      "INFO - (NP.df_utils.return_df_in_original_format) - Returning df with no ID column\n",
      "INFO - (NP.df_utils._infer_frequency) - Defined frequency is equal to major frequency - D\n",
      "INFO - (NP.df_utils.return_df_in_original_format) - Returning df with no ID column\n",
      "\u001b[32m[I 2023-05-12 16:43:14,810]\u001b[0m Trial 15 finished with value: inf and parameters: {'n_changepoints': 11, 'changepoints_range': 0.5324267836754802, 'trend_reg': 0.06417459525135301, 'num_hidden_layers': 5, 'd_hidden': 41, 'learning_rate': 0.3799825789687353, 'epochs': 115, 'batch_size': 390}. Best is trial 0 with value: inf.\u001b[0m\n",
      "INFO - (NP.df_utils.return_df_in_original_format) - Returning df with no ID column\n",
      "\u001b[32m[I 2023-05-12 16:43:14,818]\u001b[0m Trial 14 finished with value: inf and parameters: {'n_changepoints': 19, 'changepoints_range': 0.6771947214328281, 'trend_reg': 2.9960650655769965, 'num_hidden_layers': 3, 'd_hidden': 40, 'learning_rate': 0.020104936627654224, 'epochs': 31, 'batch_size': 66}. Best is trial 0 with value: inf.\u001b[0m\n",
      "INFO - (NP.df_utils.return_df_in_original_format) - Returning df with no ID column\n",
      "INFO - (NP.df_utils.return_df_in_original_format) - Returning df with no ID column\n",
      "\u001b[32m[I 2023-05-12 16:43:14,842]\u001b[0m Trial 16 finished with value: inf and parameters: {'n_changepoints': 11, 'changepoints_range': 0.8122302338638392, 'trend_reg': 0.3207941694250113, 'num_hidden_layers': 3, 'd_hidden': 9, 'learning_rate': 0.008824953802138602, 'epochs': 185, 'batch_size': 927}. Best is trial 0 with value: inf.\u001b[0m\n",
      "INFO - (NP.df_utils.return_df_in_original_format) - Returning df with no ID column\n",
      "\u001b[32m[I 2023-05-12 16:43:14,870]\u001b[0m Trial 18 finished with value: inf and parameters: {'n_changepoints': 16, 'changepoints_range': 0.9894885324290282, 'trend_reg': 1.8336614290746447, 'num_hidden_layers': 0, 'd_hidden': 54, 'learning_rate': 0.01153269223828371, 'epochs': 148, 'batch_size': 38}. Best is trial 0 with value: inf.\u001b[0m\n",
      "INFO - (NP.df_utils.return_df_in_original_format) - Returning df with no ID column\n",
      "INFO - (NP.df_utils.return_df_in_original_format) - Returning df with no ID column\n"
     ]
    },
    {
     "name": "stdout",
     "output_type": "stream",
     "text": [
      "Exception encountered during trial: fit() got an unexpected keyword argument 'early_stopping_patience'\n",
      "Exception encountered during trial: fit() got an unexpected keyword argument 'early_stopping_patience'\n",
      "Exception encountered during trial: fit() got an unexpected keyword argument 'early_stopping_patience'\n",
      "Exception encountered during trial: fit() got an unexpected keyword argument 'early_stopping_patience'\n",
      "Exception encountered during trial: fit() got an unexpected keyword argument 'early_stopping_patience'\n",
      "Exception encountered during trial: fit() got an unexpected keyword argument 'early_stopping_patience'\n"
     ]
    },
    {
     "name": "stderr",
     "output_type": "stream",
     "text": [
      "INFO - (NP.df_utils.return_df_in_original_format) - Returning df with no ID column\n",
      "INFO - (NP.config.__post_init__) - Note: Trend changepoint regularization is experimental.\n",
      "\u001b[32m[I 2023-05-12 16:43:14,981]\u001b[0m Trial 19 finished with value: inf and parameters: {'n_changepoints': 15, 'changepoints_range': 0.6323494904632276, 'trend_reg': 0.001973471236921979, 'num_hidden_layers': 3, 'd_hidden': 503, 'learning_rate': 0.7711163435434142, 'epochs': 27, 'batch_size': 268}. Best is trial 0 with value: inf.\u001b[0m\n",
      "INFO - (NP.df_utils.return_df_in_original_format) - Returning df with no ID column\n",
      "\u001b[32m[I 2023-05-12 16:43:14,990]\u001b[0m Trial 17 finished with value: inf and parameters: {'n_changepoints': 17, 'changepoints_range': 0.9479351849398898, 'trend_reg': 0.005336504631717149, 'num_hidden_layers': 5, 'd_hidden': 93, 'learning_rate': 0.16447091493866345, 'epochs': 40, 'batch_size': 477}. Best is trial 0 with value: inf.\u001b[0m\n",
      "INFO - (NP.config.__post_init__) - Note: Trend changepoint regularization is experimental.\n",
      "INFO - (NP.df_utils.return_df_in_original_format) - Returning df with no ID column\n",
      "\u001b[32m[I 2023-05-12 16:43:15,009]\u001b[0m Trial 20 finished with value: inf and parameters: {'n_changepoints': 12, 'changepoints_range': 0.8735304637151269, 'trend_reg': 1.6829237699703765, 'num_hidden_layers': 5, 'd_hidden': 353, 'learning_rate': 0.11354408292530735, 'epochs': 38, 'batch_size': 591}. Best is trial 0 with value: inf.\u001b[0m\n",
      "INFO - (NP.config.__post_init__) - Note: Trend changepoint regularization is experimental.\n",
      "INFO - (NP.config.__post_init__) - Note: Trend changepoint regularization is experimental.\n",
      "INFO - (NP.df_utils.return_df_in_original_format) - Returning df with no ID column\n",
      "INFO - (NP.df_utils.return_df_in_original_format) - Returning df with no ID column\n",
      "\u001b[32m[I 2023-05-12 16:43:15,113]\u001b[0m Trial 21 finished with value: inf and parameters: {'n_changepoints': 15, 'changepoints_range': 0.8412350785723965, 'trend_reg': 0.0014196778645439825, 'num_hidden_layers': 0, 'd_hidden': 10, 'learning_rate': 0.0062172244624177034, 'epochs': 126, 'batch_size': 46}. Best is trial 0 with value: inf.\u001b[0m\n",
      "INFO - (NP.df_utils.return_df_in_original_format) - Returning df with no ID column\n",
      "\u001b[32m[I 2023-05-12 16:43:15,142]\u001b[0m Trial 22 finished with value: inf and parameters: {'n_changepoints': 14, 'changepoints_range': 0.8552258775300604, 'trend_reg': 2.6816173918572206, 'num_hidden_layers': 3, 'd_hidden': 491, 'learning_rate': 0.00742003447141665, 'epochs': 135, 'batch_size': 55}. Best is trial 0 with value: inf.\u001b[0m\n",
      "INFO - (NP.config.__post_init__) - Note: Trend changepoint regularization is experimental.\n",
      "INFO - (NP.config.__post_init__) - Note: Trend changepoint regularization is experimental.\n",
      "INFO - (NP.config.__post_init__) - Note: Trend changepoint regularization is experimental.\n"
     ]
    },
    {
     "name": "stdout",
     "output_type": "stream",
     "text": [
      "Exception encountered during trial: fit() got an unexpected keyword argument 'early_stopping_patience'\n",
      "Exception encountered during trial: fit() got an unexpected keyword argument 'early_stopping_patience'\n",
      "Exception encountered during trial: fit() got an unexpected keyword argument 'early_stopping_patience'\n",
      "Exception encountered during trial: fit() got an unexpected keyword argument 'early_stopping_patience'\n",
      "Exception encountered during trial: fit() got an unexpected keyword argument 'early_stopping_patience'\n"
     ]
    },
    {
     "name": "stderr",
     "output_type": "stream",
     "text": [
      "INFO - (NP.config.__post_init__) - Note: Trend changepoint regularization is experimental.\n",
      "INFO - (NP.df_utils.return_df_in_original_format) - Returning df with no ID column\n",
      "\u001b[32m[I 2023-05-12 16:43:15,253]\u001b[0m Trial 23 finished with value: inf and parameters: {'n_changepoints': 14, 'changepoints_range': 0.8528036960429314, 'trend_reg': 2.6608896225982677, 'num_hidden_layers': 3, 'd_hidden': 508, 'learning_rate': 0.007413759459247041, 'epochs': 134, 'batch_size': 82}. Best is trial 0 with value: inf.\u001b[0m\n",
      "INFO - (NP.df_utils._infer_frequency) - Major frequency D corresponds to 99.955% of the data.\n",
      "INFO - (NP.config.__post_init__) - Note: Trend changepoint regularization is experimental.\n",
      "INFO - (NP.df_utils._infer_frequency) - Major frequency D corresponds to 99.955% of the data.\n",
      "INFO - (NP.df_utils._infer_frequency) - Major frequency D corresponds to 99.955% of the data.\n",
      "INFO - (NP.df_utils._infer_frequency) - Major frequency D corresponds to 99.955% of the data.\n",
      "INFO - (NP.df_utils._infer_frequency) - Major frequency D corresponds to 99.955% of the data.\n",
      "INFO - (NP.df_utils._infer_frequency) - Major frequency D corresponds to 99.955% of the data.\n",
      "INFO - (NP.df_utils._infer_frequency) - Defined frequency is equal to major frequency - D\n",
      "INFO - (NP.df_utils._infer_frequency) - Defined frequency is equal to major frequency - D\n",
      "INFO - (NP.df_utils._infer_frequency) - Defined frequency is equal to major frequency - D\n",
      "INFO - (NP.df_utils._infer_frequency) - Major frequency D corresponds to 99.955% of the data.\n",
      "INFO - (NP.df_utils._infer_frequency) - Major frequency D corresponds to 99.955% of the data.\n",
      "INFO - (NP.df_utils._infer_frequency) - Defined frequency is equal to major frequency - D\n",
      "INFO - (NP.df_utils._infer_frequency) - Defined frequency is equal to major frequency - D\n",
      "INFO - (NP.df_utils._infer_frequency) - Defined frequency is equal to major frequency - D\n",
      "INFO - (NP.df_utils._infer_frequency) - Major frequency D corresponds to 99.955% of the data.\n",
      "INFO - (NP.df_utils._infer_frequency) - Defined frequency is equal to major frequency - D\n",
      "INFO - (NP.df_utils.return_df_in_original_format) - Returning df with no ID column\n",
      "INFO - (NP.df_utils.return_df_in_original_format) - Returning df with no ID column\n"
     ]
    },
    {
     "name": "stdout",
     "output_type": "stream",
     "text": [
      "Exception encountered during trial: fit() got an unexpected keyword argument 'early_stopping_patience'\n"
     ]
    },
    {
     "name": "stderr",
     "output_type": "stream",
     "text": [
      "INFO - (NP.config.__post_init__) - Note: Trend changepoint regularization is experimental.\n",
      "INFO - (NP.df_utils._infer_frequency) - Defined frequency is equal to major frequency - D\n",
      "INFO - (NP.df_utils.return_df_in_original_format) - Returning df with no ID column\n",
      "INFO - (NP.df_utils._infer_frequency) - Defined frequency is equal to major frequency - D\n",
      "INFO - (NP.df_utils.return_df_in_original_format) - Returning df with no ID column\n",
      "\u001b[32m[I 2023-05-12 16:43:15,464]\u001b[0m Trial 24 finished with value: inf and parameters: {'n_changepoints': 15, 'changepoints_range': 0.9818990265549079, 'trend_reg': 0.001588181286809703, 'num_hidden_layers': 2, 'd_hidden': 502, 'learning_rate': 0.008439198947661038, 'epochs': 139, 'batch_size': 60}. Best is trial 0 with value: inf.\u001b[0m\n",
      "INFO - (NP.df_utils.return_df_in_original_format) - Returning df with no ID column\n",
      "\u001b[32m[I 2023-05-12 16:43:15,477]\u001b[0m Trial 25 finished with value: inf and parameters: {'n_changepoints': 9, 'changepoints_range': 0.9937631468924639, 'trend_reg': 0.5107132527613808, 'num_hidden_layers': 2, 'd_hidden': 502, 'learning_rate': 0.008490351756474068, 'epochs': 135, 'batch_size': 64}. Best is trial 0 with value: inf.\u001b[0m\n",
      "INFO - (NP.df_utils.return_df_in_original_format) - Returning df with no ID column\n",
      "INFO - (NP.df_utils.return_df_in_original_format) - Returning df with no ID column\n",
      "INFO - (NP.df_utils.return_df_in_original_format) - Returning df with no ID column\n",
      "INFO - (NP.df_utils.return_df_in_original_format) - Returning df with no ID column\n",
      "INFO - (NP.df_utils.return_df_in_original_format) - Returning df with no ID column\n",
      "\u001b[32m[I 2023-05-12 16:43:15,537]\u001b[0m Trial 26 finished with value: inf and parameters: {'n_changepoints': 14, 'changepoints_range': 0.9997163008695, 'trend_reg': 0.0011810613770824646, 'num_hidden_layers': 0, 'd_hidden': 496, 'learning_rate': 0.004809407190622542, 'epochs': 141, 'batch_size': 253}. Best is trial 0 with value: inf.\u001b[0m\n",
      "INFO - (NP.df_utils.return_df_in_original_format) - Returning df with no ID column\n",
      "INFO - (NP.df_utils.return_df_in_original_format) - Returning df with no ID column\n",
      "\u001b[32m[I 2023-05-12 16:43:15,551]\u001b[0m Trial 27 finished with value: inf and parameters: {'n_changepoints': 14, 'changepoints_range': 0.9960436916219512, 'trend_reg': 0.0011194782028924356, 'num_hidden_layers': 0, 'd_hidden': 494, 'learning_rate': 0.004422390865545344, 'epochs': 134, 'batch_size': 94}. Best is trial 0 with value: inf.\u001b[0m\n",
      "INFO - (NP.df_utils.return_df_in_original_format) - Returning df with no ID column\n",
      "INFO - (NP.df_utils._infer_frequency) - Major frequency D corresponds to 99.955% of the data.\n",
      "INFO - (NP.df_utils.return_df_in_original_format) - Returning df with no ID column\n",
      "\u001b[32m[I 2023-05-12 16:43:15,574]\u001b[0m Trial 28 finished with value: inf and parameters: {'n_changepoints': 14, 'changepoints_range': 0.8704754810479468, 'trend_reg': 0.0011512527635664275, 'num_hidden_layers': 2, 'd_hidden': 486, 'learning_rate': 0.004926582632383049, 'epochs': 135, 'batch_size': 231}. Best is trial 0 with value: inf.\u001b[0m\n",
      "INFO - (NP.df_utils.return_df_in_original_format) - Returning df with no ID column\n",
      "INFO - (NP.df_utils.return_df_in_original_format) - Returning df with no ID column\n",
      "\u001b[32m[I 2023-05-12 16:43:15,583]\u001b[0m Trial 29 finished with value: inf and parameters: {'n_changepoints': 14, 'changepoints_range': 0.9004664788258468, 'trend_reg': 0.0010769893318463835, 'num_hidden_layers': 2, 'd_hidden': 382, 'learning_rate': 0.004193441189518423, 'epochs': 138, 'batch_size': 225}. Best is trial 0 with value: inf.\u001b[0m\n",
      "\u001b[32m[I 2023-05-12 16:43:15,590]\u001b[0m Trial 30 finished with value: inf and parameters: {'n_changepoints': 8, 'changepoints_range': 0.8852338398025346, 'trend_reg': 0.001218041349674817, 'num_hidden_layers': 2, 'd_hidden': 496, 'learning_rate': 0.001005918882350872, 'epochs': 132, 'batch_size': 176}. Best is trial 0 with value: inf.\u001b[0m\n",
      "INFO - (NP.df_utils.return_df_in_original_format) - Returning df with no ID column\n",
      "INFO - (NP.df_utils.return_df_in_original_format) - Returning df with no ID column\n",
      "INFO - (NP.df_utils._infer_frequency) - Defined frequency is equal to major frequency - D\n",
      "\u001b[32m[I 2023-05-12 16:43:15,605]\u001b[0m Trial 31 finished with value: inf and parameters: {'n_changepoints': 8, 'changepoints_range': 0.8763683473601228, 'trend_reg': 0.001233302116199348, 'num_hidden_layers': 2, 'd_hidden': 316, 'learning_rate': 0.001616370491179362, 'epochs': 129, 'batch_size': 167}. Best is trial 0 with value: inf.\u001b[0m\n",
      "INFO - (NP.config.__post_init__) - Note: Trend changepoint regularization is experimental.\n",
      "\u001b[32m[I 2023-05-12 16:43:15,608]\u001b[0m Trial 32 finished with value: inf and parameters: {'n_changepoints': 9, 'changepoints_range': 0.879942648403116, 'trend_reg': 0.0010511711949730718, 'num_hidden_layers': 2, 'd_hidden': 337, 'learning_rate': 0.0013255545062815155, 'epochs': 199, 'batch_size': 187}. Best is trial 0 with value: inf.\u001b[0m\n"
     ]
    },
    {
     "name": "stdout",
     "output_type": "stream",
     "text": [
      "Exception encountered during trial: fit() got an unexpected keyword argument 'early_stopping_patience'\n",
      "Exception encountered during trial: fit() got an unexpected keyword argument 'early_stopping_patience'\n",
      "Exception encountered during trial: fit() got an unexpected keyword argument 'early_stopping_patience'\n",
      "Exception encountered during trial: fit() got an unexpected keyword argument 'early_stopping_patience'\n",
      "Exception encountered during trial: fit() got an unexpected keyword argument 'early_stopping_patience'\n",
      "Exception encountered during trial: fit() got an unexpected keyword argument 'early_stopping_patience'\n",
      "Exception encountered during trial: fit() got an unexpected keyword argument 'early_stopping_patience'\n",
      "Exception encountered during trial: fit() got an unexpected keyword argument 'early_stopping_patience'\n",
      "Exception encountered during trial: fit() got an unexpected keyword argument 'early_stopping_patience'\n"
     ]
    },
    {
     "name": "stderr",
     "output_type": "stream",
     "text": [
      "INFO - (NP.df_utils.return_df_in_original_format) - Returning df with no ID column\n",
      "INFO - (NP.df_utils.return_df_in_original_format) - Returning df with no ID column\n",
      "\u001b[32m[I 2023-05-12 16:43:15,704]\u001b[0m Trial 33 finished with value: inf and parameters: {'n_changepoints': 8, 'changepoints_range': 0.756627623351679, 'trend_reg': 0.0011600962960659474, 'num_hidden_layers': 2, 'd_hidden': 307, 'learning_rate': 0.0010104648535548964, 'epochs': 79, 'batch_size': 184}. Best is trial 0 with value: inf.\u001b[0m\n",
      "INFO - (NP.df_utils._infer_frequency) - Major frequency D corresponds to 99.955% of the data.\n",
      "INFO - (NP.df_utils._infer_frequency) - Defined frequency is equal to major frequency - D\n",
      "INFO - (NP.config.__post_init__) - Note: Trend changepoint regularization is experimental.\n",
      "INFO - (NP.df_utils.return_df_in_original_format) - Returning df with no ID column\n",
      "INFO - (NP.df_utils.return_df_in_original_format) - Returning df with no ID column\n",
      "\u001b[32m[I 2023-05-12 16:43:15,845]\u001b[0m Trial 34 finished with value: inf and parameters: {'n_changepoints': 8, 'changepoints_range': 0.7486439857726666, 'trend_reg': 0.0010032157213802062, 'num_hidden_layers': 2, 'd_hidden': 309, 'learning_rate': 0.0018433576875742713, 'epochs': 199, 'batch_size': 163}. Best is trial 0 with value: inf.\u001b[0m\n",
      "INFO - (NP.df_utils._infer_frequency) - Major frequency D corresponds to 99.955% of the data.\n",
      "INFO - (NP.df_utils._infer_frequency) - Defined frequency is equal to major frequency - D\n"
     ]
    },
    {
     "name": "stdout",
     "output_type": "stream",
     "text": [
      "Exception encountered during trial: fit() got an unexpected keyword argument 'early_stopping_patience'\n",
      "Exception encountered during trial: fit() got an unexpected keyword argument 'early_stopping_patience'\n"
     ]
    },
    {
     "name": "stderr",
     "output_type": "stream",
     "text": [
      "INFO - (NP.df_utils.return_df_in_original_format) - Returning df with no ID column\n",
      "INFO - (NP.df_utils.return_df_in_original_format) - Returning df with no ID column\n",
      "\u001b[32m[I 2023-05-12 16:43:15,978]\u001b[0m Trial 35 finished with value: inf and parameters: {'n_changepoints': 8, 'changepoints_range': 0.9984818668095492, 'trend_reg': 0.0013794992114484603, 'num_hidden_layers': 2, 'd_hidden': 298, 'learning_rate': 0.0012294520799410204, 'epochs': 84, 'batch_size': 9}. Best is trial 0 with value: inf.\u001b[0m\n",
      "INFO - (NP.config.__post_init__) - Note: Trend changepoint regularization is experimental.\n",
      "INFO - (NP.config.__post_init__) - Note: Trend changepoint regularization is experimental.\n",
      "INFO - (NP.config.__post_init__) - Note: Trend changepoint regularization is experimental.\n",
      "INFO - (NP.df_utils._infer_frequency) - Major frequency D corresponds to 99.955% of the data.\n",
      "INFO - (NP.df_utils._infer_frequency) - Defined frequency is equal to major frequency - D\n",
      "INFO - (NP.config.__post_init__) - Note: Trend changepoint regularization is experimental.\n"
     ]
    },
    {
     "name": "stdout",
     "output_type": "stream",
     "text": [
      "Exception encountered during trial: fit() got an unexpected keyword argument 'early_stopping_patience'\n"
     ]
    },
    {
     "name": "stderr",
     "output_type": "stream",
     "text": [
      "INFO - (NP.config.__post_init__) - Note: Trend changepoint regularization is experimental.\n",
      "INFO - (NP.df_utils._infer_frequency) - Major frequency D corresponds to 99.955% of the data.\n",
      "INFO - (NP.df_utils._infer_frequency) - Major frequency D corresponds to 99.955% of the data.\n",
      "INFO - (NP.df_utils._infer_frequency) - Defined frequency is equal to major frequency - D\n",
      "INFO - (NP.df_utils._infer_frequency) - Defined frequency is equal to major frequency - D\n",
      "INFO - (NP.df_utils.return_df_in_original_format) - Returning df with no ID column\n",
      "INFO - (NP.config.__post_init__) - Note: Trend changepoint regularization is experimental.\n",
      "INFO - (NP.df_utils._infer_frequency) - Major frequency D corresponds to 99.955% of the data.\n",
      "INFO - (NP.df_utils.return_df_in_original_format) - Returning df with no ID column\n",
      "\u001b[32m[I 2023-05-12 16:43:16,299]\u001b[0m Trial 36 finished with value: inf and parameters: {'n_changepoints': 8, 'changepoints_range': 0.9048930703755634, 'trend_reg': 8.709881770130147, 'num_hidden_layers': 4, 'd_hidden': 266, 'learning_rate': 0.020444841958859126, 'epochs': 90, 'batch_size': 8}. Best is trial 0 with value: inf.\u001b[0m\n",
      "INFO - (NP.config.__post_init__) - Note: Trend changepoint regularization is experimental.\n",
      "INFO - (NP.config.__post_init__) - Note: Trend changepoint regularization is experimental.\n",
      "INFO - (NP.config.__post_init__) - Note: Trend changepoint regularization is experimental.\n",
      "INFO - (NP.df_utils._infer_frequency) - Major frequency D corresponds to 99.955% of the data.\n",
      "INFO - (NP.df_utils._infer_frequency) - Defined frequency is equal to major frequency - D\n",
      "INFO - (NP.df_utils.return_df_in_original_format) - Returning df with no ID column\n",
      "INFO - (NP.df_utils.return_df_in_original_format) - Returning df with no ID column\n",
      "INFO - (NP.df_utils._infer_frequency) - Major frequency D corresponds to 99.955% of the data.\n",
      "INFO - (NP.df_utils._infer_frequency) - Defined frequency is equal to major frequency - D\n",
      "INFO - (NP.df_utils._infer_frequency) - Major frequency D corresponds to 99.955% of the data.\n",
      "INFO - (NP.df_utils._infer_frequency) - Major frequency D corresponds to 99.955% of the data.\n",
      "INFO - (NP.df_utils.return_df_in_original_format) - Returning df with no ID column\n",
      "\u001b[32m[I 2023-05-12 16:43:16,436]\u001b[0m Trial 37 finished with value: inf and parameters: {'n_changepoints': 8, 'changepoints_range': 0.7532356890606539, 'trend_reg': 0.010783944521620785, 'num_hidden_layers': 4, 'd_hidden': 226, 'learning_rate': 0.02142146005838062, 'epochs': 96, 'batch_size': 120}. Best is trial 0 with value: inf.\u001b[0m\n",
      "INFO - (NP.df_utils.return_df_in_original_format) - Returning df with no ID column\n",
      "INFO - (NP.df_utils._infer_frequency) - Major frequency D corresponds to 99.955% of the data.\n",
      "\u001b[32m[I 2023-05-12 16:43:16,445]\u001b[0m Trial 38 finished with value: inf and parameters: {'n_changepoints': 7, 'changepoints_range': 0.8995691757556431, 'trend_reg': 0.009548908218280808, 'num_hidden_layers': 4, 'd_hidden': 226, 'learning_rate': 0.04653927038697453, 'epochs': 169, 'batch_size': 118}. Best is trial 0 with value: inf.\u001b[0m\n",
      "INFO - (NP.df_utils._infer_frequency) - Defined frequency is equal to major frequency - D\n",
      "INFO - (NP.config.__post_init__) - Note: Trend changepoint regularization is experimental.\n",
      "INFO - (NP.df_utils._infer_frequency) - Defined frequency is equal to major frequency - D\n",
      "INFO - (NP.df_utils.return_df_in_original_format) - Returning df with no ID column\n",
      "INFO - (NP.df_utils._infer_frequency) - Defined frequency is equal to major frequency - D\n"
     ]
    },
    {
     "name": "stdout",
     "output_type": "stream",
     "text": [
      "Exception encountered during trial: fit() got an unexpected keyword argument 'early_stopping_patience'\n",
      "Exception encountered during trial: fit() got an unexpected keyword argument 'early_stopping_patience'\n",
      "Exception encountered during trial: fit() got an unexpected keyword argument 'early_stopping_patience'\n"
     ]
    },
    {
     "name": "stderr",
     "output_type": "stream",
     "text": [
      "INFO - (NP.df_utils._infer_frequency) - Defined frequency is equal to major frequency - D\n",
      "INFO - (NP.df_utils.return_df_in_original_format) - Returning df with no ID column\n",
      "INFO - (NP.df_utils.return_df_in_original_format) - Returning df with no ID column\n",
      "\u001b[32m[I 2023-05-12 16:43:16,524]\u001b[0m Trial 39 finished with value: inf and parameters: {'n_changepoints': 8, 'changepoints_range': 0.7421586042685545, 'trend_reg': 0.010394127787866551, 'num_hidden_layers': 4, 'd_hidden': 280, 'learning_rate': 0.01904090136781748, 'epochs': 93, 'batch_size': 123}. Best is trial 0 with value: inf.\u001b[0m\n",
      "INFO - (NP.config.__post_init__) - Note: Trend changepoint regularization is experimental.\n",
      "INFO - (NP.df_utils.return_df_in_original_format) - Returning df with no ID column\n",
      "INFO - (NP.df_utils.return_df_in_original_format) - Returning df with no ID column\n",
      "\u001b[32m[I 2023-05-12 16:43:16,592]\u001b[0m Trial 42 finished with value: inf and parameters: {'n_changepoints': 6, 'changepoints_range': 0.7528813799134325, 'trend_reg': 0.011238396249585154, 'num_hidden_layers': 4, 'd_hidden': 229, 'learning_rate': 0.022695559769172823, 'epochs': 97, 'batch_size': 118}. Best is trial 0 with value: inf.\u001b[0m\n",
      "INFO - (NP.df_utils.return_df_in_original_format) - Returning df with no ID column\n",
      "INFO - (NP.df_utils._infer_frequency) - Major frequency D corresponds to 99.955% of the data.\n",
      "INFO - (NP.config.__post_init__) - Note: Trend changepoint regularization is experimental.\n",
      "INFO - (NP.df_utils.return_df_in_original_format) - Returning df with no ID column\n",
      "INFO - (NP.df_utils.return_df_in_original_format) - Returning df with no ID column\n",
      "\u001b[32m[I 2023-05-12 16:43:16,620]\u001b[0m Trial 41 finished with value: inf and parameters: {'n_changepoints': 9, 'changepoints_range': 0.7338093070530314, 'trend_reg': 0.012157108365229662, 'num_hidden_layers': 4, 'd_hidden': 233, 'learning_rate': 0.018999042699800787, 'epochs': 168, 'batch_size': 121}. Best is trial 0 with value: inf.\u001b[0m\n",
      "INFO - (NP.df_utils.return_df_in_original_format) - Returning df with no ID column\n",
      "INFO - (NP.df_utils.return_df_in_original_format) - Returning df with no ID column\n",
      "\u001b[32m[I 2023-05-12 16:43:16,635]\u001b[0m Trial 43 finished with value: inf and parameters: {'n_changepoints': 6, 'changepoints_range': 0.7525025484645329, 'trend_reg': 9.392248711212673, 'num_hidden_layers': 1, 'd_hidden': 231, 'learning_rate': 0.017969642445069732, 'epochs': 168, 'batch_size': 107}. Best is trial 0 with value: inf.\u001b[0m\n",
      "INFO - (NP.df_utils._infer_frequency) - Defined frequency is equal to major frequency - D\n",
      "INFO - (NP.df_utils._infer_frequency) - Major frequency D corresponds to 99.955% of the data.\n",
      "INFO - (NP.df_utils.return_df_in_original_format) - Returning df with no ID column\n",
      "\u001b[32m[I 2023-05-12 16:43:16,649]\u001b[0m Trial 44 finished with value: inf and parameters: {'n_changepoints': 6, 'changepoints_range': 0.7431874541549084, 'trend_reg': 0.010116148905116197, 'num_hidden_layers': 1, 'd_hidden': 243, 'learning_rate': 0.016730718684808927, 'epochs': 171, 'batch_size': 27}. Best is trial 0 with value: inf.\u001b[0m\n",
      "INFO - (NP.df_utils.return_df_in_original_format) - Returning df with no ID column\n",
      "\u001b[32m[I 2023-05-12 16:43:16,653]\u001b[0m Trial 40 finished with value: inf and parameters: {'n_changepoints': 8, 'changepoints_range': 0.7555312781189585, 'trend_reg': 0.009519324534295838, 'num_hidden_layers': 1, 'd_hidden': 240, 'learning_rate': 0.04821707051673889, 'epochs': 166, 'batch_size': 27}. Best is trial 0 with value: inf.\u001b[0m\n",
      "INFO - (NP.df_utils._infer_frequency) - Defined frequency is equal to major frequency - D\n",
      "INFO - (NP.df_utils._infer_frequency) - Major frequency D corresponds to 99.955% of the data.\n",
      "INFO - (NP.df_utils.return_df_in_original_format) - Returning df with no ID column\n",
      "INFO - (NP.df_utils._infer_frequency) - Defined frequency is equal to major frequency - D\n",
      "INFO - (NP.df_utils.return_df_in_original_format) - Returning df with no ID column\n",
      "\u001b[32m[I 2023-05-12 16:43:16,695]\u001b[0m Trial 45 finished with value: inf and parameters: {'n_changepoints': 5, 'changepoints_range': 0.7226536968249654, 'trend_reg': 0.010875729943957534, 'num_hidden_layers': 4, 'd_hidden': 243, 'learning_rate': 0.0194995743551477, 'epochs': 169, 'batch_size': 131}. Best is trial 0 with value: inf.\u001b[0m\n",
      "INFO - (NP.df_utils.return_df_in_original_format) - Returning df with no ID column\n",
      "INFO - (NP.df_utils.return_df_in_original_format) - Returning df with no ID column\n"
     ]
    },
    {
     "name": "stdout",
     "output_type": "stream",
     "text": [
      "Exception encountered during trial: fit() got an unexpected keyword argument 'early_stopping_patience'\n",
      "Exception encountered during trial: fit() got an unexpected keyword argument 'early_stopping_patience'\n",
      "Exception encountered during trial: fit() got an unexpected keyword argument 'early_stopping_patience'\n",
      "Exception encountered during trial: fit() got an unexpected keyword argument 'early_stopping_patience'\n",
      "Exception encountered during trial: fit() got an unexpected keyword argument 'early_stopping_patience'\n",
      "Exception encountered during trial: fit() got an unexpected keyword argument 'early_stopping_patience'\n",
      "Exception encountered during trial: fit() got an unexpected keyword argument 'early_stopping_patience'\n"
     ]
    },
    {
     "name": "stderr",
     "output_type": "stream",
     "text": [
      "\u001b[32m[I 2023-05-12 16:43:16,714]\u001b[0m Trial 46 finished with value: inf and parameters: {'n_changepoints': 6, 'changepoints_range': 0.9065223909952755, 'trend_reg': 0.01203155088603785, 'num_hidden_layers': 4, 'd_hidden': 219, 'learning_rate': 0.020370976149208905, 'epochs': 171, 'batch_size': 121}. Best is trial 0 with value: inf.\u001b[0m\n",
      "INFO - (NP.df_utils.return_df_in_original_format) - Returning df with no ID column\n",
      "INFO - (NP.df_utils.return_df_in_original_format) - Returning df with no ID column\n",
      "\u001b[32m[I 2023-05-12 16:43:16,724]\u001b[0m Trial 47 finished with value: inf and parameters: {'n_changepoints': 10, 'changepoints_range': 0.9167806442521833, 'trend_reg': 0.011158947681602428, 'num_hidden_layers': 4, 'd_hidden': 227, 'learning_rate': 0.05389020423661378, 'epochs': 165, 'batch_size': 26}. Best is trial 0 with value: inf.\u001b[0m\n",
      "INFO - (NP.config.__post_init__) - Note: Trend changepoint regularization is experimental.\n",
      "INFO - (NP.config.__post_init__) - Note: Trend changepoint regularization is experimental.\n",
      "INFO - (NP.df_utils._infer_frequency) - Major frequency D corresponds to 99.955% of the data.\n",
      "INFO - (NP.df_utils._infer_frequency) - Defined frequency is equal to major frequency - D\n",
      "INFO - (NP.df_utils.return_df_in_original_format) - Returning df with no ID column\n",
      "INFO - (NP.df_utils._infer_frequency) - Major frequency D corresponds to 99.955% of the data.\n",
      "INFO - (NP.df_utils.return_df_in_original_format) - Returning df with no ID column\n",
      "\u001b[32m[I 2023-05-12 16:43:16,795]\u001b[0m Trial 48 finished with value: inf and parameters: {'n_changepoints': 6, 'changepoints_range': 0.5170444382429047, 'trend_reg': 0.017144956324612187, 'num_hidden_layers': 1, 'd_hidden': 139, 'learning_rate': 0.03510341349572231, 'epochs': 183, 'batch_size': 12}. Best is trial 0 with value: inf.\u001b[0m\n",
      "INFO - (NP.df_utils._infer_frequency) - Defined frequency is equal to major frequency - D\n",
      "INFO - (NP.df_utils.return_df_in_original_format) - Returning df with no ID column\n",
      "INFO - (NP.df_utils.return_df_in_original_format) - Returning df with no ID column\n",
      "\u001b[32m[I 2023-05-12 16:43:16,808]\u001b[0m Trial 49 finished with value: inf and parameters: {'n_changepoints': 5, 'changepoints_range': 0.9330630592742267, 'trend_reg': 0.0028846491291210532, 'num_hidden_layers': 1, 'd_hidden': 127, 'learning_rate': 0.002481248598169067, 'epochs': 186, 'batch_size': 317}. Best is trial 0 with value: inf.\u001b[0m\n"
     ]
    },
    {
     "name": "stdout",
     "output_type": "stream",
     "text": [
      "Exception encountered during trial: fit() got an unexpected keyword argument 'early_stopping_patience'\n",
      "Exception encountered during trial: fit() got an unexpected keyword argument 'early_stopping_patience'\n",
      "Exception encountered during trial: fit() got an unexpected keyword argument 'early_stopping_patience'\n",
      "Exception encountered during trial: fit() got an unexpected keyword argument 'early_stopping_patience'\n",
      "Best hyperparameters: {'n_changepoints': 14, 'changepoints_range': 0.9116230261091516, 'trend_reg': 0.0014209946662592436, 'num_hidden_layers': 2, 'd_hidden': 480, 'learning_rate': 0.008254072786634332, 'epochs': 84, 'batch_size': 314}\n"
     ]
    }
   ],
   "source": [
    "n_jobs = -1  \n",
    "n_trials = 50\n",
    "timeout = None  \n",
    "\n",
    "with parallel_backend(\"threading\", n_jobs=n_jobs):\n",
    "    study.optimize(objective, n_trials=n_trials, timeout=timeout, n_jobs=n_jobs)\n",
    "\n",
    "# Printing the best hyperparameters\n",
    "print(\"Best hyperparameters:\", study.best_params)"
   ]
  },
  {
   "cell_type": "code",
   "execution_count": 28,
   "metadata": {},
   "outputs": [
    {
     "name": "stdout",
     "output_type": "stream",
     "text": [
      "Best hyperparameters: {'n_changepoints': 14, 'changepoints_range': 0.9116230261091516, 'trend_reg': 0.0014209946662592436, 'num_hidden_layers': 2, 'd_hidden': 480, 'learning_rate': 0.008254072786634332, 'epochs': 84, 'batch_size': 314}\n"
     ]
    }
   ],
   "source": [
    "print(\"Best hyperparameters:\", study.best_params)"
   ]
  }
 ],
 "metadata": {
  "kernelspec": {
   "display_name": "Python 3",
   "language": "python",
   "name": "python3"
  },
  "language_info": {
   "codemirror_mode": {
    "name": "ipython",
    "version": 3
   },
   "file_extension": ".py",
   "mimetype": "text/x-python",
   "name": "python",
   "nbconvert_exporter": "python",
   "pygments_lexer": "ipython3",
   "version": "3.9.13"
  },
  "orig_nbformat": 4
 },
 "nbformat": 4,
 "nbformat_minor": 2
}
