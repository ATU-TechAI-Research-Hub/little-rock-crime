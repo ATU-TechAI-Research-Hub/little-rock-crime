{
 "cells": [
  {
   "attachments": {},
   "cell_type": "markdown",
   "metadata": {},
   "source": [
    "## Optimizing Crime forecasting with HyperOpt - using weather data and additional regressors.\n",
    "\n",
    "1. Importing libraries"
   ]
  },
  {
   "cell_type": "code",
   "execution_count": null,
   "metadata": {},
   "outputs": [],
   "source": [
    "import optuna\n",
    "import pandas as pd\n",
    "import numpy as np\n",
    "from neuralprophet import NeuralProphet \n",
    "from joblib import parallel_backend\n",
    "import random\n",
    "from neuralprophet import utils\n",
    "from neuralprophet import set_random_seed\n",
    "\n",
    "set_random_seed(42)\n",
    "random.seed(42)\n",
    "np.random.seed(42)\n",
    "utils.set_random_seed(seed=42)"
   ]
  },
  {
   "attachments": {},
   "cell_type": "markdown",
   "metadata": {},
   "source": [
    "2. Importing daily crime count with weather data."
   ]
  },
  {
   "cell_type": "code",
   "execution_count": 39,
   "metadata": {},
   "outputs": [
    {
     "name": "stdout",
     "output_type": "stream",
     "text": [
      "Memory usage of dataframe is 0.33 MB\n",
      "Memory usage after optimizations: 0.07 MB\n",
      "Decreased by 77.6%\n"
     ]
    },
    {
     "data": {
      "text/plain": [
       "((1793, 19), (449, 19))"
      ]
     },
     "execution_count": 39,
     "metadata": {},
     "output_type": "execute_result"
    }
   ],
   "source": [
    "df = pd.read_csv(\"../../../data/final-lrpd-data.csv\")\n",
    "import reduce_mem_usage\n",
    "df = reduce_mem_usage.reduce_mem_usage(df)\n",
    "regressors = ['is_holiday', 'dayofweek', 'quarter', 'month', 'year',\n",
    "       'dayofyear', 'dayofmonth', 'weekofyear', 'is_weekend', 'is_weekday',\n",
    "       'season', 'AWND', 'PRCP', 'SNWD', 'SNOW', 'TMAX', 'TMIN']\n",
    "df = df[[\"ds\", \"y\"] + regressors]\n",
    "df[\"ds\"] = pd.to_datetime(df[\"ds\"])\n",
    "df.set_index('ds')\n",
    "\n",
    "train = df[:int(0.8 * (len(df)))]\n",
    "test = df[int(0.8 * (len(df))):]\n",
    "train.shape, test.shape"
   ]
  },
  {
   "attachments": {},
   "cell_type": "markdown",
   "metadata": {},
   "source": [
    "3. Defining search space and objective to minimize RMSE on train - test split evaluation."
   ]
  },
  {
   "cell_type": "code",
   "execution_count": null,
   "metadata": {},
   "outputs": [],
   "source": [
    "import hyperopt\n",
    "from hyperopt import hp, fmin, tpe, STATUS_OK, Trials\n",
    "from sklearn.metrics import mean_squared_error, mean_absolute_error, r2_score\n",
    "\n",
    "search_space = {\n",
    "    'num_hidden_layers': hp.quniform('num_hidden_layers', 1, 30, 1),\n",
    "    'learning_rate': hp.loguniform('learning_rate', np.log(1e-4), np.log(1)),\n",
    "    'trend_reg': hp.loguniform('trend_reg', np.log(1e-4), np.log(10)),\n",
    "    'seasonality_reg': hp.loguniform('seasonality_reg', np.log(1e-4), np.log(10)),\n",
    "    'd_hidden': hp.quniform('d_hidden', 1, 50, 1),\n",
    "    'ar_reg': hp.loguniform('ar_reg', np.log(1e-4), np.log(10))}\n",
    "\n",
    "#Disable verbose for neuralprophet\n",
    "import sys  \n",
    "import logging\n",
    "log = logging.getLogger(\"\")\n",
    "logging.disable(sys.maxsize)\n",
    "\n",
    "#Minimal RMSE\n",
    "def objective(params):\n",
    "    print(params)\n",
    "    m = NeuralProphet(**params, loss_func=\"MSE\", yearly_seasonality=True)\n",
    "    m = m.add_country_holidays(country_name='US')\n",
    "\n",
    "    for regressor in regressors:\n",
    "        m = m.add_future_regressor(regressor)\n",
    "            \n",
    "    m.fit(train)\n",
    "    future = m.make_future_dataframe(train, periods=test.shape[0], regressors_df=test[regressors])\n",
    "    forecast = m.predict(future)\n",
    "    forecast_on_train = m.predict(train)\n",
    "    \n",
    "    toTest = test.merge(forecast[['ds', 'yhat1']], how='left', on='ds')\n",
    "    rmse = mean_squared_error(toTest['y'], toTest['yhat1'], squared=False)\n",
    "    print(\"RMSE: \", rmse)\n",
    "    return {'loss': rmse, 'status': STATUS_OK}\n",
    "\n",
    "trials = Trials()\n",
    "best = fmin(fn=objective,\n",
    "            space=search_space,\n",
    "            algo=tpe.suggest,\n",
    "            max_evals=1,\n",
    "            trials=trials)\n"
   ]
  },
  {
   "attachments": {},
   "cell_type": "markdown",
   "metadata": {},
   "source": [
    "4. Printing and saving optimized parameters."
   ]
  },
  {
   "cell_type": "code",
   "execution_count": null,
   "metadata": {},
   "outputs": [],
   "source": [
    "print(best)\n",
    "rmse = trials.best_trial['result']['loss']\n",
    "with open(f'./hyperparameters/{rmse}_adreg_hyperopt.txt', 'w') as f:\n",
    "    for key, value in best.items():\n",
    "        f.write(f'{key}={value}\\n')"
   ]
  },
  {
   "cell_type": "code",
   "execution_count": 61,
   "metadata": {},
   "outputs": [
    {
     "name": "stdout",
     "output_type": "stream",
     "text": [
      "7.952726462267565\n",
      "{'ar_reg': [0.00325133799075842], 'd_hidden': [21.0], 'learning_rate': [0.0010380981438824243], 'num_hidden_layers': [22.0], 'seasonality_reg': [2.087540916891761], 'trend_reg': [0.012092073216673523]}\n",
      "Second best\n",
      "800\n"
     ]
    }
   ],
   "source": [
    "print(trials.best_trial['result']['loss'])\n",
    "print(trials.best_trial['misc']['vals'])\n",
    "\n",
    "trials_df = pd.DataFrame(trials.trials)\n",
    "trials_df['loss'] = trials_df['result'].apply(lambda x: x['loss'])\n",
    "trials_df['params'] = trials_df['misc'].apply(lambda x: x['vals'])\n",
    "trials_df = trials_df.sort_values(by='loss', ascending=True)\n",
    "\n",
    "trials_df.to_csv(f'./hyperparameters/{rmse}_adreg_trials_hyperopt.csv', index=False)"
   ]
  }
 ],
 "metadata": {
  "kernelspec": {
   "display_name": "Python 3",
   "language": "python",
   "name": "python3"
  },
  "language_info": {
   "codemirror_mode": {
    "name": "ipython",
    "version": 3
   },
   "file_extension": ".py",
   "mimetype": "text/x-python",
   "name": "python",
   "nbconvert_exporter": "python",
   "pygments_lexer": "ipython3",
   "version": "3.9.13"
  },
  "orig_nbformat": 4
 },
 "nbformat": 4,
 "nbformat_minor": 2
}
