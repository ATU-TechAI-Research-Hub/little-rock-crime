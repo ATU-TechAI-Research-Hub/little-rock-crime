{
 "cells": [
  {
   "attachments": {},
   "cell_type": "markdown",
   "metadata": {},
   "source": [
    "## Optimizing Crime forecasting with NeuralProphet - Optimizing parameters with Optuna using snow and precipation as additional regressors.\n",
    "\n",
    "1. Importing libraries"
   ]
  },
  {
   "cell_type": "code",
   "execution_count": 1,
   "metadata": {},
   "outputs": [],
   "source": [
    "import optuna\n",
    "import pandas as pd\n",
    "import numpy as np\n",
    "from neuralprophet import NeuralProphet \n",
    "from joblib import parallel_backend\n",
    "import random\n",
    "from neuralprophet import utils\n",
    "random.seed(42)\n",
    "np.random.seed(42)\n",
    "utils.set_random_seed(seed=42)"
   ]
  },
  {
   "attachments": {},
   "cell_type": "markdown",
   "metadata": {},
   "source": [
    "2. Importing daily crime count with weather data. Dropping all columns except Snow Depth and precipitation.    "
   ]
  },
  {
   "cell_type": "code",
   "execution_count": 2,
   "metadata": {},
   "outputs": [
    {
     "data": {
      "text/plain": [
       "(             ds   y  SNWD_x  PRCP_x\n",
       " 1788 2021-11-24  33     0.0    0.00\n",
       " 1789 2021-11-25  16     0.0    0.17\n",
       " 1790 2021-11-26  48     0.0    0.00\n",
       " 1791 2021-11-27  35     0.0    0.00\n",
       " 1792 2021-11-28  25     0.0    0.00,\n",
       "              ds   y  SNWD_x  PRCP_x\n",
       " 1793 2021-11-29  47     0.0     0.0\n",
       " 1794 2021-11-30  45     0.0     0.0\n",
       " 1795 2021-12-01  45     0.0     0.0\n",
       " 1796 2021-12-02  43     0.0     0.0\n",
       " 1797 2021-12-03  45     0.0     0.0)"
      ]
     },
     "execution_count": 2,
     "metadata": {},
     "output_type": "execute_result"
    }
   ],
   "source": [
    "df = pd.read_csv(\"../../../data/daily-count-w-weather.csv\")\n",
    "df = df[[\"ds\", \"y\", \"SNWD_x\", \"PRCP_x\"]]\n",
    "df[\"ds\"] = pd.to_datetime(df[\"ds\"])\n",
    "df.set_index('ds')\n",
    "\n",
    "train = df[:int(0.8 * (len(df)))]\n",
    "test = df[int(0.8 * (len(df))):]\n",
    "train.tail(), test.head()"
   ]
  },
  {
   "attachments": {},
   "cell_type": "markdown",
   "metadata": {},
   "source": [
    "3. Defining objective function with parameters to optimize and RMSE as definitive metric."
   ]
  },
  {
   "cell_type": "code",
   "execution_count": 3,
   "metadata": {},
   "outputs": [],
   "source": [
    "from sklearn.metrics import mean_squared_error, mean_absolute_error, r2_score\n",
    "\n",
    "def objective(trial):\n",
    "    learning_rate = trial.suggest_float('learning_rate', 0.001, 10, step=0.1)\n",
    "    trend_reg = trial.suggest_float('trend_reg', 0, 100, step=0.1)\n",
    "    seasonality_reg = trial.suggest_float('seasonality_reg', 0, 100, step=0.1)\n",
    "    ar_reg = trial.suggest_float('ar_reg', 0, 100, step=0.1)\n",
    "\n",
    "    m = NeuralProphet(\n",
    "        yearly_seasonality=\"auto\",\n",
    "        weekly_seasonality=\"auto\",\n",
    "        learning_rate=learning_rate,\n",
    "        trend_reg=trend_reg,\n",
    "        seasonality_reg=seasonality_reg,\n",
    "        ar_reg=ar_reg,\n",
    "    )\n",
    "    m.set_plotting_backend(\"plotly\")\n",
    "    m = m.add_country_holidays(country_name='US')\n",
    "    m = m.add_future_regressor(\"SNWD_x\")\n",
    "    m = m.add_future_regressor(\"PRCP_x\")\n",
    "    m.fit(train)\n",
    "    future = m.make_future_dataframe(train, periods=test.shape[0], regressors_df=test[[\"SNWD_x\", \"PRCP_x\"]])\n",
    "    forecast = m.predict(future)\n",
    "    forecast_on_train = m.predict(train)\n",
    "    \n",
    "    try:\n",
    "        toTest = test.merge(forecast[['ds', 'yhat1']], how='left', on='ds')\n",
    "        rmse = mean_squared_error(toTest['y'], toTest['yhat1'], squared=False)\n",
    "        print(f\"RMSE: {rmse}\")\n",
    "        print(f\"Trial: {trial.number}\")\n",
    "        return rmse\n",
    "    \n",
    "    except Exception as e:\n",
    "        print(f\"Exception encountered during trial: {trial.number}\")\n",
    "        print(e)\n",
    "        rmse = np.inf\n",
    "        return rmse\n",
    "   "
   ]
  },
  {
   "attachments": {},
   "cell_type": "markdown",
   "metadata": {},
   "source": [
    "4. Using Optuna for automatic hyperparameter optimization"
   ]
  },
  {
   "cell_type": "code",
   "execution_count": 4,
   "metadata": {},
   "outputs": [
    {
     "name": "stderr",
     "output_type": "stream",
     "text": [
      "\u001b[32m[I 2023-05-14 15:04:43,375]\u001b[0m A new study created in memory with name: no-name-18cc881e-2556-40b1-a8f2-458b19d1b13e\u001b[0m\n"
     ]
    }
   ],
   "source": [
    "study = optuna.create_study(direction=\"minimize\")"
   ]
  },
  {
   "attachments": {},
   "cell_type": "markdown",
   "metadata": {},
   "source": [
    "5. Define properties for Optuna - Max CPU cores for parallelization and 50 trials for given objective."
   ]
  },
  {
   "cell_type": "code",
   "execution_count": 5,
   "metadata": {},
   "outputs": [
    {
     "name": "stderr",
     "output_type": "stream",
     "text": [
      "WARNING - (py.warnings._showwarnmsg) - c:\\Users\\zurab\\AppData\\Local\\Programs\\Python\\Python39\\lib\\site-packages\\optuna\\distributions.py:701: UserWarning: The distribution is specified by [0.001, 10] and step=0.1, but the range is not divisible by `step`. It will be replaced by [0.001, 9.901].\n",
      "  warnings.warn(\n",
      "\n",
      "INFO - (NP.config.__post_init__) - Note: Trend changepoint regularization is experimental.\n",
      "INFO - (NP.config.__post_init__) - Note: Fourier-based seasonality regularization is experimental.\n",
      "WARNING - (NP.forecaster.fit) - When Global modeling with local normalization, metrics are displayed in normalized scale.\n",
      "INFO - (NP.df_utils._infer_frequency) - Major frequency D corresponds to 99.944% of the data.\n",
      "INFO - (NP.df_utils._infer_frequency) - Dataframe freq automatically defined as D\n",
      "INFO - (NP.config.init_data_params) - Setting normalization to global as only one dataframe provided for training.\n",
      "INFO - (NP.utils.set_auto_seasonalities) - Disabling daily seasonality. Run NeuralProphet with daily_seasonality=True to override this.\n",
      "INFO - (NP.config.set_auto_batch_epoch) - Auto-set batch_size to 32\n",
      "INFO - (NP.config.set_auto_batch_epoch) - Auto-set epochs to 163\n"
     ]
    },
    {
     "data": {
      "application/vnd.jupyter.widget-view+json": {
       "model_id": "008bf6c68e914527851d1980686abb4b",
       "version_major": 2,
       "version_minor": 0
      },
      "text/plain": [
       "Training: 0it [00:00, ?it/s]"
      ]
     },
     "metadata": {},
     "output_type": "display_data"
    }
   ],
   "source": [
    "\n",
    "study.optimize(objective, n_trials=100)\n",
    "\n",
    "print(\"Best hyperparameters:\", study.best_params)"
   ]
  },
  {
   "cell_type": "code",
   "execution_count": null,
   "metadata": {},
   "outputs": [],
   "source": [
    "df = study.trials_dataframe()\n",
    "df.sort_values(by='value', ascending=True, inplace=True)\n",
    "df"
   ]
  },
  {
   "attachments": {},
   "cell_type": "markdown",
   "metadata": {},
   "source": [
    "6. Printing and saving optimized parameters."
   ]
  },
  {
   "cell_type": "code",
   "execution_count": null,
   "metadata": {},
   "outputs": [],
   "source": [
    "print(\"Best hyperparameters:\", study.best_params)\n",
    "print(\"RMSE:\", study.best_value)\n",
    "with open(f'./hyperparameters/{study.best_value}_optuna.txt', 'w') as f:\n",
    "    for key, value in study.best_params.items():\n",
    "        f.write(f'{key}={value}\\n')\n",
    "\n",
    "\n"
   ]
  }
 ],
 "metadata": {
  "kernelspec": {
   "display_name": "Python 3",
   "language": "python",
   "name": "python3"
  },
  "language_info": {
   "codemirror_mode": {
    "name": "ipython",
    "version": 3
   },
   "file_extension": ".py",
   "mimetype": "text/x-python",
   "name": "python",
   "nbconvert_exporter": "python",
   "pygments_lexer": "ipython3",
   "version": "3.9.13"
  },
  "orig_nbformat": 4
 },
 "nbformat": 4,
 "nbformat_minor": 2
}
