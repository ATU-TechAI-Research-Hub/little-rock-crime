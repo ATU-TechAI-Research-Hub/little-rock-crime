{
 "cells": [
  {
   "attachments": {},
   "cell_type": "markdown",
   "metadata": {},
   "source": [
    "## Optimizing Crime forecasting with HyperOpt - using weather data as regressor.\n",
    "\n",
    "1. Importing libraries"
   ]
  },
  {
   "cell_type": "code",
   "execution_count": 1,
   "metadata": {},
   "outputs": [],
   "source": [
    "import optuna\n",
    "import pandas as pd\n",
    "import numpy as np\n",
    "from neuralprophet import NeuralProphet \n",
    "from joblib import parallel_backend\n",
    "import random\n",
    "from neuralprophet import utils\n",
    "random.seed(42)\n",
    "np.random.seed(42)\n",
    "utils.set_random_seed(seed=42)"
   ]
  },
  {
   "attachments": {},
   "cell_type": "markdown",
   "metadata": {},
   "source": [
    "2. Importing daily crime count with weather data."
   ]
  },
  {
   "cell_type": "code",
   "execution_count": 2,
   "metadata": {},
   "outputs": [
    {
     "data": {
      "text/plain": [
       "(             ds   y  SNWD_x  PRCP_x\n",
       " 1788 2021-11-24  33     0.0    0.00\n",
       " 1789 2021-11-25  16     0.0    0.17\n",
       " 1790 2021-11-26  48     0.0    0.00\n",
       " 1791 2021-11-27  35     0.0    0.00\n",
       " 1792 2021-11-28  25     0.0    0.00,\n",
       "              ds   y  SNWD_x  PRCP_x\n",
       " 1793 2021-11-29  47     0.0     0.0\n",
       " 1794 2021-11-30  45     0.0     0.0\n",
       " 1795 2021-12-01  45     0.0     0.0\n",
       " 1796 2021-12-02  43     0.0     0.0\n",
       " 1797 2021-12-03  45     0.0     0.0)"
      ]
     },
     "execution_count": 2,
     "metadata": {},
     "output_type": "execute_result"
    }
   ],
   "source": [
    "df = pd.read_csv(\"../../../data/daily-count-w-weather.csv\")\n",
    "df = df[[\"ds\", \"y\", \"SNWD_x\", \"PRCP_x\"]]\n",
    "df[\"ds\"] = pd.to_datetime(df[\"ds\"])\n",
    "df.set_index('ds')\n",
    "\n",
    "train = df[:int(0.8 * (len(df)))]\n",
    "test = df[int(0.8 * (len(df))):]\n",
    "train.tail(), test.head()"
   ]
  },
  {
   "attachments": {},
   "cell_type": "markdown",
   "metadata": {},
   "source": [
    "3. Defining search space and objective to minimize RMSE on train - test split evaluation."
   ]
  },
  {
   "cell_type": "code",
   "execution_count": null,
   "metadata": {},
   "outputs": [],
   "source": [
    "import hyperopt\n",
    "from hyperopt import hp, fmin, tpe, STATUS_OK, Trials\n",
    "from sklearn.metrics import mean_squared_error, mean_absolute_error, r2_score\n",
    "\n",
    "search_space = {\n",
    "    'num_hidden_layers': hp.uniform('num_hidden_layers', 1, 30),\n",
    "    'learning_rate': hp.quniform('learning_rate', 0.001, 10, 0.1),\n",
    "    'trend_reg': hp.quniform('trend_reg', 0, 100, 0.1),\n",
    "    'seasonality_reg': hp.quniform('seasonality_reg',  0, 100, 0.1),\n",
    "    'd_hidden': hp.uniform('d_hidden', 1, 50),\n",
    "    'ar_reg': hp.quniform('ar_reg',  0, 100, 0.1)}\n",
    "\n",
    "#Disable verbose for neuralprophet\n",
    "import sys\n",
    "import logging\n",
    "log = logging.getLogger(\"\")\n",
    "logging.disable(sys.maxsize)\n",
    "\n",
    "#Minimal RMSE\n",
    "def objective(params):\n",
    "    print(params)\n",
    "    m = NeuralProphet(**params, loss_func=\"MAE\", yearly_seasonality=True)\n",
    "    m = m.add_country_holidays(country_name='US')\n",
    "    m = m.add_future_regressor(\"SNWD_x\")\n",
    "    m = m.add_future_regressor(\"PRCP_x\")\n",
    "    m.fit(train)\n",
    "    future = m.make_future_dataframe(train, periods=test.shape[0], regressors_df=test[[\"SNWD_x\", \"PRCP_x\"]])\n",
    "    forecast = m.predict(future)\n",
    "    forecast_on_train = m.predict(train)\n",
    "    \n",
    "    toTest = test.merge(forecast[['ds', 'yhat1']], how='left', on='ds')\n",
    "    rmse = mean_squared_error(toTest['y'], toTest['yhat1'], squared=False)\n",
    "    print(\"RMSE: \", rmse)\n",
    "    return {'loss': rmse, 'status': STATUS_OK}\n",
    "\n",
    "trials = Trials()\n",
    "best = fmin(fn=objective,\n",
    "            space=search_space,\n",
    "            algo=tpe.suggest,\n",
    "            max_evals=200,\n",
    "            trials=trials)\n"
   ]
  },
  {
   "attachments": {},
   "cell_type": "markdown",
   "metadata": {},
   "source": [
    "4. Printing and saving optimized parameters."
   ]
  },
  {
   "cell_type": "code",
   "execution_count": 4,
   "metadata": {},
   "outputs": [
    {
     "name": "stdout",
     "output_type": "stream",
     "text": [
      "{'ar_reg': 15.9, 'd_hidden': 2.043179564006717, 'learning_rate': 4.800000000000001, 'num_hidden_layers': 9.869792383069202, 'seasonality_reg': 32.6, 'trend_reg': 5.9}\n"
     ]
    }
   ],
   "source": [
    "print(best)\n",
    "rmse = trials.best_trial['result']['loss']\n",
    "with open(f'./hyperparameters/{rmse}_hyperopt.txt', 'w') as f:\n",
    "    for key, value in best.items():\n",
    "        f.write(f'{key}={value}\\n')\n"
   ]
  }
 ],
 "metadata": {
  "kernelspec": {
   "display_name": "Python 3",
   "language": "python",
   "name": "python3"
  },
  "language_info": {
   "codemirror_mode": {
    "name": "ipython",
    "version": 3
   },
   "file_extension": ".py",
   "mimetype": "text/x-python",
   "name": "python",
   "nbconvert_exporter": "python",
   "pygments_lexer": "ipython3",
   "version": "3.9.13"
  },
  "orig_nbformat": 4
 },
 "nbformat": 4,
 "nbformat_minor": 2
}
