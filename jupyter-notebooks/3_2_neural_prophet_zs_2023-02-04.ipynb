{
 "cells": [
  {
   "cell_type": "code",
   "execution_count": 1,
   "outputs": [],
   "source": [
    "from neuralprophet import NeuralProphet\n",
    "import pandas as pd\n"
   ],
   "metadata": {
    "collapsed": false,
    "pycharm": {
     "name": "#%%\n"
    }
   }
  },
  {
   "cell_type": "code",
   "execution_count": 2,
   "outputs": [
    {
     "data": {
      "text/plain": "                                            0                             1  \\\nINCIDENT_NUMBER                   2021-092971                   2017-029450   \nINCIDENT_DATE             2021-08-04 10:21:00           2017-03-16 18:30:00   \nLOCATION_DISTRICT                        72.0                          82.0   \nOFFENSE_DESCRIPTION  THEFT FROM MOTOR VEHICLE  THEFT OF MOTOR VEHICLE PARTS   \nWEAPON_TYPE                         NO WEAPON                     NO WEAPON   \nZIP                                   72204.0                       72206.0   \nLATITUDE                                  0.0                     34.649362   \nLONGITUDE                                 0.0                    -92.301959   \nWEEK_OF_MONTH                               0                             2   \nYEAR                                     2021                          2017   \nDAY                                         4                            16   \nDAY_OF_YEAR                               216                            75   \nMONTH                                       8                             3   \nCRIME_TYPE                  Non-Violent Crime             Non-Violent Crime   \nRISK_TYPE                            Low Risk                      Low Risk   \nRISK_TYPE_BC                                0                             0   \n\n                                       2                    3  \\\nINCIDENT_NUMBER              2017-156453          2019-130717   \nINCIDENT_DATE        2017-09-01 12:00:00  2019-10-17 21:00:00   \nLOCATION_DISTRICT                   53.0                 51.0   \nOFFENSE_DESCRIPTION                 RAPE                 RAPE   \nWEAPON_TYPE                    NO WEAPON            NO WEAPON   \nZIP                                  0.0                  0.0   \nLATITUDE                             0.0                  0.0   \nLONGITUDE                            0.0                  0.0   \nWEEK_OF_MONTH                          0                    2   \nYEAR                                2017                 2019   \nDAY                                    1                   17   \nDAY_OF_YEAR                          244                  290   \nMONTH                                  9                   10   \nCRIME_TYPE                 Violent Crime        Violent Crime   \nRISK_TYPE                      High Risk            High Risk   \nRISK_TYPE_BC                           1                    1   \n\n                                       4  \nINCIDENT_NUMBER              2020-073313  \nINCIDENT_DATE        2020-07-02 19:10:00  \nLOCATION_DISTRICT                   50.0  \nOFFENSE_DESCRIPTION                 RAPE  \nWEAPON_TYPE                    NO WEAPON  \nZIP                                  0.0  \nLATITUDE                             0.0  \nLONGITUDE                            0.0  \nWEEK_OF_MONTH                          0  \nYEAR                                2020  \nDAY                                    2  \nDAY_OF_YEAR                          184  \nMONTH                                  7  \nCRIME_TYPE                 Violent Crime  \nRISK_TYPE                      High Risk  \nRISK_TYPE_BC                           1  ",
      "text/html": "<div>\n<style scoped>\n    .dataframe tbody tr th:only-of-type {\n        vertical-align: middle;\n    }\n\n    .dataframe tbody tr th {\n        vertical-align: top;\n    }\n\n    .dataframe thead th {\n        text-align: right;\n    }\n</style>\n<table border=\"1\" class=\"dataframe\">\n  <thead>\n    <tr style=\"text-align: right;\">\n      <th></th>\n      <th>0</th>\n      <th>1</th>\n      <th>2</th>\n      <th>3</th>\n      <th>4</th>\n    </tr>\n  </thead>\n  <tbody>\n    <tr>\n      <th>INCIDENT_NUMBER</th>\n      <td>2021-092971</td>\n      <td>2017-029450</td>\n      <td>2017-156453</td>\n      <td>2019-130717</td>\n      <td>2020-073313</td>\n    </tr>\n    <tr>\n      <th>INCIDENT_DATE</th>\n      <td>2021-08-04 10:21:00</td>\n      <td>2017-03-16 18:30:00</td>\n      <td>2017-09-01 12:00:00</td>\n      <td>2019-10-17 21:00:00</td>\n      <td>2020-07-02 19:10:00</td>\n    </tr>\n    <tr>\n      <th>LOCATION_DISTRICT</th>\n      <td>72.0</td>\n      <td>82.0</td>\n      <td>53.0</td>\n      <td>51.0</td>\n      <td>50.0</td>\n    </tr>\n    <tr>\n      <th>OFFENSE_DESCRIPTION</th>\n      <td>THEFT FROM MOTOR VEHICLE</td>\n      <td>THEFT OF MOTOR VEHICLE PARTS</td>\n      <td>RAPE</td>\n      <td>RAPE</td>\n      <td>RAPE</td>\n    </tr>\n    <tr>\n      <th>WEAPON_TYPE</th>\n      <td>NO WEAPON</td>\n      <td>NO WEAPON</td>\n      <td>NO WEAPON</td>\n      <td>NO WEAPON</td>\n      <td>NO WEAPON</td>\n    </tr>\n    <tr>\n      <th>ZIP</th>\n      <td>72204.0</td>\n      <td>72206.0</td>\n      <td>0.0</td>\n      <td>0.0</td>\n      <td>0.0</td>\n    </tr>\n    <tr>\n      <th>LATITUDE</th>\n      <td>0.0</td>\n      <td>34.649362</td>\n      <td>0.0</td>\n      <td>0.0</td>\n      <td>0.0</td>\n    </tr>\n    <tr>\n      <th>LONGITUDE</th>\n      <td>0.0</td>\n      <td>-92.301959</td>\n      <td>0.0</td>\n      <td>0.0</td>\n      <td>0.0</td>\n    </tr>\n    <tr>\n      <th>WEEK_OF_MONTH</th>\n      <td>0</td>\n      <td>2</td>\n      <td>0</td>\n      <td>2</td>\n      <td>0</td>\n    </tr>\n    <tr>\n      <th>YEAR</th>\n      <td>2021</td>\n      <td>2017</td>\n      <td>2017</td>\n      <td>2019</td>\n      <td>2020</td>\n    </tr>\n    <tr>\n      <th>DAY</th>\n      <td>4</td>\n      <td>16</td>\n      <td>1</td>\n      <td>17</td>\n      <td>2</td>\n    </tr>\n    <tr>\n      <th>DAY_OF_YEAR</th>\n      <td>216</td>\n      <td>75</td>\n      <td>244</td>\n      <td>290</td>\n      <td>184</td>\n    </tr>\n    <tr>\n      <th>MONTH</th>\n      <td>8</td>\n      <td>3</td>\n      <td>9</td>\n      <td>10</td>\n      <td>7</td>\n    </tr>\n    <tr>\n      <th>CRIME_TYPE</th>\n      <td>Non-Violent Crime</td>\n      <td>Non-Violent Crime</td>\n      <td>Violent Crime</td>\n      <td>Violent Crime</td>\n      <td>Violent Crime</td>\n    </tr>\n    <tr>\n      <th>RISK_TYPE</th>\n      <td>Low Risk</td>\n      <td>Low Risk</td>\n      <td>High Risk</td>\n      <td>High Risk</td>\n      <td>High Risk</td>\n    </tr>\n    <tr>\n      <th>RISK_TYPE_BC</th>\n      <td>0</td>\n      <td>0</td>\n      <td>1</td>\n      <td>1</td>\n      <td>1</td>\n    </tr>\n  </tbody>\n</table>\n</div>"
     },
     "execution_count": 2,
     "metadata": {},
     "output_type": "execute_result"
    }
   ],
   "source": [
    "\n",
    "df = pd.read_csv('../data/lrpd-clean.csv')\n",
    "df['INCIDENT_DATE'] = pd.to_datetime(df['INCIDENT_DATE'])\n",
    "df.head().T"
   ],
   "metadata": {
    "collapsed": false,
    "pycharm": {
     "name": "#%%\n"
    }
   }
  },
  {
   "cell_type": "code",
   "execution_count": 3,
   "outputs": [
    {
     "data": {
      "text/plain": "             ds   y\n2112 2022-10-14  49\n2113 2022-10-15  28\n2114 2022-10-16  31\n2115 2022-10-17  47\n2116 2022-10-18  35",
      "text/html": "<div>\n<style scoped>\n    .dataframe tbody tr th:only-of-type {\n        vertical-align: middle;\n    }\n\n    .dataframe tbody tr th {\n        vertical-align: top;\n    }\n\n    .dataframe thead th {\n        text-align: right;\n    }\n</style>\n<table border=\"1\" class=\"dataframe\">\n  <thead>\n    <tr style=\"text-align: right;\">\n      <th></th>\n      <th>ds</th>\n      <th>y</th>\n    </tr>\n  </thead>\n  <tbody>\n    <tr>\n      <th>2112</th>\n      <td>2022-10-14</td>\n      <td>49</td>\n    </tr>\n    <tr>\n      <th>2113</th>\n      <td>2022-10-15</td>\n      <td>28</td>\n    </tr>\n    <tr>\n      <th>2114</th>\n      <td>2022-10-16</td>\n      <td>31</td>\n    </tr>\n    <tr>\n      <th>2115</th>\n      <td>2022-10-17</td>\n      <td>47</td>\n    </tr>\n    <tr>\n      <th>2116</th>\n      <td>2022-10-18</td>\n      <td>35</td>\n    </tr>\n  </tbody>\n</table>\n</div>"
     },
     "execution_count": 3,
     "metadata": {},
     "output_type": "execute_result"
    }
   ],
   "source": [
    "df2 = df.groupby(pd.Grouper(key='INCIDENT_DATE', freq='D')).size().reset_index(name='INCIDENT_COUNT')\n",
    "df2.columns = ['ds', 'y']\n",
    "df2.tail()"
   ],
   "metadata": {
    "collapsed": false,
    "pycharm": {
     "name": "#%%\n"
    }
   }
  },
  {
   "cell_type": "code",
   "execution_count": 4,
   "outputs": [],
   "source": [
    "train = df2[:int(0.8 * (len(df2)))]\n",
    "test = df2[int(0.8 * (len(df2))):]"
   ],
   "metadata": {
    "collapsed": false,
    "pycharm": {
     "name": "#%%\n"
    }
   }
  },
  {
   "cell_type": "code",
   "execution_count": 5,
   "outputs": [
    {
     "name": "stderr",
     "output_type": "stream",
     "text": [
      "INFO - (NP.df_utils._infer_frequency) - Major frequency D corresponds to 99.941% of the data.\n",
      "INFO - (NP.df_utils._infer_frequency) - Defined frequency is equal to major frequency - D\n",
      "INFO - (NP.config.init_data_params) - Setting normalization to global as only one dataframe provided for training.\n",
      "INFO - (NP.utils.set_auto_seasonalities) - Disabling daily seasonality. Run NeuralProphet with daily_seasonality=True to override this.\n",
      "INFO - (NP.config.set_auto_batch_epoch) - Auto-set batch_size to 32\n",
      "INFO - (NP.config.set_auto_batch_epoch) - Auto-set epochs to 165\n"
     ]
    },
    {
     "data": {
      "text/plain": "  0%|          | 0/131 [00:00<?, ?it/s]",
      "application/vnd.jupyter.widget-view+json": {
       "version_major": 2,
       "version_minor": 0,
       "model_id": "bdd6bc6e5b3c4bdab9478259fc28a1ee"
      }
     },
     "metadata": {},
     "output_type": "display_data"
    },
    {
     "name": "stderr",
     "output_type": "stream",
     "text": [
      "INFO - (NP.utils_torch.lr_range_test) - lr-range-test results: steep: 6.54E-02, min: 1.45E-01\n"
     ]
    },
    {
     "data": {
      "text/plain": "  0%|          | 0/131 [00:00<?, ?it/s]",
      "application/vnd.jupyter.widget-view+json": {
       "version_major": 2,
       "version_minor": 0,
       "model_id": "6d2720318c074d4f89b08406bad6e06a"
      }
     },
     "metadata": {},
     "output_type": "display_data"
    },
    {
     "name": "stderr",
     "output_type": "stream",
     "text": [
      "INFO - (NP.utils_torch.lr_range_test) - lr-range-test results: steep: 6.54E-02, min: 1.45E-01\n",
      "INFO - (NP.forecaster._init_train_loader) - lr-range-test selected learning rate: 7.53E-02\n",
      "Epoch[165/165]: 100%|██████████| 165/165 [00:19<00:00,  8.61it/s, SmoothL1Loss=0.015, MAE=5.85, RMSE=7.37, RegLoss=0] \n",
      "INFO - (NP.df_utils._infer_frequency) - Major frequency D corresponds to 99.941% of the data.\n",
      "INFO - (NP.df_utils._infer_frequency) - Defined frequency is equal to major frequency - D\n",
      "INFO - (NP.df_utils._infer_frequency) - Major frequency D corresponds to 99.764% of the data.\n",
      "INFO - (NP.df_utils._infer_frequency) - Defined frequency is equal to major frequency - D\n",
      "INFO - (NP.df_utils._infer_frequency) - Major frequency D corresponds to 99.764% of the data.\n",
      "INFO - (NP.df_utils._infer_frequency) - Defined frequency is equal to major frequency - D\n"
     ]
    }
   ],
   "source": [
    "m = NeuralProphet()\n",
    "m.add_country_holidays(country_name='US')\n",
    "metrics = m.fit(train, freq=\"D\")\n",
    "\n",
    "future = m.make_future_dataframe(train, periods=len(test))\n",
    "forecast = m.predict(future)"
   ],
   "metadata": {
    "collapsed": false,
    "pycharm": {
     "name": "#%%\n"
    }
   }
  },
  {
   "cell_type": "code",
   "execution_count": 6,
   "outputs": [
    {
     "data": {
      "text/plain": "          ds     y      yhat1 residual1      trend  season_yearly  \\\n0 2021-08-21  None  38.282417      None  38.629818       1.970118   \n1 2021-08-22  None  35.878098      None  38.646717       1.929807   \n2 2021-08-23  None  43.583611      None  38.663609       1.893498   \n3 2021-08-24  None  41.049545      None  38.680504       1.861782   \n4 2021-08-25  None  41.042366      None  38.697403       1.835188   \n\n   season_weekly  events_additive  event_Christmas Day  \\\n0      -2.317519              0.0                  0.0   \n1      -4.698422              0.0                  0.0   \n2       3.026503              0.0                  0.0   \n3       0.507260              0.0                  0.0   \n4       0.509777              0.0                  0.0   \n\n   event_Christmas Day (Observed)  ...  \\\n0                             0.0  ...   \n1                             0.0  ...   \n2                             0.0  ...   \n3                             0.0  ...   \n4                             0.0  ...   \n\n   event_Juneteenth National Independence Day (Observed)  event_Labor Day  \\\n0                                                0.0                  0.0   \n1                                                0.0                  0.0   \n2                                                0.0                  0.0   \n3                                                0.0                  0.0   \n4                                                0.0                  0.0   \n\n   event_Martin Luther King Jr. Day  event_Memorial Day  event_New Year's Day  \\\n0                               0.0                 0.0                   0.0   \n1                               0.0                 0.0                   0.0   \n2                               0.0                 0.0                   0.0   \n3                               0.0                 0.0                   0.0   \n4                               0.0                 0.0                   0.0   \n\n   event_New Year's Day (Observed)  event_Thanksgiving  event_Veterans Day  \\\n0                              0.0                 0.0                 0.0   \n1                              0.0                 0.0                 0.0   \n2                              0.0                 0.0                 0.0   \n3                              0.0                 0.0                 0.0   \n4                              0.0                 0.0                 0.0   \n\n   event_Veterans Day (Observed)  event_Washington's Birthday  \n0                            0.0                          0.0  \n1                            0.0                          0.0  \n2                            0.0                          0.0  \n3                            0.0                          0.0  \n4                            0.0                          0.0  \n\n[5 rows x 24 columns]",
      "text/html": "<div>\n<style scoped>\n    .dataframe tbody tr th:only-of-type {\n        vertical-align: middle;\n    }\n\n    .dataframe tbody tr th {\n        vertical-align: top;\n    }\n\n    .dataframe thead th {\n        text-align: right;\n    }\n</style>\n<table border=\"1\" class=\"dataframe\">\n  <thead>\n    <tr style=\"text-align: right;\">\n      <th></th>\n      <th>ds</th>\n      <th>y</th>\n      <th>yhat1</th>\n      <th>residual1</th>\n      <th>trend</th>\n      <th>season_yearly</th>\n      <th>season_weekly</th>\n      <th>events_additive</th>\n      <th>event_Christmas Day</th>\n      <th>event_Christmas Day (Observed)</th>\n      <th>...</th>\n      <th>event_Juneteenth National Independence Day (Observed)</th>\n      <th>event_Labor Day</th>\n      <th>event_Martin Luther King Jr. Day</th>\n      <th>event_Memorial Day</th>\n      <th>event_New Year's Day</th>\n      <th>event_New Year's Day (Observed)</th>\n      <th>event_Thanksgiving</th>\n      <th>event_Veterans Day</th>\n      <th>event_Veterans Day (Observed)</th>\n      <th>event_Washington's Birthday</th>\n    </tr>\n  </thead>\n  <tbody>\n    <tr>\n      <th>0</th>\n      <td>2021-08-21</td>\n      <td>None</td>\n      <td>38.282417</td>\n      <td>None</td>\n      <td>38.629818</td>\n      <td>1.970118</td>\n      <td>-2.317519</td>\n      <td>0.0</td>\n      <td>0.0</td>\n      <td>0.0</td>\n      <td>...</td>\n      <td>0.0</td>\n      <td>0.0</td>\n      <td>0.0</td>\n      <td>0.0</td>\n      <td>0.0</td>\n      <td>0.0</td>\n      <td>0.0</td>\n      <td>0.0</td>\n      <td>0.0</td>\n      <td>0.0</td>\n    </tr>\n    <tr>\n      <th>1</th>\n      <td>2021-08-22</td>\n      <td>None</td>\n      <td>35.878098</td>\n      <td>None</td>\n      <td>38.646717</td>\n      <td>1.929807</td>\n      <td>-4.698422</td>\n      <td>0.0</td>\n      <td>0.0</td>\n      <td>0.0</td>\n      <td>...</td>\n      <td>0.0</td>\n      <td>0.0</td>\n      <td>0.0</td>\n      <td>0.0</td>\n      <td>0.0</td>\n      <td>0.0</td>\n      <td>0.0</td>\n      <td>0.0</td>\n      <td>0.0</td>\n      <td>0.0</td>\n    </tr>\n    <tr>\n      <th>2</th>\n      <td>2021-08-23</td>\n      <td>None</td>\n      <td>43.583611</td>\n      <td>None</td>\n      <td>38.663609</td>\n      <td>1.893498</td>\n      <td>3.026503</td>\n      <td>0.0</td>\n      <td>0.0</td>\n      <td>0.0</td>\n      <td>...</td>\n      <td>0.0</td>\n      <td>0.0</td>\n      <td>0.0</td>\n      <td>0.0</td>\n      <td>0.0</td>\n      <td>0.0</td>\n      <td>0.0</td>\n      <td>0.0</td>\n      <td>0.0</td>\n      <td>0.0</td>\n    </tr>\n    <tr>\n      <th>3</th>\n      <td>2021-08-24</td>\n      <td>None</td>\n      <td>41.049545</td>\n      <td>None</td>\n      <td>38.680504</td>\n      <td>1.861782</td>\n      <td>0.507260</td>\n      <td>0.0</td>\n      <td>0.0</td>\n      <td>0.0</td>\n      <td>...</td>\n      <td>0.0</td>\n      <td>0.0</td>\n      <td>0.0</td>\n      <td>0.0</td>\n      <td>0.0</td>\n      <td>0.0</td>\n      <td>0.0</td>\n      <td>0.0</td>\n      <td>0.0</td>\n      <td>0.0</td>\n    </tr>\n    <tr>\n      <th>4</th>\n      <td>2021-08-25</td>\n      <td>None</td>\n      <td>41.042366</td>\n      <td>None</td>\n      <td>38.697403</td>\n      <td>1.835188</td>\n      <td>0.509777</td>\n      <td>0.0</td>\n      <td>0.0</td>\n      <td>0.0</td>\n      <td>...</td>\n      <td>0.0</td>\n      <td>0.0</td>\n      <td>0.0</td>\n      <td>0.0</td>\n      <td>0.0</td>\n      <td>0.0</td>\n      <td>0.0</td>\n      <td>0.0</td>\n      <td>0.0</td>\n      <td>0.0</td>\n    </tr>\n  </tbody>\n</table>\n<p>5 rows × 24 columns</p>\n</div>"
     },
     "execution_count": 6,
     "metadata": {},
     "output_type": "execute_result"
    }
   ],
   "source": [
    "forecast.head()"
   ],
   "metadata": {
    "collapsed": false,
    "pycharm": {
     "name": "#%%\n"
    }
   }
  },
  {
   "cell_type": "code",
   "execution_count": 7,
   "outputs": [
    {
     "name": "stdout",
     "output_type": "stream",
     "text": [
      "RMSE:  9.264107439209369\n",
      "MSE:  85.82368664521435\n",
      "MAE:  7.45585833855395\n",
      "R2:  -0.03256324327300053\n"
     ]
    }
   ],
   "source": [
    "from statsmodels.tools.eval_measures import rmse\n",
    "from sklearn.metrics import mean_squared_error\n",
    "from sklearn.metrics import mean_absolute_error\n",
    "from sklearn.metrics import r2_score\n",
    "\n",
    "predictions = forecast['yhat1']\n",
    "actual = test['y']\n",
    "\n",
    "print('RMSE: ', rmse(actual, predictions))\n",
    "print('MSE: ', mean_squared_error(actual, predictions))\n",
    "print('MAE: ', mean_absolute_error(actual, predictions))\n",
    "print('R2: ', r2_score(actual, predictions))\n",
    "# TODO - use hyperopt for optimization"
   ],
   "metadata": {
    "collapsed": false,
    "pycharm": {
     "name": "#%%\n"
    }
   }
  }
 ],
 "metadata": {
  "kernelspec": {
   "display_name": "Python 3",
   "language": "python",
   "name": "python3"
  },
  "language_info": {
   "codemirror_mode": {
    "name": "ipython",
    "version": 2
   },
   "file_extension": ".py",
   "mimetype": "text/x-python",
   "name": "python",
   "nbconvert_exporter": "python",
   "pygments_lexer": "ipython2",
   "version": "2.7.6"
  }
 },
 "nbformat": 4,
 "nbformat_minor": 0
}