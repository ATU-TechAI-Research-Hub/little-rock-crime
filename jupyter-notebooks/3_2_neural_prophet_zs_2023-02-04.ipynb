{
 "cells": [
  {
   "cell_type": "code",
   "execution_count": 1,
   "outputs": [],
   "source": [
    "from neuralprophet import NeuralProphet\n",
    "import pandas as pd\n"
   ],
   "metadata": {
    "collapsed": false,
    "pycharm": {
     "name": "#%%\n"
    }
   }
  },
  {
   "cell_type": "code",
   "execution_count": 2,
   "outputs": [
    {
     "data": {
      "text/plain": "                                            0                             1  \\\nINCIDENT_NUMBER                   2022-036059                   2017-029450   \nINCIDENT_DATE             2022-03-30 17:38:00           2017-03-16 18:30:00   \nLOCATION_DISTRICT                        42.0                          82.0   \nOFFENSE_DESCRIPTION  THEFT FROM MOTOR VEHICLE  THEFT OF MOTOR VEHICLE PARTS   \nWEAPON_TYPE                         NO WEAPON                     NO WEAPON   \nZIP                                   72202.0                       72206.0   \nLATITUDE                                  0.0                     34.649362   \nLONGITUDE                                 0.0                    -92.301959   \nWEEK_OF_MONTH                               4                             2   \nYEAR                                     2022                          2017   \nDAY                                        30                            16   \nDAY_OF_YEAR                                89                            75   \nMONTH                                       3                             3   \nCRIME_TYPE                  Non-Violent Crime             Non-Violent Crime   \nRISK_TYPE                            Low Risk                      Low Risk   \nRISK_TYPE_BC                                0                             0   \n\n                                       2                    3  \\\nINCIDENT_NUMBER              2017-114829          2018-046714   \nINCIDENT_DATE        2017-09-15 03:14:00  2018-04-20 16:18:00   \nLOCATION_DISTRICT                   64.0                 82.0   \nOFFENSE_DESCRIPTION                 RAPE                 RAPE   \nWEAPON_TYPE                    NO WEAPON              UNKNOWN   \nZIP                                  0.0                  0.0   \nLATITUDE                             0.0                  0.0   \nLONGITUDE                            0.0                  0.0   \nWEEK_OF_MONTH                          2                    2   \nYEAR                                2017                 2018   \nDAY                                   15                   20   \nDAY_OF_YEAR                          258                  110   \nMONTH                                  9                    4   \nCRIME_TYPE                 Violent Crime        Violent Crime   \nRISK_TYPE                      High Risk            High Risk   \nRISK_TYPE_BC                           1                    1   \n\n                                       4  \nINCIDENT_NUMBER              2020-042339  \nINCIDENT_DATE        2020-04-18 18:15:00  \nLOCATION_DISTRICT                   61.0  \nOFFENSE_DESCRIPTION                 RAPE  \nWEAPON_TYPE                      HANDGUN  \nZIP                                  0.0  \nLATITUDE                             0.0  \nLONGITUDE                            0.0  \nWEEK_OF_MONTH                          2  \nYEAR                                2020  \nDAY                                   18  \nDAY_OF_YEAR                          109  \nMONTH                                  4  \nCRIME_TYPE                 Violent Crime  \nRISK_TYPE                      High Risk  \nRISK_TYPE_BC                           1  ",
      "text/html": "<div>\n<style scoped>\n    .dataframe tbody tr th:only-of-type {\n        vertical-align: middle;\n    }\n\n    .dataframe tbody tr th {\n        vertical-align: top;\n    }\n\n    .dataframe thead th {\n        text-align: right;\n    }\n</style>\n<table border=\"1\" class=\"dataframe\">\n  <thead>\n    <tr style=\"text-align: right;\">\n      <th></th>\n      <th>0</th>\n      <th>1</th>\n      <th>2</th>\n      <th>3</th>\n      <th>4</th>\n    </tr>\n  </thead>\n  <tbody>\n    <tr>\n      <th>INCIDENT_NUMBER</th>\n      <td>2022-036059</td>\n      <td>2017-029450</td>\n      <td>2017-114829</td>\n      <td>2018-046714</td>\n      <td>2020-042339</td>\n    </tr>\n    <tr>\n      <th>INCIDENT_DATE</th>\n      <td>2022-03-30 17:38:00</td>\n      <td>2017-03-16 18:30:00</td>\n      <td>2017-09-15 03:14:00</td>\n      <td>2018-04-20 16:18:00</td>\n      <td>2020-04-18 18:15:00</td>\n    </tr>\n    <tr>\n      <th>LOCATION_DISTRICT</th>\n      <td>42.0</td>\n      <td>82.0</td>\n      <td>64.0</td>\n      <td>82.0</td>\n      <td>61.0</td>\n    </tr>\n    <tr>\n      <th>OFFENSE_DESCRIPTION</th>\n      <td>THEFT FROM MOTOR VEHICLE</td>\n      <td>THEFT OF MOTOR VEHICLE PARTS</td>\n      <td>RAPE</td>\n      <td>RAPE</td>\n      <td>RAPE</td>\n    </tr>\n    <tr>\n      <th>WEAPON_TYPE</th>\n      <td>NO WEAPON</td>\n      <td>NO WEAPON</td>\n      <td>NO WEAPON</td>\n      <td>UNKNOWN</td>\n      <td>HANDGUN</td>\n    </tr>\n    <tr>\n      <th>ZIP</th>\n      <td>72202.0</td>\n      <td>72206.0</td>\n      <td>0.0</td>\n      <td>0.0</td>\n      <td>0.0</td>\n    </tr>\n    <tr>\n      <th>LATITUDE</th>\n      <td>0.0</td>\n      <td>34.649362</td>\n      <td>0.0</td>\n      <td>0.0</td>\n      <td>0.0</td>\n    </tr>\n    <tr>\n      <th>LONGITUDE</th>\n      <td>0.0</td>\n      <td>-92.301959</td>\n      <td>0.0</td>\n      <td>0.0</td>\n      <td>0.0</td>\n    </tr>\n    <tr>\n      <th>WEEK_OF_MONTH</th>\n      <td>4</td>\n      <td>2</td>\n      <td>2</td>\n      <td>2</td>\n      <td>2</td>\n    </tr>\n    <tr>\n      <th>YEAR</th>\n      <td>2022</td>\n      <td>2017</td>\n      <td>2017</td>\n      <td>2018</td>\n      <td>2020</td>\n    </tr>\n    <tr>\n      <th>DAY</th>\n      <td>30</td>\n      <td>16</td>\n      <td>15</td>\n      <td>20</td>\n      <td>18</td>\n    </tr>\n    <tr>\n      <th>DAY_OF_YEAR</th>\n      <td>89</td>\n      <td>75</td>\n      <td>258</td>\n      <td>110</td>\n      <td>109</td>\n    </tr>\n    <tr>\n      <th>MONTH</th>\n      <td>3</td>\n      <td>3</td>\n      <td>9</td>\n      <td>4</td>\n      <td>4</td>\n    </tr>\n    <tr>\n      <th>CRIME_TYPE</th>\n      <td>Non-Violent Crime</td>\n      <td>Non-Violent Crime</td>\n      <td>Violent Crime</td>\n      <td>Violent Crime</td>\n      <td>Violent Crime</td>\n    </tr>\n    <tr>\n      <th>RISK_TYPE</th>\n      <td>Low Risk</td>\n      <td>Low Risk</td>\n      <td>High Risk</td>\n      <td>High Risk</td>\n      <td>High Risk</td>\n    </tr>\n    <tr>\n      <th>RISK_TYPE_BC</th>\n      <td>0</td>\n      <td>0</td>\n      <td>1</td>\n      <td>1</td>\n      <td>1</td>\n    </tr>\n  </tbody>\n</table>\n</div>"
     },
     "execution_count": 2,
     "metadata": {},
     "output_type": "execute_result"
    }
   ],
   "source": [
    "\n",
    "df = pd.read_csv('../data/lrpd-clean.csv')\n",
    "df['INCIDENT_DATE'] = pd.to_datetime(df['INCIDENT_DATE'])\n",
    "df.head().T"
   ],
   "metadata": {
    "collapsed": false,
    "pycharm": {
     "name": "#%%\n"
    }
   }
  },
  {
   "cell_type": "code",
   "execution_count": 3,
   "outputs": [
    {
     "data": {
      "text/plain": "             ds   y\n2237 2023-02-16  42\n2238 2023-02-17  32\n2239 2023-02-18  25\n2240 2023-02-19  36\n2241 2023-02-20  30",
      "text/html": "<div>\n<style scoped>\n    .dataframe tbody tr th:only-of-type {\n        vertical-align: middle;\n    }\n\n    .dataframe tbody tr th {\n        vertical-align: top;\n    }\n\n    .dataframe thead th {\n        text-align: right;\n    }\n</style>\n<table border=\"1\" class=\"dataframe\">\n  <thead>\n    <tr style=\"text-align: right;\">\n      <th></th>\n      <th>ds</th>\n      <th>y</th>\n    </tr>\n  </thead>\n  <tbody>\n    <tr>\n      <th>2237</th>\n      <td>2023-02-16</td>\n      <td>42</td>\n    </tr>\n    <tr>\n      <th>2238</th>\n      <td>2023-02-17</td>\n      <td>32</td>\n    </tr>\n    <tr>\n      <th>2239</th>\n      <td>2023-02-18</td>\n      <td>25</td>\n    </tr>\n    <tr>\n      <th>2240</th>\n      <td>2023-02-19</td>\n      <td>36</td>\n    </tr>\n    <tr>\n      <th>2241</th>\n      <td>2023-02-20</td>\n      <td>30</td>\n    </tr>\n  </tbody>\n</table>\n</div>"
     },
     "execution_count": 3,
     "metadata": {},
     "output_type": "execute_result"
    }
   ],
   "source": [
    "df2 = df.groupby(pd.Grouper(key='INCIDENT_DATE', freq='D')).size().reset_index(name='INCIDENT_COUNT')\n",
    "df2.columns = ['ds', 'y']\n",
    "df2.tail()"
   ],
   "metadata": {
    "collapsed": false,
    "pycharm": {
     "name": "#%%\n"
    }
   }
  },
  {
   "cell_type": "code",
   "execution_count": 4,
   "outputs": [],
   "source": [
    "train = df2[:int(0.8 * (len(df2)))]\n",
    "test = df2[int(0.8 * (len(df2))):]"
   ],
   "metadata": {
    "collapsed": false,
    "pycharm": {
     "name": "#%%\n"
    }
   }
  },
  {
   "cell_type": "code",
   "execution_count": 5,
   "outputs": [
    {
     "name": "stderr",
     "output_type": "stream",
     "text": [
      "INFO - (NP.df_utils._infer_frequency) - Major frequency D corresponds to 99.944% of the data.\n",
      "INFO - (NP.df_utils._infer_frequency) - Defined frequency is equal to major frequency - D\n",
      "INFO - (NP.config.init_data_params) - Setting normalization to global as only one dataframe provided for training.\n",
      "INFO - (NP.utils.set_auto_seasonalities) - Disabling daily seasonality. Run NeuralProphet with daily_seasonality=True to override this.\n",
      "INFO - (NP.config.set_auto_batch_epoch) - Auto-set batch_size to 32\n",
      "INFO - (NP.config.set_auto_batch_epoch) - Auto-set epochs to 163\n"
     ]
    },
    {
     "data": {
      "text/plain": "  0%|          | 0/131 [00:00<?, ?it/s]",
      "application/vnd.jupyter.widget-view+json": {
       "version_major": 2,
       "version_minor": 0,
       "model_id": "07e82eabac544572b09455ee732023fd"
      }
     },
     "metadata": {},
     "output_type": "display_data"
    },
    {
     "name": "stderr",
     "output_type": "stream",
     "text": [
      "INFO - (NP.utils_torch.lr_range_test) - lr-range-test results: steep: 8.99E-02, min: 1.58E+00\n"
     ]
    },
    {
     "data": {
      "text/plain": "  0%|          | 0/131 [00:00<?, ?it/s]",
      "application/vnd.jupyter.widget-view+json": {
       "version_major": 2,
       "version_minor": 0,
       "model_id": "48364a4c311e41598afd58ec7c364c3f"
      }
     },
     "metadata": {},
     "output_type": "display_data"
    },
    {
     "name": "stderr",
     "output_type": "stream",
     "text": [
      "INFO - (NP.utils_torch.lr_range_test) - lr-range-test results: steep: 8.99E-02, min: 9.82E-01\n",
      "INFO - (NP.forecaster._init_train_loader) - lr-range-test selected learning rate: 9.32E-02\n",
      "Epoch[163/163]: 100%|██████████| 163/163 [00:15<00:00, 10.79it/s, SmoothL1Loss=0.0152, MAE=5.85, RMSE=7.42, RegLoss=0]\n",
      "INFO - (NP.df_utils._infer_frequency) - Major frequency D corresponds to 99.944% of the data.\n",
      "INFO - (NP.df_utils._infer_frequency) - Defined frequency is equal to major frequency - D\n",
      "INFO - (NP.df_utils._infer_frequency) - Major frequency D corresponds to 99.777% of the data.\n",
      "INFO - (NP.df_utils._infer_frequency) - Defined frequency is equal to major frequency - D\n",
      "INFO - (NP.df_utils._infer_frequency) - Major frequency D corresponds to 99.777% of the data.\n",
      "INFO - (NP.df_utils._infer_frequency) - Defined frequency is equal to major frequency - D\n"
     ]
    }
   ],
   "source": [
    "m = NeuralProphet()\n",
    "m.add_country_holidays(country_name='US')\n",
    "metrics = m.fit(train, freq=\"D\")\n",
    "\n",
    "future = m.make_future_dataframe(train, periods=len(test))\n",
    "forecast = m.predict(future)"
   ],
   "metadata": {
    "collapsed": false,
    "pycharm": {
     "name": "#%%\n"
    }
   }
  },
  {
   "cell_type": "code",
   "execution_count": 6,
   "outputs": [
    {
     "data": {
      "text/plain": "          ds     y      yhat1 residual1      trend  season_yearly  \\\n0 2021-11-29  None  42.357899      None  37.940418       0.966821   \n1 2021-11-30  None  39.400238      None  37.944393       0.907070   \n2 2021-12-01  None  39.602921      None  37.948368       0.844054   \n3 2021-12-02  None  39.541672      None  37.952339       0.777688   \n4 2021-12-03  None  40.989662      None  37.956314       0.707915   \n\n   season_weekly  events_additive  event_Christmas Day  \\\n0       3.450661              0.0                  0.0   \n1       0.548773              0.0                  0.0   \n2       0.810497              0.0                  0.0   \n3       0.811644              0.0                  0.0   \n4       2.325429              0.0                  0.0   \n\n   event_Christmas Day (Observed)  ...  \\\n0                             0.0  ...   \n1                             0.0  ...   \n2                             0.0  ...   \n3                             0.0  ...   \n4                             0.0  ...   \n\n   event_Juneteenth National Independence Day (Observed)  event_Labor Day  \\\n0                                                0.0                  0.0   \n1                                                0.0                  0.0   \n2                                                0.0                  0.0   \n3                                                0.0                  0.0   \n4                                                0.0                  0.0   \n\n   event_Martin Luther King Jr. Day  event_Memorial Day  event_New Year's Day  \\\n0                               0.0                 0.0                   0.0   \n1                               0.0                 0.0                   0.0   \n2                               0.0                 0.0                   0.0   \n3                               0.0                 0.0                   0.0   \n4                               0.0                 0.0                   0.0   \n\n   event_New Year's Day (Observed)  event_Thanksgiving  event_Veterans Day  \\\n0                              0.0                 0.0                 0.0   \n1                              0.0                 0.0                 0.0   \n2                              0.0                 0.0                 0.0   \n3                              0.0                 0.0                 0.0   \n4                              0.0                 0.0                 0.0   \n\n   event_Veterans Day (Observed)  event_Washington's Birthday  \n0                            0.0                          0.0  \n1                            0.0                          0.0  \n2                            0.0                          0.0  \n3                            0.0                          0.0  \n4                            0.0                          0.0  \n\n[5 rows x 24 columns]",
      "text/html": "<div>\n<style scoped>\n    .dataframe tbody tr th:only-of-type {\n        vertical-align: middle;\n    }\n\n    .dataframe tbody tr th {\n        vertical-align: top;\n    }\n\n    .dataframe thead th {\n        text-align: right;\n    }\n</style>\n<table border=\"1\" class=\"dataframe\">\n  <thead>\n    <tr style=\"text-align: right;\">\n      <th></th>\n      <th>ds</th>\n      <th>y</th>\n      <th>yhat1</th>\n      <th>residual1</th>\n      <th>trend</th>\n      <th>season_yearly</th>\n      <th>season_weekly</th>\n      <th>events_additive</th>\n      <th>event_Christmas Day</th>\n      <th>event_Christmas Day (Observed)</th>\n      <th>...</th>\n      <th>event_Juneteenth National Independence Day (Observed)</th>\n      <th>event_Labor Day</th>\n      <th>event_Martin Luther King Jr. Day</th>\n      <th>event_Memorial Day</th>\n      <th>event_New Year's Day</th>\n      <th>event_New Year's Day (Observed)</th>\n      <th>event_Thanksgiving</th>\n      <th>event_Veterans Day</th>\n      <th>event_Veterans Day (Observed)</th>\n      <th>event_Washington's Birthday</th>\n    </tr>\n  </thead>\n  <tbody>\n    <tr>\n      <th>0</th>\n      <td>2021-11-29</td>\n      <td>None</td>\n      <td>42.357899</td>\n      <td>None</td>\n      <td>37.940418</td>\n      <td>0.966821</td>\n      <td>3.450661</td>\n      <td>0.0</td>\n      <td>0.0</td>\n      <td>0.0</td>\n      <td>...</td>\n      <td>0.0</td>\n      <td>0.0</td>\n      <td>0.0</td>\n      <td>0.0</td>\n      <td>0.0</td>\n      <td>0.0</td>\n      <td>0.0</td>\n      <td>0.0</td>\n      <td>0.0</td>\n      <td>0.0</td>\n    </tr>\n    <tr>\n      <th>1</th>\n      <td>2021-11-30</td>\n      <td>None</td>\n      <td>39.400238</td>\n      <td>None</td>\n      <td>37.944393</td>\n      <td>0.907070</td>\n      <td>0.548773</td>\n      <td>0.0</td>\n      <td>0.0</td>\n      <td>0.0</td>\n      <td>...</td>\n      <td>0.0</td>\n      <td>0.0</td>\n      <td>0.0</td>\n      <td>0.0</td>\n      <td>0.0</td>\n      <td>0.0</td>\n      <td>0.0</td>\n      <td>0.0</td>\n      <td>0.0</td>\n      <td>0.0</td>\n    </tr>\n    <tr>\n      <th>2</th>\n      <td>2021-12-01</td>\n      <td>None</td>\n      <td>39.602921</td>\n      <td>None</td>\n      <td>37.948368</td>\n      <td>0.844054</td>\n      <td>0.810497</td>\n      <td>0.0</td>\n      <td>0.0</td>\n      <td>0.0</td>\n      <td>...</td>\n      <td>0.0</td>\n      <td>0.0</td>\n      <td>0.0</td>\n      <td>0.0</td>\n      <td>0.0</td>\n      <td>0.0</td>\n      <td>0.0</td>\n      <td>0.0</td>\n      <td>0.0</td>\n      <td>0.0</td>\n    </tr>\n    <tr>\n      <th>3</th>\n      <td>2021-12-02</td>\n      <td>None</td>\n      <td>39.541672</td>\n      <td>None</td>\n      <td>37.952339</td>\n      <td>0.777688</td>\n      <td>0.811644</td>\n      <td>0.0</td>\n      <td>0.0</td>\n      <td>0.0</td>\n      <td>...</td>\n      <td>0.0</td>\n      <td>0.0</td>\n      <td>0.0</td>\n      <td>0.0</td>\n      <td>0.0</td>\n      <td>0.0</td>\n      <td>0.0</td>\n      <td>0.0</td>\n      <td>0.0</td>\n      <td>0.0</td>\n    </tr>\n    <tr>\n      <th>4</th>\n      <td>2021-12-03</td>\n      <td>None</td>\n      <td>40.989662</td>\n      <td>None</td>\n      <td>37.956314</td>\n      <td>0.707915</td>\n      <td>2.325429</td>\n      <td>0.0</td>\n      <td>0.0</td>\n      <td>0.0</td>\n      <td>...</td>\n      <td>0.0</td>\n      <td>0.0</td>\n      <td>0.0</td>\n      <td>0.0</td>\n      <td>0.0</td>\n      <td>0.0</td>\n      <td>0.0</td>\n      <td>0.0</td>\n      <td>0.0</td>\n      <td>0.0</td>\n    </tr>\n  </tbody>\n</table>\n<p>5 rows × 24 columns</p>\n</div>"
     },
     "execution_count": 6,
     "metadata": {},
     "output_type": "execute_result"
    }
   ],
   "source": [
    "forecast.head()"
   ],
   "metadata": {
    "collapsed": false,
    "pycharm": {
     "name": "#%%\n"
    }
   }
  },
  {
   "cell_type": "code",
   "execution_count": 7,
   "outputs": [
    {
     "name": "stdout",
     "output_type": "stream",
     "text": [
      "RMSE:  8.164387149993262\n",
      "MSE:  66.6572175349751\n",
      "MAE:  6.44964623398133\n",
      "R2:  0.19175350015791137\n"
     ]
    }
   ],
   "source": [
    "from statsmodels.tools.eval_measures import rmse\n",
    "from sklearn.metrics import mean_squared_error\n",
    "from sklearn.metrics import mean_absolute_error\n",
    "from sklearn.metrics import r2_score\n",
    "\n",
    "predictions = forecast['yhat1']\n",
    "actual = test['y']\n",
    "\n",
    "print('RMSE: ', rmse(actual, predictions))\n",
    "print('MSE: ', mean_squared_error(actual, predictions))\n",
    "print('MAE: ', mean_absolute_error(actual, predictions))\n",
    "print('R2: ', r2_score(actual, predictions))\n",
    "# TODO - use hyperopt for optimization"
   ],
   "metadata": {
    "collapsed": false,
    "pycharm": {
     "name": "#%%\n"
    }
   }
  }
 ],
 "metadata": {
  "kernelspec": {
   "display_name": "Python 3",
   "language": "python",
   "name": "python3"
  },
  "language_info": {
   "codemirror_mode": {
    "name": "ipython",
    "version": 2
   },
   "file_extension": ".py",
   "mimetype": "text/x-python",
   "name": "python",
   "nbconvert_exporter": "python",
   "pygments_lexer": "ipython2",
   "version": "2.7.6"
  }
 },
 "nbformat": 4,
 "nbformat_minor": 0
}