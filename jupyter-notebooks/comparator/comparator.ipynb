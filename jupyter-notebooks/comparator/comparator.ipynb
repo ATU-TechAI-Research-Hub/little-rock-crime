{
 "cells": [
  {
   "attachments": {},
   "cell_type": "markdown",
   "metadata": {},
   "source": [
    "## Comparing performance of NeuralProphet vs Prophet with additional regressors and default parameters.\n",
    "\n",
    "1. Importing libraries"
   ]
  },
  {
   "cell_type": "code",
   "execution_count": null,
   "metadata": {
    "pycharm": {
     "name": "#%%\n"
    }
   },
   "outputs": [],
   "source": [
    "import pandas as pd\n",
    "import numpy as np\n",
    "from neuralprophet import NeuralProphet\n",
    "from sklearn.metrics import mean_squared_error, mean_absolute_error, r2_score\n",
    "import random\n",
    "from prophet import Prophet \n",
    "import holidays\n",
    "from neuralprophet import set_random_seed\n",
    "\n",
    "set_random_seed(42)\n",
    "seed = 42\n",
    "np.random.seed(seed) \n",
    "random.seed(seed)\n"
   ]
  },
  {
   "attachments": {},
   "cell_type": "markdown",
   "metadata": {},
   "source": [
    "2. Importing daily crime count with regressor data."
   ]
  },
  {
   "cell_type": "code",
   "execution_count": null,
   "metadata": {
    "pycharm": {
     "name": "#%%\n"
    }
   },
   "outputs": [],
   "source": [
    "df = pd.read_csv(\"../../data/final-lrpd-data.csv\")\n",
    "import reduce_mem_usage\n",
    "df = reduce_mem_usage.reduce_mem_usage(df)\n",
    "regressors = ['is_holiday', 'dayofweek', 'quarter', 'month', 'year',\n",
    "       'dayofyear', 'dayofmonth', 'weekofyear', 'is_weekend', 'is_weekday',\n",
    "       'season', 'AWND', 'PRCP', 'SNWD', 'SNOW', 'TMAX', 'TMIN']\n",
    "df = df[[\"ds\", \"y\"] + regressors]\n",
    "df[\"ds\"] = pd.to_datetime(df[\"ds\"])\n",
    "df.set_index('ds').plot(figsize=(25, 9))\n",
    "df['pre_covid'] = pd.to_datetime(df['ds']) < pd.to_datetime('2020-03-21')\n",
    "df['post_covid'] = ~df['pre_covid']"
   ]
  },
  {
   "cell_type": "code",
   "execution_count": null,
   "metadata": {
    "pycharm": {
     "name": "#%%\n"
    }
   },
   "outputs": [],
   "source": [
    "train = df[:int(0.8 * (len(df)))]\n",
    "test = df[int(0.8 * (len(df))):]\n",
    "\n",
    "df_half = df[:int(0.5 * (len(df)))]\n",
    "train_half = df_half[:int(0.8 * (len(df_half)))]\n",
    "test_half = df_half[int(0.8 * (len(df_half))):]\n",
    "\n",
    "df_quarter = df[:int(0.25 * (len(df)))]\n",
    "train_quarter = df_quarter[:int(0.8 * (len(df_quarter)))]\n",
    "test_quarter = df_quarter[int(0.8 * (len(df_quarter))):]\n",
    "\n",
    "train.shape, test.shape"
   ]
  },
  {
   "attachments": {},
   "cell_type": "markdown",
   "metadata": {},
   "source": [
    "3. Fitting the all models with default settings and additional regressors/seasonality modifiers."
   ]
  },
  {
   "cell_type": "code",
   "execution_count": null,
   "metadata": {
    "pycharm": {
     "name": "#%%\n"
    }
   },
   "outputs": [],
   "source": [
    "def neural_prophet(train, test, regressor_enabled = True):\n",
    "    m = NeuralProphet(\n",
    "    )\n",
    "    m = m.add_country_holidays(country_name='US')\n",
    "\n",
    "    if regressor_enabled:\n",
    "        for regressor in regressors:\n",
    "            m = m.add_future_regressor(regressor)\n",
    "\n",
    "        m.add_seasonality(\n",
    "            name='weekly_pre_covid',\n",
    "            period=7,\n",
    "            fourier_order=3,\n",
    "            condition_name='pre_covid',\n",
    "        )\n",
    "        m.add_seasonality(\n",
    "            name='weekly_post_covid',\n",
    "            period=7,\n",
    "            fourier_order=3,\n",
    "            condition_name='post_covid',\n",
    "        )\n",
    "    \n",
    "    m.fit(train)\n",
    "    if regressor_enabled:\n",
    "        future = m.make_future_dataframe(train, periods=test.shape[0], regressors_df=test[regressors + ['pre_covid', 'post_covid']])\n",
    "        future['pre_covid'] = pd.to_datetime(future['ds']) < pd.to_datetime('2020-03-21')\n",
    "        future['post_covid'] = ~future['pre_covid']\n",
    "    else:\n",
    "        future = m.make_future_dataframe(train, periods=test.shape[0])\n",
    "    \n",
    "    forecast = m.predict(future)\n",
    "    forecast_on_train = m.predict(train)\n",
    "\n",
    "    toTest = test.merge(forecast[['ds', 'yhat1']], how='left', on='ds')\n",
    "    rmse = mean_squared_error(toTest['y'], toTest['yhat1'], squared=False)\n",
    "    return rmse\n",
    "\n",
    "def fb_prophet(train, test, regressor_enabled = True):\n",
    "    np.random.seed(42)\n",
    "    m = Prophet()\n",
    "    m.add_country_holidays(country_name='US')\n",
    "    \n",
    "    if regressor_enabled:\n",
    "        m.add_seasonality(\n",
    "            name='weekly_pre_covid',\n",
    "            period=7,\n",
    "            fourier_order=3,\n",
    "            condition_name='pre_covid',\n",
    "        )\n",
    "        m.add_seasonality(\n",
    "            name='weekly_post_covid',\n",
    "            period=7,\n",
    "            fourier_order=3,\n",
    "            condition_name='post_covid',\n",
    "        )\n",
    "        \n",
    "        for f in regressors:\n",
    "            m.add_regressor(f)\n",
    "\n",
    "    m.fit(train)\n",
    "\n",
    "\n",
    "    future_train = train.drop(columns=['y']).copy()\n",
    "    if regressor_enabled:\n",
    "        future_train['pre_covid'] = pd.to_datetime(future_train['ds']) < pd.to_datetime('2020-03-21')\n",
    "        future_train['post_covid'] = ~future_train['pre_covid']\n",
    "\n",
    "        for f in regressors:\n",
    "            future_train[f] = df[f][:len(train)]\n",
    "\n",
    "    forecast_train = m.predict(future_train)\n",
    "\n",
    "    # Evaluate performance on the train set\n",
    "    y_true_train = train['y'].values\n",
    "    y_pred_train = forecast_train['yhat'].values[:len(train)]\n",
    "    rmse_train = np.sqrt(mean_squared_error(y_true_train, y_pred_train))\n",
    "\n",
    "    future_test = test.drop(columns=['y']).copy()\n",
    "    if regressor_enabled:\n",
    "        future_test['pre_covid'] = pd.to_datetime(future_test['ds']) < pd.to_datetime('2020-03-21')\n",
    "        future_test['post_covid'] = ~future_test['pre_covid']\n",
    "\n",
    "        for f in regressors:\n",
    "            future_test[f] = df[f][len(train):]\n",
    "\n",
    "    forecast_test = m.predict(future_test)\n",
    "\n",
    "    # Evaluate performance on the test set\n",
    "    y_true_test = test['y'].values\n",
    "    y_pred_test = forecast_test['yhat'].values[-len(test):]\n",
    "    rmse_test_tuned = np.sqrt(mean_squared_error(y_true_test, y_pred_test))\n",
    "    \n",
    "    return rmse_test_tuned\n"
   ]
  },
  {
   "cell_type": "code",
   "execution_count": null,
   "metadata": {
    "collapsed": false,
    "pycharm": {
     "name": "#%%\n"
    }
   },
   "outputs": [],
   "source": [
    "fb_rmse_full_data = fb_prophet(train, test)\n",
    "neural_rmse_full_data = neural_prophet(train, test)\n",
    "\n",
    "fb_rmse_half_data = fb_prophet(train_half, test_half)\n",
    "neural_rmse_half_data = neural_prophet(train_half, test_half)\n",
    "\n",
    "fb_rmse_quarter_data = fb_prophet(train_quarter, test_quarter)\n",
    "neural_rmse_quarter_data = neural_prophet(train_quarter, test_quarter)\n",
    "\n",
    "fb_rmse_full_data_wo_regressor = fb_prophet(train[['ds', 'y']], test[['ds', 'y']], regressor_enabled=False)\n",
    "neural_rmse_full_data_wo_regressor = neural_prophet(train[['ds', 'y']], test[['ds', 'y']], regressor_enabled=False)\n",
    "\n",
    "fb_rmse_half_data_wo_regressor = fb_prophet(train_half[['ds', 'y']], test_half[['ds', 'y']], regressor_enabled=False)\n",
    "neural_rmse_half_data_wo_regressor = neural_prophet(train_half[['ds', 'y']], test_half[['ds', 'y']], regressor_enabled=False)\n",
    "\n",
    "fb_rmse_quarter_data_wo_regressor = fb_prophet(train_quarter[['ds', 'y']], test_quarter[['ds', 'y']], regressor_enabled=False)\n",
    "neural_rmse_quarter_data_wo_regressor = neural_prophet(train_quarter[['ds', 'y']], test_quarter[['ds', 'y']], regressor_enabled=False)"
   ]
  },
  {
   "cell_type": "code",
   "execution_count": null,
   "metadata": {},
   "outputs": [],
   "source": [
    "print(\"NeuralProphet RMSE: \", neural_rmse_full_data)\n",
    "print(\"Prophet RMSE: \", fb_rmse_full_data)\n",
    "\n",
    "print(\"NeuralProphet RMSE (half data): \", neural_rmse_half_data)\n",
    "print(\"Prophet RMSE (half data): \", fb_rmse_half_data)\n",
    "\n",
    "print(\"NeuralProphet RMSE (quarter data): \", neural_rmse_quarter_data)\n",
    "print(\"Prophet RMSE (quarter data): \", fb_rmse_quarter_data)\n",
    "\n",
    "print(\"NeuralProphet RMSE (full data, no regressor): \", neural_rmse_full_data_wo_regressor)\n",
    "print(\"Prophet RMSE (full data, no regressor): \", fb_rmse_full_data_wo_regressor)\n",
    "\n",
    "print(\"NeuralProphet RMSE (half data, no regressor): \", neural_rmse_half_data_wo_regressor)\n",
    "print(\"Prophet RMSE (half data, no regressor): \", fb_rmse_half_data_wo_regressor)\n",
    "\n",
    "print(\"NeuralProphet RMSE (quarter data, no regressor): \", neural_rmse_quarter_data_wo_regressor)\n",
    "print(\"Prophet RMSE (quarter data, no regressor): \", fb_rmse_quarter_data_wo_regressor)"
   ]
  }
 ],
 "metadata": {
  "kernelspec": {
   "display_name": "Python 3 (ipykernel)",
   "language": "python",
   "name": "python3"
  },
  "language_info": {
   "codemirror_mode": {
    "name": "ipython",
    "version": 3
   },
   "file_extension": ".py",
   "mimetype": "text/x-python",
   "name": "python",
   "nbconvert_exporter": "python",
   "pygments_lexer": "ipython3",
   "version": "3.9.13"
  }
 },
 "nbformat": 4,
 "nbformat_minor": 1
}
