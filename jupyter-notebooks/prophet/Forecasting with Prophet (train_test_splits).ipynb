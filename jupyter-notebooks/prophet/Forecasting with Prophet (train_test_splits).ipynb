{
 "cells": [
  {
   "attachments": {},
   "cell_type": "markdown",
   "metadata": {},
   "source": [
    "# Forecasting crime with Facebook Prophet"
   ]
  },
  {
   "attachments": {},
   "cell_type": "markdown",
   "metadata": {},
   "source": [
    "#### 1. Import libraries and data"
   ]
  },
  {
   "cell_type": "code",
   "execution_count": 1,
   "metadata": {
    "is_executing": true
   },
   "outputs": [
    {
     "name": "stderr",
     "output_type": "stream",
     "text": [
      "/opt/homebrew/lib/python3.11/site-packages/tqdm/auto.py:21: TqdmWarning: IProgress not found. Please update jupyter and ipywidgets. See https://ipywidgets.readthedocs.io/en/stable/user_install.html\n",
      "  from .autonotebook import tqdm as notebook_tqdm\n"
     ]
    }
   ],
   "source": [
    "import pandas as pd \n",
    "import numpy as np \n",
    "\n",
    "\n",
    "from sklearn.metrics import mean_squared_error\n",
    "from sklearn.feature_selection import RFECV\n",
    "from sklearn.linear_model import Ridge\n",
    "\n",
    "from prophet import Prophet \n",
    "from prophet.plot import plot_plotly, plot_components_plotly\n",
    "import matplotlib.pyplot as plt \n",
    "%matplotlib inline\n",
    "\n",
    "import itertools\n",
    "\n",
    "import warnings\n",
    "warnings.simplefilter(action='ignore', category= FutureWarning)\n",
    "\n",
    "import holidays\n",
    "\n",
    "import plotly.graph_objs as go\n",
    "\n",
    "from prophet.diagnostics import cross_validation, performance_metrics\n",
    "from prophet.plot import plot_yearly, add_changepoints_to_plot\n",
    "plt.style.use('fivethirtyeight')"
   ]
  },
  {
   "cell_type": "code",
   "execution_count": 2,
   "metadata": {},
   "outputs": [],
   "source": [
    "# Read the data\n",
    "df = pd.read_csv('lrpd-clean.csv')"
   ]
  },
  {
   "attachments": {},
   "cell_type": "markdown",
   "metadata": {},
   "source": [
    "#### 2. Reducing memory helps us do feature engineering faster and more efficiently"
   ]
  },
  {
   "cell_type": "code",
   "execution_count": 3,
   "metadata": {},
   "outputs": [
    {
     "name": "stdout",
     "output_type": "stream",
     "text": [
      "Memory usage of dataframe is 10.60 MB\n",
      "Memory usage after optimizations: 5.47 MB\n",
      "Decreased by 48.4%\n"
     ]
    }
   ],
   "source": [
    "# Reduce memory like we did in data cleanup\n",
    "def reduce_mem_usage(df, category=False):\n",
    "  start_mem = df.memory_usage().sum() / 1024 **2\n",
    "  print('Memory usage of dataframe is {:.2f} MB'.format(start_mem))\n",
    "\n",
    "  for col in df.columns:\n",
    "    col_type = df[col].dtype\n",
    "\n",
    "    if col_type != object:\n",
    "      c_min = df[col].min()\n",
    "      c_max = df[col].max()\n",
    "      if str(col_type)[:3] == 'int':\n",
    "        if c_min > np.iinfo(np.int8).min and c_max < np.iinfo(np.int8).max:\n",
    "          df[col] = df[col].astype(np.int8)\n",
    "        elif c_min > np.iinfo(np.int16).min and c_max < np.iinfo(np.int16).max:\n",
    "          df[col] = df[col].astype(np.int16)\n",
    "        elif c_min > np.iinfo(np.int32).min and c_max < np.iinfo(np.int32).max:\n",
    "          df[col] = df[col].astype(np.int32)\n",
    "        elif c_min > np.iinfo(np.int64).min and c_max < np.iinfo(np.int64).max:\n",
    "          df[col] = df[col].astype(np.int64)\n",
    "      else:\n",
    "        if c_min  > np.finfo(np.float16).min and c_max < np.finfo(np.float16).max:\n",
    "          df[col] = df[col].astype(np.float16)\n",
    "        elif c_min > np.finfo(np.float32).min and c_max < np.finfo(np.float32).max:\n",
    "          df[col] = df[col].astype(np.float32)\n",
    "        else:\n",
    "          df[col] = df[col].astype(np.float64)\n",
    "    else:\n",
    "      if category:\n",
    "        df[col] = df[col].astype('category')\n",
    "\n",
    "  end_mem = df.memory_usage().sum() / 1024 ** 2\n",
    "  print('Memory usage after optimizations: {:.2f} MB'.format(end_mem))\n",
    "  print('Decreased by {:.1f}%'.format(100 * (start_mem - end_mem) / start_mem))\n",
    "  return df\n",
    "\n",
    "df = reduce_mem_usage(df)"
   ]
  },
  {
   "attachments": {},
   "cell_type": "markdown",
   "metadata": {},
   "source": [
    "#### 3. Set correct data types"
   ]
  },
  {
   "cell_type": "code",
   "execution_count": 4,
   "metadata": {},
   "outputs": [
    {
     "data": {
      "text/plain": [
       "INCIDENT_NUMBER                object\n",
       "INCIDENT_DATE          datetime64[ns]\n",
       "LOCATION_DISTRICT             float16\n",
       "OFFENSE_DESCRIPTION            object\n",
       "WEAPON_TYPE                    object\n",
       "ZIP                           float32\n",
       "LATITUDE                      float16\n",
       "LONGITUDE                     float16\n",
       "WEEK_OF_MONTH                    int8\n",
       "YEAR                            int16\n",
       "DAY                              int8\n",
       "DAY_OF_YEAR                     int16\n",
       "MONTH                            int8\n",
       "CRIME_TYPE                     object\n",
       "RISK_TYPE                      object\n",
       "RISK_TYPE_BC                     int8\n",
       "dtype: object"
      ]
     },
     "execution_count": 4,
     "metadata": {},
     "output_type": "execute_result"
    }
   ],
   "source": [
    "df[\"INCIDENT_DATE\"] = pd.to_datetime(df[\"INCIDENT_DATE\"])\n",
    "df.dtypes"
   ]
  },
  {
   "attachments": {},
   "cell_type": "markdown",
   "metadata": {},
   "source": [
    "#### 4. Prophet takes a dataframe with two columns: ds and y.\n",
    "* The ds (datestamp) column should be of a format expected by Pandas, ideally YYYY-MM-DD for a date or YYYY-MM-DD HH:MM:SS for a timestamp.\n",
    "*  The y column must be numeric, and represents the measurement we wish to forecast."
   ]
  },
  {
   "cell_type": "code",
   "execution_count": 5,
   "metadata": {},
   "outputs": [],
   "source": [
    "df = df.groupby(pd.Grouper(key='INCIDENT_DATE', freq='D')).size().reset_index(name='INCIDENT_COUNT')\n",
    "df.columns = ['ds', 'y']"
   ]
  },
  {
   "cell_type": "code",
   "execution_count": 6,
   "metadata": {},
   "outputs": [
    {
     "data": {
      "text/plain": [
       "2242"
      ]
     },
     "execution_count": 6,
     "metadata": {},
     "output_type": "execute_result"
    }
   ],
   "source": [
    "len(df)"
   ]
  },
  {
   "attachments": {},
   "cell_type": "markdown",
   "metadata": {},
   "source": [
    "#### 5. Make a baseline model using Prophet to see how well the model does without adding regressors, holidays or hyperparameter tuning."
   ]
  },
  {
   "cell_type": "code",
   "execution_count": 7,
   "metadata": {},
   "outputs": [
    {
     "name": "stderr",
     "output_type": "stream",
     "text": [
      "09:44:58 - cmdstanpy - INFO - Chain [1] start processing\n",
      "09:44:58 - cmdstanpy - INFO - Chain [1] done processing\n"
     ]
    },
    {
     "name": "stdout",
     "output_type": "stream",
     "text": [
      "Train RMSE: 7.74044614071794\n",
      "Test RMSE: 9.09809956126226\n"
     ]
    }
   ],
   "source": [
    "\n",
    "# Split the data into train and test sets\n",
    "train_size = int(len(df) * 0.8)\n",
    "train_df = df[:train_size]\n",
    "test_df = df[train_size:]\n",
    "\n",
    "# Initialize and fit the model on the train set\n",
    "m = Prophet()\n",
    "m.fit(train_df)\n",
    "\n",
    "# Make predictions for the train and test sets\n",
    "future_train = m.make_future_dataframe(periods=len(train_df))\n",
    "forecast_train = m.predict(future_train)\n",
    "\n",
    "future_test = m.make_future_dataframe(periods=len(test_df))\n",
    "forecast_test = m.predict(future_test)\n",
    "\n",
    "# Evaluate performance on the train set\n",
    "y_true_train = train_df['y'].values\n",
    "y_pred_train = forecast_train['yhat'].values[:len(train_df)]\n",
    "rmse_train = np.sqrt(mean_squared_error(y_true_train, y_pred_train))\n",
    "\n",
    "print(\"Train RMSE:\", rmse_train)\n",
    "\n",
    "# Evaluate performance on the test set\n",
    "y_true_test = test_df['y'].values\n",
    "y_pred_test = forecast_test['yhat'].values[-len(test_df):]\n",
    "rmse_test_baseline = np.sqrt(mean_squared_error(y_true_test, y_pred_test))\n",
    "\n",
    "print(\"Test RMSE:\", rmse_test_baseline)\n"
   ]
  },
  {
   "attachments": {},
   "cell_type": "markdown",
   "metadata": {},
   "source": [
    "#### 6. Lets add holidays to the model to see how well it does."
   ]
  },
  {
   "cell_type": "code",
   "execution_count": 8,
   "metadata": {},
   "outputs": [
    {
     "name": "stderr",
     "output_type": "stream",
     "text": [
      "09:44:59 - cmdstanpy - INFO - Chain [1] start processing\n",
      "09:45:00 - cmdstanpy - INFO - Chain [1] done processing\n"
     ]
    },
    {
     "name": "stdout",
     "output_type": "stream",
     "text": [
      "Train RMSE: 7.426904337553296\n",
      "Test RMSE: 9.503108288453053\n"
     ]
    }
   ],
   "source": [
    "# After zooming into the data, we see that arround christmas and 4th of july, we have an affect because of the holidays.\n",
    "christmas = pd.DataFrame({'holiday': 'Christmas',\n",
    "  'ds': pd.to_datetime(['2017-12-24','2018-12-24','2019-12-24','2020-12-24', '2021-12-24', '2022-12-24']),\n",
    "  'lower_window': -2,\n",
    "  'upper_window': 5,\n",
    "})\n",
    "\n",
    "fourth_of_july = pd.DataFrame({'holiday': 'Fourth of July',\n",
    "    'ds': pd.to_datetime(['2017-07-04','2018-07-04','2019-07-04','2020-07-04', '2021-07-04', '2022-07-04']),\n",
    "    'lower_window': -1,\n",
    "    'upper_window': 1,\n",
    "})\n",
    "\n",
    "m = Prophet(seasonality_mode='multiplicative', weekly_seasonality=True, daily_seasonality=True, holidays=christmas)\n",
    "m.add_country_holidays(country_name='US')\n",
    "m.fit(train_df)\n",
    "\n",
    "future_train = m.make_future_dataframe(periods=len(train_df))\n",
    "forecast_train = m.predict(future_train)\n",
    "\n",
    "future_test = m.make_future_dataframe(periods=len(test_df))\n",
    "forecast_test = m.predict(future_test)\n",
    "\n",
    "# Evaluate performance on the train set\n",
    "y_true_train = train_df['y'].values\n",
    "y_pred_train = forecast_train['yhat'].values[:len(train_df)]\n",
    "rmse_train = np.sqrt(mean_squared_error(y_true_train, y_pred_train))\n",
    "\n",
    "print(\"Train RMSE:\", rmse_train)\n",
    "\n",
    "# Evaluate performance on the test set\n",
    "y_true_test = test_df['y'].values\n",
    "y_pred_test = forecast_test['yhat'].values[-len(test_df):]\n",
    "rmse_test_holiday = np.sqrt(mean_squared_error(y_true_test, y_pred_test))\n",
    "\n",
    "print(\"Test RMSE:\", rmse_test_holiday)\n"
   ]
  },
  {
   "attachments": {},
   "cell_type": "markdown",
   "metadata": {},
   "source": [
    "## Putting it all together\n",
    "\n",
    "* Now we can start putting everything together by hyperparameter tuning, adding holidays, and eventually adding weather data as well."
   ]
  },
  {
   "cell_type": "code",
   "execution_count": 9,
   "metadata": {},
   "outputs": [],
   "source": [
    "df = pd.read_csv('lrpd-clean.csv')\n",
    "df['INCIDENT_DATE'] = pd.to_datetime(df['INCIDENT_DATE'])\n",
    "df = df.groupby(pd.Grouper(key='INCIDENT_DATE', freq='D')).size().reset_index(name='INCIDENT_COUNT')\n",
    "df.columns = ['ds', 'y']\n",
    "df.shape\n",
    "param_grid = {  \n",
    "    'changepoint_prior_scale': [0.001, 0.1],\n",
    "    'seasonality_prior_scale': [0.01, 1.0],\n",
    "    'holidays_prior_scale': [0.01, 0.1],\n",
    "    'seasonality_mode': ['additive', 'multiplicative'],\n",
    "    'daily_seasonality': [True, False],\n",
    "    'weekly_seasonality': [True, False],\n",
    "    'yearly_seasonality': [True, False],\n",
    "    'holidays': [christmas, fourth_of_july],\n",
    "}\n",
    "\n",
    "all_params = [dict(zip(param_grid.keys(), v)) for v in itertools.product(*param_grid.values())]\n",
    "rmses = []\n"
   ]
  },
  {
   "cell_type": "code",
   "execution_count": 10,
   "metadata": {},
   "outputs": [
    {
     "name": "stderr",
     "output_type": "stream",
     "text": [
      "09:45:01 - cmdstanpy - INFO - Chain [1] start processing\n",
      "09:45:01 - cmdstanpy - INFO - Chain [1] done processing\n",
      "09:45:02 - cmdstanpy - INFO - Chain [1] start processing\n",
      "09:45:02 - cmdstanpy - INFO - Chain [1] done processing\n",
      "09:45:03 - cmdstanpy - INFO - Chain [1] start processing\n",
      "09:45:03 - cmdstanpy - INFO - Chain [1] done processing\n",
      "09:45:04 - cmdstanpy - INFO - Chain [1] start processing\n",
      "09:45:04 - cmdstanpy - INFO - Chain [1] done processing\n",
      "09:45:05 - cmdstanpy - INFO - Chain [1] start processing\n",
      "09:45:05 - cmdstanpy - INFO - Chain [1] done processing\n",
      "09:45:06 - cmdstanpy - INFO - Chain [1] start processing\n",
      "09:45:06 - cmdstanpy - INFO - Chain [1] done processing\n",
      "09:45:07 - cmdstanpy - INFO - Chain [1] start processing\n",
      "09:45:07 - cmdstanpy - INFO - Chain [1] done processing\n",
      "09:45:08 - cmdstanpy - INFO - Chain [1] start processing\n",
      "09:45:08 - cmdstanpy - INFO - Chain [1] done processing\n",
      "09:45:09 - cmdstanpy - INFO - Chain [1] start processing\n",
      "09:45:09 - cmdstanpy - INFO - Chain [1] done processing\n",
      "09:45:10 - cmdstanpy - INFO - Chain [1] start processing\n",
      "09:45:10 - cmdstanpy - INFO - Chain [1] done processing\n",
      "09:45:11 - cmdstanpy - INFO - Chain [1] start processing\n",
      "09:45:11 - cmdstanpy - INFO - Chain [1] done processing\n",
      "09:45:12 - cmdstanpy - INFO - Chain [1] start processing\n",
      "09:45:12 - cmdstanpy - INFO - Chain [1] done processing\n",
      "09:45:12 - cmdstanpy - INFO - Chain [1] start processing\n",
      "09:45:12 - cmdstanpy - INFO - Chain [1] done processing\n",
      "09:45:13 - cmdstanpy - INFO - Chain [1] start processing\n",
      "09:45:13 - cmdstanpy - INFO - Chain [1] done processing\n",
      "09:45:14 - cmdstanpy - INFO - Chain [1] start processing\n",
      "09:45:14 - cmdstanpy - INFO - Chain [1] done processing\n",
      "09:45:15 - cmdstanpy - INFO - Chain [1] start processing\n",
      "09:45:15 - cmdstanpy - INFO - Chain [1] done processing\n",
      "09:45:16 - cmdstanpy - INFO - Chain [1] start processing\n",
      "09:45:16 - cmdstanpy - INFO - Chain [1] done processing\n",
      "09:45:17 - cmdstanpy - INFO - Chain [1] start processing\n",
      "09:45:17 - cmdstanpy - INFO - Chain [1] done processing\n",
      "09:45:18 - cmdstanpy - INFO - Chain [1] start processing\n",
      "09:45:18 - cmdstanpy - INFO - Chain [1] done processing\n",
      "09:45:19 - cmdstanpy - INFO - Chain [1] start processing\n",
      "09:45:19 - cmdstanpy - INFO - Chain [1] done processing\n",
      "09:45:20 - cmdstanpy - INFO - Chain [1] start processing\n",
      "09:45:20 - cmdstanpy - INFO - Chain [1] done processing\n",
      "09:45:21 - cmdstanpy - INFO - Chain [1] start processing\n",
      "09:45:21 - cmdstanpy - INFO - Chain [1] done processing\n",
      "09:45:22 - cmdstanpy - INFO - Chain [1] start processing\n",
      "09:45:22 - cmdstanpy - INFO - Chain [1] done processing\n",
      "09:45:23 - cmdstanpy - INFO - Chain [1] start processing\n",
      "09:45:23 - cmdstanpy - INFO - Chain [1] done processing\n",
      "09:45:24 - cmdstanpy - INFO - Chain [1] start processing\n",
      "09:45:24 - cmdstanpy - INFO - Chain [1] done processing\n",
      "09:45:25 - cmdstanpy - INFO - Chain [1] start processing\n",
      "09:45:25 - cmdstanpy - INFO - Chain [1] done processing\n",
      "09:45:26 - cmdstanpy - INFO - Chain [1] start processing\n",
      "09:45:26 - cmdstanpy - INFO - Chain [1] done processing\n",
      "09:45:27 - cmdstanpy - INFO - Chain [1] start processing\n",
      "09:45:27 - cmdstanpy - INFO - Chain [1] done processing\n",
      "09:45:28 - cmdstanpy - INFO - Chain [1] start processing\n",
      "09:45:28 - cmdstanpy - INFO - Chain [1] done processing\n",
      "09:45:29 - cmdstanpy - INFO - Chain [1] start processing\n",
      "09:45:29 - cmdstanpy - INFO - Chain [1] done processing\n",
      "09:45:30 - cmdstanpy - INFO - Chain [1] start processing\n",
      "09:45:30 - cmdstanpy - INFO - Chain [1] done processing\n",
      "09:45:30 - cmdstanpy - INFO - Chain [1] start processing\n",
      "09:45:30 - cmdstanpy - INFO - Chain [1] done processing\n",
      "09:45:31 - cmdstanpy - INFO - Chain [1] start processing\n",
      "09:45:31 - cmdstanpy - INFO - Chain [1] done processing\n",
      "09:45:32 - cmdstanpy - INFO - Chain [1] start processing\n",
      "09:45:32 - cmdstanpy - INFO - Chain [1] done processing\n",
      "09:45:33 - cmdstanpy - INFO - Chain [1] start processing\n",
      "09:45:33 - cmdstanpy - INFO - Chain [1] done processing\n",
      "09:45:34 - cmdstanpy - INFO - Chain [1] start processing\n",
      "09:45:34 - cmdstanpy - INFO - Chain [1] done processing\n",
      "09:45:35 - cmdstanpy - INFO - Chain [1] start processing\n",
      "09:45:35 - cmdstanpy - INFO - Chain [1] done processing\n",
      "09:45:36 - cmdstanpy - INFO - Chain [1] start processing\n",
      "09:45:36 - cmdstanpy - INFO - Chain [1] done processing\n",
      "09:45:37 - cmdstanpy - INFO - Chain [1] start processing\n",
      "09:45:37 - cmdstanpy - INFO - Chain [1] done processing\n",
      "09:45:38 - cmdstanpy - INFO - Chain [1] start processing\n",
      "09:45:38 - cmdstanpy - INFO - Chain [1] done processing\n",
      "09:45:39 - cmdstanpy - INFO - Chain [1] start processing\n",
      "09:45:39 - cmdstanpy - INFO - Chain [1] done processing\n",
      "09:45:40 - cmdstanpy - INFO - Chain [1] start processing\n",
      "09:45:40 - cmdstanpy - INFO - Chain [1] done processing\n",
      "09:45:40 - cmdstanpy - INFO - Chain [1] start processing\n",
      "09:45:41 - cmdstanpy - INFO - Chain [1] done processing\n",
      "09:45:41 - cmdstanpy - INFO - Chain [1] start processing\n",
      "09:45:41 - cmdstanpy - INFO - Chain [1] done processing\n",
      "09:45:42 - cmdstanpy - INFO - Chain [1] start processing\n",
      "09:45:42 - cmdstanpy - INFO - Chain [1] done processing\n",
      "09:45:43 - cmdstanpy - INFO - Chain [1] start processing\n",
      "09:45:43 - cmdstanpy - INFO - Chain [1] done processing\n",
      "09:45:44 - cmdstanpy - INFO - Chain [1] start processing\n",
      "09:45:44 - cmdstanpy - INFO - Chain [1] done processing\n",
      "09:45:45 - cmdstanpy - INFO - Chain [1] start processing\n",
      "09:45:45 - cmdstanpy - INFO - Chain [1] done processing\n",
      "09:45:46 - cmdstanpy - INFO - Chain [1] start processing\n",
      "09:45:46 - cmdstanpy - INFO - Chain [1] done processing\n",
      "09:45:47 - cmdstanpy - INFO - Chain [1] start processing\n",
      "09:45:47 - cmdstanpy - INFO - Chain [1] done processing\n",
      "09:45:48 - cmdstanpy - INFO - Chain [1] start processing\n",
      "09:45:48 - cmdstanpy - INFO - Chain [1] done processing\n",
      "09:45:49 - cmdstanpy - INFO - Chain [1] start processing\n",
      "09:45:49 - cmdstanpy - INFO - Chain [1] done processing\n",
      "09:45:49 - cmdstanpy - INFO - Chain [1] start processing\n",
      "09:45:50 - cmdstanpy - INFO - Chain [1] done processing\n",
      "09:45:50 - cmdstanpy - INFO - Chain [1] start processing\n",
      "09:45:51 - cmdstanpy - INFO - Chain [1] done processing\n",
      "09:45:51 - cmdstanpy - INFO - Chain [1] start processing\n",
      "09:45:51 - cmdstanpy - INFO - Chain [1] done processing\n",
      "09:45:52 - cmdstanpy - INFO - Chain [1] start processing\n",
      "09:45:52 - cmdstanpy - INFO - Chain [1] done processing\n",
      "09:45:53 - cmdstanpy - INFO - Chain [1] start processing\n",
      "09:45:53 - cmdstanpy - INFO - Chain [1] done processing\n",
      "09:45:54 - cmdstanpy - INFO - Chain [1] start processing\n",
      "09:45:54 - cmdstanpy - INFO - Chain [1] done processing\n",
      "09:45:55 - cmdstanpy - INFO - Chain [1] start processing\n",
      "09:45:55 - cmdstanpy - INFO - Chain [1] done processing\n",
      "09:45:56 - cmdstanpy - INFO - Chain [1] start processing\n",
      "09:45:56 - cmdstanpy - INFO - Chain [1] done processing\n",
      "09:45:57 - cmdstanpy - INFO - Chain [1] start processing\n",
      "09:45:57 - cmdstanpy - INFO - Chain [1] done processing\n",
      "09:45:58 - cmdstanpy - INFO - Chain [1] start processing\n",
      "09:45:58 - cmdstanpy - INFO - Chain [1] done processing\n",
      "09:45:59 - cmdstanpy - INFO - Chain [1] start processing\n",
      "09:45:59 - cmdstanpy - INFO - Chain [1] done processing\n",
      "09:46:00 - cmdstanpy - INFO - Chain [1] start processing\n",
      "09:46:00 - cmdstanpy - INFO - Chain [1] done processing\n",
      "09:46:01 - cmdstanpy - INFO - Chain [1] start processing\n",
      "09:46:01 - cmdstanpy - INFO - Chain [1] done processing\n",
      "09:46:01 - cmdstanpy - INFO - Chain [1] start processing\n",
      "09:46:02 - cmdstanpy - INFO - Chain [1] done processing\n",
      "09:46:02 - cmdstanpy - INFO - Chain [1] start processing\n",
      "09:46:02 - cmdstanpy - INFO - Chain [1] done processing\n",
      "09:46:03 - cmdstanpy - INFO - Chain [1] start processing\n",
      "09:46:03 - cmdstanpy - INFO - Chain [1] done processing\n",
      "09:46:04 - cmdstanpy - INFO - Chain [1] start processing\n",
      "09:46:04 - cmdstanpy - INFO - Chain [1] done processing\n",
      "09:46:05 - cmdstanpy - INFO - Chain [1] start processing\n",
      "09:46:05 - cmdstanpy - INFO - Chain [1] done processing\n",
      "09:46:06 - cmdstanpy - INFO - Chain [1] start processing\n",
      "09:46:06 - cmdstanpy - INFO - Chain [1] done processing\n",
      "09:46:07 - cmdstanpy - INFO - Chain [1] start processing\n",
      "09:46:07 - cmdstanpy - INFO - Chain [1] done processing\n",
      "09:46:08 - cmdstanpy - INFO - Chain [1] start processing\n",
      "09:46:08 - cmdstanpy - INFO - Chain [1] done processing\n",
      "09:46:09 - cmdstanpy - INFO - Chain [1] start processing\n",
      "09:46:09 - cmdstanpy - INFO - Chain [1] done processing\n",
      "09:46:10 - cmdstanpy - INFO - Chain [1] start processing\n",
      "09:46:10 - cmdstanpy - INFO - Chain [1] done processing\n",
      "09:46:11 - cmdstanpy - INFO - Chain [1] start processing\n",
      "09:46:11 - cmdstanpy - INFO - Chain [1] done processing\n",
      "09:46:12 - cmdstanpy - INFO - Chain [1] start processing\n",
      "09:46:12 - cmdstanpy - INFO - Chain [1] done processing\n",
      "09:46:13 - cmdstanpy - INFO - Chain [1] start processing\n",
      "09:46:13 - cmdstanpy - INFO - Chain [1] done processing\n",
      "09:46:13 - cmdstanpy - INFO - Chain [1] start processing\n",
      "09:46:13 - cmdstanpy - INFO - Chain [1] done processing\n",
      "09:46:14 - cmdstanpy - INFO - Chain [1] start processing\n",
      "09:46:14 - cmdstanpy - INFO - Chain [1] done processing\n",
      "09:46:15 - cmdstanpy - INFO - Chain [1] start processing\n",
      "09:46:15 - cmdstanpy - INFO - Chain [1] done processing\n",
      "09:46:16 - cmdstanpy - INFO - Chain [1] start processing\n",
      "09:46:16 - cmdstanpy - INFO - Chain [1] done processing\n",
      "09:46:17 - cmdstanpy - INFO - Chain [1] start processing\n",
      "09:46:17 - cmdstanpy - INFO - Chain [1] done processing\n",
      "09:46:19 - cmdstanpy - INFO - Chain [1] start processing\n",
      "09:46:19 - cmdstanpy - INFO - Chain [1] done processing\n",
      "09:46:20 - cmdstanpy - INFO - Chain [1] start processing\n",
      "09:46:20 - cmdstanpy - INFO - Chain [1] done processing\n",
      "09:46:21 - cmdstanpy - INFO - Chain [1] start processing\n",
      "09:46:21 - cmdstanpy - INFO - Chain [1] done processing\n",
      "09:46:22 - cmdstanpy - INFO - Chain [1] start processing\n",
      "09:46:22 - cmdstanpy - INFO - Chain [1] done processing\n",
      "09:46:23 - cmdstanpy - INFO - Chain [1] start processing\n",
      "09:46:23 - cmdstanpy - INFO - Chain [1] done processing\n",
      "09:46:24 - cmdstanpy - INFO - Chain [1] start processing\n",
      "09:46:24 - cmdstanpy - INFO - Chain [1] done processing\n",
      "09:46:25 - cmdstanpy - INFO - Chain [1] start processing\n",
      "09:46:25 - cmdstanpy - INFO - Chain [1] done processing\n",
      "09:46:26 - cmdstanpy - INFO - Chain [1] start processing\n",
      "09:46:26 - cmdstanpy - INFO - Chain [1] done processing\n",
      "09:46:27 - cmdstanpy - INFO - Chain [1] start processing\n",
      "09:46:27 - cmdstanpy - INFO - Chain [1] done processing\n",
      "09:46:28 - cmdstanpy - INFO - Chain [1] start processing\n",
      "09:46:28 - cmdstanpy - INFO - Chain [1] done processing\n",
      "09:46:29 - cmdstanpy - INFO - Chain [1] start processing\n",
      "09:46:29 - cmdstanpy - INFO - Chain [1] done processing\n",
      "09:46:30 - cmdstanpy - INFO - Chain [1] start processing\n",
      "09:46:30 - cmdstanpy - INFO - Chain [1] done processing\n",
      "09:46:31 - cmdstanpy - INFO - Chain [1] start processing\n",
      "09:46:31 - cmdstanpy - INFO - Chain [1] done processing\n",
      "09:46:32 - cmdstanpy - INFO - Chain [1] start processing\n",
      "09:46:32 - cmdstanpy - INFO - Chain [1] done processing\n",
      "09:46:33 - cmdstanpy - INFO - Chain [1] start processing\n",
      "09:46:33 - cmdstanpy - INFO - Chain [1] done processing\n",
      "09:46:34 - cmdstanpy - INFO - Chain [1] start processing\n",
      "09:46:34 - cmdstanpy - INFO - Chain [1] done processing\n",
      "09:46:35 - cmdstanpy - INFO - Chain [1] start processing\n",
      "09:46:35 - cmdstanpy - INFO - Chain [1] done processing\n",
      "09:46:35 - cmdstanpy - INFO - Chain [1] start processing\n",
      "09:46:36 - cmdstanpy - INFO - Chain [1] done processing\n",
      "09:46:36 - cmdstanpy - INFO - Chain [1] start processing\n",
      "09:46:36 - cmdstanpy - INFO - Chain [1] done processing\n",
      "09:46:37 - cmdstanpy - INFO - Chain [1] start processing\n",
      "09:46:37 - cmdstanpy - INFO - Chain [1] done processing\n",
      "09:46:38 - cmdstanpy - INFO - Chain [1] start processing\n",
      "09:46:38 - cmdstanpy - INFO - Chain [1] done processing\n",
      "09:46:39 - cmdstanpy - INFO - Chain [1] start processing\n",
      "09:46:39 - cmdstanpy - INFO - Chain [1] done processing\n",
      "09:46:40 - cmdstanpy - INFO - Chain [1] start processing\n",
      "09:46:40 - cmdstanpy - INFO - Chain [1] done processing\n",
      "09:46:41 - cmdstanpy - INFO - Chain [1] start processing\n",
      "09:46:41 - cmdstanpy - INFO - Chain [1] done processing\n",
      "09:46:42 - cmdstanpy - INFO - Chain [1] start processing\n",
      "09:46:42 - cmdstanpy - INFO - Chain [1] done processing\n",
      "09:46:43 - cmdstanpy - INFO - Chain [1] start processing\n",
      "09:46:43 - cmdstanpy - INFO - Chain [1] done processing\n",
      "09:46:44 - cmdstanpy - INFO - Chain [1] start processing\n",
      "09:46:44 - cmdstanpy - INFO - Chain [1] done processing\n",
      "09:46:45 - cmdstanpy - INFO - Chain [1] start processing\n",
      "09:46:45 - cmdstanpy - INFO - Chain [1] done processing\n",
      "09:46:46 - cmdstanpy - INFO - Chain [1] start processing\n",
      "09:46:46 - cmdstanpy - INFO - Chain [1] done processing\n",
      "09:46:47 - cmdstanpy - INFO - Chain [1] start processing\n",
      "09:46:47 - cmdstanpy - INFO - Chain [1] done processing\n",
      "09:46:48 - cmdstanpy - INFO - Chain [1] start processing\n",
      "09:46:48 - cmdstanpy - INFO - Chain [1] done processing\n",
      "09:46:49 - cmdstanpy - INFO - Chain [1] start processing\n",
      "09:46:49 - cmdstanpy - INFO - Chain [1] done processing\n",
      "09:46:50 - cmdstanpy - INFO - Chain [1] start processing\n",
      "09:46:50 - cmdstanpy - INFO - Chain [1] done processing\n",
      "09:46:51 - cmdstanpy - INFO - Chain [1] start processing\n",
      "09:46:51 - cmdstanpy - INFO - Chain [1] done processing\n",
      "09:46:52 - cmdstanpy - INFO - Chain [1] start processing\n",
      "09:46:52 - cmdstanpy - INFO - Chain [1] done processing\n",
      "09:46:53 - cmdstanpy - INFO - Chain [1] start processing\n",
      "09:46:53 - cmdstanpy - INFO - Chain [1] done processing\n",
      "09:46:54 - cmdstanpy - INFO - Chain [1] start processing\n",
      "09:46:54 - cmdstanpy - INFO - Chain [1] done processing\n",
      "09:46:55 - cmdstanpy - INFO - Chain [1] start processing\n",
      "09:46:55 - cmdstanpy - INFO - Chain [1] done processing\n",
      "09:46:56 - cmdstanpy - INFO - Chain [1] start processing\n",
      "09:46:56 - cmdstanpy - INFO - Chain [1] done processing\n",
      "09:46:57 - cmdstanpy - INFO - Chain [1] start processing\n",
      "09:46:57 - cmdstanpy - INFO - Chain [1] done processing\n",
      "09:46:58 - cmdstanpy - INFO - Chain [1] start processing\n",
      "09:46:58 - cmdstanpy - INFO - Chain [1] done processing\n",
      "09:46:59 - cmdstanpy - INFO - Chain [1] start processing\n",
      "09:46:59 - cmdstanpy - INFO - Chain [1] done processing\n",
      "09:47:00 - cmdstanpy - INFO - Chain [1] start processing\n",
      "09:47:00 - cmdstanpy - INFO - Chain [1] done processing\n",
      "09:47:01 - cmdstanpy - INFO - Chain [1] start processing\n",
      "09:47:01 - cmdstanpy - INFO - Chain [1] done processing\n",
      "09:47:01 - cmdstanpy - INFO - Chain [1] start processing\n",
      "09:47:01 - cmdstanpy - INFO - Chain [1] done processing\n",
      "09:47:02 - cmdstanpy - INFO - Chain [1] start processing\n",
      "09:47:02 - cmdstanpy - INFO - Chain [1] done processing\n",
      "09:47:03 - cmdstanpy - INFO - Chain [1] start processing\n",
      "09:47:04 - cmdstanpy - INFO - Chain [1] done processing\n",
      "09:47:04 - cmdstanpy - INFO - Chain [1] start processing\n",
      "09:47:05 - cmdstanpy - INFO - Chain [1] done processing\n",
      "09:47:05 - cmdstanpy - INFO - Chain [1] start processing\n",
      "09:47:06 - cmdstanpy - INFO - Chain [1] done processing\n",
      "09:47:07 - cmdstanpy - INFO - Chain [1] start processing\n",
      "09:47:07 - cmdstanpy - INFO - Chain [1] done processing\n",
      "09:47:08 - cmdstanpy - INFO - Chain [1] start processing\n",
      "09:47:08 - cmdstanpy - INFO - Chain [1] done processing\n",
      "09:47:09 - cmdstanpy - INFO - Chain [1] start processing\n",
      "09:47:09 - cmdstanpy - INFO - Chain [1] done processing\n",
      "09:47:10 - cmdstanpy - INFO - Chain [1] start processing\n",
      "09:47:10 - cmdstanpy - INFO - Chain [1] done processing\n",
      "09:47:11 - cmdstanpy - INFO - Chain [1] start processing\n",
      "09:47:11 - cmdstanpy - INFO - Chain [1] done processing\n",
      "09:47:12 - cmdstanpy - INFO - Chain [1] start processing\n",
      "09:47:12 - cmdstanpy - INFO - Chain [1] done processing\n",
      "09:47:13 - cmdstanpy - INFO - Chain [1] start processing\n",
      "09:47:13 - cmdstanpy - INFO - Chain [1] done processing\n",
      "09:47:14 - cmdstanpy - INFO - Chain [1] start processing\n",
      "09:47:14 - cmdstanpy - INFO - Chain [1] done processing\n",
      "09:47:15 - cmdstanpy - INFO - Chain [1] start processing\n",
      "09:47:15 - cmdstanpy - INFO - Chain [1] done processing\n",
      "09:47:16 - cmdstanpy - INFO - Chain [1] start processing\n",
      "09:47:16 - cmdstanpy - INFO - Chain [1] done processing\n",
      "09:47:17 - cmdstanpy - INFO - Chain [1] start processing\n",
      "09:47:17 - cmdstanpy - INFO - Chain [1] done processing\n",
      "09:47:18 - cmdstanpy - INFO - Chain [1] start processing\n",
      "09:47:18 - cmdstanpy - INFO - Chain [1] done processing\n",
      "09:47:19 - cmdstanpy - INFO - Chain [1] start processing\n",
      "09:47:19 - cmdstanpy - INFO - Chain [1] done processing\n",
      "09:47:20 - cmdstanpy - INFO - Chain [1] start processing\n",
      "09:47:20 - cmdstanpy - INFO - Chain [1] done processing\n",
      "09:47:21 - cmdstanpy - INFO - Chain [1] start processing\n",
      "09:47:22 - cmdstanpy - INFO - Chain [1] done processing\n",
      "09:47:23 - cmdstanpy - INFO - Chain [1] start processing\n",
      "09:47:23 - cmdstanpy - INFO - Chain [1] done processing\n",
      "09:47:24 - cmdstanpy - INFO - Chain [1] start processing\n",
      "09:47:24 - cmdstanpy - INFO - Chain [1] done processing\n",
      "09:47:26 - cmdstanpy - INFO - Chain [1] start processing\n",
      "09:47:26 - cmdstanpy - INFO - Chain [1] done processing\n",
      "09:47:27 - cmdstanpy - INFO - Chain [1] start processing\n",
      "09:47:27 - cmdstanpy - INFO - Chain [1] done processing\n",
      "09:47:28 - cmdstanpy - INFO - Chain [1] start processing\n",
      "09:47:28 - cmdstanpy - INFO - Chain [1] done processing\n",
      "09:47:29 - cmdstanpy - INFO - Chain [1] start processing\n",
      "09:47:29 - cmdstanpy - INFO - Chain [1] done processing\n",
      "09:47:30 - cmdstanpy - INFO - Chain [1] start processing\n",
      "09:47:30 - cmdstanpy - INFO - Chain [1] done processing\n",
      "09:47:31 - cmdstanpy - INFO - Chain [1] start processing\n",
      "09:47:31 - cmdstanpy - INFO - Chain [1] done processing\n",
      "09:47:32 - cmdstanpy - INFO - Chain [1] start processing\n",
      "09:47:32 - cmdstanpy - INFO - Chain [1] done processing\n",
      "09:47:33 - cmdstanpy - INFO - Chain [1] start processing\n",
      "09:47:33 - cmdstanpy - INFO - Chain [1] done processing\n",
      "09:47:34 - cmdstanpy - INFO - Chain [1] start processing\n",
      "09:47:34 - cmdstanpy - INFO - Chain [1] done processing\n",
      "09:47:35 - cmdstanpy - INFO - Chain [1] start processing\n",
      "09:47:35 - cmdstanpy - INFO - Chain [1] done processing\n",
      "09:47:36 - cmdstanpy - INFO - Chain [1] start processing\n",
      "09:47:36 - cmdstanpy - INFO - Chain [1] done processing\n",
      "09:47:37 - cmdstanpy - INFO - Chain [1] start processing\n",
      "09:47:37 - cmdstanpy - INFO - Chain [1] done processing\n",
      "09:47:38 - cmdstanpy - INFO - Chain [1] start processing\n",
      "09:47:38 - cmdstanpy - INFO - Chain [1] done processing\n",
      "09:47:39 - cmdstanpy - INFO - Chain [1] start processing\n",
      "09:47:39 - cmdstanpy - INFO - Chain [1] done processing\n",
      "09:47:40 - cmdstanpy - INFO - Chain [1] start processing\n",
      "09:47:40 - cmdstanpy - INFO - Chain [1] done processing\n",
      "09:47:41 - cmdstanpy - INFO - Chain [1] start processing\n",
      "09:47:41 - cmdstanpy - INFO - Chain [1] done processing\n",
      "09:47:42 - cmdstanpy - INFO - Chain [1] start processing\n",
      "09:47:42 - cmdstanpy - INFO - Chain [1] done processing\n",
      "09:47:43 - cmdstanpy - INFO - Chain [1] start processing\n",
      "09:47:43 - cmdstanpy - INFO - Chain [1] done processing\n",
      "09:47:44 - cmdstanpy - INFO - Chain [1] start processing\n",
      "09:47:44 - cmdstanpy - INFO - Chain [1] done processing\n",
      "09:47:45 - cmdstanpy - INFO - Chain [1] start processing\n",
      "09:47:45 - cmdstanpy - INFO - Chain [1] done processing\n",
      "09:47:46 - cmdstanpy - INFO - Chain [1] start processing\n",
      "09:47:46 - cmdstanpy - INFO - Chain [1] done processing\n",
      "09:47:47 - cmdstanpy - INFO - Chain [1] start processing\n",
      "09:47:47 - cmdstanpy - INFO - Chain [1] done processing\n",
      "09:47:48 - cmdstanpy - INFO - Chain [1] start processing\n",
      "09:47:48 - cmdstanpy - INFO - Chain [1] done processing\n",
      "09:47:49 - cmdstanpy - INFO - Chain [1] start processing\n",
      "09:47:49 - cmdstanpy - INFO - Chain [1] done processing\n",
      "09:47:50 - cmdstanpy - INFO - Chain [1] start processing\n",
      "09:47:50 - cmdstanpy - INFO - Chain [1] done processing\n",
      "09:47:51 - cmdstanpy - INFO - Chain [1] start processing\n",
      "09:47:51 - cmdstanpy - INFO - Chain [1] done processing\n",
      "09:47:52 - cmdstanpy - INFO - Chain [1] start processing\n",
      "09:47:52 - cmdstanpy - INFO - Chain [1] done processing\n",
      "09:47:53 - cmdstanpy - INFO - Chain [1] start processing\n",
      "09:47:53 - cmdstanpy - INFO - Chain [1] done processing\n",
      "09:47:54 - cmdstanpy - INFO - Chain [1] start processing\n",
      "09:47:54 - cmdstanpy - INFO - Chain [1] done processing\n",
      "09:47:55 - cmdstanpy - INFO - Chain [1] start processing\n",
      "09:47:55 - cmdstanpy - INFO - Chain [1] done processing\n",
      "09:47:56 - cmdstanpy - INFO - Chain [1] start processing\n",
      "09:47:56 - cmdstanpy - INFO - Chain [1] done processing\n",
      "09:47:57 - cmdstanpy - INFO - Chain [1] start processing\n",
      "09:47:58 - cmdstanpy - INFO - Chain [1] done processing\n",
      "09:47:58 - cmdstanpy - INFO - Chain [1] start processing\n",
      "09:47:59 - cmdstanpy - INFO - Chain [1] done processing\n",
      "09:47:59 - cmdstanpy - INFO - Chain [1] start processing\n",
      "09:48:00 - cmdstanpy - INFO - Chain [1] done processing\n",
      "09:48:00 - cmdstanpy - INFO - Chain [1] start processing\n",
      "09:48:01 - cmdstanpy - INFO - Chain [1] done processing\n",
      "09:48:02 - cmdstanpy - INFO - Chain [1] start processing\n",
      "09:48:02 - cmdstanpy - INFO - Chain [1] done processing\n",
      "09:48:03 - cmdstanpy - INFO - Chain [1] start processing\n",
      "09:48:03 - cmdstanpy - INFO - Chain [1] done processing\n",
      "09:48:04 - cmdstanpy - INFO - Chain [1] start processing\n",
      "09:48:04 - cmdstanpy - INFO - Chain [1] done processing\n",
      "09:48:05 - cmdstanpy - INFO - Chain [1] start processing\n",
      "09:48:05 - cmdstanpy - INFO - Chain [1] done processing\n",
      "09:48:06 - cmdstanpy - INFO - Chain [1] start processing\n",
      "09:48:06 - cmdstanpy - INFO - Chain [1] done processing\n",
      "09:48:07 - cmdstanpy - INFO - Chain [1] start processing\n",
      "09:48:07 - cmdstanpy - INFO - Chain [1] done processing\n",
      "09:48:08 - cmdstanpy - INFO - Chain [1] start processing\n",
      "09:48:08 - cmdstanpy - INFO - Chain [1] done processing\n",
      "09:48:09 - cmdstanpy - INFO - Chain [1] start processing\n",
      "09:48:09 - cmdstanpy - INFO - Chain [1] done processing\n",
      "09:48:09 - cmdstanpy - INFO - Chain [1] start processing\n",
      "09:48:10 - cmdstanpy - INFO - Chain [1] done processing\n",
      "09:48:10 - cmdstanpy - INFO - Chain [1] start processing\n",
      "09:48:11 - cmdstanpy - INFO - Chain [1] done processing\n",
      "09:48:11 - cmdstanpy - INFO - Chain [1] start processing\n",
      "09:48:12 - cmdstanpy - INFO - Chain [1] done processing\n",
      "09:48:12 - cmdstanpy - INFO - Chain [1] start processing\n",
      "09:48:13 - cmdstanpy - INFO - Chain [1] done processing\n",
      "09:48:14 - cmdstanpy - INFO - Chain [1] start processing\n",
      "09:48:14 - cmdstanpy - INFO - Chain [1] done processing\n",
      "09:48:15 - cmdstanpy - INFO - Chain [1] start processing\n",
      "09:48:15 - cmdstanpy - INFO - Chain [1] done processing\n",
      "09:48:16 - cmdstanpy - INFO - Chain [1] start processing\n",
      "09:48:16 - cmdstanpy - INFO - Chain [1] done processing\n",
      "09:48:17 - cmdstanpy - INFO - Chain [1] start processing\n",
      "09:48:17 - cmdstanpy - INFO - Chain [1] done processing\n",
      "09:48:18 - cmdstanpy - INFO - Chain [1] start processing\n",
      "09:48:18 - cmdstanpy - INFO - Chain [1] done processing\n",
      "09:48:19 - cmdstanpy - INFO - Chain [1] start processing\n",
      "09:48:19 - cmdstanpy - INFO - Chain [1] done processing\n",
      "09:48:20 - cmdstanpy - INFO - Chain [1] start processing\n",
      "09:48:20 - cmdstanpy - INFO - Chain [1] done processing\n",
      "09:48:21 - cmdstanpy - INFO - Chain [1] start processing\n",
      "09:48:21 - cmdstanpy - INFO - Chain [1] done processing\n",
      "09:48:22 - cmdstanpy - INFO - Chain [1] start processing\n",
      "09:48:22 - cmdstanpy - INFO - Chain [1] done processing\n",
      "09:48:23 - cmdstanpy - INFO - Chain [1] start processing\n",
      "09:48:23 - cmdstanpy - INFO - Chain [1] done processing\n",
      "09:48:24 - cmdstanpy - INFO - Chain [1] start processing\n",
      "09:48:24 - cmdstanpy - INFO - Chain [1] done processing\n",
      "09:48:25 - cmdstanpy - INFO - Chain [1] start processing\n",
      "09:48:25 - cmdstanpy - INFO - Chain [1] done processing\n",
      "09:48:26 - cmdstanpy - INFO - Chain [1] start processing\n",
      "09:48:26 - cmdstanpy - INFO - Chain [1] done processing\n",
      "09:48:27 - cmdstanpy - INFO - Chain [1] start processing\n",
      "09:48:27 - cmdstanpy - INFO - Chain [1] done processing\n",
      "09:48:28 - cmdstanpy - INFO - Chain [1] start processing\n",
      "09:48:29 - cmdstanpy - INFO - Chain [1] done processing\n",
      "09:48:29 - cmdstanpy - INFO - Chain [1] start processing\n",
      "09:48:30 - cmdstanpy - INFO - Chain [1] done processing\n",
      "09:48:31 - cmdstanpy - INFO - Chain [1] start processing\n",
      "09:48:31 - cmdstanpy - INFO - Chain [1] done processing\n",
      "09:48:32 - cmdstanpy - INFO - Chain [1] start processing\n",
      "09:48:32 - cmdstanpy - INFO - Chain [1] done processing\n",
      "09:48:33 - cmdstanpy - INFO - Chain [1] start processing\n",
      "09:48:34 - cmdstanpy - INFO - Chain [1] done processing\n",
      "09:48:35 - cmdstanpy - INFO - Chain [1] start processing\n",
      "09:48:35 - cmdstanpy - INFO - Chain [1] done processing\n",
      "09:48:36 - cmdstanpy - INFO - Chain [1] start processing\n",
      "09:48:36 - cmdstanpy - INFO - Chain [1] done processing\n",
      "09:48:37 - cmdstanpy - INFO - Chain [1] start processing\n",
      "09:48:37 - cmdstanpy - INFO - Chain [1] done processing\n",
      "09:48:38 - cmdstanpy - INFO - Chain [1] start processing\n",
      "09:48:38 - cmdstanpy - INFO - Chain [1] done processing\n",
      "09:48:39 - cmdstanpy - INFO - Chain [1] start processing\n",
      "09:48:39 - cmdstanpy - INFO - Chain [1] done processing\n",
      "09:48:40 - cmdstanpy - INFO - Chain [1] start processing\n",
      "09:48:40 - cmdstanpy - INFO - Chain [1] done processing\n",
      "09:48:41 - cmdstanpy - INFO - Chain [1] start processing\n",
      "09:48:41 - cmdstanpy - INFO - Chain [1] done processing\n",
      "09:48:42 - cmdstanpy - INFO - Chain [1] start processing\n",
      "09:48:42 - cmdstanpy - INFO - Chain [1] done processing\n",
      "09:48:43 - cmdstanpy - INFO - Chain [1] start processing\n",
      "09:48:43 - cmdstanpy - INFO - Chain [1] done processing\n",
      "09:48:44 - cmdstanpy - INFO - Chain [1] start processing\n",
      "09:48:44 - cmdstanpy - INFO - Chain [1] done processing\n",
      "09:48:45 - cmdstanpy - INFO - Chain [1] start processing\n",
      "09:48:45 - cmdstanpy - INFO - Chain [1] done processing\n",
      "09:48:46 - cmdstanpy - INFO - Chain [1] start processing\n",
      "09:48:46 - cmdstanpy - INFO - Chain [1] done processing\n",
      "09:48:47 - cmdstanpy - INFO - Chain [1] start processing\n",
      "09:48:47 - cmdstanpy - INFO - Chain [1] done processing\n",
      "09:48:48 - cmdstanpy - INFO - Chain [1] start processing\n",
      "09:48:48 - cmdstanpy - INFO - Chain [1] done processing\n",
      "09:48:49 - cmdstanpy - INFO - Chain [1] start processing\n",
      "09:48:49 - cmdstanpy - INFO - Chain [1] done processing\n",
      "09:48:50 - cmdstanpy - INFO - Chain [1] start processing\n",
      "09:48:50 - cmdstanpy - INFO - Chain [1] done processing\n",
      "09:48:51 - cmdstanpy - INFO - Chain [1] start processing\n",
      "09:48:51 - cmdstanpy - INFO - Chain [1] done processing\n",
      "09:48:52 - cmdstanpy - INFO - Chain [1] start processing\n",
      "09:48:52 - cmdstanpy - INFO - Chain [1] done processing\n",
      "09:48:53 - cmdstanpy - INFO - Chain [1] start processing\n",
      "09:48:53 - cmdstanpy - INFO - Chain [1] done processing\n",
      "09:48:54 - cmdstanpy - INFO - Chain [1] start processing\n",
      "09:48:54 - cmdstanpy - INFO - Chain [1] done processing\n",
      "09:48:55 - cmdstanpy - INFO - Chain [1] start processing\n",
      "09:48:55 - cmdstanpy - INFO - Chain [1] done processing\n",
      "09:48:56 - cmdstanpy - INFO - Chain [1] start processing\n",
      "09:48:56 - cmdstanpy - INFO - Chain [1] done processing\n",
      "09:48:57 - cmdstanpy - INFO - Chain [1] start processing\n",
      "09:48:57 - cmdstanpy - INFO - Chain [1] done processing\n",
      "09:48:58 - cmdstanpy - INFO - Chain [1] start processing\n",
      "09:48:58 - cmdstanpy - INFO - Chain [1] done processing\n",
      "09:48:59 - cmdstanpy - INFO - Chain [1] start processing\n",
      "09:48:59 - cmdstanpy - INFO - Chain [1] done processing\n",
      "09:49:00 - cmdstanpy - INFO - Chain [1] start processing\n",
      "09:49:00 - cmdstanpy - INFO - Chain [1] done processing\n",
      "09:49:01 - cmdstanpy - INFO - Chain [1] start processing\n",
      "09:49:01 - cmdstanpy - INFO - Chain [1] done processing\n",
      "09:49:02 - cmdstanpy - INFO - Chain [1] start processing\n",
      "09:49:03 - cmdstanpy - INFO - Chain [1] done processing\n",
      "09:49:04 - cmdstanpy - INFO - Chain [1] start processing\n",
      "09:49:04 - cmdstanpy - INFO - Chain [1] done processing\n",
      "09:49:05 - cmdstanpy - INFO - Chain [1] start processing\n",
      "09:49:06 - cmdstanpy - INFO - Chain [1] done processing\n",
      "09:49:06 - cmdstanpy - INFO - Chain [1] start processing\n",
      "09:49:07 - cmdstanpy - INFO - Chain [1] done processing\n",
      "09:49:08 - cmdstanpy - INFO - Chain [1] start processing\n",
      "09:49:08 - cmdstanpy - INFO - Chain [1] done processing\n",
      "09:49:09 - cmdstanpy - INFO - Chain [1] start processing\n",
      "09:49:09 - cmdstanpy - INFO - Chain [1] done processing\n",
      "09:49:10 - cmdstanpy - INFO - Chain [1] start processing\n",
      "09:49:10 - cmdstanpy - INFO - Chain [1] done processing\n",
      "09:49:11 - cmdstanpy - INFO - Chain [1] start processing\n",
      "09:49:11 - cmdstanpy - INFO - Chain [1] done processing\n",
      "09:49:12 - cmdstanpy - INFO - Chain [1] start processing\n",
      "09:49:12 - cmdstanpy - INFO - Chain [1] done processing\n",
      "09:49:13 - cmdstanpy - INFO - Chain [1] start processing\n",
      "09:49:13 - cmdstanpy - INFO - Chain [1] done processing\n",
      "09:49:14 - cmdstanpy - INFO - Chain [1] start processing\n",
      "09:49:14 - cmdstanpy - INFO - Chain [1] done processing\n",
      "09:49:15 - cmdstanpy - INFO - Chain [1] start processing\n",
      "09:49:15 - cmdstanpy - INFO - Chain [1] done processing\n",
      "09:49:16 - cmdstanpy - INFO - Chain [1] start processing\n",
      "09:49:16 - cmdstanpy - INFO - Chain [1] done processing\n",
      "09:49:17 - cmdstanpy - INFO - Chain [1] start processing\n",
      "09:49:18 - cmdstanpy - INFO - Chain [1] done processing\n"
     ]
    },
    {
     "name": "stdout",
     "output_type": "stream",
     "text": [
      "     changepoint_prior_scale  seasonality_prior_scale  holidays_prior_scale   \n",
      "0                      0.001                     0.01                  0.01  \\\n",
      "1                      0.001                     0.01                  0.01   \n",
      "2                      0.001                     0.01                  0.01   \n",
      "3                      0.001                     0.01                  0.01   \n",
      "4                      0.001                     0.01                  0.01   \n",
      "..                       ...                      ...                   ...   \n",
      "251                    0.100                     1.00                  0.10   \n",
      "252                    0.100                     1.00                  0.10   \n",
      "253                    0.100                     1.00                  0.10   \n",
      "254                    0.100                     1.00                  0.10   \n",
      "255                    0.100                     1.00                  0.10   \n",
      "\n",
      "    seasonality_mode  daily_seasonality  weekly_seasonality   \n",
      "0           additive               True                True  \\\n",
      "1           additive               True                True   \n",
      "2           additive               True                True   \n",
      "3           additive               True                True   \n",
      "4           additive               True               False   \n",
      "..               ...                ...                 ...   \n",
      "251   multiplicative              False                True   \n",
      "252   multiplicative              False               False   \n",
      "253   multiplicative              False               False   \n",
      "254   multiplicative              False               False   \n",
      "255   multiplicative              False               False   \n",
      "\n",
      "     yearly_seasonality                                           holidays   \n",
      "0                  True       holiday         ds  lower_window  upper_w...  \\\n",
      "1                  True            holiday         ds  lower_window  up...   \n",
      "2                 False       holiday         ds  lower_window  upper_w...   \n",
      "3                 False            holiday         ds  lower_window  up...   \n",
      "4                  True       holiday         ds  lower_window  upper_w...   \n",
      "..                  ...                                                ...   \n",
      "251               False            holiday         ds  lower_window  up...   \n",
      "252                True       holiday         ds  lower_window  upper_w...   \n",
      "253                True            holiday         ds  lower_window  up...   \n",
      "254               False       holiday         ds  lower_window  upper_w...   \n",
      "255               False            holiday         ds  lower_window  up...   \n",
      "\n",
      "          rmse  \n",
      "0    10.508582  \n",
      "1    10.410664  \n",
      "2     9.735113  \n",
      "3     9.668979  \n",
      "4    11.036120  \n",
      "..         ...  \n",
      "251  11.622127  \n",
      "252  10.420179  \n",
      "253  10.471047  \n",
      "254  11.914864  \n",
      "255  11.885803  \n",
      "\n",
      "[256 rows x 9 columns]\n",
      "{'changepoint_prior_scale': 0.1, 'seasonality_prior_scale': 1.0, 'holidays_prior_scale': 0.01, 'seasonality_mode': 'multiplicative', 'daily_seasonality': True, 'weekly_seasonality': True, 'yearly_seasonality': True, 'holidays':           holiday         ds  lower_window  upper_window\n",
      "0  Fourth of July 2017-07-04            -1             1\n",
      "1  Fourth of July 2018-07-04            -1             1\n",
      "2  Fourth of July 2019-07-04            -1             1\n",
      "3  Fourth of July 2020-07-04            -1             1\n",
      "4  Fourth of July 2021-07-04            -1             1\n",
      "5  Fourth of July 2022-07-04            -1             1}\n"
     ]
    }
   ],
   "source": [
    "\n",
    "# Split the data into train and test sets\n",
    "train_size = int(len(df) * 0.8)\n",
    "train_df = df[:train_size]\n",
    "test_df = df[train_size:]\n",
    "\n",
    "# Define the parameter grid\n",
    "param_grid = {  \n",
    "    'changepoint_prior_scale': [0.001, 0.1],\n",
    "    'seasonality_prior_scale': [0.01, 1.0],\n",
    "    'holidays_prior_scale': [0.01, 0.1],\n",
    "    'seasonality_mode': ['additive', 'multiplicative'],\n",
    "    'daily_seasonality': [True, False],\n",
    "    'weekly_seasonality': [True, False],\n",
    "    'yearly_seasonality': [True, False],\n",
    "    'holidays': [christmas, fourth_of_july],\n",
    "}\n",
    "\n",
    "# Generate all combinations of parameters\n",
    "all_params = [dict(zip(param_grid.keys(), v)) for v in itertools.product(*param_grid.values())]\n",
    "rmses = []\n",
    "\n",
    "for params in all_params:\n",
    "    m = Prophet(**params).fit(train_df)\n",
    "\n",
    "    future_train = m.make_future_dataframe(periods=len(train_df))\n",
    "    forecast_train = m.predict(future_train)\n",
    "\n",
    "    future_test = m.make_future_dataframe(periods=len(test_df))\n",
    "    forecast_test = m.predict(future_test)\n",
    "\n",
    "    # Evaluate performance on the train set\n",
    "    y_true_train = train_df['y'].values\n",
    "    y_pred_train = forecast_train['yhat'].values[:len(train_df)]\n",
    "    rmse_train = np.sqrt(mean_squared_error(y_true_train, y_pred_train))\n",
    "\n",
    "    # Evaluate performance on the test set\n",
    "    y_true_test = test_df['y'].values\n",
    "    y_pred_test = forecast_test['yhat'].values[-len(test_df):]\n",
    "    rmse_test = np.sqrt(mean_squared_error(y_true_test, y_pred_test))\n",
    "\n",
    "    rmses.append(rmse_test)\n",
    "\n",
    "# Find the best parameters\n",
    "tuning_results = pd.DataFrame(all_params)\n",
    "tuning_results['rmse'] = rmses\n",
    "print(tuning_results)\n",
    "\n",
    "# Python\n",
    "best_params = all_params[np.argmin(rmses)]\n",
    "print(best_params)\n"
   ]
  },
  {
   "cell_type": "code",
   "execution_count": null,
   "metadata": {},
   "outputs": [],
   "source": [
    "best_params"
   ]
  },
  {
   "attachments": {},
   "cell_type": "markdown",
   "metadata": {},
   "source": [
    "#### We fit the model with the best parameters, and the holidays data."
   ]
  },
  {
   "cell_type": "code",
   "execution_count": 14,
   "metadata": {},
   "outputs": [
    {
     "name": "stderr",
     "output_type": "stream",
     "text": [
      "09:49:18 - cmdstanpy - INFO - Chain [1] start processing\n",
      "09:49:19 - cmdstanpy - INFO - Chain [1] done processing\n"
     ]
    },
    {
     "name": "stdout",
     "output_type": "stream",
     "text": [
      "Train RMSE: 7.51022674677437\n",
      "Test RMSE: 9.034665216311375\n"
     ]
    }
   ],
   "source": [
    "m = Prophet(**best_params)\n",
    "m.add_country_holidays(country_name='US')\n",
    "\n",
    "m.fit(train_df)\n",
    "\n",
    "# df_cv = cross_validation(m, initial = '2000 days', period = '60 days', horizon='7 days', parallel=\"processes\")\n",
    "# df_p = performance_metrics(df_cv, rolling_window=1)\n",
    "\n",
    "future_train = m.make_future_dataframe(periods=len(train_df))\n",
    "forecast_train = m.predict(future_train)\n",
    "\n",
    "future_test = m.make_future_dataframe(periods=len(test_df))\n",
    "forecast_test = m.predict(future_test)\n",
    "\n",
    "# Evaluate performance on the train set\n",
    "y_true_train = train_df['y'].values\n",
    "y_pred_train = forecast_train['yhat'].values[:len(train_df)]\n",
    "rmse_train = np.sqrt(mean_squared_error(y_true_train, y_pred_train))\n",
    "\n",
    "print(\"Train RMSE:\", rmse_train)\n",
    "\n",
    "# Evaluate performance on the test set\n",
    "y_true_test = test_df['y'].values\n",
    "y_pred_test = forecast_test['yhat'].values[-len(test_df):]\n",
    "rmse_test_tuned = np.sqrt(mean_squared_error(y_true_test, y_pred_test))\n",
    "\n",
    "print(\"Test RMSE:\", rmse_test_tuned)\n"
   ]
  },
  {
   "attachments": {},
   "cell_type": "markdown",
   "metadata": {},
   "source": [
    "#### We add weather data from the local Little Rock airport weather station to the model\n",
    "\n",
    "It is important to note that we will also need the weather data for the future in order to make forecasts on the future. \n",
    "\n",
    "We can obtain that data by using a weather data API to get the weather forecast for the horizon."
   ]
  },
  {
   "cell_type": "code",
   "execution_count": 15,
   "metadata": {},
   "outputs": [],
   "source": [
    "weather = pd.read_csv('weather.csv')\n",
    "best_data = weather[weather['NAME'] == 'LITTLE ROCK AIRPORT ADAMS FIELD, AR US']\n",
    "columns_to_keep = ['DATE', 'AWND', 'PRCP', 'SNWD', 'SNOW', 'TMAX', 'TMIN']\n",
    "best_data = best_data[columns_to_keep]\n",
    "best_data.fillna(0, inplace=True)\n",
    "best_data = best_data[best_data['DATE'] < '2023-02-21']\n",
    "best_data['DATE'] = pd.to_datetime(best_data['DATE'])\n",
    "best_df = pd.merge(df, best_data, left_on='ds', right_on='DATE', how='inner')\n",
    "best_df.drop(columns=['DATE'], inplace=True)"
   ]
  },
  {
   "cell_type": "code",
   "execution_count": 16,
   "metadata": {},
   "outputs": [
    {
     "data": {
      "text/html": [
       "<div>\n",
       "<style scoped>\n",
       "    .dataframe tbody tr th:only-of-type {\n",
       "        vertical-align: middle;\n",
       "    }\n",
       "\n",
       "    .dataframe tbody tr th {\n",
       "        vertical-align: top;\n",
       "    }\n",
       "\n",
       "    .dataframe thead th {\n",
       "        text-align: right;\n",
       "    }\n",
       "</style>\n",
       "<table border=\"1\" class=\"dataframe\">\n",
       "  <thead>\n",
       "    <tr style=\"text-align: right;\">\n",
       "      <th></th>\n",
       "      <th>ds</th>\n",
       "      <th>y</th>\n",
       "      <th>AWND</th>\n",
       "      <th>PRCP</th>\n",
       "      <th>SNWD</th>\n",
       "      <th>SNOW</th>\n",
       "      <th>TMAX</th>\n",
       "      <th>TMIN</th>\n",
       "    </tr>\n",
       "  </thead>\n",
       "  <tbody>\n",
       "    <tr>\n",
       "      <th>0</th>\n",
       "      <td>2017-01-01</td>\n",
       "      <td>54</td>\n",
       "      <td>6.93</td>\n",
       "      <td>0.01</td>\n",
       "      <td>0.0</td>\n",
       "      <td>0.0</td>\n",
       "      <td>46.0</td>\n",
       "      <td>43.0</td>\n",
       "    </tr>\n",
       "    <tr>\n",
       "      <th>1</th>\n",
       "      <td>2017-01-02</td>\n",
       "      <td>45</td>\n",
       "      <td>5.37</td>\n",
       "      <td>0.20</td>\n",
       "      <td>0.0</td>\n",
       "      <td>0.0</td>\n",
       "      <td>56.0</td>\n",
       "      <td>45.0</td>\n",
       "    </tr>\n",
       "    <tr>\n",
       "      <th>2</th>\n",
       "      <td>2017-01-03</td>\n",
       "      <td>49</td>\n",
       "      <td>7.61</td>\n",
       "      <td>0.00</td>\n",
       "      <td>0.0</td>\n",
       "      <td>0.0</td>\n",
       "      <td>57.0</td>\n",
       "      <td>40.0</td>\n",
       "    </tr>\n",
       "    <tr>\n",
       "      <th>3</th>\n",
       "      <td>2017-01-04</td>\n",
       "      <td>48</td>\n",
       "      <td>9.62</td>\n",
       "      <td>0.00</td>\n",
       "      <td>0.0</td>\n",
       "      <td>0.0</td>\n",
       "      <td>41.0</td>\n",
       "      <td>26.0</td>\n",
       "    </tr>\n",
       "    <tr>\n",
       "      <th>4</th>\n",
       "      <td>2017-01-05</td>\n",
       "      <td>39</td>\n",
       "      <td>8.50</td>\n",
       "      <td>0.00</td>\n",
       "      <td>0.0</td>\n",
       "      <td>0.0</td>\n",
       "      <td>37.0</td>\n",
       "      <td>29.0</td>\n",
       "    </tr>\n",
       "  </tbody>\n",
       "</table>\n",
       "</div>"
      ],
      "text/plain": [
       "          ds   y  AWND  PRCP  SNWD  SNOW  TMAX  TMIN\n",
       "0 2017-01-01  54  6.93  0.01   0.0   0.0  46.0  43.0\n",
       "1 2017-01-02  45  5.37  0.20   0.0   0.0  56.0  45.0\n",
       "2 2017-01-03  49  7.61  0.00   0.0   0.0  57.0  40.0\n",
       "3 2017-01-04  48  9.62  0.00   0.0   0.0  41.0  26.0\n",
       "4 2017-01-05  39  8.50  0.00   0.0   0.0  37.0  29.0"
      ]
     },
     "execution_count": 16,
     "metadata": {},
     "output_type": "execute_result"
    }
   ],
   "source": [
    "best_df.head()"
   ]
  },
  {
   "attachments": {},
   "cell_type": "markdown",
   "metadata": {},
   "source": [
    "Perform hyperparameter tuning after added regressors too. "
   ]
  },
  {
   "cell_type": "code",
   "execution_count": 19,
   "metadata": {},
   "outputs": [
    {
     "name": "stderr",
     "output_type": "stream",
     "text": [
      "09:54:32 - cmdstanpy - INFO - Chain [1] start processing\n",
      "09:54:32 - cmdstanpy - INFO - Chain [1] done processing\n"
     ]
    },
    {
     "name": "stdout",
     "output_type": "stream",
     "text": [
      "Train RMSE: 7.866815561746212\n"
     ]
    },
    {
     "name": "stderr",
     "output_type": "stream",
     "text": [
      "09:54:32 - cmdstanpy - INFO - Chain [1] start processing\n",
      "09:54:32 - cmdstanpy - INFO - Chain [1] done processing\n"
     ]
    },
    {
     "name": "stdout",
     "output_type": "stream",
     "text": [
      "Train RMSE: 7.86293863024762\n"
     ]
    },
    {
     "name": "stderr",
     "output_type": "stream",
     "text": [
      "09:54:33 - cmdstanpy - INFO - Chain [1] start processing\n",
      "09:54:33 - cmdstanpy - INFO - Chain [1] done processing\n"
     ]
    },
    {
     "name": "stdout",
     "output_type": "stream",
     "text": [
      "Train RMSE: 8.087763926739145\n"
     ]
    },
    {
     "name": "stderr",
     "output_type": "stream",
     "text": [
      "09:54:33 - cmdstanpy - INFO - Chain [1] start processing\n",
      "09:54:33 - cmdstanpy - INFO - Chain [1] done processing\n"
     ]
    },
    {
     "name": "stdout",
     "output_type": "stream",
     "text": [
      "Train RMSE: 8.101030947992609\n"
     ]
    },
    {
     "name": "stderr",
     "output_type": "stream",
     "text": [
      "09:54:34 - cmdstanpy - INFO - Chain [1] start processing\n",
      "09:54:34 - cmdstanpy - INFO - Chain [1] done processing\n"
     ]
    },
    {
     "name": "stdout",
     "output_type": "stream",
     "text": [
      "Train RMSE: 8.202413854081765\n"
     ]
    },
    {
     "name": "stderr",
     "output_type": "stream",
     "text": [
      "09:54:35 - cmdstanpy - INFO - Chain [1] start processing\n",
      "09:54:35 - cmdstanpy - INFO - Chain [1] done processing\n"
     ]
    },
    {
     "name": "stdout",
     "output_type": "stream",
     "text": [
      "Train RMSE: 8.198769655820596\n"
     ]
    },
    {
     "name": "stderr",
     "output_type": "stream",
     "text": [
      "09:54:35 - cmdstanpy - INFO - Chain [1] start processing\n",
      "09:54:35 - cmdstanpy - INFO - Chain [1] done processing\n",
      "09:54:36 - cmdstanpy - INFO - Chain [1] start processing\n"
     ]
    },
    {
     "name": "stdout",
     "output_type": "stream",
     "text": [
      "Train RMSE: 8.443497038666166\n"
     ]
    },
    {
     "name": "stderr",
     "output_type": "stream",
     "text": [
      "09:54:36 - cmdstanpy - INFO - Chain [1] done processing\n"
     ]
    },
    {
     "name": "stdout",
     "output_type": "stream",
     "text": [
      "Train RMSE: 8.447163563587907\n"
     ]
    },
    {
     "name": "stderr",
     "output_type": "stream",
     "text": [
      "09:54:36 - cmdstanpy - INFO - Chain [1] start processing\n",
      "09:54:36 - cmdstanpy - INFO - Chain [1] done processing\n"
     ]
    },
    {
     "name": "stdout",
     "output_type": "stream",
     "text": [
      "Train RMSE: 7.820748620917902\n"
     ]
    },
    {
     "name": "stderr",
     "output_type": "stream",
     "text": [
      "09:54:37 - cmdstanpy - INFO - Chain [1] start processing\n",
      "09:54:37 - cmdstanpy - INFO - Chain [1] done processing\n"
     ]
    },
    {
     "name": "stdout",
     "output_type": "stream",
     "text": [
      "Train RMSE: 7.823947363393316\n"
     ]
    },
    {
     "name": "stderr",
     "output_type": "stream",
     "text": [
      "09:54:38 - cmdstanpy - INFO - Chain [1] start processing\n",
      "09:54:38 - cmdstanpy - INFO - Chain [1] done processing\n"
     ]
    },
    {
     "name": "stdout",
     "output_type": "stream",
     "text": [
      "Train RMSE: 8.058180630069986\n"
     ]
    },
    {
     "name": "stderr",
     "output_type": "stream",
     "text": [
      "09:54:38 - cmdstanpy - INFO - Chain [1] start processing\n",
      "09:54:38 - cmdstanpy - INFO - Chain [1] done processing\n"
     ]
    },
    {
     "name": "stdout",
     "output_type": "stream",
     "text": [
      "Train RMSE: 8.065731275914668\n"
     ]
    },
    {
     "name": "stderr",
     "output_type": "stream",
     "text": [
      "09:54:39 - cmdstanpy - INFO - Chain [1] start processing\n",
      "09:54:39 - cmdstanpy - INFO - Chain [1] done processing\n"
     ]
    },
    {
     "name": "stdout",
     "output_type": "stream",
     "text": [
      "Train RMSE: 8.19074549286558\n"
     ]
    },
    {
     "name": "stderr",
     "output_type": "stream",
     "text": [
      "09:54:39 - cmdstanpy - INFO - Chain [1] start processing\n",
      "09:54:40 - cmdstanpy - INFO - Chain [1] done processing\n"
     ]
    },
    {
     "name": "stdout",
     "output_type": "stream",
     "text": [
      "Train RMSE: 8.19055688239792\n"
     ]
    },
    {
     "name": "stderr",
     "output_type": "stream",
     "text": [
      "09:54:40 - cmdstanpy - INFO - Chain [1] start processing\n",
      "09:54:40 - cmdstanpy - INFO - Chain [1] done processing\n"
     ]
    },
    {
     "name": "stdout",
     "output_type": "stream",
     "text": [
      "Train RMSE: 8.42719479437356\n"
     ]
    },
    {
     "name": "stderr",
     "output_type": "stream",
     "text": [
      "09:54:41 - cmdstanpy - INFO - Chain [1] start processing\n",
      "09:54:41 - cmdstanpy - INFO - Chain [1] done processing\n"
     ]
    },
    {
     "name": "stdout",
     "output_type": "stream",
     "text": [
      "Train RMSE: 8.426444565518578\n"
     ]
    },
    {
     "name": "stderr",
     "output_type": "stream",
     "text": [
      "09:54:41 - cmdstanpy - INFO - Chain [1] start processing\n",
      "09:54:41 - cmdstanpy - INFO - Chain [1] done processing\n"
     ]
    },
    {
     "name": "stdout",
     "output_type": "stream",
     "text": [
      "Train RMSE: 7.9125811415309295\n"
     ]
    },
    {
     "name": "stderr",
     "output_type": "stream",
     "text": [
      "09:54:42 - cmdstanpy - INFO - Chain [1] start processing\n",
      "09:54:42 - cmdstanpy - INFO - Chain [1] done processing\n"
     ]
    },
    {
     "name": "stdout",
     "output_type": "stream",
     "text": [
      "Train RMSE: 7.919563775775654\n"
     ]
    },
    {
     "name": "stderr",
     "output_type": "stream",
     "text": [
      "09:54:43 - cmdstanpy - INFO - Chain [1] start processing\n",
      "09:54:43 - cmdstanpy - INFO - Chain [1] done processing\n"
     ]
    },
    {
     "name": "stdout",
     "output_type": "stream",
     "text": [
      "Train RMSE: 8.167811384732849\n"
     ]
    },
    {
     "name": "stderr",
     "output_type": "stream",
     "text": [
      "09:54:43 - cmdstanpy - INFO - Chain [1] start processing\n",
      "09:54:43 - cmdstanpy - INFO - Chain [1] done processing\n"
     ]
    },
    {
     "name": "stdout",
     "output_type": "stream",
     "text": [
      "Train RMSE: 8.176253205713627\n"
     ]
    },
    {
     "name": "stderr",
     "output_type": "stream",
     "text": [
      "09:54:44 - cmdstanpy - INFO - Chain [1] start processing\n",
      "09:54:44 - cmdstanpy - INFO - Chain [1] done processing\n"
     ]
    },
    {
     "name": "stdout",
     "output_type": "stream",
     "text": [
      "Train RMSE: 8.225634005267551\n"
     ]
    },
    {
     "name": "stderr",
     "output_type": "stream",
     "text": [
      "09:54:45 - cmdstanpy - INFO - Chain [1] start processing\n",
      "09:54:45 - cmdstanpy - INFO - Chain [1] done processing\n"
     ]
    },
    {
     "name": "stdout",
     "output_type": "stream",
     "text": [
      "Train RMSE: 8.246427718904874\n"
     ]
    },
    {
     "name": "stderr",
     "output_type": "stream",
     "text": [
      "09:54:45 - cmdstanpy - INFO - Chain [1] start processing\n",
      "09:54:45 - cmdstanpy - INFO - Chain [1] done processing\n"
     ]
    },
    {
     "name": "stdout",
     "output_type": "stream",
     "text": [
      "Train RMSE: 8.46039932179616\n"
     ]
    },
    {
     "name": "stderr",
     "output_type": "stream",
     "text": [
      "09:54:46 - cmdstanpy - INFO - Chain [1] start processing\n",
      "09:54:46 - cmdstanpy - INFO - Chain [1] done processing\n"
     ]
    },
    {
     "name": "stdout",
     "output_type": "stream",
     "text": [
      "Train RMSE: 8.479415255530082\n"
     ]
    },
    {
     "name": "stderr",
     "output_type": "stream",
     "text": [
      "09:54:46 - cmdstanpy - INFO - Chain [1] start processing\n",
      "09:54:46 - cmdstanpy - INFO - Chain [1] done processing\n"
     ]
    },
    {
     "name": "stdout",
     "output_type": "stream",
     "text": [
      "Train RMSE: 7.9139545239089735\n"
     ]
    },
    {
     "name": "stderr",
     "output_type": "stream",
     "text": [
      "09:54:47 - cmdstanpy - INFO - Chain [1] start processing\n",
      "09:54:47 - cmdstanpy - INFO - Chain [1] done processing\n"
     ]
    },
    {
     "name": "stdout",
     "output_type": "stream",
     "text": [
      "Train RMSE: 7.881319757371872\n"
     ]
    },
    {
     "name": "stderr",
     "output_type": "stream",
     "text": [
      "09:54:47 - cmdstanpy - INFO - Chain [1] start processing\n",
      "09:54:47 - cmdstanpy - INFO - Chain [1] done processing\n"
     ]
    },
    {
     "name": "stdout",
     "output_type": "stream",
     "text": [
      "Train RMSE: 8.093222441973417\n"
     ]
    },
    {
     "name": "stderr",
     "output_type": "stream",
     "text": [
      "09:54:48 - cmdstanpy - INFO - Chain [1] start processing\n",
      "09:54:48 - cmdstanpy - INFO - Chain [1] done processing\n"
     ]
    },
    {
     "name": "stdout",
     "output_type": "stream",
     "text": [
      "Train RMSE: 8.116797491568072\n"
     ]
    },
    {
     "name": "stderr",
     "output_type": "stream",
     "text": [
      "09:54:49 - cmdstanpy - INFO - Chain [1] start processing\n",
      "09:54:49 - cmdstanpy - INFO - Chain [1] done processing\n"
     ]
    },
    {
     "name": "stdout",
     "output_type": "stream",
     "text": [
      "Train RMSE: 8.260359247296513\n"
     ]
    },
    {
     "name": "stderr",
     "output_type": "stream",
     "text": [
      "09:54:49 - cmdstanpy - INFO - Chain [1] start processing\n",
      "09:54:49 - cmdstanpy - INFO - Chain [1] done processing\n"
     ]
    },
    {
     "name": "stdout",
     "output_type": "stream",
     "text": [
      "Train RMSE: 8.26407619715348\n"
     ]
    },
    {
     "name": "stderr",
     "output_type": "stream",
     "text": [
      "09:54:50 - cmdstanpy - INFO - Chain [1] start processing\n",
      "09:54:50 - cmdstanpy - INFO - Chain [1] done processing\n",
      "09:54:50 - cmdstanpy - INFO - Chain [1] start processing\n"
     ]
    },
    {
     "name": "stdout",
     "output_type": "stream",
     "text": [
      "Train RMSE: 8.417055160015662\n"
     ]
    },
    {
     "name": "stderr",
     "output_type": "stream",
     "text": [
      "09:54:51 - cmdstanpy - INFO - Chain [1] done processing\n"
     ]
    },
    {
     "name": "stdout",
     "output_type": "stream",
     "text": [
      "Train RMSE: 8.422315105238827\n"
     ]
    },
    {
     "name": "stderr",
     "output_type": "stream",
     "text": [
      "09:54:51 - cmdstanpy - INFO - Chain [1] start processing\n",
      "09:54:51 - cmdstanpy - INFO - Chain [1] done processing\n"
     ]
    },
    {
     "name": "stdout",
     "output_type": "stream",
     "text": [
      "Train RMSE: 7.816107159770315\n"
     ]
    },
    {
     "name": "stderr",
     "output_type": "stream",
     "text": [
      "09:54:52 - cmdstanpy - INFO - Chain [1] start processing\n",
      "09:54:52 - cmdstanpy - INFO - Chain [1] done processing\n"
     ]
    },
    {
     "name": "stdout",
     "output_type": "stream",
     "text": [
      "Train RMSE: 7.825591002071609\n"
     ]
    },
    {
     "name": "stderr",
     "output_type": "stream",
     "text": [
      "09:54:52 - cmdstanpy - INFO - Chain [1] start processing\n",
      "09:54:52 - cmdstanpy - INFO - Chain [1] done processing\n"
     ]
    },
    {
     "name": "stdout",
     "output_type": "stream",
     "text": [
      "Train RMSE: 8.078708954471734\n"
     ]
    },
    {
     "name": "stderr",
     "output_type": "stream",
     "text": [
      "09:54:53 - cmdstanpy - INFO - Chain [1] start processing\n",
      "09:54:53 - cmdstanpy - INFO - Chain [1] done processing\n",
      "09:54:53 - cmdstanpy - INFO - Chain [1] start processing\n"
     ]
    },
    {
     "name": "stdout",
     "output_type": "stream",
     "text": [
      "Train RMSE: 8.092748910641783\n"
     ]
    },
    {
     "name": "stderr",
     "output_type": "stream",
     "text": [
      "09:54:54 - cmdstanpy - INFO - Chain [1] done processing\n"
     ]
    },
    {
     "name": "stdout",
     "output_type": "stream",
     "text": [
      "Train RMSE: 8.193678948943\n"
     ]
    },
    {
     "name": "stderr",
     "output_type": "stream",
     "text": [
      "09:54:54 - cmdstanpy - INFO - Chain [1] start processing\n",
      "09:54:54 - cmdstanpy - INFO - Chain [1] done processing\n"
     ]
    },
    {
     "name": "stdout",
     "output_type": "stream",
     "text": [
      "Train RMSE: 8.191489941056005\n"
     ]
    },
    {
     "name": "stderr",
     "output_type": "stream",
     "text": [
      "09:54:55 - cmdstanpy - INFO - Chain [1] start processing\n",
      "09:54:55 - cmdstanpy - INFO - Chain [1] done processing\n"
     ]
    },
    {
     "name": "stdout",
     "output_type": "stream",
     "text": [
      "Train RMSE: 8.426679694063122\n"
     ]
    },
    {
     "name": "stderr",
     "output_type": "stream",
     "text": [
      "09:54:55 - cmdstanpy - INFO - Chain [1] start processing\n",
      "09:54:55 - cmdstanpy - INFO - Chain [1] done processing\n"
     ]
    },
    {
     "name": "stdout",
     "output_type": "stream",
     "text": [
      "Train RMSE: 8.464980084864004\n"
     ]
    },
    {
     "name": "stderr",
     "output_type": "stream",
     "text": [
      "09:54:56 - cmdstanpy - INFO - Chain [1] start processing\n",
      "09:54:56 - cmdstanpy - INFO - Chain [1] done processing\n"
     ]
    },
    {
     "name": "stdout",
     "output_type": "stream",
     "text": [
      "Train RMSE: 7.810354615900057\n"
     ]
    },
    {
     "name": "stderr",
     "output_type": "stream",
     "text": [
      "09:54:56 - cmdstanpy - INFO - Chain [1] start processing\n",
      "09:54:56 - cmdstanpy - INFO - Chain [1] done processing\n"
     ]
    },
    {
     "name": "stdout",
     "output_type": "stream",
     "text": [
      "Train RMSE: 7.80824275872464\n"
     ]
    },
    {
     "name": "stderr",
     "output_type": "stream",
     "text": [
      "09:54:57 - cmdstanpy - INFO - Chain [1] start processing\n",
      "09:54:57 - cmdstanpy - INFO - Chain [1] done processing\n"
     ]
    },
    {
     "name": "stdout",
     "output_type": "stream",
     "text": [
      "Train RMSE: 8.058381603892386\n"
     ]
    },
    {
     "name": "stderr",
     "output_type": "stream",
     "text": [
      "09:54:58 - cmdstanpy - INFO - Chain [1] start processing\n",
      "09:54:58 - cmdstanpy - INFO - Chain [1] done processing\n"
     ]
    },
    {
     "name": "stdout",
     "output_type": "stream",
     "text": [
      "Train RMSE: 8.061015079039398\n"
     ]
    },
    {
     "name": "stderr",
     "output_type": "stream",
     "text": [
      "09:54:58 - cmdstanpy - INFO - Chain [1] start processing\n",
      "09:54:58 - cmdstanpy - INFO - Chain [1] done processing\n"
     ]
    },
    {
     "name": "stdout",
     "output_type": "stream",
     "text": [
      "Train RMSE: 8.17792525558989\n"
     ]
    },
    {
     "name": "stderr",
     "output_type": "stream",
     "text": [
      "09:54:59 - cmdstanpy - INFO - Chain [1] start processing\n",
      "09:54:59 - cmdstanpy - INFO - Chain [1] done processing\n",
      "09:54:59 - cmdstanpy - INFO - Chain [1] start processing\n"
     ]
    },
    {
     "name": "stdout",
     "output_type": "stream",
     "text": [
      "Train RMSE: 8.200568657277643\n"
     ]
    },
    {
     "name": "stderr",
     "output_type": "stream",
     "text": [
      "09:54:59 - cmdstanpy - INFO - Chain [1] done processing\n",
      "09:55:00 - cmdstanpy - INFO - Chain [1] start processing\n"
     ]
    },
    {
     "name": "stdout",
     "output_type": "stream",
     "text": [
      "Train RMSE: 8.432106999926074\n"
     ]
    },
    {
     "name": "stderr",
     "output_type": "stream",
     "text": [
      "09:55:00 - cmdstanpy - INFO - Chain [1] done processing\n"
     ]
    },
    {
     "name": "stdout",
     "output_type": "stream",
     "text": [
      "Train RMSE: 8.420178394757562\n"
     ]
    },
    {
     "name": "stderr",
     "output_type": "stream",
     "text": [
      "09:55:00 - cmdstanpy - INFO - Chain [1] start processing\n",
      "09:55:01 - cmdstanpy - INFO - Chain [1] done processing\n"
     ]
    },
    {
     "name": "stdout",
     "output_type": "stream",
     "text": [
      "Train RMSE: 7.868432123310382\n"
     ]
    },
    {
     "name": "stderr",
     "output_type": "stream",
     "text": [
      "09:55:01 - cmdstanpy - INFO - Chain [1] start processing\n",
      "09:55:01 - cmdstanpy - INFO - Chain [1] done processing\n"
     ]
    },
    {
     "name": "stdout",
     "output_type": "stream",
     "text": [
      "Train RMSE: 7.883659269821776\n"
     ]
    },
    {
     "name": "stderr",
     "output_type": "stream",
     "text": [
      "09:55:02 - cmdstanpy - INFO - Chain [1] start processing\n",
      "09:55:02 - cmdstanpy - INFO - Chain [1] done processing\n"
     ]
    },
    {
     "name": "stdout",
     "output_type": "stream",
     "text": [
      "Train RMSE: 8.150732853375592\n"
     ]
    },
    {
     "name": "stderr",
     "output_type": "stream",
     "text": [
      "09:55:02 - cmdstanpy - INFO - Chain [1] start processing\n",
      "09:55:02 - cmdstanpy - INFO - Chain [1] done processing\n",
      "09:55:03 - cmdstanpy - INFO - Chain [1] start processing\n"
     ]
    },
    {
     "name": "stdout",
     "output_type": "stream",
     "text": [
      "Train RMSE: 8.170688299978794\n"
     ]
    },
    {
     "name": "stderr",
     "output_type": "stream",
     "text": [
      "09:55:03 - cmdstanpy - INFO - Chain [1] done processing\n",
      "09:55:03 - cmdstanpy - INFO - Chain [1] start processing\n"
     ]
    },
    {
     "name": "stdout",
     "output_type": "stream",
     "text": [
      "Train RMSE: 8.248338526867434\n"
     ]
    },
    {
     "name": "stderr",
     "output_type": "stream",
     "text": [
      "09:55:04 - cmdstanpy - INFO - Chain [1] done processing\n",
      "09:55:04 - cmdstanpy - INFO - Chain [1] start processing\n"
     ]
    },
    {
     "name": "stdout",
     "output_type": "stream",
     "text": [
      "Train RMSE: 8.226783802358282\n"
     ]
    },
    {
     "name": "stderr",
     "output_type": "stream",
     "text": [
      "09:55:04 - cmdstanpy - INFO - Chain [1] done processing\n"
     ]
    },
    {
     "name": "stdout",
     "output_type": "stream",
     "text": [
      "Train RMSE: 8.433807702228743\n"
     ]
    },
    {
     "name": "stderr",
     "output_type": "stream",
     "text": [
      "09:55:05 - cmdstanpy - INFO - Chain [1] start processing\n",
      "09:55:05 - cmdstanpy - INFO - Chain [1] done processing\n"
     ]
    },
    {
     "name": "stdout",
     "output_type": "stream",
     "text": [
      "Train RMSE: 8.439240874654\n"
     ]
    },
    {
     "name": "stderr",
     "output_type": "stream",
     "text": [
      "09:55:05 - cmdstanpy - INFO - Chain [1] start processing\n",
      "09:55:05 - cmdstanpy - INFO - Chain [1] done processing\n"
     ]
    },
    {
     "name": "stdout",
     "output_type": "stream",
     "text": [
      "Train RMSE: 7.883724827524053\n"
     ]
    },
    {
     "name": "stderr",
     "output_type": "stream",
     "text": [
      "09:55:06 - cmdstanpy - INFO - Chain [1] start processing\n",
      "09:55:06 - cmdstanpy - INFO - Chain [1] done processing\n",
      "09:55:06 - cmdstanpy - INFO - Chain [1] start processing\n"
     ]
    },
    {
     "name": "stdout",
     "output_type": "stream",
     "text": [
      "Train RMSE: 7.919021203156128\n"
     ]
    },
    {
     "name": "stderr",
     "output_type": "stream",
     "text": [
      "09:55:07 - cmdstanpy - INFO - Chain [1] done processing\n",
      "09:55:07 - cmdstanpy - INFO - Chain [1] start processing\n"
     ]
    },
    {
     "name": "stdout",
     "output_type": "stream",
     "text": [
      "Train RMSE: 8.136228409961905\n"
     ]
    },
    {
     "name": "stderr",
     "output_type": "stream",
     "text": [
      "09:55:07 - cmdstanpy - INFO - Chain [1] done processing\n"
     ]
    },
    {
     "name": "stdout",
     "output_type": "stream",
     "text": [
      "Train RMSE: 8.128347351341937\n"
     ]
    },
    {
     "name": "stderr",
     "output_type": "stream",
     "text": [
      "09:55:08 - cmdstanpy - INFO - Chain [1] start processing\n",
      "09:55:08 - cmdstanpy - INFO - Chain [1] done processing\n"
     ]
    },
    {
     "name": "stdout",
     "output_type": "stream",
     "text": [
      "Train RMSE: 8.247190600720456\n"
     ]
    },
    {
     "name": "stderr",
     "output_type": "stream",
     "text": [
      "09:55:08 - cmdstanpy - INFO - Chain [1] start processing\n",
      "09:55:08 - cmdstanpy - INFO - Chain [1] done processing\n"
     ]
    },
    {
     "name": "stdout",
     "output_type": "stream",
     "text": [
      "Train RMSE: 8.262562070434548\n"
     ]
    },
    {
     "name": "stderr",
     "output_type": "stream",
     "text": [
      "09:55:09 - cmdstanpy - INFO - Chain [1] start processing\n",
      "09:55:09 - cmdstanpy - INFO - Chain [1] done processing\n",
      "09:55:09 - cmdstanpy - INFO - Chain [1] start processing\n"
     ]
    },
    {
     "name": "stdout",
     "output_type": "stream",
     "text": [
      "Train RMSE: 8.421604866569286\n"
     ]
    },
    {
     "name": "stderr",
     "output_type": "stream",
     "text": [
      "09:55:09 - cmdstanpy - INFO - Chain [1] done processing\n"
     ]
    },
    {
     "name": "stdout",
     "output_type": "stream",
     "text": [
      "Train RMSE: 8.423330867013512\n"
     ]
    },
    {
     "name": "stderr",
     "output_type": "stream",
     "text": [
      "09:55:10 - cmdstanpy - INFO - Chain [1] start processing\n",
      "09:55:10 - cmdstanpy - INFO - Chain [1] done processing\n"
     ]
    },
    {
     "name": "stdout",
     "output_type": "stream",
     "text": [
      "Train RMSE: 7.807414797475727\n"
     ]
    },
    {
     "name": "stderr",
     "output_type": "stream",
     "text": [
      "09:55:11 - cmdstanpy - INFO - Chain [1] start processing\n",
      "09:55:11 - cmdstanpy - INFO - Chain [1] done processing\n"
     ]
    },
    {
     "name": "stdout",
     "output_type": "stream",
     "text": [
      "Train RMSE: 7.8183243332890875\n"
     ]
    },
    {
     "name": "stderr",
     "output_type": "stream",
     "text": [
      "09:55:11 - cmdstanpy - INFO - Chain [1] start processing\n",
      "09:55:11 - cmdstanpy - INFO - Chain [1] done processing\n"
     ]
    },
    {
     "name": "stdout",
     "output_type": "stream",
     "text": [
      "Train RMSE: 8.074284769145706\n"
     ]
    },
    {
     "name": "stderr",
     "output_type": "stream",
     "text": [
      "09:55:12 - cmdstanpy - INFO - Chain [1] start processing\n",
      "09:55:12 - cmdstanpy - INFO - Chain [1] done processing\n"
     ]
    },
    {
     "name": "stdout",
     "output_type": "stream",
     "text": [
      "Train RMSE: 8.06730589269901\n"
     ]
    },
    {
     "name": "stderr",
     "output_type": "stream",
     "text": [
      "09:55:12 - cmdstanpy - INFO - Chain [1] start processing\n",
      "09:55:13 - cmdstanpy - INFO - Chain [1] done processing\n"
     ]
    },
    {
     "name": "stdout",
     "output_type": "stream",
     "text": [
      "Train RMSE: 8.220159168196414\n"
     ]
    },
    {
     "name": "stderr",
     "output_type": "stream",
     "text": [
      "09:55:13 - cmdstanpy - INFO - Chain [1] start processing\n",
      "09:55:13 - cmdstanpy - INFO - Chain [1] done processing\n"
     ]
    },
    {
     "name": "stdout",
     "output_type": "stream",
     "text": [
      "Train RMSE: 8.218432561009358\n"
     ]
    },
    {
     "name": "stderr",
     "output_type": "stream",
     "text": [
      "09:55:14 - cmdstanpy - INFO - Chain [1] start processing\n",
      "09:55:14 - cmdstanpy - INFO - Chain [1] done processing\n"
     ]
    },
    {
     "name": "stdout",
     "output_type": "stream",
     "text": [
      "Train RMSE: 8.420622022462355\n"
     ]
    },
    {
     "name": "stderr",
     "output_type": "stream",
     "text": [
      "09:55:14 - cmdstanpy - INFO - Chain [1] start processing\n",
      "09:55:14 - cmdstanpy - INFO - Chain [1] done processing\n"
     ]
    },
    {
     "name": "stdout",
     "output_type": "stream",
     "text": [
      "Train RMSE: 8.423621851286063\n"
     ]
    },
    {
     "name": "stderr",
     "output_type": "stream",
     "text": [
      "09:55:15 - cmdstanpy - INFO - Chain [1] start processing\n",
      "09:55:15 - cmdstanpy - INFO - Chain [1] done processing\n"
     ]
    },
    {
     "name": "stdout",
     "output_type": "stream",
     "text": [
      "Train RMSE: 7.812179459570162\n"
     ]
    },
    {
     "name": "stderr",
     "output_type": "stream",
     "text": [
      "09:55:16 - cmdstanpy - INFO - Chain [1] start processing\n",
      "09:55:16 - cmdstanpy - INFO - Chain [1] done processing\n"
     ]
    },
    {
     "name": "stdout",
     "output_type": "stream",
     "text": [
      "Train RMSE: 7.82153259489387\n"
     ]
    },
    {
     "name": "stderr",
     "output_type": "stream",
     "text": [
      "09:55:16 - cmdstanpy - INFO - Chain [1] start processing\n",
      "09:55:16 - cmdstanpy - INFO - Chain [1] done processing\n"
     ]
    },
    {
     "name": "stdout",
     "output_type": "stream",
     "text": [
      "Train RMSE: 8.055309948216847\n"
     ]
    },
    {
     "name": "stderr",
     "output_type": "stream",
     "text": [
      "09:55:17 - cmdstanpy - INFO - Chain [1] start processing\n",
      "09:55:17 - cmdstanpy - INFO - Chain [1] done processing\n"
     ]
    },
    {
     "name": "stdout",
     "output_type": "stream",
     "text": [
      "Train RMSE: 8.061137732123216\n"
     ]
    },
    {
     "name": "stderr",
     "output_type": "stream",
     "text": [
      "09:55:17 - cmdstanpy - INFO - Chain [1] start processing\n",
      "09:55:17 - cmdstanpy - INFO - Chain [1] done processing\n"
     ]
    },
    {
     "name": "stdout",
     "output_type": "stream",
     "text": [
      "Train RMSE: 8.182890595458607\n"
     ]
    },
    {
     "name": "stderr",
     "output_type": "stream",
     "text": [
      "09:55:18 - cmdstanpy - INFO - Chain [1] start processing\n",
      "09:55:18 - cmdstanpy - INFO - Chain [1] done processing\n"
     ]
    },
    {
     "name": "stdout",
     "output_type": "stream",
     "text": [
      "Train RMSE: 8.184857435522327\n"
     ]
    },
    {
     "name": "stderr",
     "output_type": "stream",
     "text": [
      "09:55:19 - cmdstanpy - INFO - Chain [1] start processing\n",
      "09:55:19 - cmdstanpy - INFO - Chain [1] done processing\n"
     ]
    },
    {
     "name": "stdout",
     "output_type": "stream",
     "text": [
      "Train RMSE: 8.42719479437356\n"
     ]
    },
    {
     "name": "stderr",
     "output_type": "stream",
     "text": [
      "09:55:19 - cmdstanpy - INFO - Chain [1] start processing\n",
      "09:55:19 - cmdstanpy - INFO - Chain [1] done processing\n"
     ]
    },
    {
     "name": "stdout",
     "output_type": "stream",
     "text": [
      "Train RMSE: 8.426444565518578\n"
     ]
    },
    {
     "name": "stderr",
     "output_type": "stream",
     "text": [
      "09:55:20 - cmdstanpy - INFO - Chain [1] start processing\n",
      "09:55:20 - cmdstanpy - INFO - Chain [1] done processing\n"
     ]
    },
    {
     "name": "stdout",
     "output_type": "stream",
     "text": [
      "Train RMSE: 7.853610616447274\n"
     ]
    },
    {
     "name": "stderr",
     "output_type": "stream",
     "text": [
      "09:55:20 - cmdstanpy - INFO - Chain [1] start processing\n",
      "09:55:20 - cmdstanpy - INFO - Chain [1] done processing\n"
     ]
    },
    {
     "name": "stdout",
     "output_type": "stream",
     "text": [
      "Train RMSE: 7.85558050319769\n"
     ]
    },
    {
     "name": "stderr",
     "output_type": "stream",
     "text": [
      "09:55:21 - cmdstanpy - INFO - Chain [1] start processing\n",
      "09:55:21 - cmdstanpy - INFO - Chain [1] done processing\n"
     ]
    },
    {
     "name": "stdout",
     "output_type": "stream",
     "text": [
      "Train RMSE: 8.085211498285181\n"
     ]
    },
    {
     "name": "stderr",
     "output_type": "stream",
     "text": [
      "09:55:22 - cmdstanpy - INFO - Chain [1] start processing\n",
      "09:55:22 - cmdstanpy - INFO - Chain [1] done processing\n"
     ]
    },
    {
     "name": "stdout",
     "output_type": "stream",
     "text": [
      "Train RMSE: 8.084544703325069\n"
     ]
    },
    {
     "name": "stderr",
     "output_type": "stream",
     "text": [
      "09:55:22 - cmdstanpy - INFO - Chain [1] start processing\n",
      "09:55:22 - cmdstanpy - INFO - Chain [1] done processing\n"
     ]
    },
    {
     "name": "stdout",
     "output_type": "stream",
     "text": [
      "Train RMSE: 8.191802523828008\n"
     ]
    },
    {
     "name": "stderr",
     "output_type": "stream",
     "text": [
      "09:55:23 - cmdstanpy - INFO - Chain [1] start processing\n",
      "09:55:23 - cmdstanpy - INFO - Chain [1] done processing\n",
      "09:55:24 - cmdstanpy - INFO - Chain [1] start processing\n"
     ]
    },
    {
     "name": "stdout",
     "output_type": "stream",
     "text": [
      "Train RMSE: 8.192445898065062\n"
     ]
    },
    {
     "name": "stderr",
     "output_type": "stream",
     "text": [
      "09:55:24 - cmdstanpy - INFO - Chain [1] done processing\n",
      "09:55:24 - cmdstanpy - INFO - Chain [1] start processing\n"
     ]
    },
    {
     "name": "stdout",
     "output_type": "stream",
     "text": [
      "Train RMSE: 8.48996597486035\n"
     ]
    },
    {
     "name": "stderr",
     "output_type": "stream",
     "text": [
      "09:55:24 - cmdstanpy - INFO - Chain [1] done processing\n"
     ]
    },
    {
     "name": "stdout",
     "output_type": "stream",
     "text": [
      "Train RMSE: 8.481560959584735\n"
     ]
    },
    {
     "name": "stderr",
     "output_type": "stream",
     "text": [
      "09:55:25 - cmdstanpy - INFO - Chain [1] start processing\n",
      "09:55:25 - cmdstanpy - INFO - Chain [1] done processing\n"
     ]
    },
    {
     "name": "stdout",
     "output_type": "stream",
     "text": [
      "Train RMSE: 7.871278189646647\n"
     ]
    },
    {
     "name": "stderr",
     "output_type": "stream",
     "text": [
      "09:55:25 - cmdstanpy - INFO - Chain [1] start processing\n",
      "09:55:25 - cmdstanpy - INFO - Chain [1] done processing\n"
     ]
    },
    {
     "name": "stdout",
     "output_type": "stream",
     "text": [
      "Train RMSE: 7.868171834874071\n"
     ]
    },
    {
     "name": "stderr",
     "output_type": "stream",
     "text": [
      "09:55:26 - cmdstanpy - INFO - Chain [1] start processing\n",
      "09:55:26 - cmdstanpy - INFO - Chain [1] done processing\n"
     ]
    },
    {
     "name": "stdout",
     "output_type": "stream",
     "text": [
      "Train RMSE: 8.101922750050138\n"
     ]
    },
    {
     "name": "stderr",
     "output_type": "stream",
     "text": [
      "09:55:27 - cmdstanpy - INFO - Chain [1] start processing\n",
      "09:55:27 - cmdstanpy - INFO - Chain [1] done processing\n"
     ]
    },
    {
     "name": "stdout",
     "output_type": "stream",
     "text": [
      "Train RMSE: 8.174569081028137\n"
     ]
    },
    {
     "name": "stderr",
     "output_type": "stream",
     "text": [
      "09:55:27 - cmdstanpy - INFO - Chain [1] start processing\n",
      "09:55:27 - cmdstanpy - INFO - Chain [1] done processing\n"
     ]
    },
    {
     "name": "stdout",
     "output_type": "stream",
     "text": [
      "Train RMSE: 8.224870482790026\n"
     ]
    },
    {
     "name": "stderr",
     "output_type": "stream",
     "text": [
      "09:55:28 - cmdstanpy - INFO - Chain [1] start processing\n",
      "09:55:28 - cmdstanpy - INFO - Chain [1] done processing\n"
     ]
    },
    {
     "name": "stdout",
     "output_type": "stream",
     "text": [
      "Train RMSE: 8.213493290776531\n"
     ]
    },
    {
     "name": "stderr",
     "output_type": "stream",
     "text": [
      "09:55:28 - cmdstanpy - INFO - Chain [1] start processing\n",
      "09:55:28 - cmdstanpy - INFO - Chain [1] done processing\n",
      "09:55:29 - cmdstanpy - INFO - Chain [1] start processing\n"
     ]
    },
    {
     "name": "stdout",
     "output_type": "stream",
     "text": [
      "Train RMSE: 8.417055160015662\n"
     ]
    },
    {
     "name": "stderr",
     "output_type": "stream",
     "text": [
      "09:55:29 - cmdstanpy - INFO - Chain [1] done processing\n"
     ]
    },
    {
     "name": "stdout",
     "output_type": "stream",
     "text": [
      "Train RMSE: 8.422315105238827\n"
     ]
    },
    {
     "name": "stderr",
     "output_type": "stream",
     "text": [
      "09:55:30 - cmdstanpy - INFO - Chain [1] start processing\n",
      "09:55:30 - cmdstanpy - INFO - Chain [1] done processing\n"
     ]
    },
    {
     "name": "stdout",
     "output_type": "stream",
     "text": [
      "Train RMSE: 7.804060333125296\n"
     ]
    },
    {
     "name": "stderr",
     "output_type": "stream",
     "text": [
      "09:55:30 - cmdstanpy - INFO - Chain [1] start processing\n",
      "09:55:30 - cmdstanpy - INFO - Chain [1] done processing\n"
     ]
    },
    {
     "name": "stdout",
     "output_type": "stream",
     "text": [
      "Train RMSE: 7.806065036608257\n"
     ]
    },
    {
     "name": "stderr",
     "output_type": "stream",
     "text": [
      "09:55:31 - cmdstanpy - INFO - Chain [1] start processing\n",
      "09:55:31 - cmdstanpy - INFO - Chain [1] done processing\n"
     ]
    },
    {
     "name": "stdout",
     "output_type": "stream",
     "text": [
      "Train RMSE: 8.05774371673748\n"
     ]
    },
    {
     "name": "stderr",
     "output_type": "stream",
     "text": [
      "09:55:31 - cmdstanpy - INFO - Chain [1] start processing\n",
      "09:55:31 - cmdstanpy - INFO - Chain [1] done processing\n"
     ]
    },
    {
     "name": "stdout",
     "output_type": "stream",
     "text": [
      "Train RMSE: 8.060509683482943\n"
     ]
    },
    {
     "name": "stderr",
     "output_type": "stream",
     "text": [
      "09:55:32 - cmdstanpy - INFO - Chain [1] start processing\n",
      "09:55:32 - cmdstanpy - INFO - Chain [1] done processing\n"
     ]
    },
    {
     "name": "stdout",
     "output_type": "stream",
     "text": [
      "Train RMSE: 8.179004441073848\n"
     ]
    },
    {
     "name": "stderr",
     "output_type": "stream",
     "text": [
      "09:55:33 - cmdstanpy - INFO - Chain [1] start processing\n",
      "09:55:33 - cmdstanpy - INFO - Chain [1] done processing\n"
     ]
    },
    {
     "name": "stdout",
     "output_type": "stream",
     "text": [
      "Train RMSE: 8.189987667085065\n"
     ]
    },
    {
     "name": "stderr",
     "output_type": "stream",
     "text": [
      "09:55:33 - cmdstanpy - INFO - Chain [1] start processing\n",
      "09:55:33 - cmdstanpy - INFO - Chain [1] done processing\n"
     ]
    },
    {
     "name": "stdout",
     "output_type": "stream",
     "text": [
      "Train RMSE: 8.418203009348945\n"
     ]
    },
    {
     "name": "stderr",
     "output_type": "stream",
     "text": [
      "09:55:34 - cmdstanpy - INFO - Chain [1] start processing\n",
      "09:55:34 - cmdstanpy - INFO - Chain [1] done processing\n"
     ]
    },
    {
     "name": "stdout",
     "output_type": "stream",
     "text": [
      "Train RMSE: 8.432033136093953\n"
     ]
    },
    {
     "name": "stderr",
     "output_type": "stream",
     "text": [
      "09:55:35 - cmdstanpy - INFO - Chain [1] start processing\n",
      "09:55:35 - cmdstanpy - INFO - Chain [1] done processing\n"
     ]
    },
    {
     "name": "stdout",
     "output_type": "stream",
     "text": [
      "Train RMSE: 7.795582832983508\n"
     ]
    },
    {
     "name": "stderr",
     "output_type": "stream",
     "text": [
      "09:55:35 - cmdstanpy - INFO - Chain [1] start processing\n",
      "09:55:35 - cmdstanpy - INFO - Chain [1] done processing\n"
     ]
    },
    {
     "name": "stdout",
     "output_type": "stream",
     "text": [
      "Train RMSE: 7.801072534543089\n"
     ]
    },
    {
     "name": "stderr",
     "output_type": "stream",
     "text": [
      "09:55:36 - cmdstanpy - INFO - Chain [1] start processing\n",
      "09:55:36 - cmdstanpy - INFO - Chain [1] done processing\n"
     ]
    },
    {
     "name": "stdout",
     "output_type": "stream",
     "text": [
      "Train RMSE: 8.06575687258971\n"
     ]
    },
    {
     "name": "stderr",
     "output_type": "stream",
     "text": [
      "09:55:36 - cmdstanpy - INFO - Chain [1] start processing\n",
      "09:55:36 - cmdstanpy - INFO - Chain [1] done processing\n"
     ]
    },
    {
     "name": "stdout",
     "output_type": "stream",
     "text": [
      "Train RMSE: 8.062896768903784\n"
     ]
    },
    {
     "name": "stderr",
     "output_type": "stream",
     "text": [
      "09:55:37 - cmdstanpy - INFO - Chain [1] start processing\n",
      "09:55:37 - cmdstanpy - INFO - Chain [1] done processing\n"
     ]
    },
    {
     "name": "stdout",
     "output_type": "stream",
     "text": [
      "Train RMSE: 8.169068327389766\n"
     ]
    },
    {
     "name": "stderr",
     "output_type": "stream",
     "text": [
      "09:55:38 - cmdstanpy - INFO - Chain [1] start processing\n",
      "09:55:38 - cmdstanpy - INFO - Chain [1] done processing\n"
     ]
    },
    {
     "name": "stdout",
     "output_type": "stream",
     "text": [
      "Train RMSE: 8.179496757209128\n"
     ]
    },
    {
     "name": "stderr",
     "output_type": "stream",
     "text": [
      "09:55:38 - cmdstanpy - INFO - Chain [1] start processing\n",
      "09:55:38 - cmdstanpy - INFO - Chain [1] done processing\n"
     ]
    },
    {
     "name": "stdout",
     "output_type": "stream",
     "text": [
      "Train RMSE: 8.432106999926074\n"
     ]
    },
    {
     "name": "stderr",
     "output_type": "stream",
     "text": [
      "09:55:39 - cmdstanpy - INFO - Chain [1] start processing\n",
      "09:55:39 - cmdstanpy - INFO - Chain [1] done processing\n"
     ]
    },
    {
     "name": "stdout",
     "output_type": "stream",
     "text": [
      "Train RMSE: 8.420178394757562\n"
     ]
    },
    {
     "name": "stderr",
     "output_type": "stream",
     "text": [
      "09:55:39 - cmdstanpy - INFO - Chain [1] start processing\n",
      "09:55:39 - cmdstanpy - INFO - Chain [1] done processing\n"
     ]
    },
    {
     "name": "stdout",
     "output_type": "stream",
     "text": [
      "Train RMSE: 7.831657255424044\n"
     ]
    },
    {
     "name": "stderr",
     "output_type": "stream",
     "text": [
      "09:55:40 - cmdstanpy - INFO - Chain [1] start processing\n",
      "09:55:40 - cmdstanpy - INFO - Chain [1] done processing\n"
     ]
    },
    {
     "name": "stdout",
     "output_type": "stream",
     "text": [
      "Train RMSE: 7.834701451232927\n"
     ]
    },
    {
     "name": "stderr",
     "output_type": "stream",
     "text": [
      "09:55:41 - cmdstanpy - INFO - Chain [1] start processing\n",
      "09:55:41 - cmdstanpy - INFO - Chain [1] done processing\n"
     ]
    },
    {
     "name": "stdout",
     "output_type": "stream",
     "text": [
      "Train RMSE: 8.09466813202526\n"
     ]
    },
    {
     "name": "stderr",
     "output_type": "stream",
     "text": [
      "09:55:41 - cmdstanpy - INFO - Chain [1] start processing\n",
      "09:55:41 - cmdstanpy - INFO - Chain [1] done processing\n"
     ]
    },
    {
     "name": "stdout",
     "output_type": "stream",
     "text": [
      "Train RMSE: 8.094054775300355\n"
     ]
    },
    {
     "name": "stderr",
     "output_type": "stream",
     "text": [
      "09:55:42 - cmdstanpy - INFO - Chain [1] start processing\n",
      "09:55:42 - cmdstanpy - INFO - Chain [1] done processing\n"
     ]
    },
    {
     "name": "stdout",
     "output_type": "stream",
     "text": [
      "Train RMSE: 8.185041055361754\n"
     ]
    },
    {
     "name": "stderr",
     "output_type": "stream",
     "text": [
      "09:55:43 - cmdstanpy - INFO - Chain [1] start processing\n",
      "09:55:43 - cmdstanpy - INFO - Chain [1] done processing\n"
     ]
    },
    {
     "name": "stdout",
     "output_type": "stream",
     "text": [
      "Train RMSE: 8.188161960310989\n"
     ]
    },
    {
     "name": "stderr",
     "output_type": "stream",
     "text": [
      "09:55:43 - cmdstanpy - INFO - Chain [1] start processing\n",
      "09:55:43 - cmdstanpy - INFO - Chain [1] done processing\n"
     ]
    },
    {
     "name": "stdout",
     "output_type": "stream",
     "text": [
      "Train RMSE: 8.435007356841696\n"
     ]
    },
    {
     "name": "stderr",
     "output_type": "stream",
     "text": [
      "09:55:44 - cmdstanpy - INFO - Chain [1] start processing\n",
      "09:55:44 - cmdstanpy - INFO - Chain [1] done processing\n"
     ]
    },
    {
     "name": "stdout",
     "output_type": "stream",
     "text": [
      "Train RMSE: 8.443812546476224\n"
     ]
    },
    {
     "name": "stderr",
     "output_type": "stream",
     "text": [
      "09:55:44 - cmdstanpy - INFO - Chain [1] start processing\n",
      "09:55:44 - cmdstanpy - INFO - Chain [1] done processing\n"
     ]
    },
    {
     "name": "stdout",
     "output_type": "stream",
     "text": [
      "Train RMSE: 7.856716782852241\n"
     ]
    },
    {
     "name": "stderr",
     "output_type": "stream",
     "text": [
      "09:55:45 - cmdstanpy - INFO - Chain [1] start processing\n",
      "09:55:45 - cmdstanpy - INFO - Chain [1] done processing\n"
     ]
    },
    {
     "name": "stdout",
     "output_type": "stream",
     "text": [
      "Train RMSE: 7.844881967867315\n"
     ]
    },
    {
     "name": "stderr",
     "output_type": "stream",
     "text": [
      "09:55:46 - cmdstanpy - INFO - Chain [1] start processing\n",
      "09:55:46 - cmdstanpy - INFO - Chain [1] done processing\n"
     ]
    },
    {
     "name": "stdout",
     "output_type": "stream",
     "text": [
      "Train RMSE: 8.109427842929717\n"
     ]
    },
    {
     "name": "stderr",
     "output_type": "stream",
     "text": [
      "09:55:46 - cmdstanpy - INFO - Chain [1] start processing\n",
      "09:55:46 - cmdstanpy - INFO - Chain [1] done processing\n",
      "09:55:47 - cmdstanpy - INFO - Chain [1] start processing\n"
     ]
    },
    {
     "name": "stdout",
     "output_type": "stream",
     "text": [
      "Train RMSE: 8.155293625657595\n"
     ]
    },
    {
     "name": "stderr",
     "output_type": "stream",
     "text": [
      "09:55:47 - cmdstanpy - INFO - Chain [1] done processing\n"
     ]
    },
    {
     "name": "stdout",
     "output_type": "stream",
     "text": [
      "Train RMSE: 8.191188120717722\n"
     ]
    },
    {
     "name": "stderr",
     "output_type": "stream",
     "text": [
      "09:55:47 - cmdstanpy - INFO - Chain [1] start processing\n",
      "09:55:47 - cmdstanpy - INFO - Chain [1] done processing\n",
      "09:55:48 - cmdstanpy - INFO - Chain [1] start processing\n"
     ]
    },
    {
     "name": "stdout",
     "output_type": "stream",
     "text": [
      "Train RMSE: 8.200084502062932\n"
     ]
    },
    {
     "name": "stderr",
     "output_type": "stream",
     "text": [
      "09:55:48 - cmdstanpy - INFO - Chain [1] done processing\n",
      "09:55:48 - cmdstanpy - INFO - Chain [1] start processing\n"
     ]
    },
    {
     "name": "stdout",
     "output_type": "stream",
     "text": [
      "Train RMSE: 8.421604866569286\n"
     ]
    },
    {
     "name": "stderr",
     "output_type": "stream",
     "text": [
      "09:55:48 - cmdstanpy - INFO - Chain [1] done processing\n"
     ]
    },
    {
     "name": "stdout",
     "output_type": "stream",
     "text": [
      "Train RMSE: 8.423330867013512\n"
     ]
    },
    {
     "name": "stderr",
     "output_type": "stream",
     "text": [
      "09:55:49 - cmdstanpy - INFO - Chain [1] start processing\n",
      "09:55:49 - cmdstanpy - INFO - Chain [1] done processing\n"
     ]
    },
    {
     "name": "stdout",
     "output_type": "stream",
     "text": [
      "Train RMSE: 7.5064061492257075\n"
     ]
    },
    {
     "name": "stderr",
     "output_type": "stream",
     "text": [
      "09:55:50 - cmdstanpy - INFO - Chain [1] start processing\n",
      "09:55:50 - cmdstanpy - INFO - Chain [1] done processing\n"
     ]
    },
    {
     "name": "stdout",
     "output_type": "stream",
     "text": [
      "Train RMSE: 7.502987082163284\n"
     ]
    },
    {
     "name": "stderr",
     "output_type": "stream",
     "text": [
      "09:55:51 - cmdstanpy - INFO - Chain [1] start processing\n",
      "09:55:51 - cmdstanpy - INFO - Chain [1] done processing\n"
     ]
    },
    {
     "name": "stdout",
     "output_type": "stream",
     "text": [
      "Train RMSE: 7.712714250346061\n"
     ]
    },
    {
     "name": "stderr",
     "output_type": "stream",
     "text": [
      "09:55:51 - cmdstanpy - INFO - Chain [1] start processing\n",
      "09:55:51 - cmdstanpy - INFO - Chain [1] done processing\n"
     ]
    },
    {
     "name": "stdout",
     "output_type": "stream",
     "text": [
      "Train RMSE: 7.7101262101409915\n"
     ]
    },
    {
     "name": "stderr",
     "output_type": "stream",
     "text": [
      "09:55:52 - cmdstanpy - INFO - Chain [1] start processing\n",
      "09:55:52 - cmdstanpy - INFO - Chain [1] done processing\n"
     ]
    },
    {
     "name": "stdout",
     "output_type": "stream",
     "text": [
      "Train RMSE: 7.88793541805174\n"
     ]
    },
    {
     "name": "stderr",
     "output_type": "stream",
     "text": [
      "09:55:53 - cmdstanpy - INFO - Chain [1] start processing\n",
      "09:55:53 - cmdstanpy - INFO - Chain [1] done processing\n"
     ]
    },
    {
     "name": "stdout",
     "output_type": "stream",
     "text": [
      "Train RMSE: 7.885371536816515\n"
     ]
    },
    {
     "name": "stderr",
     "output_type": "stream",
     "text": [
      "09:55:53 - cmdstanpy - INFO - Chain [1] start processing\n",
      "09:55:54 - cmdstanpy - INFO - Chain [1] done processing\n",
      "09:55:54 - cmdstanpy - INFO - Chain [1] start processing\n"
     ]
    },
    {
     "name": "stdout",
     "output_type": "stream",
     "text": [
      "Train RMSE: 8.089147600690461\n"
     ]
    },
    {
     "name": "stderr",
     "output_type": "stream",
     "text": [
      "09:55:54 - cmdstanpy - INFO - Chain [1] done processing\n"
     ]
    },
    {
     "name": "stdout",
     "output_type": "stream",
     "text": [
      "Train RMSE: 8.090048188152315\n"
     ]
    },
    {
     "name": "stderr",
     "output_type": "stream",
     "text": [
      "09:55:55 - cmdstanpy - INFO - Chain [1] start processing\n",
      "09:55:55 - cmdstanpy - INFO - Chain [1] done processing\n"
     ]
    },
    {
     "name": "stdout",
     "output_type": "stream",
     "text": [
      "Train RMSE: 7.501909444190343\n"
     ]
    },
    {
     "name": "stderr",
     "output_type": "stream",
     "text": [
      "09:55:55 - cmdstanpy - INFO - Chain [1] start processing\n",
      "09:55:56 - cmdstanpy - INFO - Chain [1] done processing\n"
     ]
    },
    {
     "name": "stdout",
     "output_type": "stream",
     "text": [
      "Train RMSE: 7.507122791972169\n"
     ]
    },
    {
     "name": "stderr",
     "output_type": "stream",
     "text": [
      "09:55:56 - cmdstanpy - INFO - Chain [1] start processing\n",
      "09:55:56 - cmdstanpy - INFO - Chain [1] done processing\n"
     ]
    },
    {
     "name": "stdout",
     "output_type": "stream",
     "text": [
      "Train RMSE: 7.69819282046404\n"
     ]
    },
    {
     "name": "stderr",
     "output_type": "stream",
     "text": [
      "09:55:57 - cmdstanpy - INFO - Chain [1] start processing\n",
      "09:55:57 - cmdstanpy - INFO - Chain [1] done processing\n"
     ]
    },
    {
     "name": "stdout",
     "output_type": "stream",
     "text": [
      "Train RMSE: 7.702538700750595\n"
     ]
    },
    {
     "name": "stderr",
     "output_type": "stream",
     "text": [
      "09:55:58 - cmdstanpy - INFO - Chain [1] start processing\n",
      "09:55:58 - cmdstanpy - INFO - Chain [1] done processing\n"
     ]
    },
    {
     "name": "stdout",
     "output_type": "stream",
     "text": [
      "Train RMSE: 7.889746677550238\n"
     ]
    },
    {
     "name": "stderr",
     "output_type": "stream",
     "text": [
      "09:55:58 - cmdstanpy - INFO - Chain [1] start processing\n",
      "09:55:59 - cmdstanpy - INFO - Chain [1] done processing\n"
     ]
    },
    {
     "name": "stdout",
     "output_type": "stream",
     "text": [
      "Train RMSE: 7.888612661395403\n"
     ]
    },
    {
     "name": "stderr",
     "output_type": "stream",
     "text": [
      "09:55:59 - cmdstanpy - INFO - Chain [1] start processing\n",
      "09:55:59 - cmdstanpy - INFO - Chain [1] done processing\n",
      "09:56:00 - cmdstanpy - INFO - Chain [1] start processing\n"
     ]
    },
    {
     "name": "stdout",
     "output_type": "stream",
     "text": [
      "Train RMSE: 8.086843401521298\n"
     ]
    },
    {
     "name": "stderr",
     "output_type": "stream",
     "text": [
      "09:56:00 - cmdstanpy - INFO - Chain [1] done processing\n"
     ]
    },
    {
     "name": "stdout",
     "output_type": "stream",
     "text": [
      "Train RMSE: 8.089287351947792\n"
     ]
    },
    {
     "name": "stderr",
     "output_type": "stream",
     "text": [
      "09:56:00 - cmdstanpy - INFO - Chain [1] start processing\n",
      "09:56:01 - cmdstanpy - INFO - Chain [1] done processing\n"
     ]
    },
    {
     "name": "stdout",
     "output_type": "stream",
     "text": [
      "Train RMSE: 7.553250633866479\n"
     ]
    },
    {
     "name": "stderr",
     "output_type": "stream",
     "text": [
      "09:56:01 - cmdstanpy - INFO - Chain [1] start processing\n",
      "09:56:01 - cmdstanpy - INFO - Chain [1] done processing\n"
     ]
    },
    {
     "name": "stdout",
     "output_type": "stream",
     "text": [
      "Train RMSE: 7.553622865908127\n"
     ]
    },
    {
     "name": "stderr",
     "output_type": "stream",
     "text": [
      "09:56:02 - cmdstanpy - INFO - Chain [1] start processing\n",
      "09:56:02 - cmdstanpy - INFO - Chain [1] done processing\n"
     ]
    },
    {
     "name": "stdout",
     "output_type": "stream",
     "text": [
      "Train RMSE: 7.7473423680777245\n"
     ]
    },
    {
     "name": "stderr",
     "output_type": "stream",
     "text": [
      "09:56:03 - cmdstanpy - INFO - Chain [1] start processing\n",
      "09:56:03 - cmdstanpy - INFO - Chain [1] done processing\n"
     ]
    },
    {
     "name": "stdout",
     "output_type": "stream",
     "text": [
      "Train RMSE: 7.749887263860339\n"
     ]
    },
    {
     "name": "stderr",
     "output_type": "stream",
     "text": [
      "09:56:03 - cmdstanpy - INFO - Chain [1] start processing\n",
      "09:56:04 - cmdstanpy - INFO - Chain [1] done processing\n"
     ]
    },
    {
     "name": "stdout",
     "output_type": "stream",
     "text": [
      "Train RMSE: 7.894601622903564\n"
     ]
    },
    {
     "name": "stderr",
     "output_type": "stream",
     "text": [
      "09:56:04 - cmdstanpy - INFO - Chain [1] start processing\n",
      "09:56:04 - cmdstanpy - INFO - Chain [1] done processing\n"
     ]
    },
    {
     "name": "stdout",
     "output_type": "stream",
     "text": [
      "Train RMSE: 7.897443208330071\n"
     ]
    },
    {
     "name": "stderr",
     "output_type": "stream",
     "text": [
      "09:56:05 - cmdstanpy - INFO - Chain [1] start processing\n",
      "09:56:05 - cmdstanpy - INFO - Chain [1] done processing\n",
      "09:56:05 - cmdstanpy - INFO - Chain [1] start processing\n"
     ]
    },
    {
     "name": "stdout",
     "output_type": "stream",
     "text": [
      "Train RMSE: 8.083432344407331\n"
     ]
    },
    {
     "name": "stderr",
     "output_type": "stream",
     "text": [
      "09:56:06 - cmdstanpy - INFO - Chain [1] done processing\n"
     ]
    },
    {
     "name": "stdout",
     "output_type": "stream",
     "text": [
      "Train RMSE: 8.08281308880239\n"
     ]
    },
    {
     "name": "stderr",
     "output_type": "stream",
     "text": [
      "09:56:06 - cmdstanpy - INFO - Chain [1] start processing\n",
      "09:56:06 - cmdstanpy - INFO - Chain [1] done processing\n"
     ]
    },
    {
     "name": "stdout",
     "output_type": "stream",
     "text": [
      "Train RMSE: 7.556413978118847\n"
     ]
    },
    {
     "name": "stderr",
     "output_type": "stream",
     "text": [
      "09:56:07 - cmdstanpy - INFO - Chain [1] start processing\n",
      "09:56:07 - cmdstanpy - INFO - Chain [1] done processing\n"
     ]
    },
    {
     "name": "stdout",
     "output_type": "stream",
     "text": [
      "Train RMSE: 7.560764604175266\n"
     ]
    },
    {
     "name": "stderr",
     "output_type": "stream",
     "text": [
      "09:56:07 - cmdstanpy - INFO - Chain [1] start processing\n",
      "09:56:08 - cmdstanpy - INFO - Chain [1] done processing\n",
      "09:56:08 - cmdstanpy - INFO - Chain [1] start processing\n"
     ]
    },
    {
     "name": "stdout",
     "output_type": "stream",
     "text": [
      "Train RMSE: 7.742998198505309\n"
     ]
    },
    {
     "name": "stderr",
     "output_type": "stream",
     "text": [
      "09:56:08 - cmdstanpy - INFO - Chain [1] done processing\n"
     ]
    },
    {
     "name": "stdout",
     "output_type": "stream",
     "text": [
      "Train RMSE: 7.750716186657475\n"
     ]
    },
    {
     "name": "stderr",
     "output_type": "stream",
     "text": [
      "09:56:09 - cmdstanpy - INFO - Chain [1] start processing\n",
      "09:56:09 - cmdstanpy - INFO - Chain [1] done processing\n"
     ]
    },
    {
     "name": "stdout",
     "output_type": "stream",
     "text": [
      "Train RMSE: 7.898562036577828\n"
     ]
    },
    {
     "name": "stderr",
     "output_type": "stream",
     "text": [
      "09:56:09 - cmdstanpy - INFO - Chain [1] start processing\n",
      "09:56:10 - cmdstanpy - INFO - Chain [1] done processing\n"
     ]
    },
    {
     "name": "stdout",
     "output_type": "stream",
     "text": [
      "Train RMSE: 7.898014494485937\n"
     ]
    },
    {
     "name": "stderr",
     "output_type": "stream",
     "text": [
      "09:56:10 - cmdstanpy - INFO - Chain [1] start processing\n",
      "09:56:10 - cmdstanpy - INFO - Chain [1] done processing\n",
      "09:56:11 - cmdstanpy - INFO - Chain [1] start processing\n"
     ]
    },
    {
     "name": "stdout",
     "output_type": "stream",
     "text": [
      "Train RMSE: 8.0854909436702\n"
     ]
    },
    {
     "name": "stderr",
     "output_type": "stream",
     "text": [
      "09:56:11 - cmdstanpy - INFO - Chain [1] done processing\n"
     ]
    },
    {
     "name": "stdout",
     "output_type": "stream",
     "text": [
      "Train RMSE: 8.08579235043334\n"
     ]
    },
    {
     "name": "stderr",
     "output_type": "stream",
     "text": [
      "09:56:12 - cmdstanpy - INFO - Chain [1] start processing\n",
      "09:56:12 - cmdstanpy - INFO - Chain [1] done processing\n"
     ]
    },
    {
     "name": "stdout",
     "output_type": "stream",
     "text": [
      "Train RMSE: 7.393356276807382\n"
     ]
    },
    {
     "name": "stderr",
     "output_type": "stream",
     "text": [
      "09:56:12 - cmdstanpy - INFO - Chain [1] start processing\n",
      "09:56:12 - cmdstanpy - INFO - Chain [1] done processing\n"
     ]
    },
    {
     "name": "stdout",
     "output_type": "stream",
     "text": [
      "Train RMSE: 7.417133567337501\n"
     ]
    },
    {
     "name": "stderr",
     "output_type": "stream",
     "text": [
      "09:56:13 - cmdstanpy - INFO - Chain [1] start processing\n",
      "09:56:13 - cmdstanpy - INFO - Chain [1] done processing\n"
     ]
    },
    {
     "name": "stdout",
     "output_type": "stream",
     "text": [
      "Train RMSE: 7.587180549183407\n"
     ]
    },
    {
     "name": "stderr",
     "output_type": "stream",
     "text": [
      "09:56:14 - cmdstanpy - INFO - Chain [1] start processing\n",
      "09:56:14 - cmdstanpy - INFO - Chain [1] done processing\n"
     ]
    },
    {
     "name": "stdout",
     "output_type": "stream",
     "text": [
      "Train RMSE: 7.6324947552287545\n"
     ]
    },
    {
     "name": "stderr",
     "output_type": "stream",
     "text": [
      "09:56:14 - cmdstanpy - INFO - Chain [1] start processing\n",
      "09:56:14 - cmdstanpy - INFO - Chain [1] done processing\n"
     ]
    },
    {
     "name": "stdout",
     "output_type": "stream",
     "text": [
      "Train RMSE: 7.80080970253075\n"
     ]
    },
    {
     "name": "stderr",
     "output_type": "stream",
     "text": [
      "09:56:15 - cmdstanpy - INFO - Chain [1] start processing\n",
      "09:56:15 - cmdstanpy - INFO - Chain [1] done processing\n"
     ]
    },
    {
     "name": "stdout",
     "output_type": "stream",
     "text": [
      "Train RMSE: 7.819136232467874\n"
     ]
    },
    {
     "name": "stderr",
     "output_type": "stream",
     "text": [
      "09:56:16 - cmdstanpy - INFO - Chain [1] start processing\n",
      "09:56:16 - cmdstanpy - INFO - Chain [1] done processing\n"
     ]
    },
    {
     "name": "stdout",
     "output_type": "stream",
     "text": [
      "Train RMSE: 8.003039196898342\n"
     ]
    },
    {
     "name": "stderr",
     "output_type": "stream",
     "text": [
      "09:56:16 - cmdstanpy - INFO - Chain [1] start processing\n",
      "09:56:16 - cmdstanpy - INFO - Chain [1] done processing\n"
     ]
    },
    {
     "name": "stdout",
     "output_type": "stream",
     "text": [
      "Train RMSE: 8.027978711354756\n"
     ]
    },
    {
     "name": "stderr",
     "output_type": "stream",
     "text": [
      "09:56:17 - cmdstanpy - INFO - Chain [1] start processing\n",
      "09:56:17 - cmdstanpy - INFO - Chain [1] done processing\n"
     ]
    },
    {
     "name": "stdout",
     "output_type": "stream",
     "text": [
      "Train RMSE: 7.388498055592597\n"
     ]
    },
    {
     "name": "stderr",
     "output_type": "stream",
     "text": [
      "09:56:18 - cmdstanpy - INFO - Chain [1] start processing\n",
      "09:56:18 - cmdstanpy - INFO - Chain [1] done processing\n",
      "09:56:18 - cmdstanpy - INFO - Chain [1] start processing\n"
     ]
    },
    {
     "name": "stdout",
     "output_type": "stream",
     "text": [
      "Train RMSE: 7.4142763941864365\n"
     ]
    },
    {
     "name": "stderr",
     "output_type": "stream",
     "text": [
      "09:56:19 - cmdstanpy - INFO - Chain [1] done processing\n",
      "09:56:19 - cmdstanpy - INFO - Chain [1] start processing\n"
     ]
    },
    {
     "name": "stdout",
     "output_type": "stream",
     "text": [
      "Train RMSE: 7.591221174850655\n"
     ]
    },
    {
     "name": "stderr",
     "output_type": "stream",
     "text": [
      "09:56:19 - cmdstanpy - INFO - Chain [1] done processing\n"
     ]
    },
    {
     "name": "stdout",
     "output_type": "stream",
     "text": [
      "Train RMSE: 7.628918211430887\n"
     ]
    },
    {
     "name": "stderr",
     "output_type": "stream",
     "text": [
      "09:56:20 - cmdstanpy - INFO - Chain [1] start processing\n",
      "09:56:20 - cmdstanpy - INFO - Chain [1] done processing\n"
     ]
    },
    {
     "name": "stdout",
     "output_type": "stream",
     "text": [
      "Train RMSE: 7.797933135018114\n"
     ]
    },
    {
     "name": "stderr",
     "output_type": "stream",
     "text": [
      "09:56:20 - cmdstanpy - INFO - Chain [1] start processing\n",
      "09:56:21 - cmdstanpy - INFO - Chain [1] done processing\n",
      "09:56:21 - cmdstanpy - INFO - Chain [1] start processing\n"
     ]
    },
    {
     "name": "stdout",
     "output_type": "stream",
     "text": [
      "Train RMSE: 7.817622250180878\n"
     ]
    },
    {
     "name": "stderr",
     "output_type": "stream",
     "text": [
      "09:56:21 - cmdstanpy - INFO - Chain [1] done processing\n",
      "09:56:22 - cmdstanpy - INFO - Chain [1] start processing\n"
     ]
    },
    {
     "name": "stdout",
     "output_type": "stream",
     "text": [
      "Train RMSE: 7.99742651219588\n"
     ]
    },
    {
     "name": "stderr",
     "output_type": "stream",
     "text": [
      "09:56:22 - cmdstanpy - INFO - Chain [1] done processing\n"
     ]
    },
    {
     "name": "stdout",
     "output_type": "stream",
     "text": [
      "Train RMSE: 8.031489529616277\n"
     ]
    },
    {
     "name": "stderr",
     "output_type": "stream",
     "text": [
      "09:56:22 - cmdstanpy - INFO - Chain [1] start processing\n",
      "09:56:23 - cmdstanpy - INFO - Chain [1] done processing\n"
     ]
    },
    {
     "name": "stdout",
     "output_type": "stream",
     "text": [
      "Train RMSE: 7.451472235446682\n"
     ]
    },
    {
     "name": "stderr",
     "output_type": "stream",
     "text": [
      "09:56:23 - cmdstanpy - INFO - Chain [1] start processing\n",
      "09:56:23 - cmdstanpy - INFO - Chain [1] done processing\n"
     ]
    },
    {
     "name": "stdout",
     "output_type": "stream",
     "text": [
      "Train RMSE: 7.478472727479839\n"
     ]
    },
    {
     "name": "stderr",
     "output_type": "stream",
     "text": [
      "09:56:24 - cmdstanpy - INFO - Chain [1] start processing\n",
      "09:56:24 - cmdstanpy - INFO - Chain [1] done processing\n"
     ]
    },
    {
     "name": "stdout",
     "output_type": "stream",
     "text": [
      "Train RMSE: 7.65189400453782\n"
     ]
    },
    {
     "name": "stderr",
     "output_type": "stream",
     "text": [
      "09:56:25 - cmdstanpy - INFO - Chain [1] start processing\n",
      "09:56:25 - cmdstanpy - INFO - Chain [1] done processing\n"
     ]
    },
    {
     "name": "stdout",
     "output_type": "stream",
     "text": [
      "Train RMSE: 7.686997146886405\n"
     ]
    },
    {
     "name": "stderr",
     "output_type": "stream",
     "text": [
      "09:56:25 - cmdstanpy - INFO - Chain [1] start processing\n",
      "09:56:25 - cmdstanpy - INFO - Chain [1] done processing\n"
     ]
    },
    {
     "name": "stdout",
     "output_type": "stream",
     "text": [
      "Train RMSE: 7.8175432775398965\n"
     ]
    },
    {
     "name": "stderr",
     "output_type": "stream",
     "text": [
      "09:56:26 - cmdstanpy - INFO - Chain [1] start processing\n",
      "09:56:26 - cmdstanpy - INFO - Chain [1] done processing\n"
     ]
    },
    {
     "name": "stdout",
     "output_type": "stream",
     "text": [
      "Train RMSE: 7.837980167906913\n"
     ]
    },
    {
     "name": "stderr",
     "output_type": "stream",
     "text": [
      "09:56:27 - cmdstanpy - INFO - Chain [1] start processing\n",
      "09:56:27 - cmdstanpy - INFO - Chain [1] done processing\n"
     ]
    },
    {
     "name": "stdout",
     "output_type": "stream",
     "text": [
      "Train RMSE: 8.01412136899599\n"
     ]
    },
    {
     "name": "stderr",
     "output_type": "stream",
     "text": [
      "09:56:27 - cmdstanpy - INFO - Chain [1] start processing\n",
      "09:56:28 - cmdstanpy - INFO - Chain [1] done processing\n"
     ]
    },
    {
     "name": "stdout",
     "output_type": "stream",
     "text": [
      "Train RMSE: 8.028534251365324\n"
     ]
    },
    {
     "name": "stderr",
     "output_type": "stream",
     "text": [
      "09:56:28 - cmdstanpy - INFO - Chain [1] start processing\n",
      "09:56:28 - cmdstanpy - INFO - Chain [1] done processing\n"
     ]
    },
    {
     "name": "stdout",
     "output_type": "stream",
     "text": [
      "Train RMSE: 7.457265836862609\n"
     ]
    },
    {
     "name": "stderr",
     "output_type": "stream",
     "text": [
      "09:56:29 - cmdstanpy - INFO - Chain [1] start processing\n",
      "09:56:29 - cmdstanpy - INFO - Chain [1] done processing\n"
     ]
    },
    {
     "name": "stdout",
     "output_type": "stream",
     "text": [
      "Train RMSE: 7.478262767423339\n"
     ]
    },
    {
     "name": "stderr",
     "output_type": "stream",
     "text": [
      "09:56:30 - cmdstanpy - INFO - Chain [1] start processing\n",
      "09:56:30 - cmdstanpy - INFO - Chain [1] done processing\n",
      "09:56:30 - cmdstanpy - INFO - Chain [1] start processing\n"
     ]
    },
    {
     "name": "stdout",
     "output_type": "stream",
     "text": [
      "Train RMSE: 7.653679140392308\n"
     ]
    },
    {
     "name": "stderr",
     "output_type": "stream",
     "text": [
      "09:56:30 - cmdstanpy - INFO - Chain [1] done processing\n"
     ]
    },
    {
     "name": "stdout",
     "output_type": "stream",
     "text": [
      "Train RMSE: 7.688008752257748\n"
     ]
    },
    {
     "name": "stderr",
     "output_type": "stream",
     "text": [
      "09:56:31 - cmdstanpy - INFO - Chain [1] start processing\n",
      "09:56:31 - cmdstanpy - INFO - Chain [1] done processing\n"
     ]
    },
    {
     "name": "stdout",
     "output_type": "stream",
     "text": [
      "Train RMSE: 7.817830261513049\n"
     ]
    },
    {
     "name": "stderr",
     "output_type": "stream",
     "text": [
      "09:56:32 - cmdstanpy - INFO - Chain [1] start processing\n",
      "09:56:32 - cmdstanpy - INFO - Chain [1] done processing\n"
     ]
    },
    {
     "name": "stdout",
     "output_type": "stream",
     "text": [
      "Train RMSE: 7.837285704851556\n"
     ]
    },
    {
     "name": "stderr",
     "output_type": "stream",
     "text": [
      "09:56:32 - cmdstanpy - INFO - Chain [1] start processing\n",
      "09:56:32 - cmdstanpy - INFO - Chain [1] done processing\n"
     ]
    },
    {
     "name": "stdout",
     "output_type": "stream",
     "text": [
      "Train RMSE: 8.009865709054072\n"
     ]
    },
    {
     "name": "stderr",
     "output_type": "stream",
     "text": [
      "09:56:33 - cmdstanpy - INFO - Chain [1] start processing\n",
      "09:56:33 - cmdstanpy - INFO - Chain [1] done processing\n"
     ]
    },
    {
     "name": "stdout",
     "output_type": "stream",
     "text": [
      "Train RMSE: 8.033764401676747\n"
     ]
    },
    {
     "name": "stderr",
     "output_type": "stream",
     "text": [
      "09:56:34 - cmdstanpy - INFO - Chain [1] start processing\n",
      "09:56:34 - cmdstanpy - INFO - Chain [1] done processing\n"
     ]
    },
    {
     "name": "stdout",
     "output_type": "stream",
     "text": [
      "Train RMSE: 7.494274470080874\n"
     ]
    },
    {
     "name": "stderr",
     "output_type": "stream",
     "text": [
      "09:56:34 - cmdstanpy - INFO - Chain [1] start processing\n",
      "09:56:35 - cmdstanpy - INFO - Chain [1] done processing\n"
     ]
    },
    {
     "name": "stdout",
     "output_type": "stream",
     "text": [
      "Train RMSE: 7.499527059963471\n"
     ]
    },
    {
     "name": "stderr",
     "output_type": "stream",
     "text": [
      "09:56:35 - cmdstanpy - INFO - Chain [1] start processing\n",
      "09:56:35 - cmdstanpy - INFO - Chain [1] done processing\n"
     ]
    },
    {
     "name": "stdout",
     "output_type": "stream",
     "text": [
      "Train RMSE: 7.697333475675969\n"
     ]
    },
    {
     "name": "stderr",
     "output_type": "stream",
     "text": [
      "09:56:36 - cmdstanpy - INFO - Chain [1] start processing\n",
      "09:56:36 - cmdstanpy - INFO - Chain [1] done processing\n"
     ]
    },
    {
     "name": "stdout",
     "output_type": "stream",
     "text": [
      "Train RMSE: 7.693630679995273\n"
     ]
    },
    {
     "name": "stderr",
     "output_type": "stream",
     "text": [
      "09:56:37 - cmdstanpy - INFO - Chain [1] start processing\n",
      "09:56:37 - cmdstanpy - INFO - Chain [1] done processing\n"
     ]
    },
    {
     "name": "stdout",
     "output_type": "stream",
     "text": [
      "Train RMSE: 7.884519595674751\n"
     ]
    },
    {
     "name": "stderr",
     "output_type": "stream",
     "text": [
      "09:56:37 - cmdstanpy - INFO - Chain [1] start processing\n",
      "09:56:37 - cmdstanpy - INFO - Chain [1] done processing\n",
      "09:56:38 - cmdstanpy - INFO - Chain [1] start processing\n"
     ]
    },
    {
     "name": "stdout",
     "output_type": "stream",
     "text": [
      "Train RMSE: 7.8827852583956615\n"
     ]
    },
    {
     "name": "stderr",
     "output_type": "stream",
     "text": [
      "09:56:38 - cmdstanpy - INFO - Chain [1] done processing\n",
      "09:56:38 - cmdstanpy - INFO - Chain [1] start processing\n"
     ]
    },
    {
     "name": "stdout",
     "output_type": "stream",
     "text": [
      "Train RMSE: 8.088658713331514\n"
     ]
    },
    {
     "name": "stderr",
     "output_type": "stream",
     "text": [
      "09:56:39 - cmdstanpy - INFO - Chain [1] done processing\n"
     ]
    },
    {
     "name": "stdout",
     "output_type": "stream",
     "text": [
      "Train RMSE: 8.093829170075118\n"
     ]
    },
    {
     "name": "stderr",
     "output_type": "stream",
     "text": [
      "09:56:39 - cmdstanpy - INFO - Chain [1] start processing\n",
      "09:56:39 - cmdstanpy - INFO - Chain [1] done processing\n"
     ]
    },
    {
     "name": "stdout",
     "output_type": "stream",
     "text": [
      "Train RMSE: 7.490858867124327\n"
     ]
    },
    {
     "name": "stderr",
     "output_type": "stream",
     "text": [
      "09:56:40 - cmdstanpy - INFO - Chain [1] start processing\n",
      "09:56:40 - cmdstanpy - INFO - Chain [1] done processing\n"
     ]
    },
    {
     "name": "stdout",
     "output_type": "stream",
     "text": [
      "Train RMSE: 7.494716334089037\n"
     ]
    },
    {
     "name": "stderr",
     "output_type": "stream",
     "text": [
      "09:56:41 - cmdstanpy - INFO - Chain [1] start processing\n",
      "09:56:41 - cmdstanpy - INFO - Chain [1] done processing\n"
     ]
    },
    {
     "name": "stdout",
     "output_type": "stream",
     "text": [
      "Train RMSE: 7.692887657748402\n"
     ]
    },
    {
     "name": "stderr",
     "output_type": "stream",
     "text": [
      "09:56:41 - cmdstanpy - INFO - Chain [1] start processing\n",
      "09:56:42 - cmdstanpy - INFO - Chain [1] done processing\n"
     ]
    },
    {
     "name": "stdout",
     "output_type": "stream",
     "text": [
      "Train RMSE: 7.696626203099708\n"
     ]
    },
    {
     "name": "stderr",
     "output_type": "stream",
     "text": [
      "09:56:42 - cmdstanpy - INFO - Chain [1] start processing\n",
      "09:56:42 - cmdstanpy - INFO - Chain [1] done processing\n"
     ]
    },
    {
     "name": "stdout",
     "output_type": "stream",
     "text": [
      "Train RMSE: 7.88448170776036\n"
     ]
    },
    {
     "name": "stderr",
     "output_type": "stream",
     "text": [
      "09:56:43 - cmdstanpy - INFO - Chain [1] start processing\n",
      "09:56:43 - cmdstanpy - INFO - Chain [1] done processing\n",
      "09:56:43 - cmdstanpy - INFO - Chain [1] start processing\n"
     ]
    },
    {
     "name": "stdout",
     "output_type": "stream",
     "text": [
      "Train RMSE: 7.883254657519501\n"
     ]
    },
    {
     "name": "stderr",
     "output_type": "stream",
     "text": [
      "09:56:44 - cmdstanpy - INFO - Chain [1] done processing\n",
      "09:56:44 - cmdstanpy - INFO - Chain [1] start processing\n"
     ]
    },
    {
     "name": "stdout",
     "output_type": "stream",
     "text": [
      "Train RMSE: 8.086843401521298\n"
     ]
    },
    {
     "name": "stderr",
     "output_type": "stream",
     "text": [
      "09:56:44 - cmdstanpy - INFO - Chain [1] done processing\n"
     ]
    },
    {
     "name": "stdout",
     "output_type": "stream",
     "text": [
      "Train RMSE: 8.089287351947792\n"
     ]
    },
    {
     "name": "stderr",
     "output_type": "stream",
     "text": [
      "09:56:45 - cmdstanpy - INFO - Chain [1] start processing\n",
      "09:56:45 - cmdstanpy - INFO - Chain [1] done processing\n"
     ]
    },
    {
     "name": "stdout",
     "output_type": "stream",
     "text": [
      "Train RMSE: 7.462325958292188\n"
     ]
    },
    {
     "name": "stderr",
     "output_type": "stream",
     "text": [
      "09:56:46 - cmdstanpy - INFO - Chain [1] start processing\n",
      "09:56:46 - cmdstanpy - INFO - Chain [1] done processing\n"
     ]
    },
    {
     "name": "stdout",
     "output_type": "stream",
     "text": [
      "Train RMSE: 7.465060150677316\n"
     ]
    },
    {
     "name": "stderr",
     "output_type": "stream",
     "text": [
      "09:56:47 - cmdstanpy - INFO - Chain [1] start processing\n",
      "09:56:47 - cmdstanpy - INFO - Chain [1] done processing\n",
      "09:56:48 - cmdstanpy - INFO - Chain [1] start processing\n"
     ]
    },
    {
     "name": "stdout",
     "output_type": "stream",
     "text": [
      "Train RMSE: 7.598461594186142\n"
     ]
    },
    {
     "name": "stderr",
     "output_type": "stream",
     "text": [
      "09:56:48 - cmdstanpy - INFO - Chain [1] done processing\n"
     ]
    },
    {
     "name": "stdout",
     "output_type": "stream",
     "text": [
      "Train RMSE: 7.553248152291873\n"
     ]
    },
    {
     "name": "stderr",
     "output_type": "stream",
     "text": [
      "09:56:49 - cmdstanpy - INFO - Chain [1] start processing\n",
      "09:56:49 - cmdstanpy - INFO - Chain [1] done processing\n"
     ]
    },
    {
     "name": "stdout",
     "output_type": "stream",
     "text": [
      "Train RMSE: 7.872221555332584\n"
     ]
    },
    {
     "name": "stderr",
     "output_type": "stream",
     "text": [
      "09:56:49 - cmdstanpy - INFO - Chain [1] start processing\n",
      "09:56:50 - cmdstanpy - INFO - Chain [1] done processing\n",
      "09:56:50 - cmdstanpy - INFO - Chain [1] start processing\n"
     ]
    },
    {
     "name": "stdout",
     "output_type": "stream",
     "text": [
      "Train RMSE: 7.872385796758238\n"
     ]
    },
    {
     "name": "stderr",
     "output_type": "stream",
     "text": [
      "09:56:50 - cmdstanpy - INFO - Chain [1] done processing\n"
     ]
    },
    {
     "name": "stdout",
     "output_type": "stream",
     "text": [
      "Train RMSE: 8.072376665248365\n"
     ]
    },
    {
     "name": "stderr",
     "output_type": "stream",
     "text": [
      "09:56:51 - cmdstanpy - INFO - Chain [1] start processing\n",
      "09:56:51 - cmdstanpy - INFO - Chain [1] done processing\n"
     ]
    },
    {
     "name": "stdout",
     "output_type": "stream",
     "text": [
      "Train RMSE: 8.07766443381327\n"
     ]
    },
    {
     "name": "stderr",
     "output_type": "stream",
     "text": [
      "09:56:51 - cmdstanpy - INFO - Chain [1] start processing\n",
      "09:56:52 - cmdstanpy - INFO - Chain [1] done processing\n"
     ]
    },
    {
     "name": "stdout",
     "output_type": "stream",
     "text": [
      "Train RMSE: 7.500412379651875\n"
     ]
    },
    {
     "name": "stderr",
     "output_type": "stream",
     "text": [
      "09:56:52 - cmdstanpy - INFO - Chain [1] start processing\n",
      "09:56:52 - cmdstanpy - INFO - Chain [1] done processing\n",
      "09:56:53 - cmdstanpy - INFO - Chain [1] start processing\n"
     ]
    },
    {
     "name": "stdout",
     "output_type": "stream",
     "text": [
      "Train RMSE: 7.5034347182447645\n"
     ]
    },
    {
     "name": "stderr",
     "output_type": "stream",
     "text": [
      "09:56:53 - cmdstanpy - INFO - Chain [1] done processing\n"
     ]
    },
    {
     "name": "stdout",
     "output_type": "stream",
     "text": [
      "Train RMSE: 7.715079733473338\n"
     ]
    },
    {
     "name": "stderr",
     "output_type": "stream",
     "text": [
      "09:56:53 - cmdstanpy - INFO - Chain [1] start processing\n",
      "09:56:54 - cmdstanpy - INFO - Chain [1] done processing\n"
     ]
    },
    {
     "name": "stdout",
     "output_type": "stream",
     "text": [
      "Train RMSE: 7.70694618928788\n"
     ]
    },
    {
     "name": "stderr",
     "output_type": "stream",
     "text": [
      "09:56:54 - cmdstanpy - INFO - Chain [1] start processing\n",
      "09:56:54 - cmdstanpy - INFO - Chain [1] done processing\n"
     ]
    },
    {
     "name": "stdout",
     "output_type": "stream",
     "text": [
      "Train RMSE: 7.87074987649831\n"
     ]
    },
    {
     "name": "stderr",
     "output_type": "stream",
     "text": [
      "09:56:55 - cmdstanpy - INFO - Chain [1] start processing\n",
      "09:56:55 - cmdstanpy - INFO - Chain [1] done processing\n",
      "09:56:55 - cmdstanpy - INFO - Chain [1] start processing\n"
     ]
    },
    {
     "name": "stdout",
     "output_type": "stream",
     "text": [
      "Train RMSE: 7.871333343832262\n"
     ]
    },
    {
     "name": "stderr",
     "output_type": "stream",
     "text": [
      "09:56:56 - cmdstanpy - INFO - Chain [1] done processing\n",
      "09:56:56 - cmdstanpy - INFO - Chain [1] start processing\n"
     ]
    },
    {
     "name": "stdout",
     "output_type": "stream",
     "text": [
      "Train RMSE: 8.0854909436702\n"
     ]
    },
    {
     "name": "stderr",
     "output_type": "stream",
     "text": [
      "09:56:56 - cmdstanpy - INFO - Chain [1] done processing\n"
     ]
    },
    {
     "name": "stdout",
     "output_type": "stream",
     "text": [
      "Train RMSE: 8.08579235043334\n"
     ]
    },
    {
     "name": "stderr",
     "output_type": "stream",
     "text": [
      "09:56:57 - cmdstanpy - INFO - Chain [1] start processing\n",
      "09:56:57 - cmdstanpy - INFO - Chain [1] done processing\n"
     ]
    },
    {
     "name": "stdout",
     "output_type": "stream",
     "text": [
      "Train RMSE: 7.382593680952293\n"
     ]
    },
    {
     "name": "stderr",
     "output_type": "stream",
     "text": [
      "09:56:58 - cmdstanpy - INFO - Chain [1] start processing\n",
      "09:56:58 - cmdstanpy - INFO - Chain [1] done processing\n"
     ]
    },
    {
     "name": "stdout",
     "output_type": "stream",
     "text": [
      "Train RMSE: 7.40604297465645\n"
     ]
    },
    {
     "name": "stderr",
     "output_type": "stream",
     "text": [
      "09:56:58 - cmdstanpy - INFO - Chain [1] start processing\n",
      "09:56:58 - cmdstanpy - INFO - Chain [1] done processing\n"
     ]
    },
    {
     "name": "stdout",
     "output_type": "stream",
     "text": [
      "Train RMSE: 7.59277537840499\n"
     ]
    },
    {
     "name": "stderr",
     "output_type": "stream",
     "text": [
      "09:56:59 - cmdstanpy - INFO - Chain [1] start processing\n",
      "09:56:59 - cmdstanpy - INFO - Chain [1] done processing\n"
     ]
    },
    {
     "name": "stdout",
     "output_type": "stream",
     "text": [
      "Train RMSE: 7.607758238721196\n"
     ]
    },
    {
     "name": "stderr",
     "output_type": "stream",
     "text": [
      "09:57:00 - cmdstanpy - INFO - Chain [1] start processing\n",
      "09:57:00 - cmdstanpy - INFO - Chain [1] done processing\n"
     ]
    },
    {
     "name": "stdout",
     "output_type": "stream",
     "text": [
      "Train RMSE: 7.795554532105231\n"
     ]
    },
    {
     "name": "stderr",
     "output_type": "stream",
     "text": [
      "09:57:01 - cmdstanpy - INFO - Chain [1] start processing\n",
      "09:57:01 - cmdstanpy - INFO - Chain [1] done processing\n"
     ]
    },
    {
     "name": "stdout",
     "output_type": "stream",
     "text": [
      "Train RMSE: 7.818441598746316\n"
     ]
    },
    {
     "name": "stderr",
     "output_type": "stream",
     "text": [
      "09:57:01 - cmdstanpy - INFO - Chain [1] start processing\n",
      "09:57:01 - cmdstanpy - INFO - Chain [1] done processing\n"
     ]
    },
    {
     "name": "stdout",
     "output_type": "stream",
     "text": [
      "Train RMSE: 8.001977470578701\n"
     ]
    },
    {
     "name": "stderr",
     "output_type": "stream",
     "text": [
      "09:57:02 - cmdstanpy - INFO - Chain [1] start processing\n",
      "09:57:02 - cmdstanpy - INFO - Chain [1] done processing\n"
     ]
    },
    {
     "name": "stdout",
     "output_type": "stream",
     "text": [
      "Train RMSE: 8.027124149976745\n"
     ]
    },
    {
     "name": "stderr",
     "output_type": "stream",
     "text": [
      "09:57:03 - cmdstanpy - INFO - Chain [1] start processing\n",
      "09:57:03 - cmdstanpy - INFO - Chain [1] done processing\n"
     ]
    },
    {
     "name": "stdout",
     "output_type": "stream",
     "text": [
      "Train RMSE: 7.377315647526782\n"
     ]
    },
    {
     "name": "stderr",
     "output_type": "stream",
     "text": [
      "09:57:03 - cmdstanpy - INFO - Chain [1] start processing\n",
      "09:57:03 - cmdstanpy - INFO - Chain [1] done processing\n",
      "09:57:04 - cmdstanpy - INFO - Chain [1] start processing\n"
     ]
    },
    {
     "name": "stdout",
     "output_type": "stream",
     "text": [
      "Train RMSE: 7.4050818431898975\n"
     ]
    },
    {
     "name": "stderr",
     "output_type": "stream",
     "text": [
      "09:57:04 - cmdstanpy - INFO - Chain [1] done processing\n"
     ]
    },
    {
     "name": "stdout",
     "output_type": "stream",
     "text": [
      "Train RMSE: 7.579708454639338\n"
     ]
    },
    {
     "name": "stderr",
     "output_type": "stream",
     "text": [
      "09:57:05 - cmdstanpy - INFO - Chain [1] start processing\n",
      "09:57:05 - cmdstanpy - INFO - Chain [1] done processing\n"
     ]
    },
    {
     "name": "stdout",
     "output_type": "stream",
     "text": [
      "Train RMSE: 7.615291872049456\n"
     ]
    },
    {
     "name": "stderr",
     "output_type": "stream",
     "text": [
      "09:57:05 - cmdstanpy - INFO - Chain [1] start processing\n",
      "09:57:05 - cmdstanpy - INFO - Chain [1] done processing\n"
     ]
    },
    {
     "name": "stdout",
     "output_type": "stream",
     "text": [
      "Train RMSE: 7.798109751041234\n"
     ]
    },
    {
     "name": "stderr",
     "output_type": "stream",
     "text": [
      "09:57:06 - cmdstanpy - INFO - Chain [1] start processing\n",
      "09:57:06 - cmdstanpy - INFO - Chain [1] done processing\n"
     ]
    },
    {
     "name": "stdout",
     "output_type": "stream",
     "text": [
      "Train RMSE: 7.815069331871556\n"
     ]
    },
    {
     "name": "stderr",
     "output_type": "stream",
     "text": [
      "09:57:07 - cmdstanpy - INFO - Chain [1] start processing\n",
      "09:57:07 - cmdstanpy - INFO - Chain [1] done processing\n",
      "09:57:07 - cmdstanpy - INFO - Chain [1] start processing\n"
     ]
    },
    {
     "name": "stdout",
     "output_type": "stream",
     "text": [
      "Train RMSE: 7.99742651219588\n"
     ]
    },
    {
     "name": "stderr",
     "output_type": "stream",
     "text": [
      "09:57:08 - cmdstanpy - INFO - Chain [1] done processing\n"
     ]
    },
    {
     "name": "stdout",
     "output_type": "stream",
     "text": [
      "Train RMSE: 8.031489529616277\n"
     ]
    },
    {
     "name": "stderr",
     "output_type": "stream",
     "text": [
      "09:57:08 - cmdstanpy - INFO - Chain [1] start processing\n",
      "09:57:08 - cmdstanpy - INFO - Chain [1] done processing\n"
     ]
    },
    {
     "name": "stdout",
     "output_type": "stream",
     "text": [
      "Train RMSE: 7.323384241195208\n"
     ]
    },
    {
     "name": "stderr",
     "output_type": "stream",
     "text": [
      "09:57:09 - cmdstanpy - INFO - Chain [1] start processing\n",
      "09:57:10 - cmdstanpy - INFO - Chain [1] done processing\n"
     ]
    },
    {
     "name": "stdout",
     "output_type": "stream",
     "text": [
      "Train RMSE: 7.326539925444357\n"
     ]
    },
    {
     "name": "stderr",
     "output_type": "stream",
     "text": [
      "09:57:10 - cmdstanpy - INFO - Chain [1] start processing\n",
      "09:57:10 - cmdstanpy - INFO - Chain [1] done processing\n"
     ]
    },
    {
     "name": "stdout",
     "output_type": "stream",
     "text": [
      "Train RMSE: 7.443971393570608\n"
     ]
    },
    {
     "name": "stderr",
     "output_type": "stream",
     "text": [
      "09:57:11 - cmdstanpy - INFO - Chain [1] start processing\n",
      "09:57:11 - cmdstanpy - INFO - Chain [1] done processing\n"
     ]
    },
    {
     "name": "stdout",
     "output_type": "stream",
     "text": [
      "Train RMSE: 7.44432766748742\n"
     ]
    },
    {
     "name": "stderr",
     "output_type": "stream",
     "text": [
      "09:57:12 - cmdstanpy - INFO - Chain [1] start processing\n",
      "09:57:12 - cmdstanpy - INFO - Chain [1] done processing\n"
     ]
    },
    {
     "name": "stdout",
     "output_type": "stream",
     "text": [
      "Train RMSE: 7.702376940828467\n"
     ]
    },
    {
     "name": "stderr",
     "output_type": "stream",
     "text": [
      "09:57:13 - cmdstanpy - INFO - Chain [1] start processing\n",
      "09:57:13 - cmdstanpy - INFO - Chain [1] done processing\n"
     ]
    },
    {
     "name": "stdout",
     "output_type": "stream",
     "text": [
      "Train RMSE: 7.707664552619028\n"
     ]
    },
    {
     "name": "stderr",
     "output_type": "stream",
     "text": [
      "09:57:14 - cmdstanpy - INFO - Chain [1] start processing\n",
      "09:57:14 - cmdstanpy - INFO - Chain [1] done processing\n"
     ]
    },
    {
     "name": "stdout",
     "output_type": "stream",
     "text": [
      "Train RMSE: 7.818286908753269\n"
     ]
    },
    {
     "name": "stderr",
     "output_type": "stream",
     "text": [
      "09:57:15 - cmdstanpy - INFO - Chain [1] start processing\n",
      "09:57:15 - cmdstanpy - INFO - Chain [1] done processing\n"
     ]
    },
    {
     "name": "stdout",
     "output_type": "stream",
     "text": [
      "Train RMSE: 7.819697243426248\n"
     ]
    },
    {
     "name": "stderr",
     "output_type": "stream",
     "text": [
      "09:57:15 - cmdstanpy - INFO - Chain [1] start processing\n",
      "09:57:16 - cmdstanpy - INFO - Chain [1] done processing\n"
     ]
    },
    {
     "name": "stdout",
     "output_type": "stream",
     "text": [
      "Train RMSE: 7.397808967292932\n"
     ]
    },
    {
     "name": "stderr",
     "output_type": "stream",
     "text": [
      "09:57:16 - cmdstanpy - INFO - Chain [1] start processing\n",
      "09:57:16 - cmdstanpy - INFO - Chain [1] done processing\n"
     ]
    },
    {
     "name": "stdout",
     "output_type": "stream",
     "text": [
      "Train RMSE: 7.419013403185129\n"
     ]
    },
    {
     "name": "stderr",
     "output_type": "stream",
     "text": [
      "09:57:17 - cmdstanpy - INFO - Chain [1] start processing\n",
      "09:57:17 - cmdstanpy - INFO - Chain [1] done processing\n"
     ]
    },
    {
     "name": "stdout",
     "output_type": "stream",
     "text": [
      "Train RMSE: 7.6135703727340065\n"
     ]
    },
    {
     "name": "stderr",
     "output_type": "stream",
     "text": [
      "09:57:18 - cmdstanpy - INFO - Chain [1] start processing\n",
      "09:57:18 - cmdstanpy - INFO - Chain [1] done processing\n"
     ]
    },
    {
     "name": "stdout",
     "output_type": "stream",
     "text": [
      "Train RMSE: 7.642836960846853\n"
     ]
    },
    {
     "name": "stderr",
     "output_type": "stream",
     "text": [
      "09:57:18 - cmdstanpy - INFO - Chain [1] start processing\n",
      "09:57:18 - cmdstanpy - INFO - Chain [1] done processing\n"
     ]
    },
    {
     "name": "stdout",
     "output_type": "stream",
     "text": [
      "Train RMSE: 7.790091618240651\n"
     ]
    },
    {
     "name": "stderr",
     "output_type": "stream",
     "text": [
      "09:57:19 - cmdstanpy - INFO - Chain [1] start processing\n",
      "09:57:19 - cmdstanpy - INFO - Chain [1] done processing\n",
      "09:57:20 - cmdstanpy - INFO - Chain [1] start processing\n"
     ]
    },
    {
     "name": "stdout",
     "output_type": "stream",
     "text": [
      "Train RMSE: 7.801916086342905\n"
     ]
    },
    {
     "name": "stderr",
     "output_type": "stream",
     "text": [
      "09:57:20 - cmdstanpy - INFO - Chain [1] done processing\n",
      "09:57:20 - cmdstanpy - INFO - Chain [1] start processing\n"
     ]
    },
    {
     "name": "stdout",
     "output_type": "stream",
     "text": [
      "Train RMSE: 8.009865709054072\n"
     ]
    },
    {
     "name": "stderr",
     "output_type": "stream",
     "text": [
      "09:57:20 - cmdstanpy - INFO - Chain [1] done processing\n"
     ]
    },
    {
     "name": "stdout",
     "output_type": "stream",
     "text": [
      "Train RMSE: 8.033764401676747\n",
      "     changepoint_prior_scale  seasonality_prior_scale  holidays_prior_scale   \n",
      "0                      0.001                     0.01                  0.01  \\\n",
      "1                      0.001                     0.01                  0.01   \n",
      "2                      0.001                     0.01                  0.01   \n",
      "3                      0.001                     0.01                  0.01   \n",
      "4                      0.001                     0.01                  0.01   \n",
      "..                       ...                      ...                   ...   \n",
      "251                    0.100                     1.00                  0.10   \n",
      "252                    0.100                     1.00                  0.10   \n",
      "253                    0.100                     1.00                  0.10   \n",
      "254                    0.100                     1.00                  0.10   \n",
      "255                    0.100                     1.00                  0.10   \n",
      "\n",
      "    seasonality_mode  daily_seasonality  weekly_seasonality   \n",
      "0           additive               True                True  \\\n",
      "1           additive               True                True   \n",
      "2           additive               True                True   \n",
      "3           additive               True                True   \n",
      "4           additive               True               False   \n",
      "..               ...                ...                 ...   \n",
      "251   multiplicative              False                True   \n",
      "252   multiplicative              False               False   \n",
      "253   multiplicative              False               False   \n",
      "254   multiplicative              False               False   \n",
      "255   multiplicative              False               False   \n",
      "\n",
      "     yearly_seasonality                                           holidays   \n",
      "0                  True       holiday         ds  lower_window  upper_w...  \\\n",
      "1                  True            holiday         ds  lower_window  up...   \n",
      "2                 False       holiday         ds  lower_window  upper_w...   \n",
      "3                 False            holiday         ds  lower_window  up...   \n",
      "4                  True       holiday         ds  lower_window  upper_w...   \n",
      "..                  ...                                                ...   \n",
      "251               False            holiday         ds  lower_window  up...   \n",
      "252                True       holiday         ds  lower_window  upper_w...   \n",
      "253                True            holiday         ds  lower_window  up...   \n",
      "254               False       holiday         ds  lower_window  upper_w...   \n",
      "255               False            holiday         ds  lower_window  up...   \n",
      "\n",
      "          rmse  \n",
      "0    10.326673  \n",
      "1    10.210960  \n",
      "2     9.845682  \n",
      "3    10.063665  \n",
      "4    10.725546  \n",
      "..         ...  \n",
      "251  10.426606  \n",
      "252  10.450163  \n",
      "253  10.624807  \n",
      "254  10.943168  \n",
      "255  10.766735  \n",
      "\n",
      "[256 rows x 9 columns]\n",
      "{'changepoint_prior_scale': 0.1, 'seasonality_prior_scale': 1.0, 'holidays_prior_scale': 0.1, 'seasonality_mode': 'multiplicative', 'daily_seasonality': True, 'weekly_seasonality': True, 'yearly_seasonality': True, 'holidays':      holiday         ds  lower_window  upper_window\n",
      "0  Christmas 2017-12-24            -2             5\n",
      "1  Christmas 2018-12-24            -2             5\n",
      "2  Christmas 2019-12-24            -2             5\n",
      "3  Christmas 2020-12-24            -2             5\n",
      "4  Christmas 2021-12-24            -2             5\n",
      "5  Christmas 2022-12-24            -2             5}\n"
     ]
    }
   ],
   "source": [
    "finalDf = best_df.copy()\n",
    "list2 = ['AWND', 'PRCP', 'SNWD', 'SNOW', 'TMAX', 'TMIN']\n",
    "estimator = Ridge()\n",
    "selector = RFECV(estimator, step=10, cv=10)\n",
    "selector = selector.fit(finalDf[list2], finalDf['y'])\n",
    "to_keep = finalDf[list2].columns[selector.support_]\n",
    "\n",
    "param_grid = {  \n",
    "    'changepoint_prior_scale': [0.001, 0.1],\n",
    "    'seasonality_prior_scale': [0.01, 1.0],\n",
    "    'holidays_prior_scale': [0.01, 0.1],\n",
    "    'seasonality_mode': ['additive', 'multiplicative'],\n",
    "    'daily_seasonality': [True, False],\n",
    "    'weekly_seasonality': [True, False],\n",
    "    'yearly_seasonality': [True, False],\n",
    "    'holidays': [christmas, fourth_of_july],\n",
    "}\n",
    "\n",
    "# Generate all combinations of parameters\n",
    "all_params = [dict(zip(param_grid.keys(), v)) for v in itertools.product(*param_grid.values())]\n",
    "rmses = []\n",
    "\n",
    "for params in all_params:\n",
    "\n",
    "    m = Prophet(**params)\n",
    "    m.add_country_holidays(country_name='US')\n",
    "\n",
    "    # Add regressors to the dataframe\n",
    "    for f in to_keep:\n",
    "        df[f] = finalDf[f]\n",
    "        m.add_regressor(f)\n",
    "\n",
    "    train_size = int(len(df) * 0.8)\n",
    "    train_df = df[:train_size]\n",
    "    test_df = df[train_size:]\n",
    "\n",
    "    m.fit(train_df)\n",
    "\n",
    "    future_train = train_df.drop(columns=['y']).copy()\n",
    "    for f in to_keep:\n",
    "        future_train[f] = finalDf[f][:train_size]\n",
    "\n",
    "    forecast_train = m.predict(future_train)\n",
    "\n",
    "    # Evaluate performance on the train set\n",
    "    y_true_train = train_df['y'].values\n",
    "    y_pred_train = forecast_train['yhat'].values[:len(train_df)]\n",
    "    rmse_train = np.sqrt(mean_squared_error(y_true_train, y_pred_train))\n",
    "\n",
    "    print(\"Train RMSE:\", rmse_train)\n",
    "\n",
    "    # Evaluate performance on the test set\n",
    "    future_test = test_df.drop(columns=['y']).copy()\n",
    "    for f in to_keep:\n",
    "        future_test[f] = finalDf[f][train_size:]\n",
    "\n",
    "    forecast_test = m.predict(future_test)\n",
    "\n",
    "    y_true_test = test_df['y'].values\n",
    "    y_pred_test = forecast_test['yhat'].values[-len(test_df):]\n",
    "    rmse_test_weather = np.sqrt(mean_squared_error(y_true_test, y_pred_test))\n",
    "\n",
    "    rmses.append(rmse_test_weather)\n",
    "\n",
    "\n",
    "# Find the best parameters\n",
    "tuning_results = pd.DataFrame(all_params)\n",
    "tuning_results['rmse'] = rmses\n",
    "print(tuning_results)\n",
    "\n",
    "# Python\n",
    "best_params = all_params[np.argmin(rmses)]\n",
    "print(best_params)"
   ]
  },
  {
   "cell_type": "code",
   "execution_count": null,
   "metadata": {},
   "outputs": [],
   "source": [
    "best_params"
   ]
  },
  {
   "attachments": {},
   "cell_type": "markdown",
   "metadata": {},
   "source": [
    "Training with the best params!"
   ]
  },
  {
   "cell_type": "code",
   "execution_count": 20,
   "metadata": {},
   "outputs": [
    {
     "name": "stderr",
     "output_type": "stream",
     "text": [
      "09:57:27 - cmdstanpy - INFO - Chain [1] start processing\n",
      "09:57:28 - cmdstanpy - INFO - Chain [1] done processing\n"
     ]
    },
    {
     "name": "stdout",
     "output_type": "stream",
     "text": [
      "Train RMSE: 7.323384241195208\n",
      "Test RMSE: 8.769440002123643\n"
     ]
    }
   ],
   "source": [
    "\n",
    "m = Prophet(**best_params)\n",
    "m.add_country_holidays(country_name='US')\n",
    "\n",
    "# Add regressors to the dataframe\n",
    "for f in to_keep:\n",
    "    df[f] = finalDf[f]\n",
    "    m.add_regressor(f)\n",
    "\n",
    "train_size = int(len(df) * 0.8)\n",
    "train_df = df[:train_size]\n",
    "test_df = df[train_size:]\n",
    "\n",
    "m.fit(train_df)\n",
    "\n",
    "future_train = train_df.drop(columns=['y']).copy()\n",
    "for f in to_keep:\n",
    "    future_train[f] = finalDf[f][:train_size]\n",
    "\n",
    "forecast_train = m.predict(future_train)\n",
    "\n",
    "# Evaluate performance on the train set\n",
    "y_true_train = train_df['y'].values\n",
    "y_pred_train = forecast_train['yhat'].values[:len(train_df)]\n",
    "rmse_train = np.sqrt(mean_squared_error(y_true_train, y_pred_train))\n",
    "\n",
    "print(\"Train RMSE:\", rmse_train)\n",
    "\n",
    "# Evaluate performance on the test set\n",
    "future_test = test_df.drop(columns=['y']).copy()\n",
    "for f in to_keep:\n",
    "    future_test[f] = finalDf[f][train_size:]\n",
    "\n",
    "forecast_test = m.predict(future_test)\n",
    "\n",
    "y_true_test = test_df['y'].values\n",
    "y_pred_test = forecast_test['yhat'].values[-len(test_df):]\n",
    "rmse_test_weather = np.sqrt(mean_squared_error(y_true_test, y_pred_test))\n",
    "\n",
    "print(\"Test RMSE:\", rmse_test_weather)\n"
   ]
  },
  {
   "cell_type": "code",
   "execution_count": 21,
   "metadata": {},
   "outputs": [
    {
     "data": {
      "image/png": "[encoded data removed]",
      "text/plain": [
       "<Figure size 1000x500 with 1 Axes>"
      ]
     },
     "metadata": {},
     "output_type": "display_data"
    }
   ],
   "source": [
    "comparison = pd.DataFrame()\n",
    "comparison['Model'] = ['Baseline', 'Holiday', 'Weather']\n",
    "comparison['RMSE'] = [rmse_test_baseline, rmse_test_tuned, rmse_test_weather]\n",
    "# plot the results\n",
    "plt.figure(figsize=(10, 5))\n",
    "plt.bar(comparison['Model'], comparison['RMSE'])\n",
    "plt.title('Comparison of RMSE')\n",
    "plt.ylabel('RMSE')\n",
    "plt.show()"
   ]
  }
 ],
 "metadata": {
  "kernelspec": {
   "display_name": "Python 3",
   "language": "python",
   "name": "python3"
  },
  "language_info": {
   "codemirror_mode": {
    "name": "ipython",
    "version": 3
   },
   "file_extension": ".py",
   "mimetype": "text/x-python",
   "name": "python",
   "nbconvert_exporter": "python",
   "pygments_lexer": "ipython3",
   "version": "3.11.3"
  },
  "orig_nbformat": 4
 },
 "nbformat": 4,
 "nbformat_minor": 2
}
