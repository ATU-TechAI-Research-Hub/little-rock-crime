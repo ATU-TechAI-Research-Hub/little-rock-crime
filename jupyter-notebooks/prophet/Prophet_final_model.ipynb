{
 "cells": [
  {
   "cell_type": "code",
   "execution_count": 27,
   "metadata": {},
   "outputs": [],
   "source": [
    "import pandas as pd \n",
    "import numpy as np \n",
    "\n",
    "\n",
    "from sklearn.metrics import mean_squared_error\n",
    "from sklearn.metrics import mean_absolute_percentage_error\n",
    "from sklearn.metrics import r2_score\n",
    "from sklearn.feature_selection import RFECV\n",
    "from sklearn.linear_model import Ridge\n",
    "\n",
    "from prophet import Prophet \n",
    "from prophet.plot import plot_plotly, plot_components_plotly\n",
    "import matplotlib.pyplot as plt \n",
    "%matplotlib inline\n",
    "\n",
    "import itertools\n",
    "\n",
    "import warnings\n",
    "warnings.simplefilter(action='ignore', category= FutureWarning)\n",
    "\n",
    "import holidays\n",
    "\n",
    "import plotly.graph_objs as go\n",
    "\n",
    "from prophet.diagnostics import cross_validation, performance_metrics\n",
    "from prophet.plot import plot_yearly, add_changepoints_to_plot\n",
    "plt.style.use('fivethirtyeight')"
   ]
  },
  {
   "cell_type": "code",
   "execution_count": 28,
   "metadata": {},
   "outputs": [],
   "source": [
    "df = pd.read_csv('lrpd-clean.csv')\n",
    "df['INCIDENT_DATE'] = pd.to_datetime(df['INCIDENT_DATE'])\n",
    "df = df.groupby(pd.Grouper(key='INCIDENT_DATE', freq='D')).size().reset_index(name='INCIDENT_COUNT')\n",
    "df.columns = ['ds', 'y']\n",
    "\n",
    "# Split the data into train and test sets\n",
    "df['pre_covid'] = pd.to_datetime(df['ds']) < pd.to_datetime('2020-03-21')\n",
    "df['post_covid'] = ~df['pre_covid']\n",
    "\n",
    "train_size = int(len(df) * 0.8)\n",
    "train_df = df[:train_size]\n",
    "test_df = df[train_size:]"
   ]
  },
  {
   "cell_type": "code",
   "execution_count": 29,
   "metadata": {},
   "outputs": [],
   "source": [
    "finalDf = pd.read_csv('final-lrpd-data.csv')\n",
    "list2 = ['is_holiday', 'dayofweek', 'quarter', 'month', 'year',\n",
    "       'dayofyear', 'dayofmonth', 'weekofyear', 'is_weekend', 'is_weekday',\n",
    "       'season', 'AWND', 'PRCP', 'SNWD', 'SNOW', 'TMAX', 'TMIN']\n",
    "estimator = Ridge()\n",
    "selector = RFECV(estimator, step=10, cv=10)\n",
    "selector = selector.fit(finalDf[list2], finalDf['y'])\n",
    "to_keep = finalDf[list2].columns[selector.support_]\n"
   ]
  },
  {
   "cell_type": "code",
   "execution_count": 30,
   "metadata": {},
   "outputs": [],
   "source": [
    "lockdowns = pd.DataFrame([\n",
    "    {'holiday': 'lockdown_1', 'ds': '2020-03-21', 'lower_window': 0, 'ds_upper': '2020-06-06', 'upper_window': 77},\n",
    "    {'holiday': 'lockdown_2', 'ds': '2020-07-09', 'lower_window': 0, 'ds_upper': '2020-10-27', 'upper_window': 110},\n",
    "    {'holiday': 'lockdown_3', 'ds': '2021-02-13', 'lower_window': 0, 'ds_upper': '2021-02-17', 'upper_window': 4},\n",
    "    {'holiday': 'lockdown_4', 'ds': '2021-05-28', 'lower_window': 0, 'ds_upper': '2021-06-10', 'upper_window': 13},\n",
    "])\n",
    "\n",
    "m3_changepoints = (\n",
    "    # 10 potential changepoints in 2.5 years\n",
    "    pd.date_range('2017-06-02', '2020-01-01', periods=10).date.tolist() +\n",
    "    # 15 potential changepoints in 1 year 2 months\n",
    "    pd.date_range('2020-02-01', '2021-04-01', periods=15).date.tolist()\n",
    ")"
   ]
  },
  {
   "cell_type": "code",
   "execution_count": 31,
   "metadata": {},
   "outputs": [
    {
     "name": "stderr",
     "output_type": "stream",
     "text": [
      "18:18:52 - cmdstanpy - INFO - Chain [1] start processing\n",
      "18:18:52 - cmdstanpy - INFO - Chain [1] done processing\n"
     ]
    },
    {
     "name": "stdout",
     "output_type": "stream",
     "text": [
      "Train RMSE: 7.721414545372114\n"
     ]
    },
    {
     "name": "stderr",
     "output_type": "stream",
     "text": [
      "18:18:53 - cmdstanpy - INFO - Chain [1] start processing\n",
      "18:18:53 - cmdstanpy - INFO - Chain [1] done processing\n"
     ]
    },
    {
     "name": "stdout",
     "output_type": "stream",
     "text": [
      "Train RMSE: 7.831219356122382\n"
     ]
    },
    {
     "name": "stderr",
     "output_type": "stream",
     "text": [
      "18:18:54 - cmdstanpy - INFO - Chain [1] start processing\n",
      "18:18:54 - cmdstanpy - INFO - Chain [1] done processing\n"
     ]
    },
    {
     "name": "stdout",
     "output_type": "stream",
     "text": [
      "Train RMSE: 7.729286738255866\n"
     ]
    },
    {
     "name": "stderr",
     "output_type": "stream",
     "text": [
      "18:18:55 - cmdstanpy - INFO - Chain [1] start processing\n",
      "18:18:55 - cmdstanpy - INFO - Chain [1] done processing\n"
     ]
    },
    {
     "name": "stdout",
     "output_type": "stream",
     "text": [
      "Train RMSE: 7.840006138056904\n"
     ]
    },
    {
     "name": "stderr",
     "output_type": "stream",
     "text": [
      "18:18:56 - cmdstanpy - INFO - Chain [1] start processing\n",
      "18:18:56 - cmdstanpy - INFO - Chain [1] done processing\n"
     ]
    },
    {
     "name": "stdout",
     "output_type": "stream",
     "text": [
      "Train RMSE: 7.880918674981554\n"
     ]
    },
    {
     "name": "stderr",
     "output_type": "stream",
     "text": [
      "18:18:57 - cmdstanpy - INFO - Chain [1] start processing\n",
      "18:18:57 - cmdstanpy - INFO - Chain [1] done processing\n"
     ]
    },
    {
     "name": "stdout",
     "output_type": "stream",
     "text": [
      "Train RMSE: 8.026380273964199\n"
     ]
    },
    {
     "name": "stderr",
     "output_type": "stream",
     "text": [
      "18:18:58 - cmdstanpy - INFO - Chain [1] start processing\n",
      "18:18:58 - cmdstanpy - INFO - Chain [1] done processing\n"
     ]
    },
    {
     "name": "stdout",
     "output_type": "stream",
     "text": [
      "Train RMSE: 7.927261373763784\n"
     ]
    },
    {
     "name": "stderr",
     "output_type": "stream",
     "text": [
      "18:18:59 - cmdstanpy - INFO - Chain [1] start processing\n",
      "18:18:59 - cmdstanpy - INFO - Chain [1] done processing\n"
     ]
    },
    {
     "name": "stdout",
     "output_type": "stream",
     "text": [
      "Train RMSE: 8.053422545617419\n"
     ]
    },
    {
     "name": "stderr",
     "output_type": "stream",
     "text": [
      "18:19:00 - cmdstanpy - INFO - Chain [1] start processing\n",
      "18:19:00 - cmdstanpy - INFO - Chain [1] done processing\n"
     ]
    },
    {
     "name": "stdout",
     "output_type": "stream",
     "text": [
      "Train RMSE: 7.710283122477661\n"
     ]
    },
    {
     "name": "stderr",
     "output_type": "stream",
     "text": [
      "18:19:01 - cmdstanpy - INFO - Chain [1] start processing\n",
      "18:19:01 - cmdstanpy - INFO - Chain [1] done processing\n"
     ]
    },
    {
     "name": "stdout",
     "output_type": "stream",
     "text": [
      "Train RMSE: 7.826568542177538\n"
     ]
    },
    {
     "name": "stderr",
     "output_type": "stream",
     "text": [
      "18:19:02 - cmdstanpy - INFO - Chain [1] start processing\n",
      "18:19:02 - cmdstanpy - INFO - Chain [1] done processing\n"
     ]
    },
    {
     "name": "stdout",
     "output_type": "stream",
     "text": [
      "Train RMSE: 7.720909801797481\n"
     ]
    },
    {
     "name": "stderr",
     "output_type": "stream",
     "text": [
      "18:19:03 - cmdstanpy - INFO - Chain [1] start processing\n",
      "18:19:03 - cmdstanpy - INFO - Chain [1] done processing\n"
     ]
    },
    {
     "name": "stdout",
     "output_type": "stream",
     "text": [
      "Train RMSE: 7.816015043745819\n"
     ]
    },
    {
     "name": "stderr",
     "output_type": "stream",
     "text": [
      "18:19:04 - cmdstanpy - INFO - Chain [1] start processing\n",
      "18:19:04 - cmdstanpy - INFO - Chain [1] done processing\n"
     ]
    },
    {
     "name": "stdout",
     "output_type": "stream",
     "text": [
      "Train RMSE: 7.918910831033566\n"
     ]
    },
    {
     "name": "stderr",
     "output_type": "stream",
     "text": [
      "18:19:05 - cmdstanpy - INFO - Chain [1] start processing\n",
      "18:19:05 - cmdstanpy - INFO - Chain [1] done processing\n"
     ]
    },
    {
     "name": "stdout",
     "output_type": "stream",
     "text": [
      "Train RMSE: 8.030447746819522\n"
     ]
    },
    {
     "name": "stderr",
     "output_type": "stream",
     "text": [
      "18:19:06 - cmdstanpy - INFO - Chain [1] start processing\n",
      "18:19:06 - cmdstanpy - INFO - Chain [1] done processing\n"
     ]
    },
    {
     "name": "stdout",
     "output_type": "stream",
     "text": [
      "Train RMSE: 7.937962259902483\n"
     ]
    },
    {
     "name": "stderr",
     "output_type": "stream",
     "text": [
      "18:19:07 - cmdstanpy - INFO - Chain [1] start processing\n",
      "18:19:07 - cmdstanpy - INFO - Chain [1] done processing\n"
     ]
    },
    {
     "name": "stdout",
     "output_type": "stream",
     "text": [
      "Train RMSE: 8.076994047194972\n"
     ]
    },
    {
     "name": "stderr",
     "output_type": "stream",
     "text": [
      "18:19:08 - cmdstanpy - INFO - Chain [1] start processing\n",
      "18:19:08 - cmdstanpy - INFO - Chain [1] done processing\n"
     ]
    },
    {
     "name": "stdout",
     "output_type": "stream",
     "text": [
      "Train RMSE: 7.711288476688243\n"
     ]
    },
    {
     "name": "stderr",
     "output_type": "stream",
     "text": [
      "18:19:09 - cmdstanpy - INFO - Chain [1] start processing\n",
      "18:19:09 - cmdstanpy - INFO - Chain [1] done processing\n"
     ]
    },
    {
     "name": "stdout",
     "output_type": "stream",
     "text": [
      "Train RMSE: 7.8154926476953275\n"
     ]
    },
    {
     "name": "stderr",
     "output_type": "stream",
     "text": [
      "18:19:09 - cmdstanpy - INFO - Chain [1] start processing\n",
      "18:19:10 - cmdstanpy - INFO - Chain [1] done processing\n"
     ]
    },
    {
     "name": "stdout",
     "output_type": "stream",
     "text": [
      "Train RMSE: 7.714173624744627\n"
     ]
    },
    {
     "name": "stderr",
     "output_type": "stream",
     "text": [
      "18:19:10 - cmdstanpy - INFO - Chain [1] start processing\n",
      "18:19:10 - cmdstanpy - INFO - Chain [1] done processing\n"
     ]
    },
    {
     "name": "stdout",
     "output_type": "stream",
     "text": [
      "Train RMSE: 7.82525011262562\n"
     ]
    },
    {
     "name": "stderr",
     "output_type": "stream",
     "text": [
      "18:19:11 - cmdstanpy - INFO - Chain [1] start processing\n",
      "18:19:11 - cmdstanpy - INFO - Chain [1] done processing\n"
     ]
    },
    {
     "name": "stdout",
     "output_type": "stream",
     "text": [
      "Train RMSE: 7.760799285013702\n"
     ]
    },
    {
     "name": "stderr",
     "output_type": "stream",
     "text": [
      "18:19:12 - cmdstanpy - INFO - Chain [1] start processing\n",
      "18:19:12 - cmdstanpy - INFO - Chain [1] done processing\n"
     ]
    },
    {
     "name": "stdout",
     "output_type": "stream",
     "text": [
      "Train RMSE: 7.889557788289345\n"
     ]
    },
    {
     "name": "stderr",
     "output_type": "stream",
     "text": [
      "18:19:13 - cmdstanpy - INFO - Chain [1] start processing\n",
      "18:19:13 - cmdstanpy - INFO - Chain [1] done processing\n"
     ]
    },
    {
     "name": "stdout",
     "output_type": "stream",
     "text": [
      "Train RMSE: 7.833731983086179\n"
     ]
    },
    {
     "name": "stderr",
     "output_type": "stream",
     "text": [
      "18:19:14 - cmdstanpy - INFO - Chain [1] start processing\n",
      "18:19:14 - cmdstanpy - INFO - Chain [1] done processing\n"
     ]
    },
    {
     "name": "stdout",
     "output_type": "stream",
     "text": [
      "Train RMSE: 7.8873189195784565\n"
     ]
    },
    {
     "name": "stderr",
     "output_type": "stream",
     "text": [
      "18:19:15 - cmdstanpy - INFO - Chain [1] start processing\n",
      "18:19:15 - cmdstanpy - INFO - Chain [1] done processing\n"
     ]
    },
    {
     "name": "stdout",
     "output_type": "stream",
     "text": [
      "Train RMSE: 7.690873522459348\n"
     ]
    },
    {
     "name": "stderr",
     "output_type": "stream",
     "text": [
      "18:19:16 - cmdstanpy - INFO - Chain [1] start processing\n",
      "18:19:16 - cmdstanpy - INFO - Chain [1] done processing\n"
     ]
    },
    {
     "name": "stdout",
     "output_type": "stream",
     "text": [
      "Train RMSE: 7.805056550011082\n"
     ]
    },
    {
     "name": "stderr",
     "output_type": "stream",
     "text": [
      "18:19:17 - cmdstanpy - INFO - Chain [1] start processing\n",
      "18:19:17 - cmdstanpy - INFO - Chain [1] done processing\n"
     ]
    },
    {
     "name": "stdout",
     "output_type": "stream",
     "text": [
      "Train RMSE: 7.696975164816211\n"
     ]
    },
    {
     "name": "stderr",
     "output_type": "stream",
     "text": [
      "18:19:18 - cmdstanpy - INFO - Chain [1] start processing\n",
      "18:19:18 - cmdstanpy - INFO - Chain [1] done processing\n"
     ]
    },
    {
     "name": "stdout",
     "output_type": "stream",
     "text": [
      "Train RMSE: 7.804046771989323\n"
     ]
    },
    {
     "name": "stderr",
     "output_type": "stream",
     "text": [
      "18:19:19 - cmdstanpy - INFO - Chain [1] start processing\n",
      "18:19:19 - cmdstanpy - INFO - Chain [1] done processing\n"
     ]
    },
    {
     "name": "stdout",
     "output_type": "stream",
     "text": [
      "Train RMSE: 7.8729800164556485\n"
     ]
    },
    {
     "name": "stderr",
     "output_type": "stream",
     "text": [
      "18:19:20 - cmdstanpy - INFO - Chain [1] start processing\n",
      "18:19:20 - cmdstanpy - INFO - Chain [1] done processing\n"
     ]
    },
    {
     "name": "stdout",
     "output_type": "stream",
     "text": [
      "Train RMSE: 7.973873000197149\n"
     ]
    },
    {
     "name": "stderr",
     "output_type": "stream",
     "text": [
      "18:19:21 - cmdstanpy - INFO - Chain [1] start processing\n",
      "18:19:21 - cmdstanpy - INFO - Chain [1] done processing\n"
     ]
    },
    {
     "name": "stdout",
     "output_type": "stream",
     "text": [
      "Train RMSE: 7.882877518430281\n"
     ]
    },
    {
     "name": "stderr",
     "output_type": "stream",
     "text": [
      "18:19:22 - cmdstanpy - INFO - Chain [1] start processing\n",
      "18:19:22 - cmdstanpy - INFO - Chain [1] done processing\n"
     ]
    },
    {
     "name": "stdout",
     "output_type": "stream",
     "text": [
      "Train RMSE: 8.050995890883469\n"
     ]
    },
    {
     "name": "stderr",
     "output_type": "stream",
     "text": [
      "18:19:23 - cmdstanpy - INFO - Chain [1] start processing\n",
      "18:19:24 - cmdstanpy - INFO - Chain [1] done processing\n"
     ]
    },
    {
     "name": "stdout",
     "output_type": "stream",
     "text": [
      "Train RMSE: 7.167196262620689\n"
     ]
    },
    {
     "name": "stderr",
     "output_type": "stream",
     "text": [
      "18:19:25 - cmdstanpy - INFO - Chain [1] start processing\n",
      "18:19:26 - cmdstanpy - INFO - Chain [1] done processing\n"
     ]
    },
    {
     "name": "stdout",
     "output_type": "stream",
     "text": [
      "Train RMSE: 7.271044676039409\n"
     ]
    },
    {
     "name": "stderr",
     "output_type": "stream",
     "text": [
      "18:19:27 - cmdstanpy - INFO - Chain [1] start processing\n",
      "18:19:28 - cmdstanpy - INFO - Chain [1] done processing\n"
     ]
    },
    {
     "name": "stdout",
     "output_type": "stream",
     "text": [
      "Train RMSE: 7.165287015775838\n"
     ]
    },
    {
     "name": "stderr",
     "output_type": "stream",
     "text": [
      "18:19:29 - cmdstanpy - INFO - Chain [1] start processing\n",
      "18:19:30 - cmdstanpy - INFO - Chain [1] done processing\n"
     ]
    },
    {
     "name": "stdout",
     "output_type": "stream",
     "text": [
      "Train RMSE: 7.2726526562235\n"
     ]
    },
    {
     "name": "stderr",
     "output_type": "stream",
     "text": [
      "18:19:31 - cmdstanpy - INFO - Chain [1] start processing\n",
      "18:19:32 - cmdstanpy - INFO - Chain [1] done processing\n"
     ]
    },
    {
     "name": "stdout",
     "output_type": "stream",
     "text": [
      "Train RMSE: 7.2456397243216\n"
     ]
    },
    {
     "name": "stderr",
     "output_type": "stream",
     "text": [
      "18:19:32 - cmdstanpy - INFO - Chain [1] start processing\n",
      "18:19:33 - cmdstanpy - INFO - Chain [1] done processing\n"
     ]
    },
    {
     "name": "stdout",
     "output_type": "stream",
     "text": [
      "Train RMSE: 7.348491489522036\n"
     ]
    },
    {
     "name": "stderr",
     "output_type": "stream",
     "text": [
      "18:19:34 - cmdstanpy - INFO - Chain [1] start processing\n",
      "18:19:35 - cmdstanpy - INFO - Chain [1] done processing\n"
     ]
    },
    {
     "name": "stdout",
     "output_type": "stream",
     "text": [
      "Train RMSE: 7.252307117448315\n"
     ]
    },
    {
     "name": "stderr",
     "output_type": "stream",
     "text": [
      "18:19:35 - cmdstanpy - INFO - Chain [1] start processing\n",
      "18:19:36 - cmdstanpy - INFO - Chain [1] done processing\n"
     ]
    },
    {
     "name": "stdout",
     "output_type": "stream",
     "text": [
      "Train RMSE: 7.3511608766789385\n"
     ]
    },
    {
     "name": "stderr",
     "output_type": "stream",
     "text": [
      "18:19:37 - cmdstanpy - INFO - Chain [1] start processing\n",
      "18:19:38 - cmdstanpy - INFO - Chain [1] done processing\n"
     ]
    },
    {
     "name": "stdout",
     "output_type": "stream",
     "text": [
      "Train RMSE: 6.5745629538257075\n"
     ]
    },
    {
     "name": "stderr",
     "output_type": "stream",
     "text": [
      "18:19:39 - cmdstanpy - INFO - Chain [1] start processing\n",
      "18:19:40 - cmdstanpy - INFO - Chain [1] done processing\n"
     ]
    },
    {
     "name": "stdout",
     "output_type": "stream",
     "text": [
      "Train RMSE: 6.694128133397165\n"
     ]
    },
    {
     "name": "stderr",
     "output_type": "stream",
     "text": [
      "18:19:41 - cmdstanpy - INFO - Chain [1] start processing\n",
      "18:19:42 - cmdstanpy - INFO - Chain [1] done processing\n"
     ]
    },
    {
     "name": "stdout",
     "output_type": "stream",
     "text": [
      "Train RMSE: 6.576356265363822\n"
     ]
    },
    {
     "name": "stderr",
     "output_type": "stream",
     "text": [
      "18:19:43 - cmdstanpy - INFO - Chain [1] start processing\n",
      "18:19:44 - cmdstanpy - INFO - Chain [1] done processing\n"
     ]
    },
    {
     "name": "stdout",
     "output_type": "stream",
     "text": [
      "Train RMSE: 6.6941152751419075\n"
     ]
    },
    {
     "name": "stderr",
     "output_type": "stream",
     "text": [
      "18:19:45 - cmdstanpy - INFO - Chain [1] start processing\n",
      "18:19:47 - cmdstanpy - INFO - Chain [1] done processing\n"
     ]
    },
    {
     "name": "stdout",
     "output_type": "stream",
     "text": [
      "Train RMSE: 6.6706090906196405\n"
     ]
    },
    {
     "name": "stderr",
     "output_type": "stream",
     "text": [
      "18:19:48 - cmdstanpy - INFO - Chain [1] start processing\n",
      "18:19:49 - cmdstanpy - INFO - Chain [1] done processing\n"
     ]
    },
    {
     "name": "stdout",
     "output_type": "stream",
     "text": [
      "Train RMSE: 6.720876428131471\n"
     ]
    },
    {
     "name": "stderr",
     "output_type": "stream",
     "text": [
      "18:19:50 - cmdstanpy - INFO - Chain [1] start processing\n",
      "18:19:52 - cmdstanpy - INFO - Chain [1] done processing\n"
     ]
    },
    {
     "name": "stdout",
     "output_type": "stream",
     "text": [
      "Train RMSE: 6.667112876752268\n"
     ]
    },
    {
     "name": "stderr",
     "output_type": "stream",
     "text": [
      "18:19:53 - cmdstanpy - INFO - Chain [1] start processing\n",
      "18:19:54 - cmdstanpy - INFO - Chain [1] done processing\n"
     ]
    },
    {
     "name": "stdout",
     "output_type": "stream",
     "text": [
      "Train RMSE: 6.720974275753401\n"
     ]
    },
    {
     "name": "stderr",
     "output_type": "stream",
     "text": [
      "18:19:55 - cmdstanpy - INFO - Chain [1] start processing\n",
      "18:19:57 - cmdstanpy - INFO - Chain [1] done processing\n"
     ]
    },
    {
     "name": "stdout",
     "output_type": "stream",
     "text": [
      "Train RMSE: 7.138736780874536\n"
     ]
    },
    {
     "name": "stderr",
     "output_type": "stream",
     "text": [
      "18:19:58 - cmdstanpy - INFO - Chain [1] start processing\n",
      "18:19:59 - cmdstanpy - INFO - Chain [1] done processing\n"
     ]
    },
    {
     "name": "stdout",
     "output_type": "stream",
     "text": [
      "Train RMSE: 7.2592196411824705\n"
     ]
    },
    {
     "name": "stderr",
     "output_type": "stream",
     "text": [
      "18:20:00 - cmdstanpy - INFO - Chain [1] start processing\n",
      "18:20:01 - cmdstanpy - INFO - Chain [1] done processing\n"
     ]
    },
    {
     "name": "stdout",
     "output_type": "stream",
     "text": [
      "Train RMSE: 7.13974508814477\n"
     ]
    },
    {
     "name": "stderr",
     "output_type": "stream",
     "text": [
      "18:20:02 - cmdstanpy - INFO - Chain [1] start processing\n",
      "18:20:03 - cmdstanpy - INFO - Chain [1] done processing\n"
     ]
    },
    {
     "name": "stdout",
     "output_type": "stream",
     "text": [
      "Train RMSE: 7.259426551693983\n"
     ]
    },
    {
     "name": "stderr",
     "output_type": "stream",
     "text": [
      "18:20:04 - cmdstanpy - INFO - Chain [1] start processing\n",
      "18:20:05 - cmdstanpy - INFO - Chain [1] done processing\n"
     ]
    },
    {
     "name": "stdout",
     "output_type": "stream",
     "text": [
      "Train RMSE: 7.155230788976825\n"
     ]
    },
    {
     "name": "stderr",
     "output_type": "stream",
     "text": [
      "18:20:05 - cmdstanpy - INFO - Chain [1] start processing\n",
      "18:20:06 - cmdstanpy - INFO - Chain [1] done processing\n"
     ]
    },
    {
     "name": "stdout",
     "output_type": "stream",
     "text": [
      "Train RMSE: 7.2760217975644395\n"
     ]
    },
    {
     "name": "stderr",
     "output_type": "stream",
     "text": [
      "18:20:07 - cmdstanpy - INFO - Chain [1] start processing\n",
      "18:20:08 - cmdstanpy - INFO - Chain [1] done processing\n"
     ]
    },
    {
     "name": "stdout",
     "output_type": "stream",
     "text": [
      "Train RMSE: 7.157271921621268\n"
     ]
    },
    {
     "name": "stderr",
     "output_type": "stream",
     "text": [
      "18:20:09 - cmdstanpy - INFO - Chain [1] start processing\n",
      "18:20:09 - cmdstanpy - INFO - Chain [1] done processing\n"
     ]
    },
    {
     "name": "stdout",
     "output_type": "stream",
     "text": [
      "Train RMSE: 7.274841381121727\n"
     ]
    },
    {
     "name": "stderr",
     "output_type": "stream",
     "text": [
      "18:20:10 - cmdstanpy - INFO - Chain [1] start processing\n",
      "18:20:12 - cmdstanpy - INFO - Chain [1] done processing\n"
     ]
    },
    {
     "name": "stdout",
     "output_type": "stream",
     "text": [
      "Train RMSE: 6.555401925368804\n"
     ]
    },
    {
     "name": "stderr",
     "output_type": "stream",
     "text": [
      "18:20:13 - cmdstanpy - INFO - Chain [1] start processing\n",
      "18:20:14 - cmdstanpy - INFO - Chain [1] done processing\n"
     ]
    },
    {
     "name": "stdout",
     "output_type": "stream",
     "text": [
      "Train RMSE: 6.680598856972859\n"
     ]
    },
    {
     "name": "stderr",
     "output_type": "stream",
     "text": [
      "18:20:15 - cmdstanpy - INFO - Chain [1] start processing\n",
      "18:20:16 - cmdstanpy - INFO - Chain [1] done processing\n"
     ]
    },
    {
     "name": "stdout",
     "output_type": "stream",
     "text": [
      "Train RMSE: 6.556921166082639\n"
     ]
    },
    {
     "name": "stderr",
     "output_type": "stream",
     "text": [
      "18:20:17 - cmdstanpy - INFO - Chain [1] start processing\n",
      "18:20:18 - cmdstanpy - INFO - Chain [1] done processing\n"
     ]
    },
    {
     "name": "stdout",
     "output_type": "stream",
     "text": [
      "Train RMSE: 6.6812337197314795\n"
     ]
    },
    {
     "name": "stderr",
     "output_type": "stream",
     "text": [
      "18:20:19 - cmdstanpy - INFO - Chain [1] start processing\n",
      "18:20:22 - cmdstanpy - INFO - Chain [1] done processing\n"
     ]
    },
    {
     "name": "stdout",
     "output_type": "stream",
     "text": [
      "Train RMSE: 6.53569538879933\n"
     ]
    },
    {
     "name": "stderr",
     "output_type": "stream",
     "text": [
      "18:20:23 - cmdstanpy - INFO - Chain [1] start processing\n",
      "18:20:26 - cmdstanpy - INFO - Chain [1] done processing\n"
     ]
    },
    {
     "name": "stdout",
     "output_type": "stream",
     "text": [
      "Train RMSE: 6.657630638176819\n"
     ]
    },
    {
     "name": "stderr",
     "output_type": "stream",
     "text": [
      "18:20:27 - cmdstanpy - INFO - Chain [1] start processing\n",
      "18:20:29 - cmdstanpy - INFO - Chain [1] done processing\n"
     ]
    },
    {
     "name": "stdout",
     "output_type": "stream",
     "text": [
      "Train RMSE: 6.53755659810746\n"
     ]
    },
    {
     "name": "stderr",
     "output_type": "stream",
     "text": [
      "18:20:30 - cmdstanpy - INFO - Chain [1] start processing\n",
      "18:20:32 - cmdstanpy - INFO - Chain [1] done processing\n"
     ]
    },
    {
     "name": "stdout",
     "output_type": "stream",
     "text": [
      "Train RMSE: 6.661894353308856\n",
      "    changepoint_prior_scale  seasonality_prior_scale  holidays_prior_scale   \n",
      "0                     0.001                     0.01                  0.01  \\\n",
      "1                     0.001                     0.01                  0.01   \n",
      "2                     0.001                     0.01                  0.01   \n",
      "3                     0.001                     0.01                  0.01   \n",
      "4                     0.001                     0.01                  0.01   \n",
      "..                      ...                      ...                   ...   \n",
      "59                    0.500                    10.00                 10.00   \n",
      "60                    0.500                    10.00                 10.00   \n",
      "61                    0.500                    10.00                 10.00   \n",
      "62                    0.500                    10.00                 10.00   \n",
      "63                    0.500                    10.00                 10.00   \n",
      "\n",
      "   seasonality_mode  daily_seasonality  weekly_seasonality   \n",
      "0          additive               True               False  \\\n",
      "1          additive               True               False   \n",
      "2          additive              False               False   \n",
      "3          additive              False               False   \n",
      "4    multiplicative               True               False   \n",
      "..              ...                ...                 ...   \n",
      "59         additive              False               False   \n",
      "60   multiplicative               True               False   \n",
      "61   multiplicative               True               False   \n",
      "62   multiplicative              False               False   \n",
      "63   multiplicative              False               False   \n",
      "\n",
      "    yearly_seasonality                                           holidays   \n",
      "0                 True        holiday         ds  lower_window    ds_u...  \\\n",
      "1                False        holiday         ds  lower_window    ds_u...   \n",
      "2                 True        holiday         ds  lower_window    ds_u...   \n",
      "3                False        holiday         ds  lower_window    ds_u...   \n",
      "4                 True        holiday         ds  lower_window    ds_u...   \n",
      "..                 ...                                                ...   \n",
      "59               False        holiday         ds  lower_window    ds_u...   \n",
      "60                True        holiday         ds  lower_window    ds_u...   \n",
      "61               False        holiday         ds  lower_window    ds_u...   \n",
      "62                True        holiday         ds  lower_window    ds_u...   \n",
      "63               False        holiday         ds  lower_window    ds_u...   \n",
      "\n",
      "                                         changepoints       rmse  \n",
      "0   [2017-06-02, 2017-09-14, 2017-12-28, 2018-04-1...   9.069840  \n",
      "1   [2017-06-02, 2017-09-14, 2017-12-28, 2018-04-1...   9.134630  \n",
      "2   [2017-06-02, 2017-09-14, 2017-12-28, 2018-04-1...   9.259841  \n",
      "3   [2017-06-02, 2017-09-14, 2017-12-28, 2018-04-1...   9.399584  \n",
      "4   [2017-06-02, 2017-09-14, 2017-12-28, 2018-04-1...  10.638339  \n",
      "..                                                ...        ...  \n",
      "59  [2017-06-02, 2017-09-14, 2017-12-28, 2018-04-1...   7.710682  \n",
      "60  [2017-06-02, 2017-09-14, 2017-12-28, 2018-04-1...   8.345028  \n",
      "61  [2017-06-02, 2017-09-14, 2017-12-28, 2018-04-1...   8.070155  \n",
      "62  [2017-06-02, 2017-09-14, 2017-12-28, 2018-04-1...   8.308286  \n",
      "63  [2017-06-02, 2017-09-14, 2017-12-28, 2018-04-1...   8.011725  \n",
      "\n",
      "[64 rows x 10 columns]\n",
      "{'changepoint_prior_scale': 0.5, 'seasonality_prior_scale': 10, 'holidays_prior_scale': 0.01, 'seasonality_mode': 'multiplicative', 'daily_seasonality': False, 'weekly_seasonality': False, 'yearly_seasonality': True, 'holidays':       holiday         ds  lower_window    ds_upper  upper_window\n",
      "0  lockdown_1 2020-03-21             0  2020-06-06            77\n",
      "1  lockdown_2 2020-07-09             0  2020-10-27           110\n",
      "2  lockdown_3 2021-02-13             0  2021-02-17             4\n",
      "3  lockdown_4 2021-05-28             0  2021-06-10            13, 'changepoints': [datetime.date(2017, 6, 2), datetime.date(2017, 9, 14), datetime.date(2017, 12, 28), datetime.date(2018, 4, 12), datetime.date(2018, 7, 26), datetime.date(2018, 11, 7), datetime.date(2019, 2, 20), datetime.date(2019, 6, 5), datetime.date(2019, 9, 18), datetime.date(2020, 1, 1), datetime.date(2020, 2, 1), datetime.date(2020, 3, 2), datetime.date(2020, 4, 1), datetime.date(2020, 5, 2), datetime.date(2020, 6, 1), datetime.date(2020, 7, 1), datetime.date(2020, 8, 1), datetime.date(2020, 8, 31), datetime.date(2020, 9, 30), datetime.date(2020, 10, 31), datetime.date(2020, 11, 30), datetime.date(2020, 12, 30), datetime.date(2021, 1, 30), datetime.date(2021, 3, 1), datetime.date(2021, 4, 1)]}\n"
     ]
    }
   ],
   "source": [
    "np.random.seed(42)\n",
    "param_grid = {  \n",
    "    'changepoint_prior_scale': [0.001, 0.5],\n",
    "    'seasonality_prior_scale': [0.01, 10],\n",
    "    'holidays_prior_scale': [0.01, 10],\n",
    "    'seasonality_mode': ['additive', 'multiplicative'],\n",
    "    'daily_seasonality': [True, False],\n",
    "    'weekly_seasonality': [False],\n",
    "    'yearly_seasonality': [True, False],\n",
    "    'holidays': [lockdowns],\n",
    "    'changepoints': [m3_changepoints]\n",
    "}\n",
    "\n",
    "# Generate all combinations of parameters\n",
    "all_params = [dict(zip(param_grid.keys(), v)) for v in itertools.product(*param_grid.values())]\n",
    "rmses = []\n",
    "\n",
    "for params in all_params:\n",
    "\n",
    "    m = Prophet(**params)\n",
    "    m.add_country_holidays(country_name='US')\n",
    "    m.add_seasonality(\n",
    "    name='weekly_pre_covid',\n",
    "    period=7,\n",
    "    fourier_order=3,\n",
    "    condition_name='pre_covid',\n",
    "    )\n",
    "    m.add_seasonality(\n",
    "        name='weekly_post_covid',\n",
    "        period=7,\n",
    "        fourier_order=3,\n",
    "        condition_name='post_covid',\n",
    "    )\n",
    "    # Add regressors to the dataframe\n",
    "    for f in to_keep:\n",
    "        df[f] = finalDf[f]\n",
    "        m.add_regressor(f)\n",
    "\n",
    "    train_size = int(len(df) * 0.8)\n",
    "    train_df = df[:train_size]\n",
    "    test_df = df[train_size:]\n",
    "\n",
    "    m.fit(train_df)\n",
    "\n",
    "    future_train = train_df.drop(columns=['y']).copy()\n",
    "    future_train['pre_covid'] = pd.to_datetime(future_train['ds']) < pd.to_datetime('2020-03-21')\n",
    "    future_train['post_covid'] = ~future_train['pre_covid']\n",
    "   \n",
    "    for f in to_keep:\n",
    "        future_train[f] = finalDf[f][:train_size]\n",
    "\n",
    "    forecast_train = m.predict(future_train)\n",
    "\n",
    "    # Evaluate performance on the train set\n",
    "    y_true_train = train_df['y'].values\n",
    "    y_pred_train = forecast_train['yhat'].values[:len(train_df)]\n",
    "    rmse_train = np.sqrt(mean_squared_error(y_true_train, y_pred_train))\n",
    "\n",
    "    print(\"Train RMSE:\", rmse_train)\n",
    "\n",
    "    future_test = test_df.drop(columns=['y']).copy()\n",
    "    future_test['pre_covid'] = pd.to_datetime(future_test['ds']) < pd.to_datetime('2020-03-21')\n",
    "    future_test['post_covid'] = ~future_test['pre_covid']\n",
    "    # Evaluate performance on the test set\n",
    "    for f in to_keep:\n",
    "        future_test[f] = finalDf[f][train_size:]\n",
    "\n",
    "    forecast_test = m.predict(future_test)\n",
    "\n",
    "    y_true_test = test_df['y'].values\n",
    "    y_pred_test = forecast_test['yhat'].values[-len(test_df):]\n",
    "    rmse_test_weather = np.sqrt(mean_squared_error(y_true_test, y_pred_test))\n",
    "\n",
    "    rmses.append(rmse_test_weather)\n",
    "\n",
    "\n",
    "# Find the best parameters\n",
    "tuning_results = pd.DataFrame(all_params)\n",
    "tuning_results['rmse'] = rmses\n",
    "print(tuning_results)\n",
    "\n",
    "# Python\n",
    "best_params = all_params[np.argmin(rmses)]\n",
    "print(best_params)"
   ]
  },
  {
   "cell_type": "code",
   "execution_count": 32,
   "metadata": {},
   "outputs": [
    {
     "name": "stderr",
     "output_type": "stream",
     "text": [
      "18:20:33 - cmdstanpy - INFO - Chain [1] start processing\n",
      "18:20:33 - cmdstanpy - INFO - Chain [1] done processing\n"
     ]
    },
    {
     "name": "stdout",
     "output_type": "stream",
     "text": [
      "Train RMSE: 7.157271921621268\n",
      "Test RMSE: 7.5646519063390265\n",
      "Test R2 0.30631117590195156\n",
      "MAPE 0.17422262786584322\n",
      "MSE: 57.22395846407867\n"
     ]
    }
   ],
   "source": [
    "np.random.seed(42)\n",
    "m = Prophet(**best_params)\n",
    "m.add_country_holidays(country_name='US')\n",
    "m.add_seasonality(\n",
    "    name='weekly_pre_covid',\n",
    "    period=7,\n",
    "    fourier_order=3,\n",
    "    condition_name='pre_covid',\n",
    ")\n",
    "m.add_seasonality(\n",
    "    name='weekly_post_covid',\n",
    "    period=7,\n",
    "    fourier_order=3,\n",
    "    condition_name='post_covid',\n",
    ")\n",
    "# Add regressors to the dataframe\n",
    "for f in to_keep:\n",
    "    df[f] = finalDf[f]\n",
    "    m.add_regressor(f)\n",
    "\n",
    "train_size = int(len(df) * 0.8)\n",
    "train_df = df[:train_size]\n",
    "test_df = df[train_size:]\n",
    "\n",
    "m.fit(train_df)\n",
    "\n",
    "future_train = train_df.drop(columns=['y']).copy()\n",
    "future_train['pre_covid'] = pd.to_datetime(future_train['ds']) < pd.to_datetime('2020-03-21')\n",
    "future_train['post_covid'] = ~future_train['pre_covid']\n",
    "\n",
    "for f in to_keep:\n",
    "    future_train[f] = finalDf[f][:train_size]\n",
    "\n",
    "forecast_train = m.predict(future_train)\n",
    "\n",
    "# Evaluate performance on the train set\n",
    "y_true_train = train_df['y'].values\n",
    "y_pred_train = forecast_train['yhat'].values[:len(train_df)]\n",
    "rmse_train = np.sqrt(mean_squared_error(y_true_train, y_pred_train))\n",
    "\n",
    "print(\"Train RMSE:\", rmse_train)\n",
    "\n",
    "future_test = test_df.drop(columns=['y']).copy()\n",
    "future_test['pre_covid'] = pd.to_datetime(future_test['ds']) < pd.to_datetime('2020-03-21')\n",
    "future_test['post_covid'] = ~future_test['pre_covid']\n",
    "# Evaluate performance on the test set\n",
    "for f in to_keep:\n",
    "    future_test[f] = finalDf[f][train_size:]\n",
    "\n",
    "forecast_test = m.predict(future_test)\n",
    "\n",
    "y_true_test = test_df['y'].values\n",
    "y_pred_test = forecast_test['yhat'].values[-len(test_df):]\n",
    "rmse_test_weather = np.sqrt(mean_squared_error(y_true_test, y_pred_test))\n",
    "r2_test = r2_score(y_true_test, y_pred_test)\n",
    "mape_test = mean_absolute_percentage_error(y_true_test, y_pred_test)\n",
    "mse_test = mean_squared_error(y_true_test, y_pred_test)\n",
    "print(\"Test RMSE:\", rmse_test_weather)\n",
    "print('Test R2', r2_test)\n",
    "print('MAPE', mape_test)\n",
    "print(\"MSE:\", mean_squared_error(y_true_test, y_pred_test))"
   ]
  },
  {
   "cell_type": "code",
   "execution_count": 33,
   "metadata": {},
   "outputs": [
    {
     "data": {
      "image/png": "[encoded data removed]",
      "text/plain": [
       "<Figure size 1600x300 with 1 Axes>"
      ]
     },
     "metadata": {},
     "output_type": "display_data"
    }
   ],
   "source": [
    "plt.figure(figsize=(13, 5))\n",
    "plt.plot(df.ds, df.y, label='observed')\n",
    "\n",
    "\n",
    "plt.plot(forecast_train['ds'], forecast_train['yhat'],\n",
    "         label='forecast', color='green')\n",
    "plt.plot(forecast_test['ds'], forecast_test['yhat'],\n",
    "         label='forecast on train', color='pink')\n",
    "plt.title('Comparison of Forecasted and Observed Values from 2021-05-01 to ' + str(forecast_test.ds.iloc[-1])[:10])\n",
    "plt.xlabel('Date')\n",
    "plt.ylabel('Number of Incidents')\n",
    "plt.legend()\n",
    "\n",
    "\n",
    "plt.xlim(pd.Timestamp('2021-05-01'), pd.Timestamp(forecast_test.ds.iloc[-1]))\n",
    "plt.gcf().set_size_inches(16, 3)\n",
    "plt.savefig('../neural-prophet-forecast.png')\n",
    "plt.show() "
   ]
  },
  {
   "cell_type": "code",
   "execution_count": null,
   "metadata": {},
   "outputs": [],
   "source": []
  }
 ],
 "metadata": {
  "kernelspec": {
   "display_name": "Python 3",
   "language": "python",
   "name": "python3"
  },
  "language_info": {
   "codemirror_mode": {
    "name": "ipython",
    "version": 3
   },
   "file_extension": ".py",
   "mimetype": "text/x-python",
   "name": "python",
   "nbconvert_exporter": "python",
   "pygments_lexer": "ipython3",
   "version": "3.11.3"
  },
  "orig_nbformat": 4
 },
 "nbformat": 4,
 "nbformat_minor": 2
}
